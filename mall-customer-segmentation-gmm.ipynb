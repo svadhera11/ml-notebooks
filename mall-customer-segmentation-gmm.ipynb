{
 "cells": [
  {
   "cell_type": "code",
   "execution_count": 1,
   "id": "79959d77",
   "metadata": {
    "_cell_guid": "b1076dfc-b9ad-4769-8c92-a6c4dae69d19",
    "_uuid": "8f2839f25d086af736a60e9eeb907d3b93b6e0e5",
    "execution": {
     "iopub.execute_input": "2024-07-23T11:24:01.809248Z",
     "iopub.status.busy": "2024-07-23T11:24:01.808801Z",
     "iopub.status.idle": "2024-07-23T11:24:02.698284Z",
     "shell.execute_reply": "2024-07-23T11:24:02.696727Z"
    },
    "papermill": {
     "duration": 0.898662,
     "end_time": "2024-07-23T11:24:02.700860",
     "exception": false,
     "start_time": "2024-07-23T11:24:01.802198",
     "status": "completed"
    },
    "tags": []
   },
   "outputs": [
    {
     "name": "stdout",
     "output_type": "stream",
     "text": [
      "/kaggle/input/customer-segmentation-tutorial-in-python/Mall_Customers.csv\n"
     ]
    }
   ],
   "source": [
    "# This Python 3 environment comes with many helpful analytics libraries installed\n",
    "# It is defined by the kaggle/python Docker image: https://github.com/kaggle/docker-python\n",
    "# For example, here's several helpful packages to load\n",
    "\n",
    "import numpy as np # linear algebra\n",
    "import pandas as pd # data processing, CSV file I/O (e.g. pd.read_csv)\n",
    "\n",
    "# Input data files are available in the read-only \"../input/\" directory\n",
    "# For example, running this (by clicking run or pressing Shift+Enter) will list all files under the input directory\n",
    "\n",
    "import os\n",
    "for dirname, _, filenames in os.walk('/kaggle/input'):\n",
    "    for filename in filenames:\n",
    "        print(os.path.join(dirname, filename))\n",
    "\n",
    "# You can write up to 20GB to the current directory (/kaggle/working/) that gets preserved as output when you create a version using \"Save & Run All\" \n",
    "# You can also write temporary files to /kaggle/temp/, but they won't be saved outside of the current session"
   ]
  },
  {
   "cell_type": "code",
   "execution_count": 2,
   "id": "3be23e97",
   "metadata": {
    "execution": {
     "iopub.execute_input": "2024-07-23T11:24:02.711903Z",
     "iopub.status.busy": "2024-07-23T11:24:02.711356Z",
     "iopub.status.idle": "2024-07-23T11:24:02.729823Z",
     "shell.execute_reply": "2024-07-23T11:24:02.728719Z"
    },
    "papermill": {
     "duration": 0.026879,
     "end_time": "2024-07-23T11:24:02.732544",
     "exception": false,
     "start_time": "2024-07-23T11:24:02.705665",
     "status": "completed"
    },
    "tags": []
   },
   "outputs": [],
   "source": [
    "dataset = pd.read_csv('/kaggle/input/customer-segmentation-tutorial-in-python/Mall_Customers.csv')"
   ]
  },
  {
   "cell_type": "code",
   "execution_count": 3,
   "id": "befb4700",
   "metadata": {
    "execution": {
     "iopub.execute_input": "2024-07-23T11:24:02.743348Z",
     "iopub.status.busy": "2024-07-23T11:24:02.742926Z",
     "iopub.status.idle": "2024-07-23T11:24:02.756528Z",
     "shell.execute_reply": "2024-07-23T11:24:02.755429Z"
    },
    "papermill": {
     "duration": 0.021751,
     "end_time": "2024-07-23T11:24:02.758885",
     "exception": false,
     "start_time": "2024-07-23T11:24:02.737134",
     "status": "completed"
    },
    "tags": []
   },
   "outputs": [],
   "source": [
    "dataset = dataset.set_index('CustomerID')"
   ]
  },
  {
   "cell_type": "code",
   "execution_count": 4,
   "id": "9db2e67d",
   "metadata": {
    "execution": {
     "iopub.execute_input": "2024-07-23T11:24:02.769356Z",
     "iopub.status.busy": "2024-07-23T11:24:02.768990Z",
     "iopub.status.idle": "2024-07-23T11:24:02.784592Z",
     "shell.execute_reply": "2024-07-23T11:24:02.783375Z"
    },
    "papermill": {
     "duration": 0.023642,
     "end_time": "2024-07-23T11:24:02.787005",
     "exception": false,
     "start_time": "2024-07-23T11:24:02.763363",
     "status": "completed"
    },
    "tags": []
   },
   "outputs": [
    {
     "data": {
      "text/html": [
       "<div>\n",
       "<style scoped>\n",
       "    .dataframe tbody tr th:only-of-type {\n",
       "        vertical-align: middle;\n",
       "    }\n",
       "\n",
       "    .dataframe tbody tr th {\n",
       "        vertical-align: top;\n",
       "    }\n",
       "\n",
       "    .dataframe thead th {\n",
       "        text-align: right;\n",
       "    }\n",
       "</style>\n",
       "<table border=\"1\" class=\"dataframe\">\n",
       "  <thead>\n",
       "    <tr style=\"text-align: right;\">\n",
       "      <th></th>\n",
       "      <th>Gender</th>\n",
       "      <th>Age</th>\n",
       "      <th>Annual Income (k$)</th>\n",
       "      <th>Spending Score (1-100)</th>\n",
       "    </tr>\n",
       "    <tr>\n",
       "      <th>CustomerID</th>\n",
       "      <th></th>\n",
       "      <th></th>\n",
       "      <th></th>\n",
       "      <th></th>\n",
       "    </tr>\n",
       "  </thead>\n",
       "  <tbody>\n",
       "    <tr>\n",
       "      <th>1</th>\n",
       "      <td>Male</td>\n",
       "      <td>19</td>\n",
       "      <td>15</td>\n",
       "      <td>39</td>\n",
       "    </tr>\n",
       "    <tr>\n",
       "      <th>2</th>\n",
       "      <td>Male</td>\n",
       "      <td>21</td>\n",
       "      <td>15</td>\n",
       "      <td>81</td>\n",
       "    </tr>\n",
       "    <tr>\n",
       "      <th>3</th>\n",
       "      <td>Female</td>\n",
       "      <td>20</td>\n",
       "      <td>16</td>\n",
       "      <td>6</td>\n",
       "    </tr>\n",
       "    <tr>\n",
       "      <th>4</th>\n",
       "      <td>Female</td>\n",
       "      <td>23</td>\n",
       "      <td>16</td>\n",
       "      <td>77</td>\n",
       "    </tr>\n",
       "    <tr>\n",
       "      <th>5</th>\n",
       "      <td>Female</td>\n",
       "      <td>31</td>\n",
       "      <td>17</td>\n",
       "      <td>40</td>\n",
       "    </tr>\n",
       "  </tbody>\n",
       "</table>\n",
       "</div>"
      ],
      "text/plain": [
       "            Gender  Age  Annual Income (k$)  Spending Score (1-100)\n",
       "CustomerID                                                         \n",
       "1             Male   19                  15                      39\n",
       "2             Male   21                  15                      81\n",
       "3           Female   20                  16                       6\n",
       "4           Female   23                  16                      77\n",
       "5           Female   31                  17                      40"
      ]
     },
     "execution_count": 4,
     "metadata": {},
     "output_type": "execute_result"
    }
   ],
   "source": [
    "dataset.head()"
   ]
  },
  {
   "cell_type": "code",
   "execution_count": 5,
   "id": "3062905b",
   "metadata": {
    "execution": {
     "iopub.execute_input": "2024-07-23T11:24:02.798928Z",
     "iopub.status.busy": "2024-07-23T11:24:02.798030Z",
     "iopub.status.idle": "2024-07-23T11:24:02.819360Z",
     "shell.execute_reply": "2024-07-23T11:24:02.818357Z"
    },
    "papermill": {
     "duration": 0.029989,
     "end_time": "2024-07-23T11:24:02.821770",
     "exception": false,
     "start_time": "2024-07-23T11:24:02.791781",
     "status": "completed"
    },
    "tags": []
   },
   "outputs": [
    {
     "name": "stdout",
     "output_type": "stream",
     "text": [
      "<class 'pandas.core.frame.DataFrame'>\n",
      "Index: 200 entries, 1 to 200\n",
      "Data columns (total 4 columns):\n",
      " #   Column                  Non-Null Count  Dtype \n",
      "---  ------                  --------------  ----- \n",
      " 0   Gender                  200 non-null    object\n",
      " 1   Age                     200 non-null    int64 \n",
      " 2   Annual Income (k$)      200 non-null    int64 \n",
      " 3   Spending Score (1-100)  200 non-null    int64 \n",
      "dtypes: int64(3), object(1)\n",
      "memory usage: 7.8+ KB\n"
     ]
    }
   ],
   "source": [
    "dataset.info()"
   ]
  },
  {
   "cell_type": "code",
   "execution_count": 6,
   "id": "373c1419",
   "metadata": {
    "execution": {
     "iopub.execute_input": "2024-07-23T11:24:02.833391Z",
     "iopub.status.busy": "2024-07-23T11:24:02.832422Z",
     "iopub.status.idle": "2024-07-23T11:24:04.001274Z",
     "shell.execute_reply": "2024-07-23T11:24:04.000305Z"
    },
    "papermill": {
     "duration": 1.177427,
     "end_time": "2024-07-23T11:24:04.003896",
     "exception": false,
     "start_time": "2024-07-23T11:24:02.826469",
     "status": "completed"
    },
    "tags": []
   },
   "outputs": [],
   "source": [
    "from sklearn.preprocessing import StandardScaler\n",
    "from sklearn.preprocessing import OrdinalEncoder\n",
    "encoder = OrdinalEncoder()\n",
    "scaler = StandardScaler()"
   ]
  },
  {
   "cell_type": "code",
   "execution_count": 7,
   "id": "7c24504f",
   "metadata": {
    "execution": {
     "iopub.execute_input": "2024-07-23T11:24:04.015418Z",
     "iopub.status.busy": "2024-07-23T11:24:04.015037Z",
     "iopub.status.idle": "2024-07-23T11:24:04.032238Z",
     "shell.execute_reply": "2024-07-23T11:24:04.031149Z"
    },
    "papermill": {
     "duration": 0.02554,
     "end_time": "2024-07-23T11:24:04.034439",
     "exception": false,
     "start_time": "2024-07-23T11:24:04.008899",
     "status": "completed"
    },
    "tags": []
   },
   "outputs": [],
   "source": [
    "categorical_cols = ['Gender']\n",
    "numeric_cols = ['Age', 'Annual Income (k$)', 'Spending Score (1-100)']\n",
    "dataset[categorical_cols] = encoder.fit_transform(dataset[categorical_cols])\n",
    "dataset[numeric_cols] = scaler.fit_transform(dataset[numeric_cols])"
   ]
  },
  {
   "cell_type": "code",
   "execution_count": 8,
   "id": "71c56651",
   "metadata": {
    "execution": {
     "iopub.execute_input": "2024-07-23T11:24:04.045470Z",
     "iopub.status.busy": "2024-07-23T11:24:04.045074Z",
     "iopub.status.idle": "2024-07-23T11:24:04.058537Z",
     "shell.execute_reply": "2024-07-23T11:24:04.057422Z"
    },
    "papermill": {
     "duration": 0.021952,
     "end_time": "2024-07-23T11:24:04.061105",
     "exception": false,
     "start_time": "2024-07-23T11:24:04.039153",
     "status": "completed"
    },
    "tags": []
   },
   "outputs": [
    {
     "data": {
      "text/html": [
       "<div>\n",
       "<style scoped>\n",
       "    .dataframe tbody tr th:only-of-type {\n",
       "        vertical-align: middle;\n",
       "    }\n",
       "\n",
       "    .dataframe tbody tr th {\n",
       "        vertical-align: top;\n",
       "    }\n",
       "\n",
       "    .dataframe thead th {\n",
       "        text-align: right;\n",
       "    }\n",
       "</style>\n",
       "<table border=\"1\" class=\"dataframe\">\n",
       "  <thead>\n",
       "    <tr style=\"text-align: right;\">\n",
       "      <th></th>\n",
       "      <th>Gender</th>\n",
       "      <th>Age</th>\n",
       "      <th>Annual Income (k$)</th>\n",
       "      <th>Spending Score (1-100)</th>\n",
       "    </tr>\n",
       "    <tr>\n",
       "      <th>CustomerID</th>\n",
       "      <th></th>\n",
       "      <th></th>\n",
       "      <th></th>\n",
       "      <th></th>\n",
       "    </tr>\n",
       "  </thead>\n",
       "  <tbody>\n",
       "    <tr>\n",
       "      <th>1</th>\n",
       "      <td>1.0</td>\n",
       "      <td>-1.424569</td>\n",
       "      <td>-1.738999</td>\n",
       "      <td>-0.434801</td>\n",
       "    </tr>\n",
       "    <tr>\n",
       "      <th>2</th>\n",
       "      <td>1.0</td>\n",
       "      <td>-1.281035</td>\n",
       "      <td>-1.738999</td>\n",
       "      <td>1.195704</td>\n",
       "    </tr>\n",
       "    <tr>\n",
       "      <th>3</th>\n",
       "      <td>0.0</td>\n",
       "      <td>-1.352802</td>\n",
       "      <td>-1.700830</td>\n",
       "      <td>-1.715913</td>\n",
       "    </tr>\n",
       "    <tr>\n",
       "      <th>4</th>\n",
       "      <td>0.0</td>\n",
       "      <td>-1.137502</td>\n",
       "      <td>-1.700830</td>\n",
       "      <td>1.040418</td>\n",
       "    </tr>\n",
       "    <tr>\n",
       "      <th>5</th>\n",
       "      <td>0.0</td>\n",
       "      <td>-0.563369</td>\n",
       "      <td>-1.662660</td>\n",
       "      <td>-0.395980</td>\n",
       "    </tr>\n",
       "  </tbody>\n",
       "</table>\n",
       "</div>"
      ],
      "text/plain": [
       "            Gender       Age  Annual Income (k$)  Spending Score (1-100)\n",
       "CustomerID                                                              \n",
       "1              1.0 -1.424569           -1.738999               -0.434801\n",
       "2              1.0 -1.281035           -1.738999                1.195704\n",
       "3              0.0 -1.352802           -1.700830               -1.715913\n",
       "4              0.0 -1.137502           -1.700830                1.040418\n",
       "5              0.0 -0.563369           -1.662660               -0.395980"
      ]
     },
     "execution_count": 8,
     "metadata": {},
     "output_type": "execute_result"
    }
   ],
   "source": [
    "dataset.head()"
   ]
  },
  {
   "cell_type": "code",
   "execution_count": 9,
   "id": "99fbc6a6",
   "metadata": {
    "execution": {
     "iopub.execute_input": "2024-07-23T11:24:04.072758Z",
     "iopub.status.busy": "2024-07-23T11:24:04.072318Z",
     "iopub.status.idle": "2024-07-23T11:24:04.535876Z",
     "shell.execute_reply": "2024-07-23T11:24:04.534812Z"
    },
    "papermill": {
     "duration": 0.472425,
     "end_time": "2024-07-23T11:24:04.538418",
     "exception": false,
     "start_time": "2024-07-23T11:24:04.065993",
     "status": "completed"
    },
    "tags": []
   },
   "outputs": [],
   "source": [
    "from sklearn.mixture import GaussianMixture"
   ]
  },
  {
   "cell_type": "code",
   "execution_count": 10,
   "id": "4b628a5d",
   "metadata": {
    "execution": {
     "iopub.execute_input": "2024-07-23T11:24:04.550027Z",
     "iopub.status.busy": "2024-07-23T11:24:04.549621Z",
     "iopub.status.idle": "2024-07-23T11:24:47.166211Z",
     "shell.execute_reply": "2024-07-23T11:24:47.164686Z"
    },
    "papermill": {
     "duration": 42.630022,
     "end_time": "2024-07-23T11:24:47.173474",
     "exception": false,
     "start_time": "2024-07-23T11:24:04.543452",
     "status": "completed"
    },
    "tags": []
   },
   "outputs": [
    {
     "data": {
      "text/html": [
       "<style>#sk-container-id-1 {color: black;background-color: white;}#sk-container-id-1 pre{padding: 0;}#sk-container-id-1 div.sk-toggleable {background-color: white;}#sk-container-id-1 label.sk-toggleable__label {cursor: pointer;display: block;width: 100%;margin-bottom: 0;padding: 0.3em;box-sizing: border-box;text-align: center;}#sk-container-id-1 label.sk-toggleable__label-arrow:before {content: \"▸\";float: left;margin-right: 0.25em;color: #696969;}#sk-container-id-1 label.sk-toggleable__label-arrow:hover:before {color: black;}#sk-container-id-1 div.sk-estimator:hover label.sk-toggleable__label-arrow:before {color: black;}#sk-container-id-1 div.sk-toggleable__content {max-height: 0;max-width: 0;overflow: hidden;text-align: left;background-color: #f0f8ff;}#sk-container-id-1 div.sk-toggleable__content pre {margin: 0.2em;color: black;border-radius: 0.25em;background-color: #f0f8ff;}#sk-container-id-1 input.sk-toggleable__control:checked~div.sk-toggleable__content {max-height: 200px;max-width: 100%;overflow: auto;}#sk-container-id-1 input.sk-toggleable__control:checked~label.sk-toggleable__label-arrow:before {content: \"▾\";}#sk-container-id-1 div.sk-estimator input.sk-toggleable__control:checked~label.sk-toggleable__label {background-color: #d4ebff;}#sk-container-id-1 div.sk-label input.sk-toggleable__control:checked~label.sk-toggleable__label {background-color: #d4ebff;}#sk-container-id-1 input.sk-hidden--visually {border: 0;clip: rect(1px 1px 1px 1px);clip: rect(1px, 1px, 1px, 1px);height: 1px;margin: -1px;overflow: hidden;padding: 0;position: absolute;width: 1px;}#sk-container-id-1 div.sk-estimator {font-family: monospace;background-color: #f0f8ff;border: 1px dotted black;border-radius: 0.25em;box-sizing: border-box;margin-bottom: 0.5em;}#sk-container-id-1 div.sk-estimator:hover {background-color: #d4ebff;}#sk-container-id-1 div.sk-parallel-item::after {content: \"\";width: 100%;border-bottom: 1px solid gray;flex-grow: 1;}#sk-container-id-1 div.sk-label:hover label.sk-toggleable__label {background-color: #d4ebff;}#sk-container-id-1 div.sk-serial::before {content: \"\";position: absolute;border-left: 1px solid gray;box-sizing: border-box;top: 0;bottom: 0;left: 50%;z-index: 0;}#sk-container-id-1 div.sk-serial {display: flex;flex-direction: column;align-items: center;background-color: white;padding-right: 0.2em;padding-left: 0.2em;position: relative;}#sk-container-id-1 div.sk-item {position: relative;z-index: 1;}#sk-container-id-1 div.sk-parallel {display: flex;align-items: stretch;justify-content: center;background-color: white;position: relative;}#sk-container-id-1 div.sk-item::before, #sk-container-id-1 div.sk-parallel-item::before {content: \"\";position: absolute;border-left: 1px solid gray;box-sizing: border-box;top: 0;bottom: 0;left: 50%;z-index: -1;}#sk-container-id-1 div.sk-parallel-item {display: flex;flex-direction: column;z-index: 1;position: relative;background-color: white;}#sk-container-id-1 div.sk-parallel-item:first-child::after {align-self: flex-end;width: 50%;}#sk-container-id-1 div.sk-parallel-item:last-child::after {align-self: flex-start;width: 50%;}#sk-container-id-1 div.sk-parallel-item:only-child::after {width: 0;}#sk-container-id-1 div.sk-dashed-wrapped {border: 1px dashed gray;margin: 0 0.4em 0.5em 0.4em;box-sizing: border-box;padding-bottom: 0.4em;background-color: white;}#sk-container-id-1 div.sk-label label {font-family: monospace;font-weight: bold;display: inline-block;line-height: 1.2em;}#sk-container-id-1 div.sk-label-container {text-align: center;}#sk-container-id-1 div.sk-container {/* jupyter's `normalize.less` sets `[hidden] { display: none; }` but bootstrap.min.css set `[hidden] { display: none !important; }` so we also need the `!important` here to be able to override the default hidden behavior on the sphinx rendered scikit-learn.org. See: https://github.com/scikit-learn/scikit-learn/issues/21755 */display: inline-block !important;position: relative;}#sk-container-id-1 div.sk-text-repr-fallback {display: none;}</style><div id=\"sk-container-id-1\" class=\"sk-top-container\"><div class=\"sk-text-repr-fallback\"><pre>GridSearchCV(estimator=GaussianMixture(random_state=42), n_jobs=-1,\n",
       "             param_grid={&#x27;covariance_type&#x27;: [&#x27;full&#x27;, &#x27;tied&#x27;, &#x27;diag&#x27;,\n",
       "                                             &#x27;spherical&#x27;],\n",
       "                         &#x27;init_params&#x27;: [&#x27;kmeans&#x27;, &#x27;k-means++&#x27;],\n",
       "                         &#x27;n_components&#x27;: range(2, 10), &#x27;n_init&#x27;: [10],\n",
       "                         &#x27;reg_covar&#x27;: [1e-06, 1e-05, 0.0001, 0.001]},\n",
       "             scoring=&lt;function gmm_bic_score at 0x7fcb5b111630&gt;)</pre><b>In a Jupyter environment, please rerun this cell to show the HTML representation or trust the notebook. <br />On GitHub, the HTML representation is unable to render, please try loading this page with nbviewer.org.</b></div><div class=\"sk-container\" hidden><div class=\"sk-item sk-dashed-wrapped\"><div class=\"sk-label-container\"><div class=\"sk-label sk-toggleable\"><input class=\"sk-toggleable__control sk-hidden--visually\" id=\"sk-estimator-id-1\" type=\"checkbox\" ><label for=\"sk-estimator-id-1\" class=\"sk-toggleable__label sk-toggleable__label-arrow\">GridSearchCV</label><div class=\"sk-toggleable__content\"><pre>GridSearchCV(estimator=GaussianMixture(random_state=42), n_jobs=-1,\n",
       "             param_grid={&#x27;covariance_type&#x27;: [&#x27;full&#x27;, &#x27;tied&#x27;, &#x27;diag&#x27;,\n",
       "                                             &#x27;spherical&#x27;],\n",
       "                         &#x27;init_params&#x27;: [&#x27;kmeans&#x27;, &#x27;k-means++&#x27;],\n",
       "                         &#x27;n_components&#x27;: range(2, 10), &#x27;n_init&#x27;: [10],\n",
       "                         &#x27;reg_covar&#x27;: [1e-06, 1e-05, 0.0001, 0.001]},\n",
       "             scoring=&lt;function gmm_bic_score at 0x7fcb5b111630&gt;)</pre></div></div></div><div class=\"sk-parallel\"><div class=\"sk-parallel-item\"><div class=\"sk-item\"><div class=\"sk-label-container\"><div class=\"sk-label sk-toggleable\"><input class=\"sk-toggleable__control sk-hidden--visually\" id=\"sk-estimator-id-2\" type=\"checkbox\" ><label for=\"sk-estimator-id-2\" class=\"sk-toggleable__label sk-toggleable__label-arrow\">estimator: GaussianMixture</label><div class=\"sk-toggleable__content\"><pre>GaussianMixture(random_state=42)</pre></div></div></div><div class=\"sk-serial\"><div class=\"sk-item\"><div class=\"sk-estimator sk-toggleable\"><input class=\"sk-toggleable__control sk-hidden--visually\" id=\"sk-estimator-id-3\" type=\"checkbox\" ><label for=\"sk-estimator-id-3\" class=\"sk-toggleable__label sk-toggleable__label-arrow\">GaussianMixture</label><div class=\"sk-toggleable__content\"><pre>GaussianMixture(random_state=42)</pre></div></div></div></div></div></div></div></div></div></div>"
      ],
      "text/plain": [
       "GridSearchCV(estimator=GaussianMixture(random_state=42), n_jobs=-1,\n",
       "             param_grid={'covariance_type': ['full', 'tied', 'diag',\n",
       "                                             'spherical'],\n",
       "                         'init_params': ['kmeans', 'k-means++'],\n",
       "                         'n_components': range(2, 10), 'n_init': [10],\n",
       "                         'reg_covar': [1e-06, 1e-05, 0.0001, 0.001]},\n",
       "             scoring=<function gmm_bic_score at 0x7fcb5b111630>)"
      ]
     },
     "execution_count": 10,
     "metadata": {},
     "output_type": "execute_result"
    }
   ],
   "source": [
    "# find best model\n",
    "from sklearn.model_selection import GridSearchCV\n",
    "\n",
    "def gmm_bic_score(estimator, X):\n",
    "    ''' scorer to be passed to grid search'''\n",
    "    return -estimator.bic(X)\n",
    "\n",
    "param_grid = {'n_components': range(2,10),\n",
    "             'covariance_type': [\"full\", \"tied\", \"diag\", \"spherical\"],\n",
    "             'init_params':['kmeans','k-means++'],\n",
    "             'reg_covar':[1e-6,1e-5,1e-4,1e-3],\n",
    "             'n_init':[10]}\n",
    "\n",
    "grid_search = GridSearchCV(GaussianMixture(random_state=42), param_grid = param_grid, scoring=gmm_bic_score, n_jobs=-1)\n",
    "grid_search.fit(dataset)\n",
    "#gmm = GaussianMixture(n_components = i, covariance_type='full', tol=1e-3,max_iter=500,n_init=10, init_params='kmeans', random_state=42)\n",
    "#gmm.fit(dataset)\n",
    "\n",
    "    "
   ]
  },
  {
   "cell_type": "code",
   "execution_count": 11,
   "id": "78dc358a",
   "metadata": {
    "execution": {
     "iopub.execute_input": "2024-07-23T11:24:47.185781Z",
     "iopub.status.busy": "2024-07-23T11:24:47.185354Z",
     "iopub.status.idle": "2024-07-23T11:24:47.191801Z",
     "shell.execute_reply": "2024-07-23T11:24:47.190656Z"
    },
    "papermill": {
     "duration": 0.01616,
     "end_time": "2024-07-23T11:24:47.194821",
     "exception": false,
     "start_time": "2024-07-23T11:24:47.178661",
     "status": "completed"
    },
    "tags": []
   },
   "outputs": [],
   "source": [
    "gm = grid_search.best_estimator_"
   ]
  },
  {
   "cell_type": "code",
   "execution_count": 12,
   "id": "3735a480",
   "metadata": {
    "execution": {
     "iopub.execute_input": "2024-07-23T11:24:47.207416Z",
     "iopub.status.busy": "2024-07-23T11:24:47.207008Z",
     "iopub.status.idle": "2024-07-23T11:24:47.216089Z",
     "shell.execute_reply": "2024-07-23T11:24:47.214800Z"
    },
    "papermill": {
     "duration": 0.018566,
     "end_time": "2024-07-23T11:24:47.218825",
     "exception": false,
     "start_time": "2024-07-23T11:24:47.200259",
     "status": "completed"
    },
    "tags": []
   },
   "outputs": [
    {
     "data": {
      "text/html": [
       "<style>#sk-container-id-2 {color: black;background-color: white;}#sk-container-id-2 pre{padding: 0;}#sk-container-id-2 div.sk-toggleable {background-color: white;}#sk-container-id-2 label.sk-toggleable__label {cursor: pointer;display: block;width: 100%;margin-bottom: 0;padding: 0.3em;box-sizing: border-box;text-align: center;}#sk-container-id-2 label.sk-toggleable__label-arrow:before {content: \"▸\";float: left;margin-right: 0.25em;color: #696969;}#sk-container-id-2 label.sk-toggleable__label-arrow:hover:before {color: black;}#sk-container-id-2 div.sk-estimator:hover label.sk-toggleable__label-arrow:before {color: black;}#sk-container-id-2 div.sk-toggleable__content {max-height: 0;max-width: 0;overflow: hidden;text-align: left;background-color: #f0f8ff;}#sk-container-id-2 div.sk-toggleable__content pre {margin: 0.2em;color: black;border-radius: 0.25em;background-color: #f0f8ff;}#sk-container-id-2 input.sk-toggleable__control:checked~div.sk-toggleable__content {max-height: 200px;max-width: 100%;overflow: auto;}#sk-container-id-2 input.sk-toggleable__control:checked~label.sk-toggleable__label-arrow:before {content: \"▾\";}#sk-container-id-2 div.sk-estimator input.sk-toggleable__control:checked~label.sk-toggleable__label {background-color: #d4ebff;}#sk-container-id-2 div.sk-label input.sk-toggleable__control:checked~label.sk-toggleable__label {background-color: #d4ebff;}#sk-container-id-2 input.sk-hidden--visually {border: 0;clip: rect(1px 1px 1px 1px);clip: rect(1px, 1px, 1px, 1px);height: 1px;margin: -1px;overflow: hidden;padding: 0;position: absolute;width: 1px;}#sk-container-id-2 div.sk-estimator {font-family: monospace;background-color: #f0f8ff;border: 1px dotted black;border-radius: 0.25em;box-sizing: border-box;margin-bottom: 0.5em;}#sk-container-id-2 div.sk-estimator:hover {background-color: #d4ebff;}#sk-container-id-2 div.sk-parallel-item::after {content: \"\";width: 100%;border-bottom: 1px solid gray;flex-grow: 1;}#sk-container-id-2 div.sk-label:hover label.sk-toggleable__label {background-color: #d4ebff;}#sk-container-id-2 div.sk-serial::before {content: \"\";position: absolute;border-left: 1px solid gray;box-sizing: border-box;top: 0;bottom: 0;left: 50%;z-index: 0;}#sk-container-id-2 div.sk-serial {display: flex;flex-direction: column;align-items: center;background-color: white;padding-right: 0.2em;padding-left: 0.2em;position: relative;}#sk-container-id-2 div.sk-item {position: relative;z-index: 1;}#sk-container-id-2 div.sk-parallel {display: flex;align-items: stretch;justify-content: center;background-color: white;position: relative;}#sk-container-id-2 div.sk-item::before, #sk-container-id-2 div.sk-parallel-item::before {content: \"\";position: absolute;border-left: 1px solid gray;box-sizing: border-box;top: 0;bottom: 0;left: 50%;z-index: -1;}#sk-container-id-2 div.sk-parallel-item {display: flex;flex-direction: column;z-index: 1;position: relative;background-color: white;}#sk-container-id-2 div.sk-parallel-item:first-child::after {align-self: flex-end;width: 50%;}#sk-container-id-2 div.sk-parallel-item:last-child::after {align-self: flex-start;width: 50%;}#sk-container-id-2 div.sk-parallel-item:only-child::after {width: 0;}#sk-container-id-2 div.sk-dashed-wrapped {border: 1px dashed gray;margin: 0 0.4em 0.5em 0.4em;box-sizing: border-box;padding-bottom: 0.4em;background-color: white;}#sk-container-id-2 div.sk-label label {font-family: monospace;font-weight: bold;display: inline-block;line-height: 1.2em;}#sk-container-id-2 div.sk-label-container {text-align: center;}#sk-container-id-2 div.sk-container {/* jupyter's `normalize.less` sets `[hidden] { display: none; }` but bootstrap.min.css set `[hidden] { display: none !important; }` so we also need the `!important` here to be able to override the default hidden behavior on the sphinx rendered scikit-learn.org. See: https://github.com/scikit-learn/scikit-learn/issues/21755 */display: inline-block !important;position: relative;}#sk-container-id-2 div.sk-text-repr-fallback {display: none;}</style><div id=\"sk-container-id-2\" class=\"sk-top-container\"><div class=\"sk-text-repr-fallback\"><pre>GaussianMixture(covariance_type=&#x27;diag&#x27;, init_params=&#x27;k-means++&#x27;, n_components=5,\n",
       "                n_init=10, random_state=42)</pre><b>In a Jupyter environment, please rerun this cell to show the HTML representation or trust the notebook. <br />On GitHub, the HTML representation is unable to render, please try loading this page with nbviewer.org.</b></div><div class=\"sk-container\" hidden><div class=\"sk-item\"><div class=\"sk-estimator sk-toggleable\"><input class=\"sk-toggleable__control sk-hidden--visually\" id=\"sk-estimator-id-4\" type=\"checkbox\" checked><label for=\"sk-estimator-id-4\" class=\"sk-toggleable__label sk-toggleable__label-arrow\">GaussianMixture</label><div class=\"sk-toggleable__content\"><pre>GaussianMixture(covariance_type=&#x27;diag&#x27;, init_params=&#x27;k-means++&#x27;, n_components=5,\n",
       "                n_init=10, random_state=42)</pre></div></div></div></div></div>"
      ],
      "text/plain": [
       "GaussianMixture(covariance_type='diag', init_params='k-means++', n_components=5,\n",
       "                n_init=10, random_state=42)"
      ]
     },
     "execution_count": 12,
     "metadata": {},
     "output_type": "execute_result"
    }
   ],
   "source": [
    "gm"
   ]
  },
  {
   "cell_type": "code",
   "execution_count": 13,
   "id": "f2aa2d70",
   "metadata": {
    "execution": {
     "iopub.execute_input": "2024-07-23T11:24:47.231744Z",
     "iopub.status.busy": "2024-07-23T11:24:47.231341Z",
     "iopub.status.idle": "2024-07-23T11:24:47.239121Z",
     "shell.execute_reply": "2024-07-23T11:24:47.238013Z"
    },
    "papermill": {
     "duration": 0.017137,
     "end_time": "2024-07-23T11:24:47.241597",
     "exception": false,
     "start_time": "2024-07-23T11:24:47.224460",
     "status": "completed"
    },
    "tags": []
   },
   "outputs": [],
   "source": [
    "customer_segments = gm.predict(dataset)"
   ]
  },
  {
   "cell_type": "code",
   "execution_count": 14,
   "id": "3025104a",
   "metadata": {
    "execution": {
     "iopub.execute_input": "2024-07-23T11:24:47.254402Z",
     "iopub.status.busy": "2024-07-23T11:24:47.254007Z",
     "iopub.status.idle": "2024-07-23T11:24:47.258931Z",
     "shell.execute_reply": "2024-07-23T11:24:47.257725Z"
    },
    "papermill": {
     "duration": 0.014185,
     "end_time": "2024-07-23T11:24:47.261332",
     "exception": false,
     "start_time": "2024-07-23T11:24:47.247147",
     "status": "completed"
    },
    "tags": []
   },
   "outputs": [],
   "source": [
    "import matplotlib.pyplot as plt\n",
    "from sklearn.decomposition import PCA"
   ]
  },
  {
   "cell_type": "code",
   "execution_count": 15,
   "id": "5f3d619b",
   "metadata": {
    "execution": {
     "iopub.execute_input": "2024-07-23T11:24:47.274199Z",
     "iopub.status.busy": "2024-07-23T11:24:47.273774Z",
     "iopub.status.idle": "2024-07-23T11:24:47.292309Z",
     "shell.execute_reply": "2024-07-23T11:24:47.291037Z"
    },
    "papermill": {
     "duration": 0.027844,
     "end_time": "2024-07-23T11:24:47.294818",
     "exception": false,
     "start_time": "2024-07-23T11:24:47.266974",
     "status": "completed"
    },
    "tags": []
   },
   "outputs": [],
   "source": [
    "pca_components = PCA(n_components = 3, copy=True).fit_transform(dataset)"
   ]
  },
  {
   "cell_type": "code",
   "execution_count": 16,
   "id": "e550a323",
   "metadata": {
    "execution": {
     "iopub.execute_input": "2024-07-23T11:24:47.307711Z",
     "iopub.status.busy": "2024-07-23T11:24:47.307277Z",
     "iopub.status.idle": "2024-07-23T11:24:47.591995Z",
     "shell.execute_reply": "2024-07-23T11:24:47.590869Z"
    },
    "papermill": {
     "duration": 0.294024,
     "end_time": "2024-07-23T11:24:47.594440",
     "exception": false,
     "start_time": "2024-07-23T11:24:47.300416",
     "status": "completed"
    },
    "tags": []
   },
   "outputs": [
    {
     "data": {
      "image/png": "[encoded data removed]",
      "text/plain": [
       "<Figure size 640x480 with 1 Axes>"
      ]
     },
     "metadata": {},
     "output_type": "display_data"
    }
   ],
   "source": [
    "plt.scatter(pca_components[:,0], pca_components[:,1], c=customer_segments, cmap='tab10')\n",
    "plt.xlabel(\"PCA Component 1\")\n",
    "plt.ylabel(\"PCA Component 2\")\n",
    "plt.title(\"Customer Segmentation using GMM\")\n",
    "plt.show()"
   ]
  }
 ],
 "metadata": {
  "kaggle": {
   "accelerator": "none",
   "dataSources": [
    {
     "datasetId": 42674,
     "sourceId": 74935,
     "sourceType": "datasetVersion"
    }
   ],
   "dockerImageVersionId": 30746,
   "isGpuEnabled": false,
   "isInternetEnabled": true,
   "language": "python",
   "sourceType": "notebook"
  },
  "kernelspec": {
   "display_name": "Python 3",
   "language": "python",
   "name": "python3"
  },
  "language_info": {
   "codemirror_mode": {
    "name": "ipython",
    "version": 3
   },
   "file_extension": ".py",
   "mimetype": "text/x-python",
   "name": "python",
   "nbconvert_exporter": "python",
   "pygments_lexer": "ipython3",
   "version": "3.10.13"
  },
  "papermill": {
   "default_parameters": {},
   "duration": 51.239181,
   "end_time": "2024-07-23T11:24:50.223260",
   "environment_variables": {},
   "exception": null,
   "input_path": "__notebook__.ipynb",
   "output_path": "__notebook__.ipynb",
   "parameters": {},
   "start_time": "2024-07-23T11:23:58.984079",
   "version": "2.5.0"
  }
 },
 "nbformat": 4,
 "nbformat_minor": 5
}
