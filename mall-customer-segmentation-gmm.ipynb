{
 "cells": [
  {
   "cell_type": "code",
   "execution_count": 1,
   "id": "1ae6b72d",
   "metadata": {
    "_cell_guid": "b1076dfc-b9ad-4769-8c92-a6c4dae69d19",
    "_uuid": "8f2839f25d086af736a60e9eeb907d3b93b6e0e5",
    "execution": {
     "iopub.execute_input": "2024-07-23T16:07:00.505372Z",
     "iopub.status.busy": "2024-07-23T16:07:00.504894Z",
     "iopub.status.idle": "2024-07-23T16:07:01.556230Z",
     "shell.execute_reply": "2024-07-23T16:07:01.554751Z"
    },
    "papermill": {
     "duration": 1.062541,
     "end_time": "2024-07-23T16:07:01.559186",
     "exception": false,
     "start_time": "2024-07-23T16:07:00.496645",
     "status": "completed"
    },
    "tags": []
   },
   "outputs": [
    {
     "name": "stdout",
     "output_type": "stream",
     "text": [
      "/kaggle/input/customer-segmentation-tutorial-in-python/Mall_Customers.csv\n"
     ]
    }
   ],
   "source": [
    "# This Python 3 environment comes with many helpful analytics libraries installed\n",
    "# It is defined by the kaggle/python Docker image: https://github.com/kaggle/docker-python\n",
    "# For example, here's several helpful packages to load\n",
    "\n",
    "import numpy as np # linear algebra\n",
    "import pandas as pd # data processing, CSV file I/O (e.g. pd.read_csv)\n",
    "\n",
    "# Input data files are available in the read-only \"../input/\" directory\n",
    "# For example, running this (by clicking run or pressing Shift+Enter) will list all files under the input directory\n",
    "\n",
    "import os\n",
    "for dirname, _, filenames in os.walk('/kaggle/input'):\n",
    "    for filename in filenames:\n",
    "        print(os.path.join(dirname, filename))\n",
    "\n",
    "# You can write up to 20GB to the current directory (/kaggle/working/) that gets preserved as output when you create a version using \"Save & Run All\" \n",
    "# You can also write temporary files to /kaggle/temp/, but they won't be saved outside of the current session"
   ]
  },
  {
   "cell_type": "code",
   "execution_count": 2,
   "id": "c6cbffd0",
   "metadata": {
    "execution": {
     "iopub.execute_input": "2024-07-23T16:07:01.571710Z",
     "iopub.status.busy": "2024-07-23T16:07:01.571206Z",
     "iopub.status.idle": "2024-07-23T16:07:01.591205Z",
     "shell.execute_reply": "2024-07-23T16:07:01.589941Z"
    },
    "papermill": {
     "duration": 0.029368,
     "end_time": "2024-07-23T16:07:01.593805",
     "exception": false,
     "start_time": "2024-07-23T16:07:01.564437",
     "status": "completed"
    },
    "tags": []
   },
   "outputs": [],
   "source": [
    "dataset = pd.read_csv('/kaggle/input/customer-segmentation-tutorial-in-python/Mall_Customers.csv')"
   ]
  },
  {
   "cell_type": "code",
   "execution_count": 3,
   "id": "9667bf3b",
   "metadata": {
    "execution": {
     "iopub.execute_input": "2024-07-23T16:07:01.605636Z",
     "iopub.status.busy": "2024-07-23T16:07:01.605207Z",
     "iopub.status.idle": "2024-07-23T16:07:01.619413Z",
     "shell.execute_reply": "2024-07-23T16:07:01.618234Z"
    },
    "papermill": {
     "duration": 0.023032,
     "end_time": "2024-07-23T16:07:01.621992",
     "exception": false,
     "start_time": "2024-07-23T16:07:01.598960",
     "status": "completed"
    },
    "tags": []
   },
   "outputs": [],
   "source": [
    "dataset = dataset.set_index('CustomerID')"
   ]
  },
  {
   "cell_type": "code",
   "execution_count": 4,
   "id": "db0b6905",
   "metadata": {
    "execution": {
     "iopub.execute_input": "2024-07-23T16:07:01.634389Z",
     "iopub.status.busy": "2024-07-23T16:07:01.633543Z",
     "iopub.status.idle": "2024-07-23T16:07:01.650890Z",
     "shell.execute_reply": "2024-07-23T16:07:01.649769Z"
    },
    "papermill": {
     "duration": 0.026303,
     "end_time": "2024-07-23T16:07:01.653245",
     "exception": false,
     "start_time": "2024-07-23T16:07:01.626942",
     "status": "completed"
    },
    "tags": []
   },
   "outputs": [
    {
     "data": {
      "text/html": [
       "<div>\n",
       "<style scoped>\n",
       "    .dataframe tbody tr th:only-of-type {\n",
       "        vertical-align: middle;\n",
       "    }\n",
       "\n",
       "    .dataframe tbody tr th {\n",
       "        vertical-align: top;\n",
       "    }\n",
       "\n",
       "    .dataframe thead th {\n",
       "        text-align: right;\n",
       "    }\n",
       "</style>\n",
       "<table border=\"1\" class=\"dataframe\">\n",
       "  <thead>\n",
       "    <tr style=\"text-align: right;\">\n",
       "      <th></th>\n",
       "      <th>Gender</th>\n",
       "      <th>Age</th>\n",
       "      <th>Annual Income (k$)</th>\n",
       "      <th>Spending Score (1-100)</th>\n",
       "    </tr>\n",
       "    <tr>\n",
       "      <th>CustomerID</th>\n",
       "      <th></th>\n",
       "      <th></th>\n",
       "      <th></th>\n",
       "      <th></th>\n",
       "    </tr>\n",
       "  </thead>\n",
       "  <tbody>\n",
       "    <tr>\n",
       "      <th>1</th>\n",
       "      <td>Male</td>\n",
       "      <td>19</td>\n",
       "      <td>15</td>\n",
       "      <td>39</td>\n",
       "    </tr>\n",
       "    <tr>\n",
       "      <th>2</th>\n",
       "      <td>Male</td>\n",
       "      <td>21</td>\n",
       "      <td>15</td>\n",
       "      <td>81</td>\n",
       "    </tr>\n",
       "    <tr>\n",
       "      <th>3</th>\n",
       "      <td>Female</td>\n",
       "      <td>20</td>\n",
       "      <td>16</td>\n",
       "      <td>6</td>\n",
       "    </tr>\n",
       "    <tr>\n",
       "      <th>4</th>\n",
       "      <td>Female</td>\n",
       "      <td>23</td>\n",
       "      <td>16</td>\n",
       "      <td>77</td>\n",
       "    </tr>\n",
       "    <tr>\n",
       "      <th>5</th>\n",
       "      <td>Female</td>\n",
       "      <td>31</td>\n",
       "      <td>17</td>\n",
       "      <td>40</td>\n",
       "    </tr>\n",
       "  </tbody>\n",
       "</table>\n",
       "</div>"
      ],
      "text/plain": [
       "            Gender  Age  Annual Income (k$)  Spending Score (1-100)\n",
       "CustomerID                                                         \n",
       "1             Male   19                  15                      39\n",
       "2             Male   21                  15                      81\n",
       "3           Female   20                  16                       6\n",
       "4           Female   23                  16                      77\n",
       "5           Female   31                  17                      40"
      ]
     },
     "execution_count": 4,
     "metadata": {},
     "output_type": "execute_result"
    }
   ],
   "source": [
    "dataset.head()"
   ]
  },
  {
   "cell_type": "code",
   "execution_count": 5,
   "id": "eb6c66ec",
   "metadata": {
    "execution": {
     "iopub.execute_input": "2024-07-23T16:07:01.665845Z",
     "iopub.status.busy": "2024-07-23T16:07:01.665436Z",
     "iopub.status.idle": "2024-07-23T16:07:01.687176Z",
     "shell.execute_reply": "2024-07-23T16:07:01.685856Z"
    },
    "papermill": {
     "duration": 0.030786,
     "end_time": "2024-07-23T16:07:01.689632",
     "exception": false,
     "start_time": "2024-07-23T16:07:01.658846",
     "status": "completed"
    },
    "tags": []
   },
   "outputs": [
    {
     "name": "stdout",
     "output_type": "stream",
     "text": [
      "<class 'pandas.core.frame.DataFrame'>\n",
      "Index: 200 entries, 1 to 200\n",
      "Data columns (total 4 columns):\n",
      " #   Column                  Non-Null Count  Dtype \n",
      "---  ------                  --------------  ----- \n",
      " 0   Gender                  200 non-null    object\n",
      " 1   Age                     200 non-null    int64 \n",
      " 2   Annual Income (k$)      200 non-null    int64 \n",
      " 3   Spending Score (1-100)  200 non-null    int64 \n",
      "dtypes: int64(3), object(1)\n",
      "memory usage: 7.8+ KB\n"
     ]
    }
   ],
   "source": [
    "dataset.info()"
   ]
  },
  {
   "cell_type": "code",
   "execution_count": 6,
   "id": "085c2578",
   "metadata": {
    "execution": {
     "iopub.execute_input": "2024-07-23T16:07:01.701792Z",
     "iopub.status.busy": "2024-07-23T16:07:01.701388Z",
     "iopub.status.idle": "2024-07-23T16:07:02.975373Z",
     "shell.execute_reply": "2024-07-23T16:07:02.974140Z"
    },
    "papermill": {
     "duration": 1.283126,
     "end_time": "2024-07-23T16:07:02.978068",
     "exception": false,
     "start_time": "2024-07-23T16:07:01.694942",
     "status": "completed"
    },
    "tags": []
   },
   "outputs": [],
   "source": [
    "from sklearn.preprocessing import StandardScaler\n",
    "from sklearn.preprocessing import OrdinalEncoder\n",
    "encoder = OrdinalEncoder()\n",
    "scaler = StandardScaler()"
   ]
  },
  {
   "cell_type": "code",
   "execution_count": 7,
   "id": "155d9f5d",
   "metadata": {
    "execution": {
     "iopub.execute_input": "2024-07-23T16:07:02.990382Z",
     "iopub.status.busy": "2024-07-23T16:07:02.989987Z",
     "iopub.status.idle": "2024-07-23T16:07:03.008466Z",
     "shell.execute_reply": "2024-07-23T16:07:03.007336Z"
    },
    "papermill": {
     "duration": 0.02733,
     "end_time": "2024-07-23T16:07:03.010669",
     "exception": false,
     "start_time": "2024-07-23T16:07:02.983339",
     "status": "completed"
    },
    "tags": []
   },
   "outputs": [],
   "source": [
    "categorical_cols = ['Gender']\n",
    "numeric_cols = ['Gender','Age', 'Annual Income (k$)', 'Spending Score (1-100)']\n",
    "dataset[categorical_cols] = encoder.fit_transform(dataset[categorical_cols])\n",
    "dataset[numeric_cols] = scaler.fit_transform(dataset[numeric_cols])"
   ]
  },
  {
   "cell_type": "code",
   "execution_count": 8,
   "id": "6b7817f1",
   "metadata": {
    "execution": {
     "iopub.execute_input": "2024-07-23T16:07:03.022660Z",
     "iopub.status.busy": "2024-07-23T16:07:03.022256Z",
     "iopub.status.idle": "2024-07-23T16:07:03.035403Z",
     "shell.execute_reply": "2024-07-23T16:07:03.034152Z"
    },
    "papermill": {
     "duration": 0.022047,
     "end_time": "2024-07-23T16:07:03.037916",
     "exception": false,
     "start_time": "2024-07-23T16:07:03.015869",
     "status": "completed"
    },
    "tags": []
   },
   "outputs": [
    {
     "data": {
      "text/html": [
       "<div>\n",
       "<style scoped>\n",
       "    .dataframe tbody tr th:only-of-type {\n",
       "        vertical-align: middle;\n",
       "    }\n",
       "\n",
       "    .dataframe tbody tr th {\n",
       "        vertical-align: top;\n",
       "    }\n",
       "\n",
       "    .dataframe thead th {\n",
       "        text-align: right;\n",
       "    }\n",
       "</style>\n",
       "<table border=\"1\" class=\"dataframe\">\n",
       "  <thead>\n",
       "    <tr style=\"text-align: right;\">\n",
       "      <th></th>\n",
       "      <th>Gender</th>\n",
       "      <th>Age</th>\n",
       "      <th>Annual Income (k$)</th>\n",
       "      <th>Spending Score (1-100)</th>\n",
       "    </tr>\n",
       "    <tr>\n",
       "      <th>CustomerID</th>\n",
       "      <th></th>\n",
       "      <th></th>\n",
       "      <th></th>\n",
       "      <th></th>\n",
       "    </tr>\n",
       "  </thead>\n",
       "  <tbody>\n",
       "    <tr>\n",
       "      <th>1</th>\n",
       "      <td>1.128152</td>\n",
       "      <td>-1.424569</td>\n",
       "      <td>-1.738999</td>\n",
       "      <td>-0.434801</td>\n",
       "    </tr>\n",
       "    <tr>\n",
       "      <th>2</th>\n",
       "      <td>1.128152</td>\n",
       "      <td>-1.281035</td>\n",
       "      <td>-1.738999</td>\n",
       "      <td>1.195704</td>\n",
       "    </tr>\n",
       "    <tr>\n",
       "      <th>3</th>\n",
       "      <td>-0.886405</td>\n",
       "      <td>-1.352802</td>\n",
       "      <td>-1.700830</td>\n",
       "      <td>-1.715913</td>\n",
       "    </tr>\n",
       "    <tr>\n",
       "      <th>4</th>\n",
       "      <td>-0.886405</td>\n",
       "      <td>-1.137502</td>\n",
       "      <td>-1.700830</td>\n",
       "      <td>1.040418</td>\n",
       "    </tr>\n",
       "    <tr>\n",
       "      <th>5</th>\n",
       "      <td>-0.886405</td>\n",
       "      <td>-0.563369</td>\n",
       "      <td>-1.662660</td>\n",
       "      <td>-0.395980</td>\n",
       "    </tr>\n",
       "  </tbody>\n",
       "</table>\n",
       "</div>"
      ],
      "text/plain": [
       "              Gender       Age  Annual Income (k$)  Spending Score (1-100)\n",
       "CustomerID                                                                \n",
       "1           1.128152 -1.424569           -1.738999               -0.434801\n",
       "2           1.128152 -1.281035           -1.738999                1.195704\n",
       "3          -0.886405 -1.352802           -1.700830               -1.715913\n",
       "4          -0.886405 -1.137502           -1.700830                1.040418\n",
       "5          -0.886405 -0.563369           -1.662660               -0.395980"
      ]
     },
     "execution_count": 8,
     "metadata": {},
     "output_type": "execute_result"
    }
   ],
   "source": [
    "dataset.head()"
   ]
  },
  {
   "cell_type": "code",
   "execution_count": 9,
   "id": "3593fe97",
   "metadata": {
    "execution": {
     "iopub.execute_input": "2024-07-23T16:07:03.051002Z",
     "iopub.status.busy": "2024-07-23T16:07:03.050609Z",
     "iopub.status.idle": "2024-07-23T16:07:03.546701Z",
     "shell.execute_reply": "2024-07-23T16:07:03.545436Z"
    },
    "papermill": {
     "duration": 0.506175,
     "end_time": "2024-07-23T16:07:03.549542",
     "exception": false,
     "start_time": "2024-07-23T16:07:03.043367",
     "status": "completed"
    },
    "tags": []
   },
   "outputs": [],
   "source": [
    "from sklearn.mixture import GaussianMixture"
   ]
  },
  {
   "cell_type": "code",
   "execution_count": 10,
   "id": "89c5d76e",
   "metadata": {
    "execution": {
     "iopub.execute_input": "2024-07-23T16:07:03.562319Z",
     "iopub.status.busy": "2024-07-23T16:07:03.561912Z",
     "iopub.status.idle": "2024-07-23T16:07:05.404582Z",
     "shell.execute_reply": "2024-07-23T16:07:05.401896Z"
    },
    "papermill": {
     "duration": 1.852526,
     "end_time": "2024-07-23T16:07:05.407730",
     "exception": false,
     "start_time": "2024-07-23T16:07:03.555204",
     "status": "completed"
    },
    "tags": []
   },
   "outputs": [],
   "source": [
    "bic = []\n",
    "for i in range(1, 10):\n",
    "    gm = GaussianMixture(n_components = i, covariance_type='full', tol=1e-3,\n",
    "                         max_iter=100,n_init=10, init_params='k-means++', random_state=42)\n",
    "    gm.fit(dataset)\n",
    "    bic.append([i,gm.bic(dataset)])\n",
    "bic = np.array(bic)"
   ]
  },
  {
   "cell_type": "code",
   "execution_count": 11,
   "id": "661c32f4",
   "metadata": {
    "execution": {
     "iopub.execute_input": "2024-07-23T16:07:05.430195Z",
     "iopub.status.busy": "2024-07-23T16:07:05.429662Z",
     "iopub.status.idle": "2024-07-23T16:07:05.440929Z",
     "shell.execute_reply": "2024-07-23T16:07:05.439672Z"
    },
    "papermill": {
     "duration": 0.029556,
     "end_time": "2024-07-23T16:07:05.446070",
     "exception": false,
     "start_time": "2024-07-23T16:07:05.416514",
     "status": "completed"
    },
    "tags": []
   },
   "outputs": [
    {
     "data": {
      "text/plain": [
       "array([[ 1.00000000e+00,  2.32005404e+03],\n",
       "       [ 2.00000000e+00, -2.99302088e+02],\n",
       "       [ 3.00000000e+00, -2.91992308e+02],\n",
       "       [ 4.00000000e+00, -2.78539768e+02],\n",
       "       [ 5.00000000e+00, -2.65110697e+02],\n",
       "       [ 6.00000000e+00, -2.30520825e+02],\n",
       "       [ 7.00000000e+00, -1.89874281e+02],\n",
       "       [ 8.00000000e+00, -1.81577178e+02],\n",
       "       [ 9.00000000e+00, -1.26319279e+02]])"
      ]
     },
     "execution_count": 11,
     "metadata": {},
     "output_type": "execute_result"
    }
   ],
   "source": [
    "bic"
   ]
  },
  {
   "cell_type": "code",
   "execution_count": 12,
   "id": "c1a48728",
   "metadata": {
    "execution": {
     "iopub.execute_input": "2024-07-23T16:07:05.511252Z",
     "iopub.status.busy": "2024-07-23T16:07:05.510739Z",
     "iopub.status.idle": "2024-07-23T16:07:05.988708Z",
     "shell.execute_reply": "2024-07-23T16:07:05.987542Z"
    },
    "papermill": {
     "duration": 0.524096,
     "end_time": "2024-07-23T16:07:05.991306",
     "exception": false,
     "start_time": "2024-07-23T16:07:05.467210",
     "status": "completed"
    },
    "tags": []
   },
   "outputs": [
    {
     "data": {
      "image/png": "[encoded data removed]",
      "text/plain": [
       "<Figure size 1000x500 with 2 Axes>"
      ]
     },
     "metadata": {},
     "output_type": "display_data"
    }
   ],
   "source": [
    "import matplotlib.pyplot as plt\n",
    "fig, ax = plt.subplots(1,2, figsize=(10,5))\n",
    "ax[0].plot(bic[:,0], bic[:,1], marker='o')\n",
    "ax[0].set_xlabel(\"Groups\")\n",
    "ax[0].set_ylabel(\"BIC\")\n",
    "ax[1].plot(bic[:,0], np.gradient(bic[:,1]), marker='o')\n",
    "ax[1].set_xlabel(\"Groups\")\n",
    "ax[1].set_ylabel(\"gradient of BIC\")\n",
    "plt.tight_layout()\n",
    "plt.show()"
   ]
  },
  {
   "cell_type": "code",
   "execution_count": 13,
   "id": "302c17f0",
   "metadata": {
    "execution": {
     "iopub.execute_input": "2024-07-23T16:07:06.006092Z",
     "iopub.status.busy": "2024-07-23T16:07:06.005610Z",
     "iopub.status.idle": "2024-07-23T16:07:06.011641Z",
     "shell.execute_reply": "2024-07-23T16:07:06.010542Z"
    },
    "papermill": {
     "duration": 0.016522,
     "end_time": "2024-07-23T16:07:06.013941",
     "exception": false,
     "start_time": "2024-07-23T16:07:05.997419",
     "status": "completed"
    },
    "tags": []
   },
   "outputs": [],
   "source": [
    "gm = GaussianMixture(n_components = 2, covariance_type='full', tol=1e-3,\n",
    "                         max_iter=100,n_init=10, init_params='k-means++', random_state=42)"
   ]
  },
  {
   "cell_type": "code",
   "execution_count": 14,
   "id": "a5426b74",
   "metadata": {
    "execution": {
     "iopub.execute_input": "2024-07-23T16:07:06.027981Z",
     "iopub.status.busy": "2024-07-23T16:07:06.027447Z",
     "iopub.status.idle": "2024-07-23T16:07:06.122907Z",
     "shell.execute_reply": "2024-07-23T16:07:06.121852Z"
    },
    "papermill": {
     "duration": 0.105871,
     "end_time": "2024-07-23T16:07:06.125885",
     "exception": false,
     "start_time": "2024-07-23T16:07:06.020014",
     "status": "completed"
    },
    "tags": []
   },
   "outputs": [
    {
     "data": {
      "text/html": [
       "<style>#sk-container-id-1 {color: black;background-color: white;}#sk-container-id-1 pre{padding: 0;}#sk-container-id-1 div.sk-toggleable {background-color: white;}#sk-container-id-1 label.sk-toggleable__label {cursor: pointer;display: block;width: 100%;margin-bottom: 0;padding: 0.3em;box-sizing: border-box;text-align: center;}#sk-container-id-1 label.sk-toggleable__label-arrow:before {content: \"▸\";float: left;margin-right: 0.25em;color: #696969;}#sk-container-id-1 label.sk-toggleable__label-arrow:hover:before {color: black;}#sk-container-id-1 div.sk-estimator:hover label.sk-toggleable__label-arrow:before {color: black;}#sk-container-id-1 div.sk-toggleable__content {max-height: 0;max-width: 0;overflow: hidden;text-align: left;background-color: #f0f8ff;}#sk-container-id-1 div.sk-toggleable__content pre {margin: 0.2em;color: black;border-radius: 0.25em;background-color: #f0f8ff;}#sk-container-id-1 input.sk-toggleable__control:checked~div.sk-toggleable__content {max-height: 200px;max-width: 100%;overflow: auto;}#sk-container-id-1 input.sk-toggleable__control:checked~label.sk-toggleable__label-arrow:before {content: \"▾\";}#sk-container-id-1 div.sk-estimator input.sk-toggleable__control:checked~label.sk-toggleable__label {background-color: #d4ebff;}#sk-container-id-1 div.sk-label input.sk-toggleable__control:checked~label.sk-toggleable__label {background-color: #d4ebff;}#sk-container-id-1 input.sk-hidden--visually {border: 0;clip: rect(1px 1px 1px 1px);clip: rect(1px, 1px, 1px, 1px);height: 1px;margin: -1px;overflow: hidden;padding: 0;position: absolute;width: 1px;}#sk-container-id-1 div.sk-estimator {font-family: monospace;background-color: #f0f8ff;border: 1px dotted black;border-radius: 0.25em;box-sizing: border-box;margin-bottom: 0.5em;}#sk-container-id-1 div.sk-estimator:hover {background-color: #d4ebff;}#sk-container-id-1 div.sk-parallel-item::after {content: \"\";width: 100%;border-bottom: 1px solid gray;flex-grow: 1;}#sk-container-id-1 div.sk-label:hover label.sk-toggleable__label {background-color: #d4ebff;}#sk-container-id-1 div.sk-serial::before {content: \"\";position: absolute;border-left: 1px solid gray;box-sizing: border-box;top: 0;bottom: 0;left: 50%;z-index: 0;}#sk-container-id-1 div.sk-serial {display: flex;flex-direction: column;align-items: center;background-color: white;padding-right: 0.2em;padding-left: 0.2em;position: relative;}#sk-container-id-1 div.sk-item {position: relative;z-index: 1;}#sk-container-id-1 div.sk-parallel {display: flex;align-items: stretch;justify-content: center;background-color: white;position: relative;}#sk-container-id-1 div.sk-item::before, #sk-container-id-1 div.sk-parallel-item::before {content: \"\";position: absolute;border-left: 1px solid gray;box-sizing: border-box;top: 0;bottom: 0;left: 50%;z-index: -1;}#sk-container-id-1 div.sk-parallel-item {display: flex;flex-direction: column;z-index: 1;position: relative;background-color: white;}#sk-container-id-1 div.sk-parallel-item:first-child::after {align-self: flex-end;width: 50%;}#sk-container-id-1 div.sk-parallel-item:last-child::after {align-self: flex-start;width: 50%;}#sk-container-id-1 div.sk-parallel-item:only-child::after {width: 0;}#sk-container-id-1 div.sk-dashed-wrapped {border: 1px dashed gray;margin: 0 0.4em 0.5em 0.4em;box-sizing: border-box;padding-bottom: 0.4em;background-color: white;}#sk-container-id-1 div.sk-label label {font-family: monospace;font-weight: bold;display: inline-block;line-height: 1.2em;}#sk-container-id-1 div.sk-label-container {text-align: center;}#sk-container-id-1 div.sk-container {/* jupyter's `normalize.less` sets `[hidden] { display: none; }` but bootstrap.min.css set `[hidden] { display: none !important; }` so we also need the `!important` here to be able to override the default hidden behavior on the sphinx rendered scikit-learn.org. See: https://github.com/scikit-learn/scikit-learn/issues/21755 */display: inline-block !important;position: relative;}#sk-container-id-1 div.sk-text-repr-fallback {display: none;}</style><div id=\"sk-container-id-1\" class=\"sk-top-container\"><div class=\"sk-text-repr-fallback\"><pre>GaussianMixture(init_params=&#x27;k-means++&#x27;, n_components=2, n_init=10,\n",
       "                random_state=42)</pre><b>In a Jupyter environment, please rerun this cell to show the HTML representation or trust the notebook. <br />On GitHub, the HTML representation is unable to render, please try loading this page with nbviewer.org.</b></div><div class=\"sk-container\" hidden><div class=\"sk-item\"><div class=\"sk-estimator sk-toggleable\"><input class=\"sk-toggleable__control sk-hidden--visually\" id=\"sk-estimator-id-1\" type=\"checkbox\" checked><label for=\"sk-estimator-id-1\" class=\"sk-toggleable__label sk-toggleable__label-arrow\">GaussianMixture</label><div class=\"sk-toggleable__content\"><pre>GaussianMixture(init_params=&#x27;k-means++&#x27;, n_components=2, n_init=10,\n",
       "                random_state=42)</pre></div></div></div></div></div>"
      ],
      "text/plain": [
       "GaussianMixture(init_params='k-means++', n_components=2, n_init=10,\n",
       "                random_state=42)"
      ]
     },
     "execution_count": 14,
     "metadata": {},
     "output_type": "execute_result"
    }
   ],
   "source": [
    "gm.fit(dataset)"
   ]
  },
  {
   "cell_type": "code",
   "execution_count": 15,
   "id": "74fcb983",
   "metadata": {
    "execution": {
     "iopub.execute_input": "2024-07-23T16:07:06.163643Z",
     "iopub.status.busy": "2024-07-23T16:07:06.162985Z",
     "iopub.status.idle": "2024-07-23T16:07:06.172780Z",
     "shell.execute_reply": "2024-07-23T16:07:06.171350Z"
    },
    "papermill": {
     "duration": 0.038631,
     "end_time": "2024-07-23T16:07:06.176085",
     "exception": false,
     "start_time": "2024-07-23T16:07:06.137454",
     "status": "completed"
    },
    "tags": []
   },
   "outputs": [],
   "source": [
    "customer_segments = gm.predict(dataset)"
   ]
  },
  {
   "cell_type": "code",
   "execution_count": 16,
   "id": "2f127260",
   "metadata": {
    "execution": {
     "iopub.execute_input": "2024-07-23T16:07:06.214089Z",
     "iopub.status.busy": "2024-07-23T16:07:06.213459Z",
     "iopub.status.idle": "2024-07-23T16:07:06.219409Z",
     "shell.execute_reply": "2024-07-23T16:07:06.218149Z"
    },
    "papermill": {
     "duration": 0.028334,
     "end_time": "2024-07-23T16:07:06.223207",
     "exception": false,
     "start_time": "2024-07-23T16:07:06.194873",
     "status": "completed"
    },
    "tags": []
   },
   "outputs": [],
   "source": [
    "from sklearn.decomposition import PCA"
   ]
  },
  {
   "cell_type": "code",
   "execution_count": 17,
   "id": "479b5389",
   "metadata": {
    "execution": {
     "iopub.execute_input": "2024-07-23T16:07:06.242888Z",
     "iopub.status.busy": "2024-07-23T16:07:06.242366Z",
     "iopub.status.idle": "2024-07-23T16:07:06.262057Z",
     "shell.execute_reply": "2024-07-23T16:07:06.260783Z"
    },
    "papermill": {
     "duration": 0.031094,
     "end_time": "2024-07-23T16:07:06.265050",
     "exception": false,
     "start_time": "2024-07-23T16:07:06.233956",
     "status": "completed"
    },
    "tags": []
   },
   "outputs": [],
   "source": [
    "pca_components = PCA(n_components = 2, copy=True).fit_transform(dataset)"
   ]
  },
  {
   "cell_type": "code",
   "execution_count": 18,
   "id": "53c6ae6f",
   "metadata": {
    "execution": {
     "iopub.execute_input": "2024-07-23T16:07:06.283589Z",
     "iopub.status.busy": "2024-07-23T16:07:06.283090Z",
     "iopub.status.idle": "2024-07-23T16:07:06.534792Z",
     "shell.execute_reply": "2024-07-23T16:07:06.533375Z"
    },
    "papermill": {
     "duration": 0.262638,
     "end_time": "2024-07-23T16:07:06.537598",
     "exception": false,
     "start_time": "2024-07-23T16:07:06.274960",
     "status": "completed"
    },
    "tags": []
   },
   "outputs": [
    {
     "data": {
      "image/png": "[encoded data removed]",
      "text/plain": [
       "<Figure size 640x480 with 1 Axes>"
      ]
     },
     "metadata": {},
     "output_type": "display_data"
    }
   ],
   "source": [
    "plt.scatter(pca_components[:,0], pca_components[:,1], c=customer_segments, cmap='coolwarm')\n",
    "plt.xlabel(\"PCA Component 1\")\n",
    "plt.ylabel(\"PCA Component 2\")\n",
    "plt.title(\"Customer Segmentation using GMM\")\n",
    "plt.show()"
   ]
  }
 ],
 "metadata": {
  "kaggle": {
   "accelerator": "none",
   "dataSources": [
    {
     "datasetId": 42674,
     "sourceId": 74935,
     "sourceType": "datasetVersion"
    }
   ],
   "dockerImageVersionId": 30746,
   "isGpuEnabled": false,
   "isInternetEnabled": true,
   "language": "python",
   "sourceType": "notebook"
  },
  "kernelspec": {
   "display_name": "Python 3",
   "language": "python",
   "name": "python3"
  },
  "language_info": {
   "codemirror_mode": {
    "name": "ipython",
    "version": 3
   },
   "file_extension": ".py",
   "mimetype": "text/x-python",
   "name": "python",
   "nbconvert_exporter": "python",
   "pygments_lexer": "ipython3",
   "version": "3.10.13"
  },
  "papermill": {
   "default_parameters": {},
   "duration": 9.706276,
   "end_time": "2024-07-23T16:07:07.266940",
   "environment_variables": {},
   "exception": null,
   "input_path": "__notebook__.ipynb",
   "output_path": "__notebook__.ipynb",
   "parameters": {},
   "start_time": "2024-07-23T16:06:57.560664",
   "version": "2.5.0"
  }
 },
 "nbformat": 4,
 "nbformat_minor": 5
}
