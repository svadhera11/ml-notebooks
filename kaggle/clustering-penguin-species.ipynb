{
 "cells": [
  {
   "cell_type": "code",
   "execution_count": 1,
   "id": "b361003c",
   "metadata": {
    "_cell_guid": "b1076dfc-b9ad-4769-8c92-a6c4dae69d19",
    "_uuid": "8f2839f25d086af736a60e9eeb907d3b93b6e0e5",
    "execution": {
     "iopub.execute_input": "2024-07-22T13:18:07.152362Z",
     "iopub.status.busy": "2024-07-22T13:18:07.151806Z",
     "iopub.status.idle": "2024-07-22T13:18:08.144828Z",
     "shell.execute_reply": "2024-07-22T13:18:08.143578Z"
    },
    "papermill": {
     "duration": 1.004951,
     "end_time": "2024-07-22T13:18:08.147662",
     "exception": false,
     "start_time": "2024-07-22T13:18:07.142711",
     "status": "completed"
    },
    "tags": []
   },
   "outputs": [
    {
     "name": "stdout",
     "output_type": "stream",
     "text": [
      "/kaggle/input/clustering-penguins-species/penguins.csv\n"
     ]
    }
   ],
   "source": [
    "# This Python 3 environment comes with many helpful analytics libraries installed\n",
    "# It is defined by the kaggle/python Docker image: https://github.com/kaggle/docker-python\n",
    "# For example, here's several helpful packages to load\n",
    "\n",
    "import numpy as np # linear algebra\n",
    "import pandas as pd # data processing, CSV file I/O (e.g. pd.read_csv)\n",
    "\n",
    "# Input data files are available in the read-only \"../input/\" directory\n",
    "# For example, running this (by clicking run or pressing Shift+Enter) will list all files under the input directory\n",
    "\n",
    "import os\n",
    "for dirname, _, filenames in os.walk('/kaggle/input'):\n",
    "    for filename in filenames:\n",
    "        print(os.path.join(dirname, filename))\n",
    "\n",
    "# You can write up to 20GB to the current directory (/kaggle/working/) that gets preserved as output when you create a version using \"Save & Run All\" \n",
    "# You can also write temporary files to /kaggle/temp/, but they won't be saved outside of the current session"
   ]
  },
  {
   "cell_type": "code",
   "execution_count": 2,
   "id": "03a0eeb9",
   "metadata": {
    "execution": {
     "iopub.execute_input": "2024-07-22T13:18:08.162482Z",
     "iopub.status.busy": "2024-07-22T13:18:08.161908Z",
     "iopub.status.idle": "2024-07-22T13:18:08.179571Z",
     "shell.execute_reply": "2024-07-22T13:18:08.178569Z"
    },
    "papermill": {
     "duration": 0.028049,
     "end_time": "2024-07-22T13:18:08.182180",
     "exception": false,
     "start_time": "2024-07-22T13:18:08.154131",
     "status": "completed"
    },
    "tags": []
   },
   "outputs": [],
   "source": [
    "dataset=pd.read_csv('/kaggle/input/clustering-penguins-species/penguins.csv')"
   ]
  },
  {
   "cell_type": "code",
   "execution_count": 3,
   "id": "6b0c8121",
   "metadata": {
    "execution": {
     "iopub.execute_input": "2024-07-22T13:18:08.196184Z",
     "iopub.status.busy": "2024-07-22T13:18:08.195759Z",
     "iopub.status.idle": "2024-07-22T13:18:08.222674Z",
     "shell.execute_reply": "2024-07-22T13:18:08.221579Z"
    },
    "papermill": {
     "duration": 0.036736,
     "end_time": "2024-07-22T13:18:08.225139",
     "exception": false,
     "start_time": "2024-07-22T13:18:08.188403",
     "status": "completed"
    },
    "tags": []
   },
   "outputs": [
    {
     "data": {
      "text/html": [
       "<div>\n",
       "<style scoped>\n",
       "    .dataframe tbody tr th:only-of-type {\n",
       "        vertical-align: middle;\n",
       "    }\n",
       "\n",
       "    .dataframe tbody tr th {\n",
       "        vertical-align: top;\n",
       "    }\n",
       "\n",
       "    .dataframe thead th {\n",
       "        text-align: right;\n",
       "    }\n",
       "</style>\n",
       "<table border=\"1\" class=\"dataframe\">\n",
       "  <thead>\n",
       "    <tr style=\"text-align: right;\">\n",
       "      <th></th>\n",
       "      <th>culmen_length_mm</th>\n",
       "      <th>culmen_depth_mm</th>\n",
       "      <th>flipper_length_mm</th>\n",
       "      <th>body_mass_g</th>\n",
       "      <th>sex</th>\n",
       "    </tr>\n",
       "  </thead>\n",
       "  <tbody>\n",
       "    <tr>\n",
       "      <th>0</th>\n",
       "      <td>39.1</td>\n",
       "      <td>18.7</td>\n",
       "      <td>181.0</td>\n",
       "      <td>3750.0</td>\n",
       "      <td>MALE</td>\n",
       "    </tr>\n",
       "    <tr>\n",
       "      <th>1</th>\n",
       "      <td>39.5</td>\n",
       "      <td>17.4</td>\n",
       "      <td>186.0</td>\n",
       "      <td>3800.0</td>\n",
       "      <td>FEMALE</td>\n",
       "    </tr>\n",
       "    <tr>\n",
       "      <th>2</th>\n",
       "      <td>40.3</td>\n",
       "      <td>18.0</td>\n",
       "      <td>195.0</td>\n",
       "      <td>3250.0</td>\n",
       "      <td>FEMALE</td>\n",
       "    </tr>\n",
       "    <tr>\n",
       "      <th>3</th>\n",
       "      <td>NaN</td>\n",
       "      <td>NaN</td>\n",
       "      <td>NaN</td>\n",
       "      <td>NaN</td>\n",
       "      <td>NaN</td>\n",
       "    </tr>\n",
       "    <tr>\n",
       "      <th>4</th>\n",
       "      <td>36.7</td>\n",
       "      <td>19.3</td>\n",
       "      <td>193.0</td>\n",
       "      <td>3450.0</td>\n",
       "      <td>FEMALE</td>\n",
       "    </tr>\n",
       "  </tbody>\n",
       "</table>\n",
       "</div>"
      ],
      "text/plain": [
       "   culmen_length_mm  culmen_depth_mm  flipper_length_mm  body_mass_g     sex\n",
       "0              39.1             18.7              181.0       3750.0    MALE\n",
       "1              39.5             17.4              186.0       3800.0  FEMALE\n",
       "2              40.3             18.0              195.0       3250.0  FEMALE\n",
       "3               NaN              NaN                NaN          NaN     NaN\n",
       "4              36.7             19.3              193.0       3450.0  FEMALE"
      ]
     },
     "execution_count": 3,
     "metadata": {},
     "output_type": "execute_result"
    }
   ],
   "source": [
    "dataset.head()"
   ]
  },
  {
   "cell_type": "code",
   "execution_count": 4,
   "id": "099e55d8",
   "metadata": {
    "execution": {
     "iopub.execute_input": "2024-07-22T13:18:08.239810Z",
     "iopub.status.busy": "2024-07-22T13:18:08.239437Z",
     "iopub.status.idle": "2024-07-22T13:18:08.252844Z",
     "shell.execute_reply": "2024-07-22T13:18:08.251686Z"
    },
    "papermill": {
     "duration": 0.023915,
     "end_time": "2024-07-22T13:18:08.255385",
     "exception": false,
     "start_time": "2024-07-22T13:18:08.231470",
     "status": "completed"
    },
    "tags": []
   },
   "outputs": [],
   "source": [
    "dataset=dataset.drop('sex',axis=1).dropna()"
   ]
  },
  {
   "cell_type": "code",
   "execution_count": 5,
   "id": "8a03fc4e",
   "metadata": {
    "execution": {
     "iopub.execute_input": "2024-07-22T13:18:08.269712Z",
     "iopub.status.busy": "2024-07-22T13:18:08.269322Z",
     "iopub.status.idle": "2024-07-22T13:18:08.284081Z",
     "shell.execute_reply": "2024-07-22T13:18:08.282903Z"
    },
    "papermill": {
     "duration": 0.024746,
     "end_time": "2024-07-22T13:18:08.286452",
     "exception": false,
     "start_time": "2024-07-22T13:18:08.261706",
     "status": "completed"
    },
    "tags": []
   },
   "outputs": [
    {
     "data": {
      "text/html": [
       "<div>\n",
       "<style scoped>\n",
       "    .dataframe tbody tr th:only-of-type {\n",
       "        vertical-align: middle;\n",
       "    }\n",
       "\n",
       "    .dataframe tbody tr th {\n",
       "        vertical-align: top;\n",
       "    }\n",
       "\n",
       "    .dataframe thead th {\n",
       "        text-align: right;\n",
       "    }\n",
       "</style>\n",
       "<table border=\"1\" class=\"dataframe\">\n",
       "  <thead>\n",
       "    <tr style=\"text-align: right;\">\n",
       "      <th></th>\n",
       "      <th>culmen_length_mm</th>\n",
       "      <th>culmen_depth_mm</th>\n",
       "      <th>flipper_length_mm</th>\n",
       "      <th>body_mass_g</th>\n",
       "    </tr>\n",
       "  </thead>\n",
       "  <tbody>\n",
       "    <tr>\n",
       "      <th>0</th>\n",
       "      <td>39.1</td>\n",
       "      <td>18.7</td>\n",
       "      <td>181.0</td>\n",
       "      <td>3750.0</td>\n",
       "    </tr>\n",
       "    <tr>\n",
       "      <th>1</th>\n",
       "      <td>39.5</td>\n",
       "      <td>17.4</td>\n",
       "      <td>186.0</td>\n",
       "      <td>3800.0</td>\n",
       "    </tr>\n",
       "    <tr>\n",
       "      <th>2</th>\n",
       "      <td>40.3</td>\n",
       "      <td>18.0</td>\n",
       "      <td>195.0</td>\n",
       "      <td>3250.0</td>\n",
       "    </tr>\n",
       "    <tr>\n",
       "      <th>4</th>\n",
       "      <td>36.7</td>\n",
       "      <td>19.3</td>\n",
       "      <td>193.0</td>\n",
       "      <td>3450.0</td>\n",
       "    </tr>\n",
       "    <tr>\n",
       "      <th>5</th>\n",
       "      <td>39.3</td>\n",
       "      <td>20.6</td>\n",
       "      <td>190.0</td>\n",
       "      <td>3650.0</td>\n",
       "    </tr>\n",
       "  </tbody>\n",
       "</table>\n",
       "</div>"
      ],
      "text/plain": [
       "   culmen_length_mm  culmen_depth_mm  flipper_length_mm  body_mass_g\n",
       "0              39.1             18.7              181.0       3750.0\n",
       "1              39.5             17.4              186.0       3800.0\n",
       "2              40.3             18.0              195.0       3250.0\n",
       "4              36.7             19.3              193.0       3450.0\n",
       "5              39.3             20.6              190.0       3650.0"
      ]
     },
     "execution_count": 5,
     "metadata": {},
     "output_type": "execute_result"
    }
   ],
   "source": [
    "dataset.head()"
   ]
  },
  {
   "cell_type": "code",
   "execution_count": 6,
   "id": "6be50589",
   "metadata": {
    "execution": {
     "iopub.execute_input": "2024-07-22T13:18:08.302492Z",
     "iopub.status.busy": "2024-07-22T13:18:08.301421Z",
     "iopub.status.idle": "2024-07-22T13:18:08.323603Z",
     "shell.execute_reply": "2024-07-22T13:18:08.322314Z"
    },
    "papermill": {
     "duration": 0.032805,
     "end_time": "2024-07-22T13:18:08.326267",
     "exception": false,
     "start_time": "2024-07-22T13:18:08.293462",
     "status": "completed"
    },
    "tags": []
   },
   "outputs": [
    {
     "name": "stdout",
     "output_type": "stream",
     "text": [
      "<class 'pandas.core.frame.DataFrame'>\n",
      "Index: 342 entries, 0 to 343\n",
      "Data columns (total 4 columns):\n",
      " #   Column             Non-Null Count  Dtype  \n",
      "---  ------             --------------  -----  \n",
      " 0   culmen_length_mm   342 non-null    float64\n",
      " 1   culmen_depth_mm    342 non-null    float64\n",
      " 2   flipper_length_mm  342 non-null    float64\n",
      " 3   body_mass_g        342 non-null    float64\n",
      "dtypes: float64(4)\n",
      "memory usage: 13.4 KB\n"
     ]
    }
   ],
   "source": [
    "dataset.info()"
   ]
  },
  {
   "cell_type": "code",
   "execution_count": 7,
   "id": "afe74cb0",
   "metadata": {
    "execution": {
     "iopub.execute_input": "2024-07-22T13:18:08.341758Z",
     "iopub.status.busy": "2024-07-22T13:18:08.341369Z",
     "iopub.status.idle": "2024-07-22T13:18:09.601480Z",
     "shell.execute_reply": "2024-07-22T13:18:09.600374Z"
    },
    "papermill": {
     "duration": 1.270889,
     "end_time": "2024-07-22T13:18:09.604116",
     "exception": false,
     "start_time": "2024-07-22T13:18:08.333227",
     "status": "completed"
    },
    "tags": []
   },
   "outputs": [],
   "source": [
    "from sklearn.preprocessing import StandardScaler\n",
    "scaler = StandardScaler()\n",
    "columns_to_scale = dataset.columns\n",
    "dataset[columns_to_scale] = scaler.fit_transform(dataset[columns_to_scale])"
   ]
  },
  {
   "cell_type": "code",
   "execution_count": 8,
   "id": "1f850cb4",
   "metadata": {
    "execution": {
     "iopub.execute_input": "2024-07-22T13:18:09.619548Z",
     "iopub.status.busy": "2024-07-22T13:18:09.619133Z",
     "iopub.status.idle": "2024-07-22T13:18:09.632026Z",
     "shell.execute_reply": "2024-07-22T13:18:09.630951Z"
    },
    "papermill": {
     "duration": 0.023379,
     "end_time": "2024-07-22T13:18:09.634398",
     "exception": false,
     "start_time": "2024-07-22T13:18:09.611019",
     "status": "completed"
    },
    "tags": []
   },
   "outputs": [
    {
     "data": {
      "text/html": [
       "<div>\n",
       "<style scoped>\n",
       "    .dataframe tbody tr th:only-of-type {\n",
       "        vertical-align: middle;\n",
       "    }\n",
       "\n",
       "    .dataframe tbody tr th {\n",
       "        vertical-align: top;\n",
       "    }\n",
       "\n",
       "    .dataframe thead th {\n",
       "        text-align: right;\n",
       "    }\n",
       "</style>\n",
       "<table border=\"1\" class=\"dataframe\">\n",
       "  <thead>\n",
       "    <tr style=\"text-align: right;\">\n",
       "      <th></th>\n",
       "      <th>culmen_length_mm</th>\n",
       "      <th>culmen_depth_mm</th>\n",
       "      <th>flipper_length_mm</th>\n",
       "      <th>body_mass_g</th>\n",
       "    </tr>\n",
       "  </thead>\n",
       "  <tbody>\n",
       "    <tr>\n",
       "      <th>0</th>\n",
       "      <td>-0.884499</td>\n",
       "      <td>0.785449</td>\n",
       "      <td>-0.126893</td>\n",
       "      <td>-0.564142</td>\n",
       "    </tr>\n",
       "    <tr>\n",
       "      <th>1</th>\n",
       "      <td>-0.811126</td>\n",
       "      <td>0.126188</td>\n",
       "      <td>-0.107675</td>\n",
       "      <td>-0.501703</td>\n",
       "    </tr>\n",
       "    <tr>\n",
       "      <th>2</th>\n",
       "      <td>-0.664380</td>\n",
       "      <td>0.430462</td>\n",
       "      <td>-0.073083</td>\n",
       "      <td>-1.188532</td>\n",
       "    </tr>\n",
       "    <tr>\n",
       "      <th>4</th>\n",
       "      <td>-1.324737</td>\n",
       "      <td>1.089724</td>\n",
       "      <td>-0.080771</td>\n",
       "      <td>-0.938776</td>\n",
       "    </tr>\n",
       "    <tr>\n",
       "      <th>5</th>\n",
       "      <td>-0.847812</td>\n",
       "      <td>1.748985</td>\n",
       "      <td>-0.092301</td>\n",
       "      <td>-0.689020</td>\n",
       "    </tr>\n",
       "  </tbody>\n",
       "</table>\n",
       "</div>"
      ],
      "text/plain": [
       "   culmen_length_mm  culmen_depth_mm  flipper_length_mm  body_mass_g\n",
       "0         -0.884499         0.785449          -0.126893    -0.564142\n",
       "1         -0.811126         0.126188          -0.107675    -0.501703\n",
       "2         -0.664380         0.430462          -0.073083    -1.188532\n",
       "4         -1.324737         1.089724          -0.080771    -0.938776\n",
       "5         -0.847812         1.748985          -0.092301    -0.689020"
      ]
     },
     "execution_count": 8,
     "metadata": {},
     "output_type": "execute_result"
    }
   ],
   "source": [
    "dataset.head()"
   ]
  },
  {
   "cell_type": "code",
   "execution_count": 9,
   "id": "e075d871",
   "metadata": {
    "execution": {
     "iopub.execute_input": "2024-07-22T13:18:09.650491Z",
     "iopub.status.busy": "2024-07-22T13:18:09.650045Z",
     "iopub.status.idle": "2024-07-22T13:18:10.137769Z",
     "shell.execute_reply": "2024-07-22T13:18:10.136613Z"
    },
    "papermill": {
     "duration": 0.499105,
     "end_time": "2024-07-22T13:18:10.140557",
     "exception": false,
     "start_time": "2024-07-22T13:18:09.641452",
     "status": "completed"
    },
    "tags": []
   },
   "outputs": [],
   "source": [
    "from sklearn.cluster import KMeans"
   ]
  },
  {
   "cell_type": "code",
   "execution_count": 10,
   "id": "a22cf898",
   "metadata": {
    "execution": {
     "iopub.execute_input": "2024-07-22T13:18:10.156374Z",
     "iopub.status.busy": "2024-07-22T13:18:10.155956Z",
     "iopub.status.idle": "2024-07-22T13:18:10.161037Z",
     "shell.execute_reply": "2024-07-22T13:18:10.159921Z"
    },
    "papermill": {
     "duration": 0.0159,
     "end_time": "2024-07-22T13:18:10.163534",
     "exception": false,
     "start_time": "2024-07-22T13:18:10.147634",
     "status": "completed"
    },
    "tags": []
   },
   "outputs": [],
   "source": [
    "from matplotlib import pyplot as plt"
   ]
  },
  {
   "cell_type": "code",
   "execution_count": 11,
   "id": "8904ab3b",
   "metadata": {
    "execution": {
     "iopub.execute_input": "2024-07-22T13:18:10.179352Z",
     "iopub.status.busy": "2024-07-22T13:18:10.178940Z",
     "iopub.status.idle": "2024-07-22T13:18:10.613459Z",
     "shell.execute_reply": "2024-07-22T13:18:10.612393Z"
    },
    "papermill": {
     "duration": 0.445529,
     "end_time": "2024-07-22T13:18:10.616088",
     "exception": false,
     "start_time": "2024-07-22T13:18:10.170559",
     "status": "completed"
    },
    "tags": []
   },
   "outputs": [
    {
     "data": {
      "image/png": "[encoded data removed]",
      "text/plain": [
       "<Figure size 640x480 with 1 Axes>"
      ]
     },
     "metadata": {},
     "output_type": "display_data"
    }
   ],
   "source": [
    "wcss = [] #within-cluster-sum-of-squares.\n",
    "for i in range(1,10):\n",
    "    km_cluster_test = KMeans(n_clusters=i,n_init='auto',max_iter=1000,random_state=42,copy_x=True,\n",
    "                   algorithm='lloyd')\n",
    "    wcss.append([i, km_cluster_test.fit(dataset).inertia_])\n",
    "wcss = np.array(wcss).reshape(-1,2)\n",
    "\n",
    "plt.plot(wcss[:,0], wcss[:,1], marker='o')\n",
    "plt.xlabel(\"K\")\n",
    "plt.ylabel(\"WCSS\")\n",
    "plt.title(\"The Elbow Method\")\n",
    "plt.show()"
   ]
  },
  {
   "cell_type": "code",
   "execution_count": 12,
   "id": "6bf0fac6",
   "metadata": {
    "execution": {
     "iopub.execute_input": "2024-07-22T13:18:10.633461Z",
     "iopub.status.busy": "2024-07-22T13:18:10.632267Z",
     "iopub.status.idle": "2024-07-22T13:18:10.638074Z",
     "shell.execute_reply": "2024-07-22T13:18:10.637084Z"
    },
    "papermill": {
     "duration": 0.017036,
     "end_time": "2024-07-22T13:18:10.640625",
     "exception": false,
     "start_time": "2024-07-22T13:18:10.623589",
     "status": "completed"
    },
    "tags": []
   },
   "outputs": [],
   "source": [
    "km_cluster = KMeans(n_clusters=4,n_init='auto',max_iter=1000,random_state=42,copy_x=True,\n",
    "                   algorithm='lloyd')"
   ]
  },
  {
   "cell_type": "code",
   "execution_count": 13,
   "id": "8344ab20",
   "metadata": {
    "execution": {
     "iopub.execute_input": "2024-07-22T13:18:10.658171Z",
     "iopub.status.busy": "2024-07-22T13:18:10.657164Z",
     "iopub.status.idle": "2024-07-22T13:18:10.670262Z",
     "shell.execute_reply": "2024-07-22T13:18:10.669333Z"
    },
    "papermill": {
     "duration": 0.024609,
     "end_time": "2024-07-22T13:18:10.672874",
     "exception": false,
     "start_time": "2024-07-22T13:18:10.648265",
     "status": "completed"
    },
    "tags": []
   },
   "outputs": [],
   "source": [
    "species = km_cluster.fit_predict(dataset)"
   ]
  },
  {
   "cell_type": "code",
   "execution_count": 14,
   "id": "e258945d",
   "metadata": {
    "execution": {
     "iopub.execute_input": "2024-07-22T13:18:10.691691Z",
     "iopub.status.busy": "2024-07-22T13:18:10.690883Z",
     "iopub.status.idle": "2024-07-22T13:18:10.695630Z",
     "shell.execute_reply": "2024-07-22T13:18:10.694655Z"
    },
    "papermill": {
     "duration": 0.016257,
     "end_time": "2024-07-22T13:18:10.697962",
     "exception": false,
     "start_time": "2024-07-22T13:18:10.681705",
     "status": "completed"
    },
    "tags": []
   },
   "outputs": [],
   "source": [
    "from sklearn.decomposition import PCA"
   ]
  },
  {
   "cell_type": "code",
   "execution_count": 15,
   "id": "0788584c",
   "metadata": {
    "execution": {
     "iopub.execute_input": "2024-07-22T13:18:10.714458Z",
     "iopub.status.busy": "2024-07-22T13:18:10.714046Z",
     "iopub.status.idle": "2024-07-22T13:18:10.737705Z",
     "shell.execute_reply": "2024-07-22T13:18:10.736611Z"
    },
    "papermill": {
     "duration": 0.034859,
     "end_time": "2024-07-22T13:18:10.740247",
     "exception": false,
     "start_time": "2024-07-22T13:18:10.705388",
     "status": "completed"
    },
    "tags": []
   },
   "outputs": [],
   "source": [
    "pca_components = PCA(n_components=2,copy=True).fit_transform(dataset)"
   ]
  },
  {
   "cell_type": "code",
   "execution_count": 16,
   "id": "f7130ca4",
   "metadata": {
    "execution": {
     "iopub.execute_input": "2024-07-22T13:18:10.757050Z",
     "iopub.status.busy": "2024-07-22T13:18:10.756673Z",
     "iopub.status.idle": "2024-07-22T13:18:11.064905Z",
     "shell.execute_reply": "2024-07-22T13:18:11.063684Z"
    },
    "papermill": {
     "duration": 0.319888,
     "end_time": "2024-07-22T13:18:11.067749",
     "exception": false,
     "start_time": "2024-07-22T13:18:10.747861",
     "status": "completed"
    },
    "tags": []
   },
   "outputs": [
    {
     "data": {
      "image/png": "[encoded data removed]",
      "text/plain": [
       "<Figure size 640x480 with 1 Axes>"
      ]
     },
     "metadata": {},
     "output_type": "display_data"
    }
   ],
   "source": [
    "plt.scatter(pca_components[:,0], pca_components[:,1], c=species, cmap='Dark2');\n",
    "plt.xlabel('PCA Component 1')\n",
    "plt.ylabel('PCA Component 2')\n",
    "plt.title('Clustering of Species of Penguins')\n",
    "plt.show()"
   ]
  }
 ],
 "metadata": {
  "kaggle": {
   "accelerator": "none",
   "dataSources": [
    {
     "datasetId": 3937012,
     "sourceId": 6848552,
     "sourceType": "datasetVersion"
    }
   ],
   "dockerImageVersionId": 30746,
   "isGpuEnabled": false,
   "isInternetEnabled": false,
   "language": "python",
   "sourceType": "notebook"
  },
  "kernelspec": {
   "display_name": "Python 3",
   "language": "python",
   "name": "python3"
  },
  "language_info": {
   "codemirror_mode": {
    "name": "ipython",
    "version": 3
   },
   "file_extension": ".py",
   "mimetype": "text/x-python",
   "name": "python",
   "nbconvert_exporter": "python",
   "pygments_lexer": "ipython3",
   "version": "3.10.13"
  },
  "papermill": {
   "default_parameters": {},
   "duration": 7.564492,
   "end_time": "2024-07-22T13:18:11.696442",
   "environment_variables": {},
   "exception": null,
   "input_path": "__notebook__.ipynb",
   "output_path": "__notebook__.ipynb",
   "parameters": {},
   "start_time": "2024-07-22T13:18:04.131950",
   "version": "2.5.0"
  }
 },
 "nbformat": 4,
 "nbformat_minor": 5
}
