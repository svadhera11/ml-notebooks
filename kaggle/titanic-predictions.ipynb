{
 "cells": [
  {
   "cell_type": "markdown",
   "id": "06d55bb6",
   "metadata": {
    "papermill": {
     "duration": 0.017666,
     "end_time": "2024-07-28T12:04:12.608430",
     "exception": false,
     "start_time": "2024-07-28T12:04:12.590764",
     "status": "completed"
    },
    "tags": []
   },
   "source": [
    "# Logistic Regression: Titanic Problem\n",
    "\n",
    "\n",
    "- This is a Classification Problem where we have to predict if a person Survived the Titanic Shipwreck or not.\n",
    "- We are given a dataset with labels attached to it (0 - did not survive, 1 - survived, in the `Survived` column)\n",
    "- First of all, we split the dataset into train/validation/test. This is an essential step in any machine learning problem.\n",
    "- We keep the validation and test sets aside, only fitting them to preprocessing transformations. \n",
    "- The transformations we use are (a) StandardScaler() for `Age` and `Fare`, since they are numeric columns, and (b) OneHotEncoder for `Sex` and `Embarked`, since they are categorical columns. The rest of the columns are already in a small range (0-10) so it is not necessary to standardize them.\n",
    "- We look at histograms of survivors/non-survivors amongst different columns, and use the intuition developed there to consider three new categorical features.\n",
    "- Next, in order to fit the best possible model, we consider a number of possible hyperparameters, and, fitting a Logistic Regression model to each of them, compute the training and validation loss. The set(s) of hyperparameters that have the least validation loss are the \"optimal\" hyperparameters for our case. \n",
    "- The model with the best hyperparameters (lowest validation loss) is then used to generate predictions for the test set, and the loss and accuracy in the test set are computed. \n",
    "- Finally, we can predict the labels for the dataset whose labels are unknown to us (the `submission_dataset`) and submit them to the Kaggle competition. \n",
    "\n",
    "We get a score (accuracy) of $0.77511$"
   ]
  },
  {
   "cell_type": "code",
   "execution_count": 1,
   "id": "e37ee502",
   "metadata": {
    "_cell_guid": "b1076dfc-b9ad-4769-8c92-a6c4dae69d19",
    "_uuid": "8f2839f25d086af736a60e9eeb907d3b93b6e0e5",
    "execution": {
     "iopub.execute_input": "2024-07-28T12:04:12.643825Z",
     "iopub.status.busy": "2024-07-28T12:04:12.643340Z",
     "iopub.status.idle": "2024-07-28T12:04:13.536493Z",
     "shell.execute_reply": "2024-07-28T12:04:13.535194Z"
    },
    "papermill": {
     "duration": 0.914908,
     "end_time": "2024-07-28T12:04:13.540134",
     "exception": false,
     "start_time": "2024-07-28T12:04:12.625226",
     "status": "completed"
    },
    "tags": []
   },
   "outputs": [
    {
     "name": "stdout",
     "output_type": "stream",
     "text": [
      "/kaggle/input/titanic/train.csv\n",
      "/kaggle/input/titanic/test.csv\n",
      "/kaggle/input/titanic/gender_submission.csv\n"
     ]
    }
   ],
   "source": [
    "# This Python 3 environment comes with many helpful analytics libraries installed\n",
    "# It is defined by the kaggle/python Docker image: https://github.com/kaggle/docker-python\n",
    "# For example, here's several helpful packages to load\n",
    "\n",
    "import numpy as np # linear algebra\n",
    "import pandas as pd # data processing, CSV file I/O (e.g. pd.read_csv)\n",
    "\n",
    "# Input data files are available in the read-only \"../input/\" directory\n",
    "# For example, running this (by clicking run or pressing Shift+Enter) will list all files under the input directory\n",
    "\n",
    "import os\n",
    "for dirname, _, filenames in os.walk('/kaggle/input'):\n",
    "    for filename in filenames:\n",
    "        print(os.path.join(dirname, filename))\n",
    "\n",
    "# You can write up to 20GB to the current directory (/kaggle/working/) that gets preserved as output when you create a version using \"Save & Run All\" \n",
    "# You can also write temporary files to /kaggle/temp/, but they won't be saved outside of the current session"
   ]
  },
  {
   "cell_type": "code",
   "execution_count": 2,
   "id": "aab2d1c3",
   "metadata": {
    "execution": {
     "iopub.execute_input": "2024-07-28T12:04:13.575707Z",
     "iopub.status.busy": "2024-07-28T12:04:13.575153Z",
     "iopub.status.idle": "2024-07-28T12:04:13.609623Z",
     "shell.execute_reply": "2024-07-28T12:04:13.608492Z"
    },
    "papermill": {
     "duration": 0.055438,
     "end_time": "2024-07-28T12:04:13.612470",
     "exception": false,
     "start_time": "2024-07-28T12:04:13.557032",
     "status": "completed"
    },
    "tags": []
   },
   "outputs": [],
   "source": [
    "dataset = pd.read_csv('/kaggle/input/titanic/train.csv')\n",
    "submission_dataset = pd.read_csv('/kaggle/input/titanic/test.csv')"
   ]
  },
  {
   "cell_type": "code",
   "execution_count": 3,
   "id": "2348ef43",
   "metadata": {
    "execution": {
     "iopub.execute_input": "2024-07-28T12:04:13.649092Z",
     "iopub.status.busy": "2024-07-28T12:04:13.648689Z",
     "iopub.status.idle": "2024-07-28T12:04:13.664784Z",
     "shell.execute_reply": "2024-07-28T12:04:13.663599Z"
    },
    "papermill": {
     "duration": 0.038027,
     "end_time": "2024-07-28T12:04:13.667569",
     "exception": false,
     "start_time": "2024-07-28T12:04:13.629542",
     "status": "completed"
    },
    "tags": []
   },
   "outputs": [],
   "source": [
    "dataset = dataset.set_index('PassengerId')\n",
    "submission_dataset = submission_dataset.set_index('PassengerId')"
   ]
  },
  {
   "cell_type": "code",
   "execution_count": 4,
   "id": "ac4782e3",
   "metadata": {
    "execution": {
     "iopub.execute_input": "2024-07-28T12:04:13.704100Z",
     "iopub.status.busy": "2024-07-28T12:04:13.703688Z",
     "iopub.status.idle": "2024-07-28T12:04:13.728324Z",
     "shell.execute_reply": "2024-07-28T12:04:13.727128Z"
    },
    "papermill": {
     "duration": 0.045517,
     "end_time": "2024-07-28T12:04:13.731081",
     "exception": false,
     "start_time": "2024-07-28T12:04:13.685564",
     "status": "completed"
    },
    "tags": []
   },
   "outputs": [
    {
     "data": {
      "text/html": [
       "<div>\n",
       "<style scoped>\n",
       "    .dataframe tbody tr th:only-of-type {\n",
       "        vertical-align: middle;\n",
       "    }\n",
       "\n",
       "    .dataframe tbody tr th {\n",
       "        vertical-align: top;\n",
       "    }\n",
       "\n",
       "    .dataframe thead th {\n",
       "        text-align: right;\n",
       "    }\n",
       "</style>\n",
       "<table border=\"1\" class=\"dataframe\">\n",
       "  <thead>\n",
       "    <tr style=\"text-align: right;\">\n",
       "      <th></th>\n",
       "      <th>Survived</th>\n",
       "      <th>Pclass</th>\n",
       "      <th>Name</th>\n",
       "      <th>Sex</th>\n",
       "      <th>Age</th>\n",
       "      <th>SibSp</th>\n",
       "      <th>Parch</th>\n",
       "      <th>Ticket</th>\n",
       "      <th>Fare</th>\n",
       "      <th>Cabin</th>\n",
       "      <th>Embarked</th>\n",
       "    </tr>\n",
       "    <tr>\n",
       "      <th>PassengerId</th>\n",
       "      <th></th>\n",
       "      <th></th>\n",
       "      <th></th>\n",
       "      <th></th>\n",
       "      <th></th>\n",
       "      <th></th>\n",
       "      <th></th>\n",
       "      <th></th>\n",
       "      <th></th>\n",
       "      <th></th>\n",
       "      <th></th>\n",
       "    </tr>\n",
       "  </thead>\n",
       "  <tbody>\n",
       "    <tr>\n",
       "      <th>1</th>\n",
       "      <td>0</td>\n",
       "      <td>3</td>\n",
       "      <td>Braund, Mr. Owen Harris</td>\n",
       "      <td>male</td>\n",
       "      <td>22.0</td>\n",
       "      <td>1</td>\n",
       "      <td>0</td>\n",
       "      <td>A/5 21171</td>\n",
       "      <td>7.2500</td>\n",
       "      <td>NaN</td>\n",
       "      <td>S</td>\n",
       "    </tr>\n",
       "    <tr>\n",
       "      <th>2</th>\n",
       "      <td>1</td>\n",
       "      <td>1</td>\n",
       "      <td>Cumings, Mrs. John Bradley (Florence Briggs Th...</td>\n",
       "      <td>female</td>\n",
       "      <td>38.0</td>\n",
       "      <td>1</td>\n",
       "      <td>0</td>\n",
       "      <td>PC 17599</td>\n",
       "      <td>71.2833</td>\n",
       "      <td>C85</td>\n",
       "      <td>C</td>\n",
       "    </tr>\n",
       "    <tr>\n",
       "      <th>3</th>\n",
       "      <td>1</td>\n",
       "      <td>3</td>\n",
       "      <td>Heikkinen, Miss. Laina</td>\n",
       "      <td>female</td>\n",
       "      <td>26.0</td>\n",
       "      <td>0</td>\n",
       "      <td>0</td>\n",
       "      <td>STON/O2. 3101282</td>\n",
       "      <td>7.9250</td>\n",
       "      <td>NaN</td>\n",
       "      <td>S</td>\n",
       "    </tr>\n",
       "    <tr>\n",
       "      <th>4</th>\n",
       "      <td>1</td>\n",
       "      <td>1</td>\n",
       "      <td>Futrelle, Mrs. Jacques Heath (Lily May Peel)</td>\n",
       "      <td>female</td>\n",
       "      <td>35.0</td>\n",
       "      <td>1</td>\n",
       "      <td>0</td>\n",
       "      <td>113803</td>\n",
       "      <td>53.1000</td>\n",
       "      <td>C123</td>\n",
       "      <td>S</td>\n",
       "    </tr>\n",
       "    <tr>\n",
       "      <th>5</th>\n",
       "      <td>0</td>\n",
       "      <td>3</td>\n",
       "      <td>Allen, Mr. William Henry</td>\n",
       "      <td>male</td>\n",
       "      <td>35.0</td>\n",
       "      <td>0</td>\n",
       "      <td>0</td>\n",
       "      <td>373450</td>\n",
       "      <td>8.0500</td>\n",
       "      <td>NaN</td>\n",
       "      <td>S</td>\n",
       "    </tr>\n",
       "  </tbody>\n",
       "</table>\n",
       "</div>"
      ],
      "text/plain": [
       "             Survived  Pclass  \\\n",
       "PassengerId                     \n",
       "1                   0       3   \n",
       "2                   1       1   \n",
       "3                   1       3   \n",
       "4                   1       1   \n",
       "5                   0       3   \n",
       "\n",
       "                                                          Name     Sex   Age  \\\n",
       "PassengerId                                                                    \n",
       "1                                      Braund, Mr. Owen Harris    male  22.0   \n",
       "2            Cumings, Mrs. John Bradley (Florence Briggs Th...  female  38.0   \n",
       "3                                       Heikkinen, Miss. Laina  female  26.0   \n",
       "4                 Futrelle, Mrs. Jacques Heath (Lily May Peel)  female  35.0   \n",
       "5                                     Allen, Mr. William Henry    male  35.0   \n",
       "\n",
       "             SibSp  Parch            Ticket     Fare Cabin Embarked  \n",
       "PassengerId                                                          \n",
       "1                1      0         A/5 21171   7.2500   NaN        S  \n",
       "2                1      0          PC 17599  71.2833   C85        C  \n",
       "3                0      0  STON/O2. 3101282   7.9250   NaN        S  \n",
       "4                1      0            113803  53.1000  C123        S  \n",
       "5                0      0            373450   8.0500   NaN        S  "
      ]
     },
     "execution_count": 4,
     "metadata": {},
     "output_type": "execute_result"
    }
   ],
   "source": [
    "dataset.head()"
   ]
  },
  {
   "cell_type": "code",
   "execution_count": 5,
   "id": "223e0053",
   "metadata": {
    "execution": {
     "iopub.execute_input": "2024-07-28T12:04:13.767779Z",
     "iopub.status.busy": "2024-07-28T12:04:13.767382Z",
     "iopub.status.idle": "2024-07-28T12:04:13.774637Z",
     "shell.execute_reply": "2024-07-28T12:04:13.773515Z"
    },
    "papermill": {
     "duration": 0.028343,
     "end_time": "2024-07-28T12:04:13.777144",
     "exception": false,
     "start_time": "2024-07-28T12:04:13.748801",
     "status": "completed"
    },
    "tags": []
   },
   "outputs": [
    {
     "data": {
      "text/plain": [
       "(891, 11)"
      ]
     },
     "execution_count": 5,
     "metadata": {},
     "output_type": "execute_result"
    }
   ],
   "source": [
    "dataset.shape"
   ]
  },
  {
   "cell_type": "code",
   "execution_count": 6,
   "id": "bce83001",
   "metadata": {
    "execution": {
     "iopub.execute_input": "2024-07-28T12:04:13.813459Z",
     "iopub.status.busy": "2024-07-28T12:04:13.813027Z",
     "iopub.status.idle": "2024-07-28T12:04:13.836053Z",
     "shell.execute_reply": "2024-07-28T12:04:13.834450Z"
    },
    "papermill": {
     "duration": 0.044662,
     "end_time": "2024-07-28T12:04:13.839008",
     "exception": false,
     "start_time": "2024-07-28T12:04:13.794346",
     "status": "completed"
    },
    "tags": []
   },
   "outputs": [
    {
     "name": "stdout",
     "output_type": "stream",
     "text": [
      "<class 'pandas.core.frame.DataFrame'>\n",
      "Index: 891 entries, 1 to 891\n",
      "Data columns (total 11 columns):\n",
      " #   Column    Non-Null Count  Dtype  \n",
      "---  ------    --------------  -----  \n",
      " 0   Survived  891 non-null    int64  \n",
      " 1   Pclass    891 non-null    int64  \n",
      " 2   Name      891 non-null    object \n",
      " 3   Sex       891 non-null    object \n",
      " 4   Age       714 non-null    float64\n",
      " 5   SibSp     891 non-null    int64  \n",
      " 6   Parch     891 non-null    int64  \n",
      " 7   Ticket    891 non-null    object \n",
      " 8   Fare      891 non-null    float64\n",
      " 9   Cabin     204 non-null    object \n",
      " 10  Embarked  889 non-null    object \n",
      "dtypes: float64(2), int64(4), object(5)\n",
      "memory usage: 83.5+ KB\n"
     ]
    }
   ],
   "source": [
    "dataset.info()"
   ]
  },
  {
   "cell_type": "markdown",
   "id": "4a85ade6",
   "metadata": {
    "papermill": {
     "duration": 0.017501,
     "end_time": "2024-07-28T12:04:13.874204",
     "exception": false,
     "start_time": "2024-07-28T12:04:13.856703",
     "status": "completed"
    },
    "tags": []
   },
   "source": [
    "Note that the 'Cabin' data is extremely incomplete, and it is thus unlkely to have much predictive power. We will drop this column. Next, we are left with 'Age' and 'Embarked' columns with some missing values. We may try to deal with this by:\n",
    "- droppung the rows where 'embarked' is missing, since they correspond to a miniscule ~0.2% of the data\n",
    "- for age, we can use a KNN imputer that estimates the missing age based on the average of the ages of the people \"most similar\" in terms of features. We use a weighted kNN, where the weight of the closest point is higher and decreases as the point moves further away. This is done once the dataset has been split into train/validation/test since we do not want to fit the imputer to data that it should not be aware of (validation/test).\n",
    "\n",
    "Note: We do the train_test_split with stratify=y, so that the three datasets (train/val/test) have roughly the same proportions of class labels.\n",
    "\n",
    "Before we can run the kNN imputer, we need to clean up our data.\n",
    "- We do not need the people's names. This column can be dropped.\n",
    "- The 'Sex' column can be one-hot encoded with 0 or 1 (is Male or not)\n",
    "- The 'Embarked' column also needs to be one-hot encoded.\n",
    "- The ticket number is also dropped. It is a string quantity and seems unlikely that it has a direct effect on survivability."
   ]
  },
  {
   "cell_type": "code",
   "execution_count": 7,
   "id": "2762d412",
   "metadata": {
    "execution": {
     "iopub.execute_input": "2024-07-28T12:04:13.910521Z",
     "iopub.status.busy": "2024-07-28T12:04:13.910090Z",
     "iopub.status.idle": "2024-07-28T12:04:13.923857Z",
     "shell.execute_reply": "2024-07-28T12:04:13.922710Z"
    },
    "papermill": {
     "duration": 0.035158,
     "end_time": "2024-07-28T12:04:13.926691",
     "exception": false,
     "start_time": "2024-07-28T12:04:13.891533",
     "status": "completed"
    },
    "tags": []
   },
   "outputs": [],
   "source": [
    "dataset = dataset.drop(['Cabin', 'Name', 'Ticket'], axis=1)\n",
    "dataset = dataset.dropna(subset=['Embarked'])"
   ]
  },
  {
   "cell_type": "code",
   "execution_count": 8,
   "id": "020dc1dd",
   "metadata": {
    "execution": {
     "iopub.execute_input": "2024-07-28T12:04:13.965329Z",
     "iopub.status.busy": "2024-07-28T12:04:13.964455Z",
     "iopub.status.idle": "2024-07-28T12:04:13.971599Z",
     "shell.execute_reply": "2024-07-28T12:04:13.970086Z"
    },
    "papermill": {
     "duration": 0.028729,
     "end_time": "2024-07-28T12:04:13.974211",
     "exception": false,
     "start_time": "2024-07-28T12:04:13.945482",
     "status": "completed"
    },
    "tags": []
   },
   "outputs": [],
   "source": [
    "submission_dataset = submission_dataset.drop(['Cabin', 'Name', 'Ticket'], axis=1)\n",
    "#submission_dataset = submission_dataset.dropna(subset=['Embarked'])"
   ]
  },
  {
   "cell_type": "code",
   "execution_count": 9,
   "id": "5710710b",
   "metadata": {
    "execution": {
     "iopub.execute_input": "2024-07-28T12:04:14.010192Z",
     "iopub.status.busy": "2024-07-28T12:04:14.009818Z",
     "iopub.status.idle": "2024-07-28T12:04:15.219158Z",
     "shell.execute_reply": "2024-07-28T12:04:15.217987Z"
    },
    "papermill": {
     "duration": 1.230673,
     "end_time": "2024-07-28T12:04:15.221974",
     "exception": false,
     "start_time": "2024-07-28T12:04:13.991301",
     "status": "completed"
    },
    "tags": []
   },
   "outputs": [],
   "source": [
    "from sklearn.preprocessing import OneHotEncoder\n",
    "encoder = OneHotEncoder(drop='first')\n",
    "em_encoder = OneHotEncoder(drop='first')"
   ]
  },
  {
   "cell_type": "code",
   "execution_count": 10,
   "id": "b1d3ec4a",
   "metadata": {
    "execution": {
     "iopub.execute_input": "2024-07-28T12:04:15.258289Z",
     "iopub.status.busy": "2024-07-28T12:04:15.257859Z",
     "iopub.status.idle": "2024-07-28T12:04:15.512776Z",
     "shell.execute_reply": "2024-07-28T12:04:15.511499Z"
    },
    "papermill": {
     "duration": 0.276621,
     "end_time": "2024-07-28T12:04:15.515946",
     "exception": false,
     "start_time": "2024-07-28T12:04:15.239325",
     "status": "completed"
    },
    "tags": []
   },
   "outputs": [],
   "source": [
    "from sklearn.impute import KNNImputer\n",
    "knn_imputer = KNNImputer(weights = 'distance')"
   ]
  },
  {
   "cell_type": "code",
   "execution_count": 11,
   "id": "6ed17cd5",
   "metadata": {
    "execution": {
     "iopub.execute_input": "2024-07-28T12:04:15.552935Z",
     "iopub.status.busy": "2024-07-28T12:04:15.552533Z",
     "iopub.status.idle": "2024-07-28T12:04:15.573538Z",
     "shell.execute_reply": "2024-07-28T12:04:15.572049Z"
    },
    "papermill": {
     "duration": 0.042572,
     "end_time": "2024-07-28T12:04:15.576104",
     "exception": false,
     "start_time": "2024-07-28T12:04:15.533532",
     "status": "completed"
    },
    "tags": []
   },
   "outputs": [
    {
     "name": "stdout",
     "output_type": "stream",
     "text": [
      "The shape of the training data is: X_train=(499, 7), y_train = (499,)\n",
      "The shape of the validation data is: X_val=(167, 7), y_val = (167,)\n",
      "The shape of the testing data is: X_test = (223, 7), y_test = (223,)\n"
     ]
    }
   ],
   "source": [
    "from sklearn.model_selection import train_test_split\n",
    "X, X_test, y, y_test = train_test_split(dataset.drop('Survived', axis=1),\n",
    "                                                    dataset['Survived'],\n",
    "                                                    test_size = 0.25,\n",
    "                                                    random_state = 42,\n",
    "                                                    stratify=dataset['Survived'])\n",
    "\n",
    "X_train, X_val, y_train, y_val = train_test_split(X,y,test_size = 0.25,\n",
    "                                                    random_state = 42,\n",
    "                                                    stratify=y)\n",
    "\n",
    "print(f\"The shape of the training data is: X_train={X_train.shape}, y_train = {y_train.shape}\")\n",
    "print(f\"The shape of the validation data is: X_val={X_val.shape}, y_val = {y_val.shape}\")\n",
    "print(f\"The shape of the testing data is: X_test = {X_test.shape}, y_test = {y_test.shape}\")"
   ]
  },
  {
   "cell_type": "markdown",
   "id": "91553475",
   "metadata": {
    "papermill": {
     "duration": 0.016767,
     "end_time": "2024-07-28T12:04:15.610163",
     "exception": false,
     "start_time": "2024-07-28T12:04:15.593396",
     "status": "completed"
    },
    "tags": []
   },
   "source": [
    "\n"
   ]
  },
  {
   "cell_type": "code",
   "execution_count": 12,
   "id": "a20f584a",
   "metadata": {
    "execution": {
     "iopub.execute_input": "2024-07-28T12:04:15.646621Z",
     "iopub.status.busy": "2024-07-28T12:04:15.646166Z",
     "iopub.status.idle": "2024-07-28T12:04:15.743540Z",
     "shell.execute_reply": "2024-07-28T12:04:15.742212Z"
    },
    "papermill": {
     "duration": 0.119098,
     "end_time": "2024-07-28T12:04:15.746582",
     "exception": false,
     "start_time": "2024-07-28T12:04:15.627484",
     "status": "completed"
    },
    "tags": []
   },
   "outputs": [],
   "source": [
    "X_train['Sex'] = encoder.fit_transform(np.array(X_train['Sex']).reshape(-1,1)).toarray()\n",
    "X_val['Sex'] = encoder.transform(np.array(X_val['Sex']).reshape(-1,1)).toarray()\n",
    "X_test['Sex'] = encoder.transform(np.array(X_test['Sex']).reshape(-1,1)).toarray()"
   ]
  },
  {
   "cell_type": "code",
   "execution_count": 13,
   "id": "e9eeb43c",
   "metadata": {
    "execution": {
     "iopub.execute_input": "2024-07-28T12:04:15.784250Z",
     "iopub.status.busy": "2024-07-28T12:04:15.783872Z",
     "iopub.status.idle": "2024-07-28T12:04:15.791383Z",
     "shell.execute_reply": "2024-07-28T12:04:15.790138Z"
    },
    "papermill": {
     "duration": 0.029367,
     "end_time": "2024-07-28T12:04:15.793912",
     "exception": false,
     "start_time": "2024-07-28T12:04:15.764545",
     "status": "completed"
    },
    "tags": []
   },
   "outputs": [],
   "source": [
    "submission_dataset['Sex'] = encoder.transform(np.array(submission_dataset['Sex']).reshape(-1,1)).toarray()"
   ]
  },
  {
   "cell_type": "code",
   "execution_count": 14,
   "id": "150dfac2",
   "metadata": {
    "execution": {
     "iopub.execute_input": "2024-07-28T12:04:15.831105Z",
     "iopub.status.busy": "2024-07-28T12:04:15.830724Z",
     "iopub.status.idle": "2024-07-28T12:04:15.848056Z",
     "shell.execute_reply": "2024-07-28T12:04:15.846818Z"
    },
    "papermill": {
     "duration": 0.039247,
     "end_time": "2024-07-28T12:04:15.850661",
     "exception": false,
     "start_time": "2024-07-28T12:04:15.811414",
     "status": "completed"
    },
    "tags": []
   },
   "outputs": [],
   "source": [
    "X_train[['Embarked_1', 'Embarked_2']]=em_encoder.fit_transform(np.array(X_train['Embarked']).reshape(-1,1)).toarray()\n",
    "X_train = X_train.drop('Embarked',axis=1)\n",
    "\n",
    "X_test[['Embarked_1', 'Embarked_2']]=em_encoder.transform(np.array(X_test['Embarked']).reshape(-1,1)).toarray()\n",
    "X_test = X_test.drop('Embarked',axis=1)\n",
    "\n",
    "X_val[['Embarked_1', 'Embarked_2']]=em_encoder.transform(np.array(X_val['Embarked']).reshape(-1,1)).toarray()\n",
    "X_val = X_val.drop('Embarked',axis=1)"
   ]
  },
  {
   "cell_type": "code",
   "execution_count": 15,
   "id": "3e1b0897",
   "metadata": {
    "execution": {
     "iopub.execute_input": "2024-07-28T12:04:15.888864Z",
     "iopub.status.busy": "2024-07-28T12:04:15.888474Z",
     "iopub.status.idle": "2024-07-28T12:04:15.897742Z",
     "shell.execute_reply": "2024-07-28T12:04:15.896552Z"
    },
    "papermill": {
     "duration": 0.031039,
     "end_time": "2024-07-28T12:04:15.900263",
     "exception": false,
     "start_time": "2024-07-28T12:04:15.869224",
     "status": "completed"
    },
    "tags": []
   },
   "outputs": [],
   "source": [
    "submission_dataset[['Embarked_1', 'Embarked_2']]=em_encoder.transform(np.array(submission_dataset['Embarked']).reshape(-1,1)).toarray()\n",
    "submission_dataset = submission_dataset.drop('Embarked',axis=1)"
   ]
  },
  {
   "cell_type": "code",
   "execution_count": 16,
   "id": "b87136d1",
   "metadata": {
    "execution": {
     "iopub.execute_input": "2024-07-28T12:04:15.937132Z",
     "iopub.status.busy": "2024-07-28T12:04:15.936734Z",
     "iopub.status.idle": "2024-07-28T12:04:15.944523Z",
     "shell.execute_reply": "2024-07-28T12:04:15.942527Z"
    },
    "papermill": {
     "duration": 0.029808,
     "end_time": "2024-07-28T12:04:15.947596",
     "exception": false,
     "start_time": "2024-07-28T12:04:15.917788",
     "status": "completed"
    },
    "tags": []
   },
   "outputs": [
    {
     "data": {
      "text/plain": [
       "(499, 8)"
      ]
     },
     "execution_count": 16,
     "metadata": {},
     "output_type": "execute_result"
    }
   ],
   "source": [
    "X_train.shape"
   ]
  },
  {
   "cell_type": "code",
   "execution_count": 17,
   "id": "fe6b2328",
   "metadata": {
    "execution": {
     "iopub.execute_input": "2024-07-28T12:04:15.984504Z",
     "iopub.status.busy": "2024-07-28T12:04:15.984069Z",
     "iopub.status.idle": "2024-07-28T12:04:15.993813Z",
     "shell.execute_reply": "2024-07-28T12:04:15.992644Z"
    },
    "papermill": {
     "duration": 0.031527,
     "end_time": "2024-07-28T12:04:15.996676",
     "exception": false,
     "start_time": "2024-07-28T12:04:15.965149",
     "status": "completed"
    },
    "tags": []
   },
   "outputs": [
    {
     "data": {
      "text/plain": [
       "Pclass         0\n",
       "Sex            0\n",
       "Age           86\n",
       "SibSp          0\n",
       "Parch          0\n",
       "Fare           1\n",
       "Embarked_1     0\n",
       "Embarked_2     0\n",
       "dtype: int64"
      ]
     },
     "execution_count": 17,
     "metadata": {},
     "output_type": "execute_result"
    }
   ],
   "source": [
    "submission_dataset.isnull().sum() # we need to impute Fare as well."
   ]
  },
  {
   "cell_type": "code",
   "execution_count": 18,
   "id": "2e2bdac4",
   "metadata": {
    "execution": {
     "iopub.execute_input": "2024-07-28T12:04:16.036549Z",
     "iopub.status.busy": "2024-07-28T12:04:16.035081Z",
     "iopub.status.idle": "2024-07-28T12:04:16.082511Z",
     "shell.execute_reply": "2024-07-28T12:04:16.080821Z"
    },
    "papermill": {
     "duration": 0.071714,
     "end_time": "2024-07-28T12:04:16.087102",
     "exception": false,
     "start_time": "2024-07-28T12:04:16.015388",
     "status": "completed"
    },
    "tags": []
   },
   "outputs": [],
   "source": [
    "X_train['Age'] = knn_imputer.fit_transform(X_train)[:,2]\n",
    "X_test['Age'] = knn_imputer.transform(X_test)[:,2]\n",
    "X_val['Age'] = knn_imputer.transform(X_val)[:,2]"
   ]
  },
  {
   "cell_type": "code",
   "execution_count": 19,
   "id": "30be0b74",
   "metadata": {
    "execution": {
     "iopub.execute_input": "2024-07-28T12:04:16.163604Z",
     "iopub.status.busy": "2024-07-28T12:04:16.162006Z",
     "iopub.status.idle": "2024-07-28T12:04:16.195438Z",
     "shell.execute_reply": "2024-07-28T12:04:16.193905Z"
    },
    "papermill": {
     "duration": 0.076555,
     "end_time": "2024-07-28T12:04:16.200303",
     "exception": false,
     "start_time": "2024-07-28T12:04:16.123748",
     "status": "completed"
    },
    "tags": []
   },
   "outputs": [],
   "source": [
    "submission_dataset['Age'], submission_dataset['Fare'] = knn_imputer.transform(submission_dataset)[:,2],knn_imputer.transform(submission_dataset)[:,5]"
   ]
  },
  {
   "cell_type": "code",
   "execution_count": 20,
   "id": "ce97a146",
   "metadata": {
    "execution": {
     "iopub.execute_input": "2024-07-28T12:04:16.344338Z",
     "iopub.status.busy": "2024-07-28T12:04:16.343484Z",
     "iopub.status.idle": "2024-07-28T12:04:16.360367Z",
     "shell.execute_reply": "2024-07-28T12:04:16.359221Z"
    },
    "papermill": {
     "duration": 0.038133,
     "end_time": "2024-07-28T12:04:16.362907",
     "exception": false,
     "start_time": "2024-07-28T12:04:16.324774",
     "status": "completed"
    },
    "tags": []
   },
   "outputs": [
    {
     "data": {
      "text/html": [
       "<div>\n",
       "<style scoped>\n",
       "    .dataframe tbody tr th:only-of-type {\n",
       "        vertical-align: middle;\n",
       "    }\n",
       "\n",
       "    .dataframe tbody tr th {\n",
       "        vertical-align: top;\n",
       "    }\n",
       "\n",
       "    .dataframe thead th {\n",
       "        text-align: right;\n",
       "    }\n",
       "</style>\n",
       "<table border=\"1\" class=\"dataframe\">\n",
       "  <thead>\n",
       "    <tr style=\"text-align: right;\">\n",
       "      <th></th>\n",
       "      <th>Pclass</th>\n",
       "      <th>Sex</th>\n",
       "      <th>Age</th>\n",
       "      <th>SibSp</th>\n",
       "      <th>Parch</th>\n",
       "      <th>Fare</th>\n",
       "      <th>Embarked_1</th>\n",
       "      <th>Embarked_2</th>\n",
       "    </tr>\n",
       "    <tr>\n",
       "      <th>PassengerId</th>\n",
       "      <th></th>\n",
       "      <th></th>\n",
       "      <th></th>\n",
       "      <th></th>\n",
       "      <th></th>\n",
       "      <th></th>\n",
       "      <th></th>\n",
       "      <th></th>\n",
       "    </tr>\n",
       "  </thead>\n",
       "  <tbody>\n",
       "    <tr>\n",
       "      <th>723</th>\n",
       "      <td>2</td>\n",
       "      <td>1.0</td>\n",
       "      <td>34.000000</td>\n",
       "      <td>0</td>\n",
       "      <td>0</td>\n",
       "      <td>13.0000</td>\n",
       "      <td>0.0</td>\n",
       "      <td>1.0</td>\n",
       "    </tr>\n",
       "    <tr>\n",
       "      <th>242</th>\n",
       "      <td>3</td>\n",
       "      <td>0.0</td>\n",
       "      <td>26.720642</td>\n",
       "      <td>1</td>\n",
       "      <td>0</td>\n",
       "      <td>15.5000</td>\n",
       "      <td>1.0</td>\n",
       "      <td>0.0</td>\n",
       "    </tr>\n",
       "    <tr>\n",
       "      <th>678</th>\n",
       "      <td>3</td>\n",
       "      <td>0.0</td>\n",
       "      <td>18.000000</td>\n",
       "      <td>0</td>\n",
       "      <td>0</td>\n",
       "      <td>9.8417</td>\n",
       "      <td>0.0</td>\n",
       "      <td>1.0</td>\n",
       "    </tr>\n",
       "    <tr>\n",
       "      <th>688</th>\n",
       "      <td>3</td>\n",
       "      <td>1.0</td>\n",
       "      <td>19.000000</td>\n",
       "      <td>0</td>\n",
       "      <td>0</td>\n",
       "      <td>10.1708</td>\n",
       "      <td>0.0</td>\n",
       "      <td>1.0</td>\n",
       "    </tr>\n",
       "    <tr>\n",
       "      <th>211</th>\n",
       "      <td>3</td>\n",
       "      <td>1.0</td>\n",
       "      <td>24.000000</td>\n",
       "      <td>0</td>\n",
       "      <td>0</td>\n",
       "      <td>7.0500</td>\n",
       "      <td>0.0</td>\n",
       "      <td>1.0</td>\n",
       "    </tr>\n",
       "  </tbody>\n",
       "</table>\n",
       "</div>"
      ],
      "text/plain": [
       "             Pclass  Sex        Age  SibSp  Parch     Fare  Embarked_1  \\\n",
       "PassengerId                                                              \n",
       "723               2  1.0  34.000000      0      0  13.0000         0.0   \n",
       "242               3  0.0  26.720642      1      0  15.5000         1.0   \n",
       "678               3  0.0  18.000000      0      0   9.8417         0.0   \n",
       "688               3  1.0  19.000000      0      0  10.1708         0.0   \n",
       "211               3  1.0  24.000000      0      0   7.0500         0.0   \n",
       "\n",
       "             Embarked_2  \n",
       "PassengerId              \n",
       "723                 1.0  \n",
       "242                 0.0  \n",
       "678                 1.0  \n",
       "688                 1.0  \n",
       "211                 1.0  "
      ]
     },
     "execution_count": 20,
     "metadata": {},
     "output_type": "execute_result"
    }
   ],
   "source": [
    "X_train.head()"
   ]
  },
  {
   "cell_type": "code",
   "execution_count": 21,
   "id": "2c0ea90e",
   "metadata": {
    "execution": {
     "iopub.execute_input": "2024-07-28T12:04:16.400704Z",
     "iopub.status.busy": "2024-07-28T12:04:16.400264Z",
     "iopub.status.idle": "2024-07-28T12:04:16.740841Z",
     "shell.execute_reply": "2024-07-28T12:04:16.739735Z"
    },
    "papermill": {
     "duration": 0.362844,
     "end_time": "2024-07-28T12:04:16.743638",
     "exception": false,
     "start_time": "2024-07-28T12:04:16.380794",
     "status": "completed"
    },
    "tags": []
   },
   "outputs": [],
   "source": [
    "import seaborn as sns\n",
    "import matplotlib.pyplot as plt"
   ]
  },
  {
   "cell_type": "code",
   "execution_count": 22,
   "id": "f840192b",
   "metadata": {
    "execution": {
     "iopub.execute_input": "2024-07-28T12:04:16.781308Z",
     "iopub.status.busy": "2024-07-28T12:04:16.780914Z",
     "iopub.status.idle": "2024-07-28T12:04:16.786257Z",
     "shell.execute_reply": "2024-07-28T12:04:16.785228Z"
    },
    "papermill": {
     "duration": 0.027126,
     "end_time": "2024-07-28T12:04:16.788805",
     "exception": false,
     "start_time": "2024-07-28T12:04:16.761679",
     "status": "completed"
    },
    "tags": []
   },
   "outputs": [],
   "source": [
    "from sklearn.preprocessing import StandardScaler\n",
    "scaler = StandardScaler()"
   ]
  },
  {
   "cell_type": "code",
   "execution_count": 23,
   "id": "362352e3",
   "metadata": {
    "execution": {
     "iopub.execute_input": "2024-07-28T12:04:16.827422Z",
     "iopub.status.busy": "2024-07-28T12:04:16.827006Z",
     "iopub.status.idle": "2024-07-28T12:04:16.843772Z",
     "shell.execute_reply": "2024-07-28T12:04:16.842713Z"
    },
    "papermill": {
     "duration": 0.039398,
     "end_time": "2024-07-28T12:04:16.846524",
     "exception": false,
     "start_time": "2024-07-28T12:04:16.807126",
     "status": "completed"
    },
    "tags": []
   },
   "outputs": [],
   "source": [
    "X_train[['Age', 'Fare']] = scaler.fit_transform(X_train[['Age', 'Fare']])\n",
    "X_test[['Age', 'Fare']] = scaler.transform(X_test[['Age', 'Fare']])\n",
    "X_val[['Age', 'Fare']] = scaler.transform(X_val[['Age', 'Fare']])"
   ]
  },
  {
   "cell_type": "code",
   "execution_count": 24,
   "id": "5002abd2",
   "metadata": {
    "execution": {
     "iopub.execute_input": "2024-07-28T12:04:16.885305Z",
     "iopub.status.busy": "2024-07-28T12:04:16.884872Z",
     "iopub.status.idle": "2024-07-28T12:04:16.893705Z",
     "shell.execute_reply": "2024-07-28T12:04:16.892508Z"
    },
    "papermill": {
     "duration": 0.03176,
     "end_time": "2024-07-28T12:04:16.896283",
     "exception": false,
     "start_time": "2024-07-28T12:04:16.864523",
     "status": "completed"
    },
    "tags": []
   },
   "outputs": [],
   "source": [
    "submission_dataset[['Age', 'Fare']] = scaler.transform(submission_dataset[['Age', 'Fare']])"
   ]
  },
  {
   "cell_type": "code",
   "execution_count": 25,
   "id": "15d9ddf1",
   "metadata": {
    "execution": {
     "iopub.execute_input": "2024-07-28T12:04:16.934508Z",
     "iopub.status.busy": "2024-07-28T12:04:16.934079Z",
     "iopub.status.idle": "2024-07-28T12:04:16.957289Z",
     "shell.execute_reply": "2024-07-28T12:04:16.956148Z"
    },
    "papermill": {
     "duration": 0.045221,
     "end_time": "2024-07-28T12:04:16.959832",
     "exception": false,
     "start_time": "2024-07-28T12:04:16.914611",
     "status": "completed"
    },
    "tags": []
   },
   "outputs": [
    {
     "data": {
      "text/html": [
       "<div>\n",
       "<style scoped>\n",
       "    .dataframe tbody tr th:only-of-type {\n",
       "        vertical-align: middle;\n",
       "    }\n",
       "\n",
       "    .dataframe tbody tr th {\n",
       "        vertical-align: top;\n",
       "    }\n",
       "\n",
       "    .dataframe thead th {\n",
       "        text-align: right;\n",
       "    }\n",
       "</style>\n",
       "<table border=\"1\" class=\"dataframe\">\n",
       "  <thead>\n",
       "    <tr style=\"text-align: right;\">\n",
       "      <th></th>\n",
       "      <th>Pclass</th>\n",
       "      <th>Sex</th>\n",
       "      <th>Age</th>\n",
       "      <th>SibSp</th>\n",
       "      <th>Parch</th>\n",
       "      <th>Fare</th>\n",
       "      <th>Embarked_1</th>\n",
       "      <th>Embarked_2</th>\n",
       "    </tr>\n",
       "    <tr>\n",
       "      <th>PassengerId</th>\n",
       "      <th></th>\n",
       "      <th></th>\n",
       "      <th></th>\n",
       "      <th></th>\n",
       "      <th></th>\n",
       "      <th></th>\n",
       "      <th></th>\n",
       "      <th></th>\n",
       "    </tr>\n",
       "  </thead>\n",
       "  <tbody>\n",
       "    <tr>\n",
       "      <th>723</th>\n",
       "      <td>2</td>\n",
       "      <td>1.0</td>\n",
       "      <td>0.300373</td>\n",
       "      <td>0</td>\n",
       "      <td>0</td>\n",
       "      <td>-0.383382</td>\n",
       "      <td>0.0</td>\n",
       "      <td>1.0</td>\n",
       "    </tr>\n",
       "    <tr>\n",
       "      <th>242</th>\n",
       "      <td>3</td>\n",
       "      <td>0.0</td>\n",
       "      <td>-0.235753</td>\n",
       "      <td>1</td>\n",
       "      <td>0</td>\n",
       "      <td>-0.330854</td>\n",
       "      <td>1.0</td>\n",
       "      <td>0.0</td>\n",
       "    </tr>\n",
       "    <tr>\n",
       "      <th>678</th>\n",
       "      <td>3</td>\n",
       "      <td>0.0</td>\n",
       "      <td>-0.878030</td>\n",
       "      <td>0</td>\n",
       "      <td>0</td>\n",
       "      <td>-0.449741</td>\n",
       "      <td>0.0</td>\n",
       "      <td>1.0</td>\n",
       "    </tr>\n",
       "    <tr>\n",
       "      <th>688</th>\n",
       "      <td>3</td>\n",
       "      <td>1.0</td>\n",
       "      <td>-0.804380</td>\n",
       "      <td>0</td>\n",
       "      <td>0</td>\n",
       "      <td>-0.442827</td>\n",
       "      <td>0.0</td>\n",
       "      <td>1.0</td>\n",
       "    </tr>\n",
       "    <tr>\n",
       "      <th>211</th>\n",
       "      <td>3</td>\n",
       "      <td>1.0</td>\n",
       "      <td>-0.436129</td>\n",
       "      <td>0</td>\n",
       "      <td>0</td>\n",
       "      <td>-0.508398</td>\n",
       "      <td>0.0</td>\n",
       "      <td>1.0</td>\n",
       "    </tr>\n",
       "    <tr>\n",
       "      <th>...</th>\n",
       "      <td>...</td>\n",
       "      <td>...</td>\n",
       "      <td>...</td>\n",
       "      <td>...</td>\n",
       "      <td>...</td>\n",
       "      <td>...</td>\n",
       "      <td>...</td>\n",
       "      <td>...</td>\n",
       "    </tr>\n",
       "    <tr>\n",
       "      <th>619</th>\n",
       "      <td>2</td>\n",
       "      <td>0.0</td>\n",
       "      <td>-1.909132</td>\n",
       "      <td>2</td>\n",
       "      <td>1</td>\n",
       "      <td>0.162906</td>\n",
       "      <td>0.0</td>\n",
       "      <td>1.0</td>\n",
       "    </tr>\n",
       "    <tr>\n",
       "      <th>361</th>\n",
       "      <td>3</td>\n",
       "      <td>1.0</td>\n",
       "      <td>0.742274</td>\n",
       "      <td>1</td>\n",
       "      <td>4</td>\n",
       "      <td>-0.070317</td>\n",
       "      <td>0.0</td>\n",
       "      <td>1.0</td>\n",
       "    </tr>\n",
       "    <tr>\n",
       "      <th>605</th>\n",
       "      <td>1</td>\n",
       "      <td>1.0</td>\n",
       "      <td>0.374023</td>\n",
       "      <td>0</td>\n",
       "      <td>0</td>\n",
       "      <td>-0.098682</td>\n",
       "      <td>0.0</td>\n",
       "      <td>0.0</td>\n",
       "    </tr>\n",
       "    <tr>\n",
       "      <th>462</th>\n",
       "      <td>3</td>\n",
       "      <td>1.0</td>\n",
       "      <td>0.300373</td>\n",
       "      <td>0</td>\n",
       "      <td>0</td>\n",
       "      <td>-0.487387</td>\n",
       "      <td>0.0</td>\n",
       "      <td>1.0</td>\n",
       "    </tr>\n",
       "    <tr>\n",
       "      <th>51</th>\n",
       "      <td>3</td>\n",
       "      <td>1.0</td>\n",
       "      <td>-1.688182</td>\n",
       "      <td>4</td>\n",
       "      <td>1</td>\n",
       "      <td>0.177351</td>\n",
       "      <td>0.0</td>\n",
       "      <td>1.0</td>\n",
       "    </tr>\n",
       "  </tbody>\n",
       "</table>\n",
       "<p>499 rows × 8 columns</p>\n",
       "</div>"
      ],
      "text/plain": [
       "             Pclass  Sex       Age  SibSp  Parch      Fare  Embarked_1  \\\n",
       "PassengerId                                                              \n",
       "723               2  1.0  0.300373      0      0 -0.383382         0.0   \n",
       "242               3  0.0 -0.235753      1      0 -0.330854         1.0   \n",
       "678               3  0.0 -0.878030      0      0 -0.449741         0.0   \n",
       "688               3  1.0 -0.804380      0      0 -0.442827         0.0   \n",
       "211               3  1.0 -0.436129      0      0 -0.508398         0.0   \n",
       "...             ...  ...       ...    ...    ...       ...         ...   \n",
       "619               2  0.0 -1.909132      2      1  0.162906         0.0   \n",
       "361               3  1.0  0.742274      1      4 -0.070317         0.0   \n",
       "605               1  1.0  0.374023      0      0 -0.098682         0.0   \n",
       "462               3  1.0  0.300373      0      0 -0.487387         0.0   \n",
       "51                3  1.0 -1.688182      4      1  0.177351         0.0   \n",
       "\n",
       "             Embarked_2  \n",
       "PassengerId              \n",
       "723                 1.0  \n",
       "242                 0.0  \n",
       "678                 1.0  \n",
       "688                 1.0  \n",
       "211                 1.0  \n",
       "...                 ...  \n",
       "619                 1.0  \n",
       "361                 1.0  \n",
       "605                 0.0  \n",
       "462                 1.0  \n",
       "51                  1.0  \n",
       "\n",
       "[499 rows x 8 columns]"
      ]
     },
     "execution_count": 25,
     "metadata": {},
     "output_type": "execute_result"
    }
   ],
   "source": [
    "X_train"
   ]
  },
  {
   "cell_type": "code",
   "execution_count": 26,
   "id": "1e47b3d4",
   "metadata": {
    "execution": {
     "iopub.execute_input": "2024-07-28T12:04:16.999021Z",
     "iopub.status.busy": "2024-07-28T12:04:16.998321Z",
     "iopub.status.idle": "2024-07-28T12:04:20.425585Z",
     "shell.execute_reply": "2024-07-28T12:04:20.424424Z"
    },
    "papermill": {
     "duration": 3.449615,
     "end_time": "2024-07-28T12:04:20.428090",
     "exception": false,
     "start_time": "2024-07-28T12:04:16.978475",
     "status": "completed"
    },
    "tags": []
   },
   "outputs": [
    {
     "name": "stderr",
     "output_type": "stream",
     "text": [
      "/opt/conda/lib/python3.10/site-packages/seaborn/_oldcore.py:1119: FutureWarning: use_inf_as_na option is deprecated and will be removed in a future version. Convert inf values to NaN before operating instead.\n",
      "  with pd.option_context('mode.use_inf_as_na', True):\n",
      "/opt/conda/lib/python3.10/site-packages/seaborn/_oldcore.py:1075: FutureWarning: When grouping with a length-1 list-like, you will need to pass a length-1 tuple to get_group in a future version of pandas. Pass `(name,)` instead of `name` to silence this warning.\n",
      "  data_subset = grouped_data.get_group(pd_key)\n",
      "/opt/conda/lib/python3.10/site-packages/seaborn/_oldcore.py:1075: FutureWarning: When grouping with a length-1 list-like, you will need to pass a length-1 tuple to get_group in a future version of pandas. Pass `(name,)` instead of `name` to silence this warning.\n",
      "  data_subset = grouped_data.get_group(pd_key)\n",
      "/opt/conda/lib/python3.10/site-packages/seaborn/_oldcore.py:1075: FutureWarning: When grouping with a length-1 list-like, you will need to pass a length-1 tuple to get_group in a future version of pandas. Pass `(name,)` instead of `name` to silence this warning.\n",
      "  data_subset = grouped_data.get_group(pd_key)\n",
      "/opt/conda/lib/python3.10/site-packages/seaborn/_oldcore.py:1075: FutureWarning: When grouping with a length-1 list-like, you will need to pass a length-1 tuple to get_group in a future version of pandas. Pass `(name,)` instead of `name` to silence this warning.\n",
      "  data_subset = grouped_data.get_group(pd_key)\n"
     ]
    },
    {
     "data": {
      "image/png": "[encoded data removed]",
      "text/plain": [
       "<Figure size 640x480 with 1 Axes>"
      ]
     },
     "metadata": {},
     "output_type": "display_data"
    },
    {
     "name": "stderr",
     "output_type": "stream",
     "text": [
      "/opt/conda/lib/python3.10/site-packages/seaborn/_oldcore.py:1119: FutureWarning: use_inf_as_na option is deprecated and will be removed in a future version. Convert inf values to NaN before operating instead.\n",
      "  with pd.option_context('mode.use_inf_as_na', True):\n",
      "/opt/conda/lib/python3.10/site-packages/seaborn/_oldcore.py:1075: FutureWarning: When grouping with a length-1 list-like, you will need to pass a length-1 tuple to get_group in a future version of pandas. Pass `(name,)` instead of `name` to silence this warning.\n",
      "  data_subset = grouped_data.get_group(pd_key)\n",
      "/opt/conda/lib/python3.10/site-packages/seaborn/_oldcore.py:1075: FutureWarning: When grouping with a length-1 list-like, you will need to pass a length-1 tuple to get_group in a future version of pandas. Pass `(name,)` instead of `name` to silence this warning.\n",
      "  data_subset = grouped_data.get_group(pd_key)\n",
      "/opt/conda/lib/python3.10/site-packages/seaborn/_oldcore.py:1075: FutureWarning: When grouping with a length-1 list-like, you will need to pass a length-1 tuple to get_group in a future version of pandas. Pass `(name,)` instead of `name` to silence this warning.\n",
      "  data_subset = grouped_data.get_group(pd_key)\n",
      "/opt/conda/lib/python3.10/site-packages/seaborn/_oldcore.py:1075: FutureWarning: When grouping with a length-1 list-like, you will need to pass a length-1 tuple to get_group in a future version of pandas. Pass `(name,)` instead of `name` to silence this warning.\n",
      "  data_subset = grouped_data.get_group(pd_key)\n"
     ]
    },
    {
     "data": {
      "image/png": "[encoded data removed]",
      "text/plain": [
       "<Figure size 640x480 with 1 Axes>"
      ]
     },
     "metadata": {},
     "output_type": "display_data"
    },
    {
     "name": "stderr",
     "output_type": "stream",
     "text": [
      "/opt/conda/lib/python3.10/site-packages/seaborn/_oldcore.py:1119: FutureWarning: use_inf_as_na option is deprecated and will be removed in a future version. Convert inf values to NaN before operating instead.\n",
      "  with pd.option_context('mode.use_inf_as_na', True):\n",
      "/opt/conda/lib/python3.10/site-packages/seaborn/_oldcore.py:1075: FutureWarning: When grouping with a length-1 list-like, you will need to pass a length-1 tuple to get_group in a future version of pandas. Pass `(name,)` instead of `name` to silence this warning.\n",
      "  data_subset = grouped_data.get_group(pd_key)\n",
      "/opt/conda/lib/python3.10/site-packages/seaborn/_oldcore.py:1075: FutureWarning: When grouping with a length-1 list-like, you will need to pass a length-1 tuple to get_group in a future version of pandas. Pass `(name,)` instead of `name` to silence this warning.\n",
      "  data_subset = grouped_data.get_group(pd_key)\n",
      "/opt/conda/lib/python3.10/site-packages/seaborn/_oldcore.py:1075: FutureWarning: When grouping with a length-1 list-like, you will need to pass a length-1 tuple to get_group in a future version of pandas. Pass `(name,)` instead of `name` to silence this warning.\n",
      "  data_subset = grouped_data.get_group(pd_key)\n",
      "/opt/conda/lib/python3.10/site-packages/seaborn/_oldcore.py:1075: FutureWarning: When grouping with a length-1 list-like, you will need to pass a length-1 tuple to get_group in a future version of pandas. Pass `(name,)` instead of `name` to silence this warning.\n",
      "  data_subset = grouped_data.get_group(pd_key)\n"
     ]
    },
    {
     "data": {
      "image/png": "[encoded data removed]",
      "text/plain": [
       "<Figure size 640x480 with 1 Axes>"
      ]
     },
     "metadata": {},
     "output_type": "display_data"
    },
    {
     "name": "stderr",
     "output_type": "stream",
     "text": [
      "/opt/conda/lib/python3.10/site-packages/seaborn/_oldcore.py:1119: FutureWarning: use_inf_as_na option is deprecated and will be removed in a future version. Convert inf values to NaN before operating instead.\n",
      "  with pd.option_context('mode.use_inf_as_na', True):\n",
      "/opt/conda/lib/python3.10/site-packages/seaborn/_oldcore.py:1075: FutureWarning: When grouping with a length-1 list-like, you will need to pass a length-1 tuple to get_group in a future version of pandas. Pass `(name,)` instead of `name` to silence this warning.\n",
      "  data_subset = grouped_data.get_group(pd_key)\n",
      "/opt/conda/lib/python3.10/site-packages/seaborn/_oldcore.py:1075: FutureWarning: When grouping with a length-1 list-like, you will need to pass a length-1 tuple to get_group in a future version of pandas. Pass `(name,)` instead of `name` to silence this warning.\n",
      "  data_subset = grouped_data.get_group(pd_key)\n",
      "/opt/conda/lib/python3.10/site-packages/seaborn/_oldcore.py:1075: FutureWarning: When grouping with a length-1 list-like, you will need to pass a length-1 tuple to get_group in a future version of pandas. Pass `(name,)` instead of `name` to silence this warning.\n",
      "  data_subset = grouped_data.get_group(pd_key)\n",
      "/opt/conda/lib/python3.10/site-packages/seaborn/_oldcore.py:1075: FutureWarning: When grouping with a length-1 list-like, you will need to pass a length-1 tuple to get_group in a future version of pandas. Pass `(name,)` instead of `name` to silence this warning.\n",
      "  data_subset = grouped_data.get_group(pd_key)\n"
     ]
    },
    {
     "data": {
      "image/png": "[encoded data removed]",
      "text/plain": [
       "<Figure size 640x480 with 1 Axes>"
      ]
     },
     "metadata": {},
     "output_type": "display_data"
    },
    {
     "name": "stderr",
     "output_type": "stream",
     "text": [
      "/opt/conda/lib/python3.10/site-packages/seaborn/_oldcore.py:1119: FutureWarning: use_inf_as_na option is deprecated and will be removed in a future version. Convert inf values to NaN before operating instead.\n",
      "  with pd.option_context('mode.use_inf_as_na', True):\n",
      "/opt/conda/lib/python3.10/site-packages/seaborn/_oldcore.py:1075: FutureWarning: When grouping with a length-1 list-like, you will need to pass a length-1 tuple to get_group in a future version of pandas. Pass `(name,)` instead of `name` to silence this warning.\n",
      "  data_subset = grouped_data.get_group(pd_key)\n",
      "/opt/conda/lib/python3.10/site-packages/seaborn/_oldcore.py:1075: FutureWarning: When grouping with a length-1 list-like, you will need to pass a length-1 tuple to get_group in a future version of pandas. Pass `(name,)` instead of `name` to silence this warning.\n",
      "  data_subset = grouped_data.get_group(pd_key)\n",
      "/opt/conda/lib/python3.10/site-packages/seaborn/_oldcore.py:1075: FutureWarning: When grouping with a length-1 list-like, you will need to pass a length-1 tuple to get_group in a future version of pandas. Pass `(name,)` instead of `name` to silence this warning.\n",
      "  data_subset = grouped_data.get_group(pd_key)\n",
      "/opt/conda/lib/python3.10/site-packages/seaborn/_oldcore.py:1075: FutureWarning: When grouping with a length-1 list-like, you will need to pass a length-1 tuple to get_group in a future version of pandas. Pass `(name,)` instead of `name` to silence this warning.\n",
      "  data_subset = grouped_data.get_group(pd_key)\n"
     ]
    },
    {
     "data": {
      "image/png": "[encoded data removed]",
      "text/plain": [
       "<Figure size 640x480 with 1 Axes>"
      ]
     },
     "metadata": {},
     "output_type": "display_data"
    },
    {
     "name": "stderr",
     "output_type": "stream",
     "text": [
      "/opt/conda/lib/python3.10/site-packages/seaborn/_oldcore.py:1119: FutureWarning: use_inf_as_na option is deprecated and will be removed in a future version. Convert inf values to NaN before operating instead.\n",
      "  with pd.option_context('mode.use_inf_as_na', True):\n",
      "/opt/conda/lib/python3.10/site-packages/seaborn/_oldcore.py:1075: FutureWarning: When grouping with a length-1 list-like, you will need to pass a length-1 tuple to get_group in a future version of pandas. Pass `(name,)` instead of `name` to silence this warning.\n",
      "  data_subset = grouped_data.get_group(pd_key)\n",
      "/opt/conda/lib/python3.10/site-packages/seaborn/_oldcore.py:1075: FutureWarning: When grouping with a length-1 list-like, you will need to pass a length-1 tuple to get_group in a future version of pandas. Pass `(name,)` instead of `name` to silence this warning.\n",
      "  data_subset = grouped_data.get_group(pd_key)\n",
      "/opt/conda/lib/python3.10/site-packages/seaborn/_oldcore.py:1075: FutureWarning: When grouping with a length-1 list-like, you will need to pass a length-1 tuple to get_group in a future version of pandas. Pass `(name,)` instead of `name` to silence this warning.\n",
      "  data_subset = grouped_data.get_group(pd_key)\n",
      "/opt/conda/lib/python3.10/site-packages/seaborn/_oldcore.py:1075: FutureWarning: When grouping with a length-1 list-like, you will need to pass a length-1 tuple to get_group in a future version of pandas. Pass `(name,)` instead of `name` to silence this warning.\n",
      "  data_subset = grouped_data.get_group(pd_key)\n"
     ]
    },
    {
     "data": {
      "image/png": "[encoded data removed]",
      "text/plain": [
       "<Figure size 640x480 with 1 Axes>"
      ]
     },
     "metadata": {},
     "output_type": "display_data"
    },
    {
     "name": "stderr",
     "output_type": "stream",
     "text": [
      "/opt/conda/lib/python3.10/site-packages/seaborn/_oldcore.py:1119: FutureWarning: use_inf_as_na option is deprecated and will be removed in a future version. Convert inf values to NaN before operating instead.\n",
      "  with pd.option_context('mode.use_inf_as_na', True):\n",
      "/opt/conda/lib/python3.10/site-packages/seaborn/_oldcore.py:1075: FutureWarning: When grouping with a length-1 list-like, you will need to pass a length-1 tuple to get_group in a future version of pandas. Pass `(name,)` instead of `name` to silence this warning.\n",
      "  data_subset = grouped_data.get_group(pd_key)\n",
      "/opt/conda/lib/python3.10/site-packages/seaborn/_oldcore.py:1075: FutureWarning: When grouping with a length-1 list-like, you will need to pass a length-1 tuple to get_group in a future version of pandas. Pass `(name,)` instead of `name` to silence this warning.\n",
      "  data_subset = grouped_data.get_group(pd_key)\n",
      "/opt/conda/lib/python3.10/site-packages/seaborn/_oldcore.py:1075: FutureWarning: When grouping with a length-1 list-like, you will need to pass a length-1 tuple to get_group in a future version of pandas. Pass `(name,)` instead of `name` to silence this warning.\n",
      "  data_subset = grouped_data.get_group(pd_key)\n",
      "/opt/conda/lib/python3.10/site-packages/seaborn/_oldcore.py:1075: FutureWarning: When grouping with a length-1 list-like, you will need to pass a length-1 tuple to get_group in a future version of pandas. Pass `(name,)` instead of `name` to silence this warning.\n",
      "  data_subset = grouped_data.get_group(pd_key)\n"
     ]
    },
    {
     "data": {
      "image/png": "[encoded data removed]",
      "text/plain": [
       "<Figure size 640x480 with 1 Axes>"
      ]
     },
     "metadata": {},
     "output_type": "display_data"
    },
    {
     "name": "stderr",
     "output_type": "stream",
     "text": [
      "/opt/conda/lib/python3.10/site-packages/seaborn/_oldcore.py:1119: FutureWarning: use_inf_as_na option is deprecated and will be removed in a future version. Convert inf values to NaN before operating instead.\n",
      "  with pd.option_context('mode.use_inf_as_na', True):\n",
      "/opt/conda/lib/python3.10/site-packages/seaborn/_oldcore.py:1075: FutureWarning: When grouping with a length-1 list-like, you will need to pass a length-1 tuple to get_group in a future version of pandas. Pass `(name,)` instead of `name` to silence this warning.\n",
      "  data_subset = grouped_data.get_group(pd_key)\n",
      "/opt/conda/lib/python3.10/site-packages/seaborn/_oldcore.py:1075: FutureWarning: When grouping with a length-1 list-like, you will need to pass a length-1 tuple to get_group in a future version of pandas. Pass `(name,)` instead of `name` to silence this warning.\n",
      "  data_subset = grouped_data.get_group(pd_key)\n",
      "/opt/conda/lib/python3.10/site-packages/seaborn/_oldcore.py:1075: FutureWarning: When grouping with a length-1 list-like, you will need to pass a length-1 tuple to get_group in a future version of pandas. Pass `(name,)` instead of `name` to silence this warning.\n",
      "  data_subset = grouped_data.get_group(pd_key)\n",
      "/opt/conda/lib/python3.10/site-packages/seaborn/_oldcore.py:1075: FutureWarning: When grouping with a length-1 list-like, you will need to pass a length-1 tuple to get_group in a future version of pandas. Pass `(name,)` instead of `name` to silence this warning.\n",
      "  data_subset = grouped_data.get_group(pd_key)\n"
     ]
    },
    {
     "data": {
      "image/png": "[encoded data removed]",
      "text/plain": [
       "<Figure size 640x480 with 1 Axes>"
      ]
     },
     "metadata": {},
     "output_type": "display_data"
    }
   ],
   "source": [
    "for x_col in list(X_train.columns):\n",
    "    sns.histplot(data=X_train,x=x_col, hue=y_train, stat='proportion', multiple='fill')\n",
    "    plt.show()"
   ]
  },
  {
   "cell_type": "markdown",
   "id": "0b50a87d",
   "metadata": {
    "papermill": {
     "duration": 0.022218,
     "end_time": "2024-07-28T12:04:20.472878",
     "exception": false,
     "start_time": "2024-07-28T12:04:20.450660",
     "status": "completed"
    },
    "tags": []
   },
   "source": [
    "After we normalize the data, we look at some of the key features of the dataset.\n",
    "This can be done by plotting scatterplots. This:\n",
    "- gives us a better intution on what the data looks like before and after transformation\n",
    "- allows us to get a more comprehensive understanding of the relationships between the columns and the predictor"
   ]
  },
  {
   "cell_type": "markdown",
   "id": "7dfcf0d7",
   "metadata": {
    "papermill": {
     "duration": 0.022607,
     "end_time": "2024-07-28T12:04:20.518451",
     "exception": false,
     "start_time": "2024-07-28T12:04:20.495844",
     "status": "completed"
    },
    "tags": []
   },
   "source": [
    "We do see a few patterns:\n",
    "- Survival chances seem to decrease as one goes from first to third class\n",
    "- Females (sex = 0) are more likely to survive than males (sex=1)\n",
    "- Very young people (normalized age ~ -2) are most likely to survive, followed by slow decrease with age.\n",
    "- People with 0-2 siblings are most likely to survive and this decreases with increasing siblings.\n",
    "- people with 1-3 parents/children aboard are most likely to survive.\n",
    "- There is a rough correlation between fare and survival chances.\n",
    "- The place of embarkation seems to matter."
   ]
  },
  {
   "cell_type": "markdown",
   "id": "f6ab16d2",
   "metadata": {
    "papermill": {
     "duration": 0.022334,
     "end_time": "2024-07-28T12:04:20.563085",
     "exception": false,
     "start_time": "2024-07-28T12:04:20.540751",
     "status": "completed"
    },
    "tags": []
   },
   "source": [
    "Based on this, we may engineer a few new features:\n",
    "- Age <= -1\n",
    "- Sibsp <= 2\n",
    "- Parch <= 3"
   ]
  },
  {
   "cell_type": "code",
   "execution_count": 27,
   "id": "756660a3",
   "metadata": {
    "execution": {
     "iopub.execute_input": "2024-07-28T12:04:20.610215Z",
     "iopub.status.busy": "2024-07-28T12:04:20.609803Z",
     "iopub.status.idle": "2024-07-28T12:04:20.626374Z",
     "shell.execute_reply": "2024-07-28T12:04:20.624901Z"
    },
    "papermill": {
     "duration": 0.043098,
     "end_time": "2024-07-28T12:04:20.629137",
     "exception": false,
     "start_time": "2024-07-28T12:04:20.586039",
     "status": "completed"
    },
    "tags": []
   },
   "outputs": [],
   "source": [
    "X_train['age-leq-neg1'] = np.float64(X_train['Age'] <= -1)\n",
    "X_train['sibsp-leq-2'] = np.float64(X_train['SibSp'] <= 2)\n",
    "X_train['Parch-leq-3'] = np.float64(X_train['Parch'] <= 3)\n",
    "\n",
    "X_test['age-leq-neg1'] = np.float64(X_test['Age'] <= -1)\n",
    "X_test['sibsp-leq-2'] = np.float64(X_test['SibSp'] <= 2)\n",
    "X_test['Parch-leq-3'] = np.float64(X_test['Parch'] <= 3)\n",
    "\n",
    "X_val['age-leq-neg1'] = np.float64(X_val['Age'] <= -1)\n",
    "X_val['sibsp-leq-2'] = np.float64(X_val['SibSp'] <= 2)\n",
    "X_val['Parch-leq-3'] = np.float64(X_val['Parch'] <= 3)"
   ]
  },
  {
   "cell_type": "code",
   "execution_count": 28,
   "id": "263311ca",
   "metadata": {
    "execution": {
     "iopub.execute_input": "2024-07-28T12:04:20.676838Z",
     "iopub.status.busy": "2024-07-28T12:04:20.676411Z",
     "iopub.status.idle": "2024-07-28T12:04:20.685588Z",
     "shell.execute_reply": "2024-07-28T12:04:20.684338Z"
    },
    "papermill": {
     "duration": 0.036435,
     "end_time": "2024-07-28T12:04:20.688050",
     "exception": false,
     "start_time": "2024-07-28T12:04:20.651615",
     "status": "completed"
    },
    "tags": []
   },
   "outputs": [],
   "source": [
    "submission_dataset['age-leq-neg1'] = np.float64(submission_dataset['Age'] <= -1)\n",
    "submission_dataset['sibsp-leq-2'] = np.float64(submission_dataset['SibSp'] <= 2)\n",
    "submission_dataset['Parch-leq-3'] = np.float64(submission_dataset['Parch'] <= 3)"
   ]
  },
  {
   "cell_type": "code",
   "execution_count": 29,
   "id": "8b14d115",
   "metadata": {
    "execution": {
     "iopub.execute_input": "2024-07-28T12:04:20.735847Z",
     "iopub.status.busy": "2024-07-28T12:04:20.735091Z",
     "iopub.status.idle": "2024-07-28T12:04:20.762102Z",
     "shell.execute_reply": "2024-07-28T12:04:20.760874Z"
    },
    "papermill": {
     "duration": 0.053346,
     "end_time": "2024-07-28T12:04:20.764734",
     "exception": false,
     "start_time": "2024-07-28T12:04:20.711388",
     "status": "completed"
    },
    "tags": []
   },
   "outputs": [
    {
     "data": {
      "text/html": [
       "<div>\n",
       "<style scoped>\n",
       "    .dataframe tbody tr th:only-of-type {\n",
       "        vertical-align: middle;\n",
       "    }\n",
       "\n",
       "    .dataframe tbody tr th {\n",
       "        vertical-align: top;\n",
       "    }\n",
       "\n",
       "    .dataframe thead th {\n",
       "        text-align: right;\n",
       "    }\n",
       "</style>\n",
       "<table border=\"1\" class=\"dataframe\">\n",
       "  <thead>\n",
       "    <tr style=\"text-align: right;\">\n",
       "      <th></th>\n",
       "      <th>Pclass</th>\n",
       "      <th>Sex</th>\n",
       "      <th>Age</th>\n",
       "      <th>SibSp</th>\n",
       "      <th>Parch</th>\n",
       "      <th>Fare</th>\n",
       "      <th>Embarked_1</th>\n",
       "      <th>Embarked_2</th>\n",
       "      <th>age-leq-neg1</th>\n",
       "      <th>sibsp-leq-2</th>\n",
       "      <th>Parch-leq-3</th>\n",
       "    </tr>\n",
       "    <tr>\n",
       "      <th>PassengerId</th>\n",
       "      <th></th>\n",
       "      <th></th>\n",
       "      <th></th>\n",
       "      <th></th>\n",
       "      <th></th>\n",
       "      <th></th>\n",
       "      <th></th>\n",
       "      <th></th>\n",
       "      <th></th>\n",
       "      <th></th>\n",
       "      <th></th>\n",
       "    </tr>\n",
       "  </thead>\n",
       "  <tbody>\n",
       "    <tr>\n",
       "      <th>723</th>\n",
       "      <td>2</td>\n",
       "      <td>1.0</td>\n",
       "      <td>0.300373</td>\n",
       "      <td>0</td>\n",
       "      <td>0</td>\n",
       "      <td>-0.383382</td>\n",
       "      <td>0.0</td>\n",
       "      <td>1.0</td>\n",
       "      <td>0.0</td>\n",
       "      <td>1.0</td>\n",
       "      <td>1.0</td>\n",
       "    </tr>\n",
       "    <tr>\n",
       "      <th>242</th>\n",
       "      <td>3</td>\n",
       "      <td>0.0</td>\n",
       "      <td>-0.235753</td>\n",
       "      <td>1</td>\n",
       "      <td>0</td>\n",
       "      <td>-0.330854</td>\n",
       "      <td>1.0</td>\n",
       "      <td>0.0</td>\n",
       "      <td>0.0</td>\n",
       "      <td>1.0</td>\n",
       "      <td>1.0</td>\n",
       "    </tr>\n",
       "    <tr>\n",
       "      <th>678</th>\n",
       "      <td>3</td>\n",
       "      <td>0.0</td>\n",
       "      <td>-0.878030</td>\n",
       "      <td>0</td>\n",
       "      <td>0</td>\n",
       "      <td>-0.449741</td>\n",
       "      <td>0.0</td>\n",
       "      <td>1.0</td>\n",
       "      <td>0.0</td>\n",
       "      <td>1.0</td>\n",
       "      <td>1.0</td>\n",
       "    </tr>\n",
       "    <tr>\n",
       "      <th>688</th>\n",
       "      <td>3</td>\n",
       "      <td>1.0</td>\n",
       "      <td>-0.804380</td>\n",
       "      <td>0</td>\n",
       "      <td>0</td>\n",
       "      <td>-0.442827</td>\n",
       "      <td>0.0</td>\n",
       "      <td>1.0</td>\n",
       "      <td>0.0</td>\n",
       "      <td>1.0</td>\n",
       "      <td>1.0</td>\n",
       "    </tr>\n",
       "    <tr>\n",
       "      <th>211</th>\n",
       "      <td>3</td>\n",
       "      <td>1.0</td>\n",
       "      <td>-0.436129</td>\n",
       "      <td>0</td>\n",
       "      <td>0</td>\n",
       "      <td>-0.508398</td>\n",
       "      <td>0.0</td>\n",
       "      <td>1.0</td>\n",
       "      <td>0.0</td>\n",
       "      <td>1.0</td>\n",
       "      <td>1.0</td>\n",
       "    </tr>\n",
       "    <tr>\n",
       "      <th>...</th>\n",
       "      <td>...</td>\n",
       "      <td>...</td>\n",
       "      <td>...</td>\n",
       "      <td>...</td>\n",
       "      <td>...</td>\n",
       "      <td>...</td>\n",
       "      <td>...</td>\n",
       "      <td>...</td>\n",
       "      <td>...</td>\n",
       "      <td>...</td>\n",
       "      <td>...</td>\n",
       "    </tr>\n",
       "    <tr>\n",
       "      <th>619</th>\n",
       "      <td>2</td>\n",
       "      <td>0.0</td>\n",
       "      <td>-1.909132</td>\n",
       "      <td>2</td>\n",
       "      <td>1</td>\n",
       "      <td>0.162906</td>\n",
       "      <td>0.0</td>\n",
       "      <td>1.0</td>\n",
       "      <td>1.0</td>\n",
       "      <td>1.0</td>\n",
       "      <td>1.0</td>\n",
       "    </tr>\n",
       "    <tr>\n",
       "      <th>361</th>\n",
       "      <td>3</td>\n",
       "      <td>1.0</td>\n",
       "      <td>0.742274</td>\n",
       "      <td>1</td>\n",
       "      <td>4</td>\n",
       "      <td>-0.070317</td>\n",
       "      <td>0.0</td>\n",
       "      <td>1.0</td>\n",
       "      <td>0.0</td>\n",
       "      <td>1.0</td>\n",
       "      <td>0.0</td>\n",
       "    </tr>\n",
       "    <tr>\n",
       "      <th>605</th>\n",
       "      <td>1</td>\n",
       "      <td>1.0</td>\n",
       "      <td>0.374023</td>\n",
       "      <td>0</td>\n",
       "      <td>0</td>\n",
       "      <td>-0.098682</td>\n",
       "      <td>0.0</td>\n",
       "      <td>0.0</td>\n",
       "      <td>0.0</td>\n",
       "      <td>1.0</td>\n",
       "      <td>1.0</td>\n",
       "    </tr>\n",
       "    <tr>\n",
       "      <th>462</th>\n",
       "      <td>3</td>\n",
       "      <td>1.0</td>\n",
       "      <td>0.300373</td>\n",
       "      <td>0</td>\n",
       "      <td>0</td>\n",
       "      <td>-0.487387</td>\n",
       "      <td>0.0</td>\n",
       "      <td>1.0</td>\n",
       "      <td>0.0</td>\n",
       "      <td>1.0</td>\n",
       "      <td>1.0</td>\n",
       "    </tr>\n",
       "    <tr>\n",
       "      <th>51</th>\n",
       "      <td>3</td>\n",
       "      <td>1.0</td>\n",
       "      <td>-1.688182</td>\n",
       "      <td>4</td>\n",
       "      <td>1</td>\n",
       "      <td>0.177351</td>\n",
       "      <td>0.0</td>\n",
       "      <td>1.0</td>\n",
       "      <td>1.0</td>\n",
       "      <td>0.0</td>\n",
       "      <td>1.0</td>\n",
       "    </tr>\n",
       "  </tbody>\n",
       "</table>\n",
       "<p>499 rows × 11 columns</p>\n",
       "</div>"
      ],
      "text/plain": [
       "             Pclass  Sex       Age  SibSp  Parch      Fare  Embarked_1  \\\n",
       "PassengerId                                                              \n",
       "723               2  1.0  0.300373      0      0 -0.383382         0.0   \n",
       "242               3  0.0 -0.235753      1      0 -0.330854         1.0   \n",
       "678               3  0.0 -0.878030      0      0 -0.449741         0.0   \n",
       "688               3  1.0 -0.804380      0      0 -0.442827         0.0   \n",
       "211               3  1.0 -0.436129      0      0 -0.508398         0.0   \n",
       "...             ...  ...       ...    ...    ...       ...         ...   \n",
       "619               2  0.0 -1.909132      2      1  0.162906         0.0   \n",
       "361               3  1.0  0.742274      1      4 -0.070317         0.0   \n",
       "605               1  1.0  0.374023      0      0 -0.098682         0.0   \n",
       "462               3  1.0  0.300373      0      0 -0.487387         0.0   \n",
       "51                3  1.0 -1.688182      4      1  0.177351         0.0   \n",
       "\n",
       "             Embarked_2  age-leq-neg1  sibsp-leq-2  Parch-leq-3  \n",
       "PassengerId                                                      \n",
       "723                 1.0           0.0          1.0          1.0  \n",
       "242                 0.0           0.0          1.0          1.0  \n",
       "678                 1.0           0.0          1.0          1.0  \n",
       "688                 1.0           0.0          1.0          1.0  \n",
       "211                 1.0           0.0          1.0          1.0  \n",
       "...                 ...           ...          ...          ...  \n",
       "619                 1.0           1.0          1.0          1.0  \n",
       "361                 1.0           0.0          1.0          0.0  \n",
       "605                 0.0           0.0          1.0          1.0  \n",
       "462                 1.0           0.0          1.0          1.0  \n",
       "51                  1.0           1.0          0.0          1.0  \n",
       "\n",
       "[499 rows x 11 columns]"
      ]
     },
     "execution_count": 29,
     "metadata": {},
     "output_type": "execute_result"
    }
   ],
   "source": [
    "X_train"
   ]
  },
  {
   "cell_type": "code",
   "execution_count": 30,
   "id": "94cbad70",
   "metadata": {
    "execution": {
     "iopub.execute_input": "2024-07-28T12:04:20.813721Z",
     "iopub.status.busy": "2024-07-28T12:04:20.813239Z",
     "iopub.status.idle": "2024-07-28T12:04:25.102901Z",
     "shell.execute_reply": "2024-07-28T12:04:25.101658Z"
    },
    "papermill": {
     "duration": 4.317378,
     "end_time": "2024-07-28T12:04:25.105538",
     "exception": false,
     "start_time": "2024-07-28T12:04:20.788160",
     "status": "completed"
    },
    "tags": []
   },
   "outputs": [
    {
     "name": "stderr",
     "output_type": "stream",
     "text": [
      "/opt/conda/lib/python3.10/site-packages/seaborn/_oldcore.py:1119: FutureWarning: use_inf_as_na option is deprecated and will be removed in a future version. Convert inf values to NaN before operating instead.\n",
      "  with pd.option_context('mode.use_inf_as_na', True):\n",
      "/opt/conda/lib/python3.10/site-packages/seaborn/_oldcore.py:1075: FutureWarning: When grouping with a length-1 list-like, you will need to pass a length-1 tuple to get_group in a future version of pandas. Pass `(name,)` instead of `name` to silence this warning.\n",
      "  data_subset = grouped_data.get_group(pd_key)\n",
      "/opt/conda/lib/python3.10/site-packages/seaborn/_oldcore.py:1075: FutureWarning: When grouping with a length-1 list-like, you will need to pass a length-1 tuple to get_group in a future version of pandas. Pass `(name,)` instead of `name` to silence this warning.\n",
      "  data_subset = grouped_data.get_group(pd_key)\n",
      "/opt/conda/lib/python3.10/site-packages/seaborn/_oldcore.py:1075: FutureWarning: When grouping with a length-1 list-like, you will need to pass a length-1 tuple to get_group in a future version of pandas. Pass `(name,)` instead of `name` to silence this warning.\n",
      "  data_subset = grouped_data.get_group(pd_key)\n",
      "/opt/conda/lib/python3.10/site-packages/seaborn/_oldcore.py:1075: FutureWarning: When grouping with a length-1 list-like, you will need to pass a length-1 tuple to get_group in a future version of pandas. Pass `(name,)` instead of `name` to silence this warning.\n",
      "  data_subset = grouped_data.get_group(pd_key)\n"
     ]
    },
    {
     "data": {
      "image/png": "[encoded data removed]",
      "text/plain": [
       "<Figure size 640x480 with 1 Axes>"
      ]
     },
     "metadata": {},
     "output_type": "display_data"
    },
    {
     "name": "stderr",
     "output_type": "stream",
     "text": [
      "/opt/conda/lib/python3.10/site-packages/seaborn/_oldcore.py:1119: FutureWarning: use_inf_as_na option is deprecated and will be removed in a future version. Convert inf values to NaN before operating instead.\n",
      "  with pd.option_context('mode.use_inf_as_na', True):\n",
      "/opt/conda/lib/python3.10/site-packages/seaborn/_oldcore.py:1075: FutureWarning: When grouping with a length-1 list-like, you will need to pass a length-1 tuple to get_group in a future version of pandas. Pass `(name,)` instead of `name` to silence this warning.\n",
      "  data_subset = grouped_data.get_group(pd_key)\n",
      "/opt/conda/lib/python3.10/site-packages/seaborn/_oldcore.py:1075: FutureWarning: When grouping with a length-1 list-like, you will need to pass a length-1 tuple to get_group in a future version of pandas. Pass `(name,)` instead of `name` to silence this warning.\n",
      "  data_subset = grouped_data.get_group(pd_key)\n",
      "/opt/conda/lib/python3.10/site-packages/seaborn/_oldcore.py:1075: FutureWarning: When grouping with a length-1 list-like, you will need to pass a length-1 tuple to get_group in a future version of pandas. Pass `(name,)` instead of `name` to silence this warning.\n",
      "  data_subset = grouped_data.get_group(pd_key)\n",
      "/opt/conda/lib/python3.10/site-packages/seaborn/_oldcore.py:1075: FutureWarning: When grouping with a length-1 list-like, you will need to pass a length-1 tuple to get_group in a future version of pandas. Pass `(name,)` instead of `name` to silence this warning.\n",
      "  data_subset = grouped_data.get_group(pd_key)\n"
     ]
    },
    {
     "data": {
      "image/png": "[encoded data removed]",
      "text/plain": [
       "<Figure size 640x480 with 1 Axes>"
      ]
     },
     "metadata": {},
     "output_type": "display_data"
    },
    {
     "name": "stderr",
     "output_type": "stream",
     "text": [
      "/opt/conda/lib/python3.10/site-packages/seaborn/_oldcore.py:1119: FutureWarning: use_inf_as_na option is deprecated and will be removed in a future version. Convert inf values to NaN before operating instead.\n",
      "  with pd.option_context('mode.use_inf_as_na', True):\n",
      "/opt/conda/lib/python3.10/site-packages/seaborn/_oldcore.py:1075: FutureWarning: When grouping with a length-1 list-like, you will need to pass a length-1 tuple to get_group in a future version of pandas. Pass `(name,)` instead of `name` to silence this warning.\n",
      "  data_subset = grouped_data.get_group(pd_key)\n",
      "/opt/conda/lib/python3.10/site-packages/seaborn/_oldcore.py:1075: FutureWarning: When grouping with a length-1 list-like, you will need to pass a length-1 tuple to get_group in a future version of pandas. Pass `(name,)` instead of `name` to silence this warning.\n",
      "  data_subset = grouped_data.get_group(pd_key)\n",
      "/opt/conda/lib/python3.10/site-packages/seaborn/_oldcore.py:1075: FutureWarning: When grouping with a length-1 list-like, you will need to pass a length-1 tuple to get_group in a future version of pandas. Pass `(name,)` instead of `name` to silence this warning.\n",
      "  data_subset = grouped_data.get_group(pd_key)\n",
      "/opt/conda/lib/python3.10/site-packages/seaborn/_oldcore.py:1075: FutureWarning: When grouping with a length-1 list-like, you will need to pass a length-1 tuple to get_group in a future version of pandas. Pass `(name,)` instead of `name` to silence this warning.\n",
      "  data_subset = grouped_data.get_group(pd_key)\n"
     ]
    },
    {
     "data": {
      "image/png": "[encoded data removed]",
      "text/plain": [
       "<Figure size 640x480 with 1 Axes>"
      ]
     },
     "metadata": {},
     "output_type": "display_data"
    },
    {
     "name": "stderr",
     "output_type": "stream",
     "text": [
      "/opt/conda/lib/python3.10/site-packages/seaborn/_oldcore.py:1119: FutureWarning: use_inf_as_na option is deprecated and will be removed in a future version. Convert inf values to NaN before operating instead.\n",
      "  with pd.option_context('mode.use_inf_as_na', True):\n",
      "/opt/conda/lib/python3.10/site-packages/seaborn/_oldcore.py:1075: FutureWarning: When grouping with a length-1 list-like, you will need to pass a length-1 tuple to get_group in a future version of pandas. Pass `(name,)` instead of `name` to silence this warning.\n",
      "  data_subset = grouped_data.get_group(pd_key)\n",
      "/opt/conda/lib/python3.10/site-packages/seaborn/_oldcore.py:1075: FutureWarning: When grouping with a length-1 list-like, you will need to pass a length-1 tuple to get_group in a future version of pandas. Pass `(name,)` instead of `name` to silence this warning.\n",
      "  data_subset = grouped_data.get_group(pd_key)\n",
      "/opt/conda/lib/python3.10/site-packages/seaborn/_oldcore.py:1075: FutureWarning: When grouping with a length-1 list-like, you will need to pass a length-1 tuple to get_group in a future version of pandas. Pass `(name,)` instead of `name` to silence this warning.\n",
      "  data_subset = grouped_data.get_group(pd_key)\n",
      "/opt/conda/lib/python3.10/site-packages/seaborn/_oldcore.py:1075: FutureWarning: When grouping with a length-1 list-like, you will need to pass a length-1 tuple to get_group in a future version of pandas. Pass `(name,)` instead of `name` to silence this warning.\n",
      "  data_subset = grouped_data.get_group(pd_key)\n"
     ]
    },
    {
     "data": {
      "image/png": "[encoded data removed]",
      "text/plain": [
       "<Figure size 640x480 with 1 Axes>"
      ]
     },
     "metadata": {},
     "output_type": "display_data"
    },
    {
     "name": "stderr",
     "output_type": "stream",
     "text": [
      "/opt/conda/lib/python3.10/site-packages/seaborn/_oldcore.py:1119: FutureWarning: use_inf_as_na option is deprecated and will be removed in a future version. Convert inf values to NaN before operating instead.\n",
      "  with pd.option_context('mode.use_inf_as_na', True):\n",
      "/opt/conda/lib/python3.10/site-packages/seaborn/_oldcore.py:1075: FutureWarning: When grouping with a length-1 list-like, you will need to pass a length-1 tuple to get_group in a future version of pandas. Pass `(name,)` instead of `name` to silence this warning.\n",
      "  data_subset = grouped_data.get_group(pd_key)\n",
      "/opt/conda/lib/python3.10/site-packages/seaborn/_oldcore.py:1075: FutureWarning: When grouping with a length-1 list-like, you will need to pass a length-1 tuple to get_group in a future version of pandas. Pass `(name,)` instead of `name` to silence this warning.\n",
      "  data_subset = grouped_data.get_group(pd_key)\n",
      "/opt/conda/lib/python3.10/site-packages/seaborn/_oldcore.py:1075: FutureWarning: When grouping with a length-1 list-like, you will need to pass a length-1 tuple to get_group in a future version of pandas. Pass `(name,)` instead of `name` to silence this warning.\n",
      "  data_subset = grouped_data.get_group(pd_key)\n",
      "/opt/conda/lib/python3.10/site-packages/seaborn/_oldcore.py:1075: FutureWarning: When grouping with a length-1 list-like, you will need to pass a length-1 tuple to get_group in a future version of pandas. Pass `(name,)` instead of `name` to silence this warning.\n",
      "  data_subset = grouped_data.get_group(pd_key)\n"
     ]
    },
    {
     "data": {
      "image/png": "[encoded data removed]",
      "text/plain": [
       "<Figure size 640x480 with 1 Axes>"
      ]
     },
     "metadata": {},
     "output_type": "display_data"
    },
    {
     "name": "stderr",
     "output_type": "stream",
     "text": [
      "/opt/conda/lib/python3.10/site-packages/seaborn/_oldcore.py:1119: FutureWarning: use_inf_as_na option is deprecated and will be removed in a future version. Convert inf values to NaN before operating instead.\n",
      "  with pd.option_context('mode.use_inf_as_na', True):\n",
      "/opt/conda/lib/python3.10/site-packages/seaborn/_oldcore.py:1075: FutureWarning: When grouping with a length-1 list-like, you will need to pass a length-1 tuple to get_group in a future version of pandas. Pass `(name,)` instead of `name` to silence this warning.\n",
      "  data_subset = grouped_data.get_group(pd_key)\n",
      "/opt/conda/lib/python3.10/site-packages/seaborn/_oldcore.py:1075: FutureWarning: When grouping with a length-1 list-like, you will need to pass a length-1 tuple to get_group in a future version of pandas. Pass `(name,)` instead of `name` to silence this warning.\n",
      "  data_subset = grouped_data.get_group(pd_key)\n",
      "/opt/conda/lib/python3.10/site-packages/seaborn/_oldcore.py:1075: FutureWarning: When grouping with a length-1 list-like, you will need to pass a length-1 tuple to get_group in a future version of pandas. Pass `(name,)` instead of `name` to silence this warning.\n",
      "  data_subset = grouped_data.get_group(pd_key)\n",
      "/opt/conda/lib/python3.10/site-packages/seaborn/_oldcore.py:1075: FutureWarning: When grouping with a length-1 list-like, you will need to pass a length-1 tuple to get_group in a future version of pandas. Pass `(name,)` instead of `name` to silence this warning.\n",
      "  data_subset = grouped_data.get_group(pd_key)\n"
     ]
    },
    {
     "data": {
      "image/png": "[encoded data removed]",
      "text/plain": [
       "<Figure size 640x480 with 1 Axes>"
      ]
     },
     "metadata": {},
     "output_type": "display_data"
    },
    {
     "name": "stderr",
     "output_type": "stream",
     "text": [
      "/opt/conda/lib/python3.10/site-packages/seaborn/_oldcore.py:1119: FutureWarning: use_inf_as_na option is deprecated and will be removed in a future version. Convert inf values to NaN before operating instead.\n",
      "  with pd.option_context('mode.use_inf_as_na', True):\n",
      "/opt/conda/lib/python3.10/site-packages/seaborn/_oldcore.py:1075: FutureWarning: When grouping with a length-1 list-like, you will need to pass a length-1 tuple to get_group in a future version of pandas. Pass `(name,)` instead of `name` to silence this warning.\n",
      "  data_subset = grouped_data.get_group(pd_key)\n",
      "/opt/conda/lib/python3.10/site-packages/seaborn/_oldcore.py:1075: FutureWarning: When grouping with a length-1 list-like, you will need to pass a length-1 tuple to get_group in a future version of pandas. Pass `(name,)` instead of `name` to silence this warning.\n",
      "  data_subset = grouped_data.get_group(pd_key)\n",
      "/opt/conda/lib/python3.10/site-packages/seaborn/_oldcore.py:1075: FutureWarning: When grouping with a length-1 list-like, you will need to pass a length-1 tuple to get_group in a future version of pandas. Pass `(name,)` instead of `name` to silence this warning.\n",
      "  data_subset = grouped_data.get_group(pd_key)\n",
      "/opt/conda/lib/python3.10/site-packages/seaborn/_oldcore.py:1075: FutureWarning: When grouping with a length-1 list-like, you will need to pass a length-1 tuple to get_group in a future version of pandas. Pass `(name,)` instead of `name` to silence this warning.\n",
      "  data_subset = grouped_data.get_group(pd_key)\n"
     ]
    },
    {
     "data": {
      "image/png": "[encoded data removed]",
      "text/plain": [
       "<Figure size 640x480 with 1 Axes>"
      ]
     },
     "metadata": {},
     "output_type": "display_data"
    },
    {
     "name": "stderr",
     "output_type": "stream",
     "text": [
      "/opt/conda/lib/python3.10/site-packages/seaborn/_oldcore.py:1119: FutureWarning: use_inf_as_na option is deprecated and will be removed in a future version. Convert inf values to NaN before operating instead.\n",
      "  with pd.option_context('mode.use_inf_as_na', True):\n",
      "/opt/conda/lib/python3.10/site-packages/seaborn/_oldcore.py:1075: FutureWarning: When grouping with a length-1 list-like, you will need to pass a length-1 tuple to get_group in a future version of pandas. Pass `(name,)` instead of `name` to silence this warning.\n",
      "  data_subset = grouped_data.get_group(pd_key)\n",
      "/opt/conda/lib/python3.10/site-packages/seaborn/_oldcore.py:1075: FutureWarning: When grouping with a length-1 list-like, you will need to pass a length-1 tuple to get_group in a future version of pandas. Pass `(name,)` instead of `name` to silence this warning.\n",
      "  data_subset = grouped_data.get_group(pd_key)\n",
      "/opt/conda/lib/python3.10/site-packages/seaborn/_oldcore.py:1075: FutureWarning: When grouping with a length-1 list-like, you will need to pass a length-1 tuple to get_group in a future version of pandas. Pass `(name,)` instead of `name` to silence this warning.\n",
      "  data_subset = grouped_data.get_group(pd_key)\n",
      "/opt/conda/lib/python3.10/site-packages/seaborn/_oldcore.py:1075: FutureWarning: When grouping with a length-1 list-like, you will need to pass a length-1 tuple to get_group in a future version of pandas. Pass `(name,)` instead of `name` to silence this warning.\n",
      "  data_subset = grouped_data.get_group(pd_key)\n"
     ]
    },
    {
     "data": {
      "image/png": "[encoded data removed]",
      "text/plain": [
       "<Figure size 640x480 with 1 Axes>"
      ]
     },
     "metadata": {},
     "output_type": "display_data"
    },
    {
     "name": "stderr",
     "output_type": "stream",
     "text": [
      "/opt/conda/lib/python3.10/site-packages/seaborn/_oldcore.py:1119: FutureWarning: use_inf_as_na option is deprecated and will be removed in a future version. Convert inf values to NaN before operating instead.\n",
      "  with pd.option_context('mode.use_inf_as_na', True):\n",
      "/opt/conda/lib/python3.10/site-packages/seaborn/_oldcore.py:1075: FutureWarning: When grouping with a length-1 list-like, you will need to pass a length-1 tuple to get_group in a future version of pandas. Pass `(name,)` instead of `name` to silence this warning.\n",
      "  data_subset = grouped_data.get_group(pd_key)\n",
      "/opt/conda/lib/python3.10/site-packages/seaborn/_oldcore.py:1075: FutureWarning: When grouping with a length-1 list-like, you will need to pass a length-1 tuple to get_group in a future version of pandas. Pass `(name,)` instead of `name` to silence this warning.\n",
      "  data_subset = grouped_data.get_group(pd_key)\n",
      "/opt/conda/lib/python3.10/site-packages/seaborn/_oldcore.py:1075: FutureWarning: When grouping with a length-1 list-like, you will need to pass a length-1 tuple to get_group in a future version of pandas. Pass `(name,)` instead of `name` to silence this warning.\n",
      "  data_subset = grouped_data.get_group(pd_key)\n",
      "/opt/conda/lib/python3.10/site-packages/seaborn/_oldcore.py:1075: FutureWarning: When grouping with a length-1 list-like, you will need to pass a length-1 tuple to get_group in a future version of pandas. Pass `(name,)` instead of `name` to silence this warning.\n",
      "  data_subset = grouped_data.get_group(pd_key)\n"
     ]
    },
    {
     "data": {
      "image/png": "[encoded data removed]",
      "text/plain": [
       "<Figure size 640x480 with 1 Axes>"
      ]
     },
     "metadata": {},
     "output_type": "display_data"
    },
    {
     "name": "stderr",
     "output_type": "stream",
     "text": [
      "/opt/conda/lib/python3.10/site-packages/seaborn/_oldcore.py:1119: FutureWarning: use_inf_as_na option is deprecated and will be removed in a future version. Convert inf values to NaN before operating instead.\n",
      "  with pd.option_context('mode.use_inf_as_na', True):\n",
      "/opt/conda/lib/python3.10/site-packages/seaborn/_oldcore.py:1075: FutureWarning: When grouping with a length-1 list-like, you will need to pass a length-1 tuple to get_group in a future version of pandas. Pass `(name,)` instead of `name` to silence this warning.\n",
      "  data_subset = grouped_data.get_group(pd_key)\n",
      "/opt/conda/lib/python3.10/site-packages/seaborn/_oldcore.py:1075: FutureWarning: When grouping with a length-1 list-like, you will need to pass a length-1 tuple to get_group in a future version of pandas. Pass `(name,)` instead of `name` to silence this warning.\n",
      "  data_subset = grouped_data.get_group(pd_key)\n",
      "/opt/conda/lib/python3.10/site-packages/seaborn/_oldcore.py:1075: FutureWarning: When grouping with a length-1 list-like, you will need to pass a length-1 tuple to get_group in a future version of pandas. Pass `(name,)` instead of `name` to silence this warning.\n",
      "  data_subset = grouped_data.get_group(pd_key)\n",
      "/opt/conda/lib/python3.10/site-packages/seaborn/_oldcore.py:1075: FutureWarning: When grouping with a length-1 list-like, you will need to pass a length-1 tuple to get_group in a future version of pandas. Pass `(name,)` instead of `name` to silence this warning.\n",
      "  data_subset = grouped_data.get_group(pd_key)\n"
     ]
    },
    {
     "data": {
      "image/png": "[encoded data removed]",
      "text/plain": [
       "<Figure size 640x480 with 1 Axes>"
      ]
     },
     "metadata": {},
     "output_type": "display_data"
    },
    {
     "name": "stderr",
     "output_type": "stream",
     "text": [
      "/opt/conda/lib/python3.10/site-packages/seaborn/_oldcore.py:1119: FutureWarning: use_inf_as_na option is deprecated and will be removed in a future version. Convert inf values to NaN before operating instead.\n",
      "  with pd.option_context('mode.use_inf_as_na', True):\n",
      "/opt/conda/lib/python3.10/site-packages/seaborn/_oldcore.py:1075: FutureWarning: When grouping with a length-1 list-like, you will need to pass a length-1 tuple to get_group in a future version of pandas. Pass `(name,)` instead of `name` to silence this warning.\n",
      "  data_subset = grouped_data.get_group(pd_key)\n",
      "/opt/conda/lib/python3.10/site-packages/seaborn/_oldcore.py:1075: FutureWarning: When grouping with a length-1 list-like, you will need to pass a length-1 tuple to get_group in a future version of pandas. Pass `(name,)` instead of `name` to silence this warning.\n",
      "  data_subset = grouped_data.get_group(pd_key)\n",
      "/opt/conda/lib/python3.10/site-packages/seaborn/_oldcore.py:1075: FutureWarning: When grouping with a length-1 list-like, you will need to pass a length-1 tuple to get_group in a future version of pandas. Pass `(name,)` instead of `name` to silence this warning.\n",
      "  data_subset = grouped_data.get_group(pd_key)\n",
      "/opt/conda/lib/python3.10/site-packages/seaborn/_oldcore.py:1075: FutureWarning: When grouping with a length-1 list-like, you will need to pass a length-1 tuple to get_group in a future version of pandas. Pass `(name,)` instead of `name` to silence this warning.\n",
      "  data_subset = grouped_data.get_group(pd_key)\n"
     ]
    },
    {
     "data": {
      "image/png": "[encoded data removed]",
      "text/plain": [
       "<Figure size 640x480 with 1 Axes>"
      ]
     },
     "metadata": {},
     "output_type": "display_data"
    }
   ],
   "source": [
    "for x_col in list(X_train.columns):\n",
    "    sns.histplot(data=X_train,x=x_col, hue=y_train, stat='proportion', multiple='fill')\n",
    "    plt.show()"
   ]
  },
  {
   "cell_type": "markdown",
   "id": "5961c281",
   "metadata": {
    "papermill": {
     "duration": 0.028615,
     "end_time": "2024-07-28T12:04:25.162686",
     "exception": false,
     "start_time": "2024-07-28T12:04:25.134071",
     "status": "completed"
    },
    "tags": []
   },
   "source": [
    "We are now ready to train a logistic regression model to this data."
   ]
  },
  {
   "cell_type": "code",
   "execution_count": 31,
   "id": "2710a5e3",
   "metadata": {
    "execution": {
     "iopub.execute_input": "2024-07-28T12:04:25.223036Z",
     "iopub.status.busy": "2024-07-28T12:04:25.222063Z",
     "iopub.status.idle": "2024-07-28T12:04:25.234633Z",
     "shell.execute_reply": "2024-07-28T12:04:25.233630Z"
    },
    "papermill": {
     "duration": 0.045373,
     "end_time": "2024-07-28T12:04:25.237191",
     "exception": false,
     "start_time": "2024-07-28T12:04:25.191818",
     "status": "completed"
    },
    "tags": []
   },
   "outputs": [],
   "source": [
    "from sklearn.linear_model import LogisticRegression\n",
    "from sklearn.metrics import log_loss\n",
    "from sklearn.model_selection import ParameterGrid\n",
    "def parameter_search(penalty, dual, tol, C, class_weight, random_state, solver, max_iter):\n",
    "    results = []\n",
    "    param_dict = {'penalty': penalty,\n",
    "                 'dual': dual,\n",
    "                 'tol': tol,\n",
    "                 'C': C,\n",
    "                 'class_weight': class_weight,\n",
    "                 'random_state': random_state,\n",
    "                 'solver': solver,\n",
    "                 'max_iter': max_iter}\n",
    "    param_grid = ParameterGrid(param_dict)\n",
    "    for param in param_grid:\n",
    "        logistic_regression_classifier = LogisticRegression().set_params(**param)                                                                               \n",
    "        logistic_regression_classifier.fit(X_train, y_train)\n",
    "        y_pred_train = logistic_regression_classifier.predict_proba(X_train)\n",
    "        y_pred_val = logistic_regression_classifier.predict_proba(X_val)\n",
    "        train_loss = log_loss(y_train, y_pred_train, normalize=True)\n",
    "        val_loss = log_loss(y_val, y_pred_val, normalize=True)\n",
    "        results.append([param['penalty'], param['dual'], \n",
    "                        param['tol'], param['C'], param['class_weight'], param['random_state'],\n",
    "                        param['solver'], param['max_iter'], train_loss, val_loss])\n",
    "    \n",
    "    res = pd.DataFrame(results)\n",
    "    res.columns = [\"penalty\", \"dual\", \"tol\", \"C\", \"class_weight\", \"random_state\", \"solver\", \"max_iter\", \"train_loss\", \"val_loss\"]\n",
    "    return res"
   ]
  },
  {
   "cell_type": "code",
   "execution_count": 32,
   "id": "6cbb0c8d",
   "metadata": {
    "execution": {
     "iopub.execute_input": "2024-07-28T12:04:25.295900Z",
     "iopub.status.busy": "2024-07-28T12:04:25.294796Z",
     "iopub.status.idle": "2024-07-28T12:05:30.229591Z",
     "shell.execute_reply": "2024-07-28T12:05:30.228239Z"
    },
    "papermill": {
     "duration": 64.967051,
     "end_time": "2024-07-28T12:05:30.232501",
     "exception": false,
     "start_time": "2024-07-28T12:04:25.265450",
     "status": "completed"
    },
    "tags": []
   },
   "outputs": [
    {
     "name": "stderr",
     "output_type": "stream",
     "text": [
      "/opt/conda/lib/python3.10/site-packages/sklearn/linear_model/_sag.py:350: ConvergenceWarning: The max_iter was reached which means the coef_ did not converge\n",
      "  warnings.warn(\n",
      "/opt/conda/lib/python3.10/site-packages/sklearn/linear_model/_sag.py:350: ConvergenceWarning: The max_iter was reached which means the coef_ did not converge\n",
      "  warnings.warn(\n",
      "/opt/conda/lib/python3.10/site-packages/sklearn/linear_model/_sag.py:350: ConvergenceWarning: The max_iter was reached which means the coef_ did not converge\n",
      "  warnings.warn(\n"
     ]
    }
   ],
   "source": [
    "loss_df = parameter_search(penalty=[\"l1\", \"l2\"],\n",
    "                           dual=[False],\n",
    "                           tol = [1e-5, 1e-4, 1e-3, 1e-2, 1e-1, 1, 10],\n",
    "                           C = [0.25,0.5,1,2,4,5, 6,7,8],\n",
    "                           class_weight=['balanced',None],\n",
    "                           random_state=[42],\n",
    "                           solver=['saga'],\n",
    "                           max_iter=[1000,2000,3000,4000,5000,6000,7000,8000])"
   ]
  },
  {
   "cell_type": "code",
   "execution_count": 33,
   "id": "2511bbf4",
   "metadata": {
    "execution": {
     "iopub.execute_input": "2024-07-28T12:05:30.294162Z",
     "iopub.status.busy": "2024-07-28T12:05:30.293729Z",
     "iopub.status.idle": "2024-07-28T12:05:30.315965Z",
     "shell.execute_reply": "2024-07-28T12:05:30.314672Z"
    },
    "papermill": {
     "duration": 0.055691,
     "end_time": "2024-07-28T12:05:30.318491",
     "exception": false,
     "start_time": "2024-07-28T12:05:30.262800",
     "status": "completed"
    },
    "tags": []
   },
   "outputs": [
    {
     "data": {
      "text/html": [
       "<div>\n",
       "<style scoped>\n",
       "    .dataframe tbody tr th:only-of-type {\n",
       "        vertical-align: middle;\n",
       "    }\n",
       "\n",
       "    .dataframe tbody tr th {\n",
       "        vertical-align: top;\n",
       "    }\n",
       "\n",
       "    .dataframe thead th {\n",
       "        text-align: right;\n",
       "    }\n",
       "</style>\n",
       "<table border=\"1\" class=\"dataframe\">\n",
       "  <thead>\n",
       "    <tr style=\"text-align: right;\">\n",
       "      <th></th>\n",
       "      <th>penalty</th>\n",
       "      <th>dual</th>\n",
       "      <th>tol</th>\n",
       "      <th>C</th>\n",
       "      <th>class_weight</th>\n",
       "      <th>random_state</th>\n",
       "      <th>solver</th>\n",
       "      <th>max_iter</th>\n",
       "      <th>train_loss</th>\n",
       "      <th>val_loss</th>\n",
       "    </tr>\n",
       "  </thead>\n",
       "  <tbody>\n",
       "    <tr>\n",
       "      <th>0</th>\n",
       "      <td>l1</td>\n",
       "      <td>False</td>\n",
       "      <td>0.00001</td>\n",
       "      <td>0.25</td>\n",
       "      <td>balanced</td>\n",
       "      <td>42</td>\n",
       "      <td>saga</td>\n",
       "      <td>1000</td>\n",
       "      <td>0.427834</td>\n",
       "      <td>0.516749</td>\n",
       "    </tr>\n",
       "    <tr>\n",
       "      <th>1</th>\n",
       "      <td>l1</td>\n",
       "      <td>False</td>\n",
       "      <td>0.00010</td>\n",
       "      <td>0.25</td>\n",
       "      <td>balanced</td>\n",
       "      <td>42</td>\n",
       "      <td>saga</td>\n",
       "      <td>1000</td>\n",
       "      <td>0.427877</td>\n",
       "      <td>0.516634</td>\n",
       "    </tr>\n",
       "    <tr>\n",
       "      <th>2</th>\n",
       "      <td>l1</td>\n",
       "      <td>False</td>\n",
       "      <td>0.00100</td>\n",
       "      <td>0.25</td>\n",
       "      <td>balanced</td>\n",
       "      <td>42</td>\n",
       "      <td>saga</td>\n",
       "      <td>1000</td>\n",
       "      <td>0.428206</td>\n",
       "      <td>0.515783</td>\n",
       "    </tr>\n",
       "    <tr>\n",
       "      <th>3</th>\n",
       "      <td>l1</td>\n",
       "      <td>False</td>\n",
       "      <td>0.01000</td>\n",
       "      <td>0.25</td>\n",
       "      <td>balanced</td>\n",
       "      <td>42</td>\n",
       "      <td>saga</td>\n",
       "      <td>1000</td>\n",
       "      <td>0.427505</td>\n",
       "      <td>0.498164</td>\n",
       "    </tr>\n",
       "    <tr>\n",
       "      <th>4</th>\n",
       "      <td>l1</td>\n",
       "      <td>False</td>\n",
       "      <td>0.10000</td>\n",
       "      <td>0.25</td>\n",
       "      <td>balanced</td>\n",
       "      <td>42</td>\n",
       "      <td>saga</td>\n",
       "      <td>1000</td>\n",
       "      <td>0.445944</td>\n",
       "      <td>0.493607</td>\n",
       "    </tr>\n",
       "    <tr>\n",
       "      <th>...</th>\n",
       "      <td>...</td>\n",
       "      <td>...</td>\n",
       "      <td>...</td>\n",
       "      <td>...</td>\n",
       "      <td>...</td>\n",
       "      <td>...</td>\n",
       "      <td>...</td>\n",
       "      <td>...</td>\n",
       "      <td>...</td>\n",
       "      <td>...</td>\n",
       "    </tr>\n",
       "    <tr>\n",
       "      <th>2011</th>\n",
       "      <td>l2</td>\n",
       "      <td>False</td>\n",
       "      <td>0.00100</td>\n",
       "      <td>8.00</td>\n",
       "      <td>None</td>\n",
       "      <td>42</td>\n",
       "      <td>saga</td>\n",
       "      <td>8000</td>\n",
       "      <td>0.400828</td>\n",
       "      <td>0.501401</td>\n",
       "    </tr>\n",
       "    <tr>\n",
       "      <th>2012</th>\n",
       "      <td>l2</td>\n",
       "      <td>False</td>\n",
       "      <td>0.01000</td>\n",
       "      <td>8.00</td>\n",
       "      <td>None</td>\n",
       "      <td>42</td>\n",
       "      <td>saga</td>\n",
       "      <td>8000</td>\n",
       "      <td>0.402122</td>\n",
       "      <td>0.493368</td>\n",
       "    </tr>\n",
       "    <tr>\n",
       "      <th>2013</th>\n",
       "      <td>l2</td>\n",
       "      <td>False</td>\n",
       "      <td>0.10000</td>\n",
       "      <td>8.00</td>\n",
       "      <td>None</td>\n",
       "      <td>42</td>\n",
       "      <td>saga</td>\n",
       "      <td>8000</td>\n",
       "      <td>0.423866</td>\n",
       "      <td>0.487018</td>\n",
       "    </tr>\n",
       "    <tr>\n",
       "      <th>2014</th>\n",
       "      <td>l2</td>\n",
       "      <td>False</td>\n",
       "      <td>1.00000</td>\n",
       "      <td>8.00</td>\n",
       "      <td>None</td>\n",
       "      <td>42</td>\n",
       "      <td>saga</td>\n",
       "      <td>8000</td>\n",
       "      <td>0.500811</td>\n",
       "      <td>0.530049</td>\n",
       "    </tr>\n",
       "    <tr>\n",
       "      <th>2015</th>\n",
       "      <td>l2</td>\n",
       "      <td>False</td>\n",
       "      <td>10.00000</td>\n",
       "      <td>8.00</td>\n",
       "      <td>None</td>\n",
       "      <td>42</td>\n",
       "      <td>saga</td>\n",
       "      <td>8000</td>\n",
       "      <td>0.500811</td>\n",
       "      <td>0.530049</td>\n",
       "    </tr>\n",
       "  </tbody>\n",
       "</table>\n",
       "<p>2016 rows × 10 columns</p>\n",
       "</div>"
      ],
      "text/plain": [
       "     penalty   dual       tol     C class_weight  random_state solver  \\\n",
       "0         l1  False   0.00001  0.25     balanced            42   saga   \n",
       "1         l1  False   0.00010  0.25     balanced            42   saga   \n",
       "2         l1  False   0.00100  0.25     balanced            42   saga   \n",
       "3         l1  False   0.01000  0.25     balanced            42   saga   \n",
       "4         l1  False   0.10000  0.25     balanced            42   saga   \n",
       "...      ...    ...       ...   ...          ...           ...    ...   \n",
       "2011      l2  False   0.00100  8.00         None            42   saga   \n",
       "2012      l2  False   0.01000  8.00         None            42   saga   \n",
       "2013      l2  False   0.10000  8.00         None            42   saga   \n",
       "2014      l2  False   1.00000  8.00         None            42   saga   \n",
       "2015      l2  False  10.00000  8.00         None            42   saga   \n",
       "\n",
       "      max_iter  train_loss  val_loss  \n",
       "0         1000    0.427834  0.516749  \n",
       "1         1000    0.427877  0.516634  \n",
       "2         1000    0.428206  0.515783  \n",
       "3         1000    0.427505  0.498164  \n",
       "4         1000    0.445944  0.493607  \n",
       "...        ...         ...       ...  \n",
       "2011      8000    0.400828  0.501401  \n",
       "2012      8000    0.402122  0.493368  \n",
       "2013      8000    0.423866  0.487018  \n",
       "2014      8000    0.500811  0.530049  \n",
       "2015      8000    0.500811  0.530049  \n",
       "\n",
       "[2016 rows x 10 columns]"
      ]
     },
     "execution_count": 33,
     "metadata": {},
     "output_type": "execute_result"
    }
   ],
   "source": [
    "loss_df"
   ]
  },
  {
   "cell_type": "code",
   "execution_count": 34,
   "id": "96672645",
   "metadata": {
    "execution": {
     "iopub.execute_input": "2024-07-28T12:05:30.379396Z",
     "iopub.status.busy": "2024-07-28T12:05:30.378936Z",
     "iopub.status.idle": "2024-07-28T12:05:30.411015Z",
     "shell.execute_reply": "2024-07-28T12:05:30.409658Z"
    },
    "papermill": {
     "duration": 0.065838,
     "end_time": "2024-07-28T12:05:30.414025",
     "exception": false,
     "start_time": "2024-07-28T12:05:30.348187",
     "status": "completed"
    },
    "tags": []
   },
   "outputs": [
    {
     "data": {
      "text/html": [
       "<div>\n",
       "<style scoped>\n",
       "    .dataframe tbody tr th:only-of-type {\n",
       "        vertical-align: middle;\n",
       "    }\n",
       "\n",
       "    .dataframe tbody tr th {\n",
       "        vertical-align: top;\n",
       "    }\n",
       "\n",
       "    .dataframe thead th {\n",
       "        text-align: right;\n",
       "    }\n",
       "</style>\n",
       "<table border=\"1\" class=\"dataframe\">\n",
       "  <thead>\n",
       "    <tr style=\"text-align: right;\">\n",
       "      <th></th>\n",
       "      <th>tol</th>\n",
       "      <th>C</th>\n",
       "      <th>random_state</th>\n",
       "      <th>max_iter</th>\n",
       "      <th>train_loss</th>\n",
       "      <th>val_loss</th>\n",
       "    </tr>\n",
       "  </thead>\n",
       "  <tbody>\n",
       "    <tr>\n",
       "      <th>count</th>\n",
       "      <td>2016.000000</td>\n",
       "      <td>2016.00000</td>\n",
       "      <td>2016.0</td>\n",
       "      <td>2016.000000</td>\n",
       "      <td>2016.000000</td>\n",
       "      <td>2016.000000</td>\n",
       "    </tr>\n",
       "    <tr>\n",
       "      <th>mean</th>\n",
       "      <td>1.587301</td>\n",
       "      <td>3.75000</td>\n",
       "      <td>42.0</td>\n",
       "      <td>4500.000000</td>\n",
       "      <td>0.447829</td>\n",
       "      <td>0.513879</td>\n",
       "    </tr>\n",
       "    <tr>\n",
       "      <th>std</th>\n",
       "      <td>3.452014</td>\n",
       "      <td>2.76454</td>\n",
       "      <td>0.0</td>\n",
       "      <td>2291.856335</td>\n",
       "      <td>0.054836</td>\n",
       "      <td>0.028079</td>\n",
       "    </tr>\n",
       "    <tr>\n",
       "      <th>min</th>\n",
       "      <td>0.000010</td>\n",
       "      <td>0.25000</td>\n",
       "      <td>42.0</td>\n",
       "      <td>1000.000000</td>\n",
       "      <td>0.400607</td>\n",
       "      <td>0.486349</td>\n",
       "    </tr>\n",
       "    <tr>\n",
       "      <th>25%</th>\n",
       "      <td>0.000100</td>\n",
       "      <td>1.00000</td>\n",
       "      <td>42.0</td>\n",
       "      <td>2750.000000</td>\n",
       "      <td>0.408121</td>\n",
       "      <td>0.494255</td>\n",
       "    </tr>\n",
       "    <tr>\n",
       "      <th>50%</th>\n",
       "      <td>0.010000</td>\n",
       "      <td>4.00000</td>\n",
       "      <td>42.0</td>\n",
       "      <td>4500.000000</td>\n",
       "      <td>0.418234</td>\n",
       "      <td>0.501439</td>\n",
       "    </tr>\n",
       "    <tr>\n",
       "      <th>75%</th>\n",
       "      <td>1.000000</td>\n",
       "      <td>6.00000</td>\n",
       "      <td>42.0</td>\n",
       "      <td>6250.000000</td>\n",
       "      <td>0.500871</td>\n",
       "      <td>0.530083</td>\n",
       "    </tr>\n",
       "    <tr>\n",
       "      <th>max</th>\n",
       "      <td>10.000000</td>\n",
       "      <td>8.00000</td>\n",
       "      <td>42.0</td>\n",
       "      <td>8000.000000</td>\n",
       "      <td>0.563638</td>\n",
       "      <td>0.580177</td>\n",
       "    </tr>\n",
       "  </tbody>\n",
       "</table>\n",
       "</div>"
      ],
      "text/plain": [
       "               tol           C  random_state     max_iter   train_loss  \\\n",
       "count  2016.000000  2016.00000        2016.0  2016.000000  2016.000000   \n",
       "mean      1.587301     3.75000          42.0  4500.000000     0.447829   \n",
       "std       3.452014     2.76454           0.0  2291.856335     0.054836   \n",
       "min       0.000010     0.25000          42.0  1000.000000     0.400607   \n",
       "25%       0.000100     1.00000          42.0  2750.000000     0.408121   \n",
       "50%       0.010000     4.00000          42.0  4500.000000     0.418234   \n",
       "75%       1.000000     6.00000          42.0  6250.000000     0.500871   \n",
       "max      10.000000     8.00000          42.0  8000.000000     0.563638   \n",
       "\n",
       "          val_loss  \n",
       "count  2016.000000  \n",
       "mean      0.513879  \n",
       "std       0.028079  \n",
       "min       0.486349  \n",
       "25%       0.494255  \n",
       "50%       0.501439  \n",
       "75%       0.530083  \n",
       "max       0.580177  "
      ]
     },
     "execution_count": 34,
     "metadata": {},
     "output_type": "execute_result"
    }
   ],
   "source": [
    "loss_df.describe()"
   ]
  },
  {
   "cell_type": "code",
   "execution_count": 35,
   "id": "65939379",
   "metadata": {
    "execution": {
     "iopub.execute_input": "2024-07-28T12:05:30.476008Z",
     "iopub.status.busy": "2024-07-28T12:05:30.475154Z",
     "iopub.status.idle": "2024-07-28T12:07:20.583775Z",
     "shell.execute_reply": "2024-07-28T12:07:20.582568Z"
    },
    "papermill": {
     "duration": 110.14288,
     "end_time": "2024-07-28T12:07:20.587004",
     "exception": false,
     "start_time": "2024-07-28T12:05:30.444124",
     "status": "completed"
    },
    "tags": []
   },
   "outputs": [],
   "source": [
    "loss_df_l2_solvers = parameter_search(penalty=[\"l2\"],\n",
    "                           dual=[False],\n",
    "                           tol = [1e-5, 1e-4, 1e-3, 1e-2, 1e-1, 1, 10],\n",
    "                           C = [0.25,0.5,1,2,4,5, 6,7,8],\n",
    "                           class_weight=['balanced',None],\n",
    "                           random_state=[42],\n",
    "                           solver=['lbfgs', 'liblinear', 'newton-cg', 'newton-cholesky', 'sag', 'saga'],\n",
    "                           max_iter=[1000,2000,3000,4000,5000,6000,7000,8000])"
   ]
  },
  {
   "cell_type": "code",
   "execution_count": 36,
   "id": "66c5163c",
   "metadata": {
    "execution": {
     "iopub.execute_input": "2024-07-28T12:07:20.648071Z",
     "iopub.status.busy": "2024-07-28T12:07:20.647652Z",
     "iopub.status.idle": "2024-07-28T12:07:20.669166Z",
     "shell.execute_reply": "2024-07-28T12:07:20.668051Z"
    },
    "papermill": {
     "duration": 0.054749,
     "end_time": "2024-07-28T12:07:20.671703",
     "exception": false,
     "start_time": "2024-07-28T12:07:20.616954",
     "status": "completed"
    },
    "tags": []
   },
   "outputs": [
    {
     "data": {
      "text/html": [
       "<div>\n",
       "<style scoped>\n",
       "    .dataframe tbody tr th:only-of-type {\n",
       "        vertical-align: middle;\n",
       "    }\n",
       "\n",
       "    .dataframe tbody tr th {\n",
       "        vertical-align: top;\n",
       "    }\n",
       "\n",
       "    .dataframe thead th {\n",
       "        text-align: right;\n",
       "    }\n",
       "</style>\n",
       "<table border=\"1\" class=\"dataframe\">\n",
       "  <thead>\n",
       "    <tr style=\"text-align: right;\">\n",
       "      <th></th>\n",
       "      <th>penalty</th>\n",
       "      <th>dual</th>\n",
       "      <th>tol</th>\n",
       "      <th>C</th>\n",
       "      <th>class_weight</th>\n",
       "      <th>random_state</th>\n",
       "      <th>solver</th>\n",
       "      <th>max_iter</th>\n",
       "      <th>train_loss</th>\n",
       "      <th>val_loss</th>\n",
       "    </tr>\n",
       "  </thead>\n",
       "  <tbody>\n",
       "    <tr>\n",
       "      <th>0</th>\n",
       "      <td>l2</td>\n",
       "      <td>False</td>\n",
       "      <td>0.00001</td>\n",
       "      <td>0.25</td>\n",
       "      <td>balanced</td>\n",
       "      <td>42</td>\n",
       "      <td>lbfgs</td>\n",
       "      <td>1000</td>\n",
       "      <td>0.427217</td>\n",
       "      <td>0.505167</td>\n",
       "    </tr>\n",
       "    <tr>\n",
       "      <th>1</th>\n",
       "      <td>l2</td>\n",
       "      <td>False</td>\n",
       "      <td>0.00010</td>\n",
       "      <td>0.25</td>\n",
       "      <td>balanced</td>\n",
       "      <td>42</td>\n",
       "      <td>lbfgs</td>\n",
       "      <td>1000</td>\n",
       "      <td>0.427217</td>\n",
       "      <td>0.505167</td>\n",
       "    </tr>\n",
       "    <tr>\n",
       "      <th>2</th>\n",
       "      <td>l2</td>\n",
       "      <td>False</td>\n",
       "      <td>0.00100</td>\n",
       "      <td>0.25</td>\n",
       "      <td>balanced</td>\n",
       "      <td>42</td>\n",
       "      <td>lbfgs</td>\n",
       "      <td>1000</td>\n",
       "      <td>0.427217</td>\n",
       "      <td>0.505167</td>\n",
       "    </tr>\n",
       "    <tr>\n",
       "      <th>3</th>\n",
       "      <td>l2</td>\n",
       "      <td>False</td>\n",
       "      <td>0.01000</td>\n",
       "      <td>0.25</td>\n",
       "      <td>balanced</td>\n",
       "      <td>42</td>\n",
       "      <td>lbfgs</td>\n",
       "      <td>1000</td>\n",
       "      <td>0.427214</td>\n",
       "      <td>0.505172</td>\n",
       "    </tr>\n",
       "    <tr>\n",
       "      <th>4</th>\n",
       "      <td>l2</td>\n",
       "      <td>False</td>\n",
       "      <td>0.10000</td>\n",
       "      <td>0.25</td>\n",
       "      <td>balanced</td>\n",
       "      <td>42</td>\n",
       "      <td>lbfgs</td>\n",
       "      <td>1000</td>\n",
       "      <td>0.427170</td>\n",
       "      <td>0.505069</td>\n",
       "    </tr>\n",
       "    <tr>\n",
       "      <th>...</th>\n",
       "      <td>...</td>\n",
       "      <td>...</td>\n",
       "      <td>...</td>\n",
       "      <td>...</td>\n",
       "      <td>...</td>\n",
       "      <td>...</td>\n",
       "      <td>...</td>\n",
       "      <td>...</td>\n",
       "      <td>...</td>\n",
       "      <td>...</td>\n",
       "    </tr>\n",
       "    <tr>\n",
       "      <th>6043</th>\n",
       "      <td>l2</td>\n",
       "      <td>False</td>\n",
       "      <td>0.00100</td>\n",
       "      <td>8.00</td>\n",
       "      <td>None</td>\n",
       "      <td>42</td>\n",
       "      <td>saga</td>\n",
       "      <td>8000</td>\n",
       "      <td>0.400828</td>\n",
       "      <td>0.501401</td>\n",
       "    </tr>\n",
       "    <tr>\n",
       "      <th>6044</th>\n",
       "      <td>l2</td>\n",
       "      <td>False</td>\n",
       "      <td>0.01000</td>\n",
       "      <td>8.00</td>\n",
       "      <td>None</td>\n",
       "      <td>42</td>\n",
       "      <td>saga</td>\n",
       "      <td>8000</td>\n",
       "      <td>0.402122</td>\n",
       "      <td>0.493368</td>\n",
       "    </tr>\n",
       "    <tr>\n",
       "      <th>6045</th>\n",
       "      <td>l2</td>\n",
       "      <td>False</td>\n",
       "      <td>0.10000</td>\n",
       "      <td>8.00</td>\n",
       "      <td>None</td>\n",
       "      <td>42</td>\n",
       "      <td>saga</td>\n",
       "      <td>8000</td>\n",
       "      <td>0.423866</td>\n",
       "      <td>0.487018</td>\n",
       "    </tr>\n",
       "    <tr>\n",
       "      <th>6046</th>\n",
       "      <td>l2</td>\n",
       "      <td>False</td>\n",
       "      <td>1.00000</td>\n",
       "      <td>8.00</td>\n",
       "      <td>None</td>\n",
       "      <td>42</td>\n",
       "      <td>saga</td>\n",
       "      <td>8000</td>\n",
       "      <td>0.500811</td>\n",
       "      <td>0.530049</td>\n",
       "    </tr>\n",
       "    <tr>\n",
       "      <th>6047</th>\n",
       "      <td>l2</td>\n",
       "      <td>False</td>\n",
       "      <td>10.00000</td>\n",
       "      <td>8.00</td>\n",
       "      <td>None</td>\n",
       "      <td>42</td>\n",
       "      <td>saga</td>\n",
       "      <td>8000</td>\n",
       "      <td>0.500811</td>\n",
       "      <td>0.530049</td>\n",
       "    </tr>\n",
       "  </tbody>\n",
       "</table>\n",
       "<p>6048 rows × 10 columns</p>\n",
       "</div>"
      ],
      "text/plain": [
       "     penalty   dual       tol     C class_weight  random_state solver  \\\n",
       "0         l2  False   0.00001  0.25     balanced            42  lbfgs   \n",
       "1         l2  False   0.00010  0.25     balanced            42  lbfgs   \n",
       "2         l2  False   0.00100  0.25     balanced            42  lbfgs   \n",
       "3         l2  False   0.01000  0.25     balanced            42  lbfgs   \n",
       "4         l2  False   0.10000  0.25     balanced            42  lbfgs   \n",
       "...      ...    ...       ...   ...          ...           ...    ...   \n",
       "6043      l2  False   0.00100  8.00         None            42   saga   \n",
       "6044      l2  False   0.01000  8.00         None            42   saga   \n",
       "6045      l2  False   0.10000  8.00         None            42   saga   \n",
       "6046      l2  False   1.00000  8.00         None            42   saga   \n",
       "6047      l2  False  10.00000  8.00         None            42   saga   \n",
       "\n",
       "      max_iter  train_loss  val_loss  \n",
       "0         1000    0.427217  0.505167  \n",
       "1         1000    0.427217  0.505167  \n",
       "2         1000    0.427217  0.505167  \n",
       "3         1000    0.427214  0.505172  \n",
       "4         1000    0.427170  0.505069  \n",
       "...        ...         ...       ...  \n",
       "6043      8000    0.400828  0.501401  \n",
       "6044      8000    0.402122  0.493368  \n",
       "6045      8000    0.423866  0.487018  \n",
       "6046      8000    0.500811  0.530049  \n",
       "6047      8000    0.500811  0.530049  \n",
       "\n",
       "[6048 rows x 10 columns]"
      ]
     },
     "execution_count": 36,
     "metadata": {},
     "output_type": "execute_result"
    }
   ],
   "source": [
    "loss_df_l2_solvers"
   ]
  },
  {
   "cell_type": "code",
   "execution_count": 37,
   "id": "aea557ad",
   "metadata": {
    "execution": {
     "iopub.execute_input": "2024-07-28T12:07:20.734639Z",
     "iopub.status.busy": "2024-07-28T12:07:20.733531Z",
     "iopub.status.idle": "2024-07-28T12:07:20.764326Z",
     "shell.execute_reply": "2024-07-28T12:07:20.763030Z"
    },
    "papermill": {
     "duration": 0.064275,
     "end_time": "2024-07-28T12:07:20.766999",
     "exception": false,
     "start_time": "2024-07-28T12:07:20.702724",
     "status": "completed"
    },
    "tags": []
   },
   "outputs": [
    {
     "data": {
      "text/html": [
       "<div>\n",
       "<style scoped>\n",
       "    .dataframe tbody tr th:only-of-type {\n",
       "        vertical-align: middle;\n",
       "    }\n",
       "\n",
       "    .dataframe tbody tr th {\n",
       "        vertical-align: top;\n",
       "    }\n",
       "\n",
       "    .dataframe thead th {\n",
       "        text-align: right;\n",
       "    }\n",
       "</style>\n",
       "<table border=\"1\" class=\"dataframe\">\n",
       "  <thead>\n",
       "    <tr style=\"text-align: right;\">\n",
       "      <th></th>\n",
       "      <th>tol</th>\n",
       "      <th>C</th>\n",
       "      <th>random_state</th>\n",
       "      <th>max_iter</th>\n",
       "      <th>train_loss</th>\n",
       "      <th>val_loss</th>\n",
       "    </tr>\n",
       "  </thead>\n",
       "  <tbody>\n",
       "    <tr>\n",
       "      <th>count</th>\n",
       "      <td>6048.000000</td>\n",
       "      <td>6048.000000</td>\n",
       "      <td>6048.0</td>\n",
       "      <td>6048.000000</td>\n",
       "      <td>6048.000000</td>\n",
       "      <td>6048.000000</td>\n",
       "    </tr>\n",
       "    <tr>\n",
       "      <th>mean</th>\n",
       "      <td>1.587301</td>\n",
       "      <td>3.750000</td>\n",
       "      <td>42.0</td>\n",
       "      <td>4500.000000</td>\n",
       "      <td>0.429261</td>\n",
       "      <td>0.506509</td>\n",
       "    </tr>\n",
       "    <tr>\n",
       "      <th>std</th>\n",
       "      <td>3.451443</td>\n",
       "      <td>2.764083</td>\n",
       "      <td>0.0</td>\n",
       "      <td>2291.477296</td>\n",
       "      <td>0.051686</td>\n",
       "      <td>0.032428</td>\n",
       "    </tr>\n",
       "    <tr>\n",
       "      <th>min</th>\n",
       "      <td>0.000010</td>\n",
       "      <td>0.250000</td>\n",
       "      <td>42.0</td>\n",
       "      <td>1000.000000</td>\n",
       "      <td>0.400615</td>\n",
       "      <td>0.483166</td>\n",
       "    </tr>\n",
       "    <tr>\n",
       "      <th>25%</th>\n",
       "      <td>0.000100</td>\n",
       "      <td>1.000000</td>\n",
       "      <td>42.0</td>\n",
       "      <td>2750.000000</td>\n",
       "      <td>0.402806</td>\n",
       "      <td>0.495963</td>\n",
       "    </tr>\n",
       "    <tr>\n",
       "      <th>50%</th>\n",
       "      <td>0.010000</td>\n",
       "      <td>4.000000</td>\n",
       "      <td>42.0</td>\n",
       "      <td>4500.000000</td>\n",
       "      <td>0.415678</td>\n",
       "      <td>0.500559</td>\n",
       "    </tr>\n",
       "    <tr>\n",
       "      <th>75%</th>\n",
       "      <td>1.000000</td>\n",
       "      <td>6.000000</td>\n",
       "      <td>42.0</td>\n",
       "      <td>6250.000000</td>\n",
       "      <td>0.424896</td>\n",
       "      <td>0.502057</td>\n",
       "    </tr>\n",
       "    <tr>\n",
       "      <th>max</th>\n",
       "      <td>10.000000</td>\n",
       "      <td>8.000000</td>\n",
       "      <td>42.0</td>\n",
       "      <td>8000.000000</td>\n",
       "      <td>0.693147</td>\n",
       "      <td>0.693147</td>\n",
       "    </tr>\n",
       "  </tbody>\n",
       "</table>\n",
       "</div>"
      ],
      "text/plain": [
       "               tol            C  random_state     max_iter   train_loss  \\\n",
       "count  6048.000000  6048.000000        6048.0  6048.000000  6048.000000   \n",
       "mean      1.587301     3.750000          42.0  4500.000000     0.429261   \n",
       "std       3.451443     2.764083           0.0  2291.477296     0.051686   \n",
       "min       0.000010     0.250000          42.0  1000.000000     0.400615   \n",
       "25%       0.000100     1.000000          42.0  2750.000000     0.402806   \n",
       "50%       0.010000     4.000000          42.0  4500.000000     0.415678   \n",
       "75%       1.000000     6.000000          42.0  6250.000000     0.424896   \n",
       "max      10.000000     8.000000          42.0  8000.000000     0.693147   \n",
       "\n",
       "          val_loss  \n",
       "count  6048.000000  \n",
       "mean      0.506509  \n",
       "std       0.032428  \n",
       "min       0.483166  \n",
       "25%       0.495963  \n",
       "50%       0.500559  \n",
       "75%       0.502057  \n",
       "max       0.693147  "
      ]
     },
     "execution_count": 37,
     "metadata": {},
     "output_type": "execute_result"
    }
   ],
   "source": [
    "loss_df_l2_solvers.describe()"
   ]
  },
  {
   "cell_type": "markdown",
   "id": "0978c3a9",
   "metadata": {
    "papermill": {
     "duration": 0.033982,
     "end_time": "2024-07-28T12:07:20.832938",
     "exception": false,
     "start_time": "2024-07-28T12:07:20.798956",
     "status": "completed"
    },
    "tags": []
   },
   "source": [
    "Now we can find the optimal parameters, as those that minimize the validation loss. They can be found (for the fixed-solver and fixed-penalty case respectively) as:"
   ]
  },
  {
   "cell_type": "code",
   "execution_count": 38,
   "id": "df0a0c6c",
   "metadata": {
    "execution": {
     "iopub.execute_input": "2024-07-28T12:07:20.895792Z",
     "iopub.status.busy": "2024-07-28T12:07:20.895373Z",
     "iopub.status.idle": "2024-07-28T12:07:20.917303Z",
     "shell.execute_reply": "2024-07-28T12:07:20.916136Z"
    },
    "papermill": {
     "duration": 0.056486,
     "end_time": "2024-07-28T12:07:20.919815",
     "exception": false,
     "start_time": "2024-07-28T12:07:20.863329",
     "status": "completed"
    },
    "tags": []
   },
   "outputs": [
    {
     "data": {
      "text/html": [
       "<div>\n",
       "<style scoped>\n",
       "    .dataframe tbody tr th:only-of-type {\n",
       "        vertical-align: middle;\n",
       "    }\n",
       "\n",
       "    .dataframe tbody tr th {\n",
       "        vertical-align: top;\n",
       "    }\n",
       "\n",
       "    .dataframe thead th {\n",
       "        text-align: right;\n",
       "    }\n",
       "</style>\n",
       "<table border=\"1\" class=\"dataframe\">\n",
       "  <thead>\n",
       "    <tr style=\"text-align: right;\">\n",
       "      <th></th>\n",
       "      <th>penalty</th>\n",
       "      <th>dual</th>\n",
       "      <th>tol</th>\n",
       "      <th>C</th>\n",
       "      <th>class_weight</th>\n",
       "      <th>random_state</th>\n",
       "      <th>solver</th>\n",
       "      <th>max_iter</th>\n",
       "      <th>train_loss</th>\n",
       "      <th>val_loss</th>\n",
       "    </tr>\n",
       "  </thead>\n",
       "  <tbody>\n",
       "    <tr>\n",
       "      <th>1796</th>\n",
       "      <td>l1</td>\n",
       "      <td>False</td>\n",
       "      <td>0.1</td>\n",
       "      <td>8.0</td>\n",
       "      <td>balanced</td>\n",
       "      <td>42</td>\n",
       "      <td>saga</td>\n",
       "      <td>1000</td>\n",
       "      <td>0.436992</td>\n",
       "      <td>0.486349</td>\n",
       "    </tr>\n",
       "    <tr>\n",
       "      <th>1810</th>\n",
       "      <td>l1</td>\n",
       "      <td>False</td>\n",
       "      <td>0.1</td>\n",
       "      <td>8.0</td>\n",
       "      <td>balanced</td>\n",
       "      <td>42</td>\n",
       "      <td>saga</td>\n",
       "      <td>2000</td>\n",
       "      <td>0.436992</td>\n",
       "      <td>0.486349</td>\n",
       "    </tr>\n",
       "    <tr>\n",
       "      <th>1824</th>\n",
       "      <td>l1</td>\n",
       "      <td>False</td>\n",
       "      <td>0.1</td>\n",
       "      <td>8.0</td>\n",
       "      <td>balanced</td>\n",
       "      <td>42</td>\n",
       "      <td>saga</td>\n",
       "      <td>3000</td>\n",
       "      <td>0.436992</td>\n",
       "      <td>0.486349</td>\n",
       "    </tr>\n",
       "    <tr>\n",
       "      <th>1838</th>\n",
       "      <td>l1</td>\n",
       "      <td>False</td>\n",
       "      <td>0.1</td>\n",
       "      <td>8.0</td>\n",
       "      <td>balanced</td>\n",
       "      <td>42</td>\n",
       "      <td>saga</td>\n",
       "      <td>4000</td>\n",
       "      <td>0.436992</td>\n",
       "      <td>0.486349</td>\n",
       "    </tr>\n",
       "    <tr>\n",
       "      <th>1852</th>\n",
       "      <td>l1</td>\n",
       "      <td>False</td>\n",
       "      <td>0.1</td>\n",
       "      <td>8.0</td>\n",
       "      <td>balanced</td>\n",
       "      <td>42</td>\n",
       "      <td>saga</td>\n",
       "      <td>5000</td>\n",
       "      <td>0.436992</td>\n",
       "      <td>0.486349</td>\n",
       "    </tr>\n",
       "    <tr>\n",
       "      <th>1866</th>\n",
       "      <td>l1</td>\n",
       "      <td>False</td>\n",
       "      <td>0.1</td>\n",
       "      <td>8.0</td>\n",
       "      <td>balanced</td>\n",
       "      <td>42</td>\n",
       "      <td>saga</td>\n",
       "      <td>6000</td>\n",
       "      <td>0.436992</td>\n",
       "      <td>0.486349</td>\n",
       "    </tr>\n",
       "    <tr>\n",
       "      <th>1880</th>\n",
       "      <td>l1</td>\n",
       "      <td>False</td>\n",
       "      <td>0.1</td>\n",
       "      <td>8.0</td>\n",
       "      <td>balanced</td>\n",
       "      <td>42</td>\n",
       "      <td>saga</td>\n",
       "      <td>7000</td>\n",
       "      <td>0.436992</td>\n",
       "      <td>0.486349</td>\n",
       "    </tr>\n",
       "    <tr>\n",
       "      <th>1894</th>\n",
       "      <td>l1</td>\n",
       "      <td>False</td>\n",
       "      <td>0.1</td>\n",
       "      <td>8.0</td>\n",
       "      <td>balanced</td>\n",
       "      <td>42</td>\n",
       "      <td>saga</td>\n",
       "      <td>8000</td>\n",
       "      <td>0.436992</td>\n",
       "      <td>0.486349</td>\n",
       "    </tr>\n",
       "  </tbody>\n",
       "</table>\n",
       "</div>"
      ],
      "text/plain": [
       "     penalty   dual  tol    C class_weight  random_state solver  max_iter  \\\n",
       "1796      l1  False  0.1  8.0     balanced            42   saga      1000   \n",
       "1810      l1  False  0.1  8.0     balanced            42   saga      2000   \n",
       "1824      l1  False  0.1  8.0     balanced            42   saga      3000   \n",
       "1838      l1  False  0.1  8.0     balanced            42   saga      4000   \n",
       "1852      l1  False  0.1  8.0     balanced            42   saga      5000   \n",
       "1866      l1  False  0.1  8.0     balanced            42   saga      6000   \n",
       "1880      l1  False  0.1  8.0     balanced            42   saga      7000   \n",
       "1894      l1  False  0.1  8.0     balanced            42   saga      8000   \n",
       "\n",
       "      train_loss  val_loss  \n",
       "1796    0.436992  0.486349  \n",
       "1810    0.436992  0.486349  \n",
       "1824    0.436992  0.486349  \n",
       "1838    0.436992  0.486349  \n",
       "1852    0.436992  0.486349  \n",
       "1866    0.436992  0.486349  \n",
       "1880    0.436992  0.486349  \n",
       "1894    0.436992  0.486349  "
      ]
     },
     "execution_count": 38,
     "metadata": {},
     "output_type": "execute_result"
    }
   ],
   "source": [
    "loss_df[loss_df['val_loss'] == np.min(loss_df['val_loss'])]"
   ]
  },
  {
   "cell_type": "code",
   "execution_count": 39,
   "id": "528b02db",
   "metadata": {
    "execution": {
     "iopub.execute_input": "2024-07-28T12:07:20.983234Z",
     "iopub.status.busy": "2024-07-28T12:07:20.982814Z",
     "iopub.status.idle": "2024-07-28T12:07:21.008640Z",
     "shell.execute_reply": "2024-07-28T12:07:21.007358Z"
    },
    "papermill": {
     "duration": 0.060554,
     "end_time": "2024-07-28T12:07:21.011226",
     "exception": false,
     "start_time": "2024-07-28T12:07:20.950672",
     "status": "completed"
    },
    "tags": []
   },
   "outputs": [
    {
     "data": {
      "text/html": [
       "<div>\n",
       "<style scoped>\n",
       "    .dataframe tbody tr th:only-of-type {\n",
       "        vertical-align: middle;\n",
       "    }\n",
       "\n",
       "    .dataframe tbody tr th {\n",
       "        vertical-align: top;\n",
       "    }\n",
       "\n",
       "    .dataframe thead th {\n",
       "        text-align: right;\n",
       "    }\n",
       "</style>\n",
       "<table border=\"1\" class=\"dataframe\">\n",
       "  <thead>\n",
       "    <tr style=\"text-align: right;\">\n",
       "      <th></th>\n",
       "      <th>penalty</th>\n",
       "      <th>dual</th>\n",
       "      <th>tol</th>\n",
       "      <th>C</th>\n",
       "      <th>class_weight</th>\n",
       "      <th>random_state</th>\n",
       "      <th>solver</th>\n",
       "      <th>max_iter</th>\n",
       "      <th>train_loss</th>\n",
       "      <th>val_loss</th>\n",
       "    </tr>\n",
       "  </thead>\n",
       "  <tbody>\n",
       "    <tr>\n",
       "      <th>5738</th>\n",
       "      <td>l2</td>\n",
       "      <td>False</td>\n",
       "      <td>1.0</td>\n",
       "      <td>8.0</td>\n",
       "      <td>None</td>\n",
       "      <td>42</td>\n",
       "      <td>newton-cholesky</td>\n",
       "      <td>1000</td>\n",
       "      <td>0.424484</td>\n",
       "      <td>0.483166</td>\n",
       "    </tr>\n",
       "    <tr>\n",
       "      <th>5739</th>\n",
       "      <td>l2</td>\n",
       "      <td>False</td>\n",
       "      <td>10.0</td>\n",
       "      <td>8.0</td>\n",
       "      <td>None</td>\n",
       "      <td>42</td>\n",
       "      <td>newton-cholesky</td>\n",
       "      <td>1000</td>\n",
       "      <td>0.424484</td>\n",
       "      <td>0.483166</td>\n",
       "    </tr>\n",
       "    <tr>\n",
       "      <th>5780</th>\n",
       "      <td>l2</td>\n",
       "      <td>False</td>\n",
       "      <td>1.0</td>\n",
       "      <td>8.0</td>\n",
       "      <td>None</td>\n",
       "      <td>42</td>\n",
       "      <td>newton-cholesky</td>\n",
       "      <td>2000</td>\n",
       "      <td>0.424484</td>\n",
       "      <td>0.483166</td>\n",
       "    </tr>\n",
       "    <tr>\n",
       "      <th>5781</th>\n",
       "      <td>l2</td>\n",
       "      <td>False</td>\n",
       "      <td>10.0</td>\n",
       "      <td>8.0</td>\n",
       "      <td>None</td>\n",
       "      <td>42</td>\n",
       "      <td>newton-cholesky</td>\n",
       "      <td>2000</td>\n",
       "      <td>0.424484</td>\n",
       "      <td>0.483166</td>\n",
       "    </tr>\n",
       "    <tr>\n",
       "      <th>5822</th>\n",
       "      <td>l2</td>\n",
       "      <td>False</td>\n",
       "      <td>1.0</td>\n",
       "      <td>8.0</td>\n",
       "      <td>None</td>\n",
       "      <td>42</td>\n",
       "      <td>newton-cholesky</td>\n",
       "      <td>3000</td>\n",
       "      <td>0.424484</td>\n",
       "      <td>0.483166</td>\n",
       "    </tr>\n",
       "    <tr>\n",
       "      <th>5823</th>\n",
       "      <td>l2</td>\n",
       "      <td>False</td>\n",
       "      <td>10.0</td>\n",
       "      <td>8.0</td>\n",
       "      <td>None</td>\n",
       "      <td>42</td>\n",
       "      <td>newton-cholesky</td>\n",
       "      <td>3000</td>\n",
       "      <td>0.424484</td>\n",
       "      <td>0.483166</td>\n",
       "    </tr>\n",
       "    <tr>\n",
       "      <th>5864</th>\n",
       "      <td>l2</td>\n",
       "      <td>False</td>\n",
       "      <td>1.0</td>\n",
       "      <td>8.0</td>\n",
       "      <td>None</td>\n",
       "      <td>42</td>\n",
       "      <td>newton-cholesky</td>\n",
       "      <td>4000</td>\n",
       "      <td>0.424484</td>\n",
       "      <td>0.483166</td>\n",
       "    </tr>\n",
       "    <tr>\n",
       "      <th>5865</th>\n",
       "      <td>l2</td>\n",
       "      <td>False</td>\n",
       "      <td>10.0</td>\n",
       "      <td>8.0</td>\n",
       "      <td>None</td>\n",
       "      <td>42</td>\n",
       "      <td>newton-cholesky</td>\n",
       "      <td>4000</td>\n",
       "      <td>0.424484</td>\n",
       "      <td>0.483166</td>\n",
       "    </tr>\n",
       "    <tr>\n",
       "      <th>5906</th>\n",
       "      <td>l2</td>\n",
       "      <td>False</td>\n",
       "      <td>1.0</td>\n",
       "      <td>8.0</td>\n",
       "      <td>None</td>\n",
       "      <td>42</td>\n",
       "      <td>newton-cholesky</td>\n",
       "      <td>5000</td>\n",
       "      <td>0.424484</td>\n",
       "      <td>0.483166</td>\n",
       "    </tr>\n",
       "    <tr>\n",
       "      <th>5907</th>\n",
       "      <td>l2</td>\n",
       "      <td>False</td>\n",
       "      <td>10.0</td>\n",
       "      <td>8.0</td>\n",
       "      <td>None</td>\n",
       "      <td>42</td>\n",
       "      <td>newton-cholesky</td>\n",
       "      <td>5000</td>\n",
       "      <td>0.424484</td>\n",
       "      <td>0.483166</td>\n",
       "    </tr>\n",
       "    <tr>\n",
       "      <th>5948</th>\n",
       "      <td>l2</td>\n",
       "      <td>False</td>\n",
       "      <td>1.0</td>\n",
       "      <td>8.0</td>\n",
       "      <td>None</td>\n",
       "      <td>42</td>\n",
       "      <td>newton-cholesky</td>\n",
       "      <td>6000</td>\n",
       "      <td>0.424484</td>\n",
       "      <td>0.483166</td>\n",
       "    </tr>\n",
       "    <tr>\n",
       "      <th>5949</th>\n",
       "      <td>l2</td>\n",
       "      <td>False</td>\n",
       "      <td>10.0</td>\n",
       "      <td>8.0</td>\n",
       "      <td>None</td>\n",
       "      <td>42</td>\n",
       "      <td>newton-cholesky</td>\n",
       "      <td>6000</td>\n",
       "      <td>0.424484</td>\n",
       "      <td>0.483166</td>\n",
       "    </tr>\n",
       "    <tr>\n",
       "      <th>5990</th>\n",
       "      <td>l2</td>\n",
       "      <td>False</td>\n",
       "      <td>1.0</td>\n",
       "      <td>8.0</td>\n",
       "      <td>None</td>\n",
       "      <td>42</td>\n",
       "      <td>newton-cholesky</td>\n",
       "      <td>7000</td>\n",
       "      <td>0.424484</td>\n",
       "      <td>0.483166</td>\n",
       "    </tr>\n",
       "    <tr>\n",
       "      <th>5991</th>\n",
       "      <td>l2</td>\n",
       "      <td>False</td>\n",
       "      <td>10.0</td>\n",
       "      <td>8.0</td>\n",
       "      <td>None</td>\n",
       "      <td>42</td>\n",
       "      <td>newton-cholesky</td>\n",
       "      <td>7000</td>\n",
       "      <td>0.424484</td>\n",
       "      <td>0.483166</td>\n",
       "    </tr>\n",
       "    <tr>\n",
       "      <th>6032</th>\n",
       "      <td>l2</td>\n",
       "      <td>False</td>\n",
       "      <td>1.0</td>\n",
       "      <td>8.0</td>\n",
       "      <td>None</td>\n",
       "      <td>42</td>\n",
       "      <td>newton-cholesky</td>\n",
       "      <td>8000</td>\n",
       "      <td>0.424484</td>\n",
       "      <td>0.483166</td>\n",
       "    </tr>\n",
       "    <tr>\n",
       "      <th>6033</th>\n",
       "      <td>l2</td>\n",
       "      <td>False</td>\n",
       "      <td>10.0</td>\n",
       "      <td>8.0</td>\n",
       "      <td>None</td>\n",
       "      <td>42</td>\n",
       "      <td>newton-cholesky</td>\n",
       "      <td>8000</td>\n",
       "      <td>0.424484</td>\n",
       "      <td>0.483166</td>\n",
       "    </tr>\n",
       "  </tbody>\n",
       "</table>\n",
       "</div>"
      ],
      "text/plain": [
       "     penalty   dual   tol    C class_weight  random_state           solver  \\\n",
       "5738      l2  False   1.0  8.0         None            42  newton-cholesky   \n",
       "5739      l2  False  10.0  8.0         None            42  newton-cholesky   \n",
       "5780      l2  False   1.0  8.0         None            42  newton-cholesky   \n",
       "5781      l2  False  10.0  8.0         None            42  newton-cholesky   \n",
       "5822      l2  False   1.0  8.0         None            42  newton-cholesky   \n",
       "5823      l2  False  10.0  8.0         None            42  newton-cholesky   \n",
       "5864      l2  False   1.0  8.0         None            42  newton-cholesky   \n",
       "5865      l2  False  10.0  8.0         None            42  newton-cholesky   \n",
       "5906      l2  False   1.0  8.0         None            42  newton-cholesky   \n",
       "5907      l2  False  10.0  8.0         None            42  newton-cholesky   \n",
       "5948      l2  False   1.0  8.0         None            42  newton-cholesky   \n",
       "5949      l2  False  10.0  8.0         None            42  newton-cholesky   \n",
       "5990      l2  False   1.0  8.0         None            42  newton-cholesky   \n",
       "5991      l2  False  10.0  8.0         None            42  newton-cholesky   \n",
       "6032      l2  False   1.0  8.0         None            42  newton-cholesky   \n",
       "6033      l2  False  10.0  8.0         None            42  newton-cholesky   \n",
       "\n",
       "      max_iter  train_loss  val_loss  \n",
       "5738      1000    0.424484  0.483166  \n",
       "5739      1000    0.424484  0.483166  \n",
       "5780      2000    0.424484  0.483166  \n",
       "5781      2000    0.424484  0.483166  \n",
       "5822      3000    0.424484  0.483166  \n",
       "5823      3000    0.424484  0.483166  \n",
       "5864      4000    0.424484  0.483166  \n",
       "5865      4000    0.424484  0.483166  \n",
       "5906      5000    0.424484  0.483166  \n",
       "5907      5000    0.424484  0.483166  \n",
       "5948      6000    0.424484  0.483166  \n",
       "5949      6000    0.424484  0.483166  \n",
       "5990      7000    0.424484  0.483166  \n",
       "5991      7000    0.424484  0.483166  \n",
       "6032      8000    0.424484  0.483166  \n",
       "6033      8000    0.424484  0.483166  "
      ]
     },
     "execution_count": 39,
     "metadata": {},
     "output_type": "execute_result"
    }
   ],
   "source": [
    "loss_df_l2_solvers[loss_df_l2_solvers['val_loss'] == np.min(loss_df_l2_solvers['val_loss'])]"
   ]
  },
  {
   "cell_type": "markdown",
   "id": "8b003749",
   "metadata": {
    "papermill": {
     "duration": 0.030782,
     "end_time": "2024-07-28T12:07:21.073360",
     "exception": false,
     "start_time": "2024-07-28T12:07:21.042578",
     "status": "completed"
    },
    "tags": []
   },
   "source": [
    "Thus the best model, the one with the lowest training and validation loss, is actually one from the `loss_df_l2_solvers` dataframe (note that there are multiple choices) and can be found as:"
   ]
  },
  {
   "cell_type": "code",
   "execution_count": 40,
   "id": "3ad511fd",
   "metadata": {
    "execution": {
     "iopub.execute_input": "2024-07-28T12:07:21.139421Z",
     "iopub.status.busy": "2024-07-28T12:07:21.138978Z",
     "iopub.status.idle": "2024-07-28T12:07:21.146574Z",
     "shell.execute_reply": "2024-07-28T12:07:21.145188Z"
    },
    "papermill": {
     "duration": 0.042548,
     "end_time": "2024-07-28T12:07:21.148969",
     "exception": false,
     "start_time": "2024-07-28T12:07:21.106421",
     "status": "completed"
    },
    "tags": []
   },
   "outputs": [],
   "source": [
    "best_params = loss_df_l2_solvers[loss_df_l2_solvers['val_loss'] == np.min(loss_df_l2_solvers['val_loss'])].iloc[0]"
   ]
  },
  {
   "cell_type": "code",
   "execution_count": 41,
   "id": "03634d03",
   "metadata": {
    "execution": {
     "iopub.execute_input": "2024-07-28T12:07:21.212961Z",
     "iopub.status.busy": "2024-07-28T12:07:21.212048Z",
     "iopub.status.idle": "2024-07-28T12:07:21.218547Z",
     "shell.execute_reply": "2024-07-28T12:07:21.217082Z"
    },
    "papermill": {
     "duration": 0.041445,
     "end_time": "2024-07-28T12:07:21.221090",
     "exception": false,
     "start_time": "2024-07-28T12:07:21.179645",
     "status": "completed"
    },
    "tags": []
   },
   "outputs": [],
   "source": [
    "classifier = LogisticRegression().set_params(**dict(best_params[:-2]))"
   ]
  },
  {
   "cell_type": "code",
   "execution_count": 42,
   "id": "9fec8a59",
   "metadata": {
    "execution": {
     "iopub.execute_input": "2024-07-28T12:07:21.287176Z",
     "iopub.status.busy": "2024-07-28T12:07:21.285961Z",
     "iopub.status.idle": "2024-07-28T12:07:21.303895Z",
     "shell.execute_reply": "2024-07-28T12:07:21.302456Z"
    },
    "papermill": {
     "duration": 0.053406,
     "end_time": "2024-07-28T12:07:21.306794",
     "exception": false,
     "start_time": "2024-07-28T12:07:21.253388",
     "status": "completed"
    },
    "tags": []
   },
   "outputs": [
    {
     "data": {
      "text/html": [
       "<style>#sk-container-id-1 {color: black;background-color: white;}#sk-container-id-1 pre{padding: 0;}#sk-container-id-1 div.sk-toggleable {background-color: white;}#sk-container-id-1 label.sk-toggleable__label {cursor: pointer;display: block;width: 100%;margin-bottom: 0;padding: 0.3em;box-sizing: border-box;text-align: center;}#sk-container-id-1 label.sk-toggleable__label-arrow:before {content: \"▸\";float: left;margin-right: 0.25em;color: #696969;}#sk-container-id-1 label.sk-toggleable__label-arrow:hover:before {color: black;}#sk-container-id-1 div.sk-estimator:hover label.sk-toggleable__label-arrow:before {color: black;}#sk-container-id-1 div.sk-toggleable__content {max-height: 0;max-width: 0;overflow: hidden;text-align: left;background-color: #f0f8ff;}#sk-container-id-1 div.sk-toggleable__content pre {margin: 0.2em;color: black;border-radius: 0.25em;background-color: #f0f8ff;}#sk-container-id-1 input.sk-toggleable__control:checked~div.sk-toggleable__content {max-height: 200px;max-width: 100%;overflow: auto;}#sk-container-id-1 input.sk-toggleable__control:checked~label.sk-toggleable__label-arrow:before {content: \"▾\";}#sk-container-id-1 div.sk-estimator input.sk-toggleable__control:checked~label.sk-toggleable__label {background-color: #d4ebff;}#sk-container-id-1 div.sk-label input.sk-toggleable__control:checked~label.sk-toggleable__label {background-color: #d4ebff;}#sk-container-id-1 input.sk-hidden--visually {border: 0;clip: rect(1px 1px 1px 1px);clip: rect(1px, 1px, 1px, 1px);height: 1px;margin: -1px;overflow: hidden;padding: 0;position: absolute;width: 1px;}#sk-container-id-1 div.sk-estimator {font-family: monospace;background-color: #f0f8ff;border: 1px dotted black;border-radius: 0.25em;box-sizing: border-box;margin-bottom: 0.5em;}#sk-container-id-1 div.sk-estimator:hover {background-color: #d4ebff;}#sk-container-id-1 div.sk-parallel-item::after {content: \"\";width: 100%;border-bottom: 1px solid gray;flex-grow: 1;}#sk-container-id-1 div.sk-label:hover label.sk-toggleable__label {background-color: #d4ebff;}#sk-container-id-1 div.sk-serial::before {content: \"\";position: absolute;border-left: 1px solid gray;box-sizing: border-box;top: 0;bottom: 0;left: 50%;z-index: 0;}#sk-container-id-1 div.sk-serial {display: flex;flex-direction: column;align-items: center;background-color: white;padding-right: 0.2em;padding-left: 0.2em;position: relative;}#sk-container-id-1 div.sk-item {position: relative;z-index: 1;}#sk-container-id-1 div.sk-parallel {display: flex;align-items: stretch;justify-content: center;background-color: white;position: relative;}#sk-container-id-1 div.sk-item::before, #sk-container-id-1 div.sk-parallel-item::before {content: \"\";position: absolute;border-left: 1px solid gray;box-sizing: border-box;top: 0;bottom: 0;left: 50%;z-index: -1;}#sk-container-id-1 div.sk-parallel-item {display: flex;flex-direction: column;z-index: 1;position: relative;background-color: white;}#sk-container-id-1 div.sk-parallel-item:first-child::after {align-self: flex-end;width: 50%;}#sk-container-id-1 div.sk-parallel-item:last-child::after {align-self: flex-start;width: 50%;}#sk-container-id-1 div.sk-parallel-item:only-child::after {width: 0;}#sk-container-id-1 div.sk-dashed-wrapped {border: 1px dashed gray;margin: 0 0.4em 0.5em 0.4em;box-sizing: border-box;padding-bottom: 0.4em;background-color: white;}#sk-container-id-1 div.sk-label label {font-family: monospace;font-weight: bold;display: inline-block;line-height: 1.2em;}#sk-container-id-1 div.sk-label-container {text-align: center;}#sk-container-id-1 div.sk-container {/* jupyter's `normalize.less` sets `[hidden] { display: none; }` but bootstrap.min.css set `[hidden] { display: none !important; }` so we also need the `!important` here to be able to override the default hidden behavior on the sphinx rendered scikit-learn.org. See: https://github.com/scikit-learn/scikit-learn/issues/21755 */display: inline-block !important;position: relative;}#sk-container-id-1 div.sk-text-repr-fallback {display: none;}</style><div id=\"sk-container-id-1\" class=\"sk-top-container\"><div class=\"sk-text-repr-fallback\"><pre>LogisticRegression(C=8.0, max_iter=1000, random_state=42,\n",
       "                   solver=&#x27;newton-cholesky&#x27;, tol=1.0)</pre><b>In a Jupyter environment, please rerun this cell to show the HTML representation or trust the notebook. <br />On GitHub, the HTML representation is unable to render, please try loading this page with nbviewer.org.</b></div><div class=\"sk-container\" hidden><div class=\"sk-item\"><div class=\"sk-estimator sk-toggleable\"><input class=\"sk-toggleable__control sk-hidden--visually\" id=\"sk-estimator-id-1\" type=\"checkbox\" checked><label for=\"sk-estimator-id-1\" class=\"sk-toggleable__label sk-toggleable__label-arrow\">LogisticRegression</label><div class=\"sk-toggleable__content\"><pre>LogisticRegression(C=8.0, max_iter=1000, random_state=42,\n",
       "                   solver=&#x27;newton-cholesky&#x27;, tol=1.0)</pre></div></div></div></div></div>"
      ],
      "text/plain": [
       "LogisticRegression(C=8.0, max_iter=1000, random_state=42,\n",
       "                   solver='newton-cholesky', tol=1.0)"
      ]
     },
     "execution_count": 42,
     "metadata": {},
     "output_type": "execute_result"
    }
   ],
   "source": [
    "classifier.fit(X_train, y_train)"
   ]
  },
  {
   "cell_type": "code",
   "execution_count": 43,
   "id": "33e7f5a3",
   "metadata": {
    "execution": {
     "iopub.execute_input": "2024-07-28T12:07:21.372549Z",
     "iopub.status.busy": "2024-07-28T12:07:21.371126Z",
     "iopub.status.idle": "2024-07-28T12:07:21.383373Z",
     "shell.execute_reply": "2024-07-28T12:07:21.382157Z"
    },
    "papermill": {
     "duration": 0.04745,
     "end_time": "2024-07-28T12:07:21.385884",
     "exception": false,
     "start_time": "2024-07-28T12:07:21.338434",
     "status": "completed"
    },
    "tags": []
   },
   "outputs": [
    {
     "name": "stdout",
     "output_type": "stream",
     "text": [
      "The loss on the test dataset is: 0.4705253393082119\n"
     ]
    }
   ],
   "source": [
    "y_pred_test = classifier.predict_proba(X_test)\n",
    "print(\"The loss on the test dataset is:\",log_loss(y_test, y_pred_test, normalize=True))"
   ]
  },
  {
   "cell_type": "code",
   "execution_count": 44,
   "id": "663ad3bb",
   "metadata": {
    "execution": {
     "iopub.execute_input": "2024-07-28T12:07:21.450036Z",
     "iopub.status.busy": "2024-07-28T12:07:21.449652Z",
     "iopub.status.idle": "2024-07-28T12:07:21.466608Z",
     "shell.execute_reply": "2024-07-28T12:07:21.465491Z"
    },
    "papermill": {
     "duration": 0.05201,
     "end_time": "2024-07-28T12:07:21.469105",
     "exception": false,
     "start_time": "2024-07-28T12:07:21.417095",
     "status": "completed"
    },
    "tags": []
   },
   "outputs": [
    {
     "name": "stdout",
     "output_type": "stream",
     "text": [
      "The train accuracy is: 0.8276553106212425\n",
      "The validation accuracy is: 0.7964071856287425\n",
      "The test accuracy is: 0.8026905829596412\n"
     ]
    }
   ],
   "source": [
    "print(\"The train accuracy is:\", classifier.score(X_train, y_train))\n",
    "print(\"The validation accuracy is:\", classifier.score(X_val, y_val))\n",
    "print(\"The test accuracy is:\", classifier.score(X_test, y_test))"
   ]
  },
  {
   "cell_type": "code",
   "execution_count": 45,
   "id": "2e7037de",
   "metadata": {
    "execution": {
     "iopub.execute_input": "2024-07-28T12:07:21.533796Z",
     "iopub.status.busy": "2024-07-28T12:07:21.533385Z",
     "iopub.status.idle": "2024-07-28T12:07:21.540824Z",
     "shell.execute_reply": "2024-07-28T12:07:21.539814Z"
    },
    "papermill": {
     "duration": 0.042802,
     "end_time": "2024-07-28T12:07:21.543532",
     "exception": false,
     "start_time": "2024-07-28T12:07:21.500730",
     "status": "completed"
    },
    "tags": []
   },
   "outputs": [],
   "source": [
    "y_pred = classifier.predict(submission_dataset)"
   ]
  },
  {
   "cell_type": "code",
   "execution_count": 46,
   "id": "d8c44461",
   "metadata": {
    "execution": {
     "iopub.execute_input": "2024-07-28T12:07:21.608573Z",
     "iopub.status.busy": "2024-07-28T12:07:21.607682Z",
     "iopub.status.idle": "2024-07-28T12:07:21.613545Z",
     "shell.execute_reply": "2024-07-28T12:07:21.612423Z"
    },
    "papermill": {
     "duration": 0.041204,
     "end_time": "2024-07-28T12:07:21.616224",
     "exception": false,
     "start_time": "2024-07-28T12:07:21.575020",
     "status": "completed"
    },
    "tags": []
   },
   "outputs": [],
   "source": [
    "submission_dataset['Survived'] = y_pred"
   ]
  },
  {
   "cell_type": "code",
   "execution_count": 47,
   "id": "0c8d3efe",
   "metadata": {
    "execution": {
     "iopub.execute_input": "2024-07-28T12:07:21.682289Z",
     "iopub.status.busy": "2024-07-28T12:07:21.681893Z",
     "iopub.status.idle": "2024-07-28T12:07:21.692096Z",
     "shell.execute_reply": "2024-07-28T12:07:21.690759Z"
    },
    "papermill": {
     "duration": 0.047116,
     "end_time": "2024-07-28T12:07:21.694867",
     "exception": false,
     "start_time": "2024-07-28T12:07:21.647751",
     "status": "completed"
    },
    "tags": []
   },
   "outputs": [],
   "source": [
    "submission_dataset['Survived'].to_csv('submission.csv', index=True,header=True)"
   ]
  }
 ],
 "metadata": {
  "kaggle": {
   "accelerator": "none",
   "dataSources": [
    {
     "databundleVersionId": 26502,
     "sourceId": 3136,
     "sourceType": "competition"
    }
   ],
   "dockerImageVersionId": 30746,
   "isGpuEnabled": false,
   "isInternetEnabled": false,
   "language": "python",
   "sourceType": "notebook"
  },
  "kernelspec": {
   "display_name": "Python 3",
   "language": "python",
   "name": "python3"
  },
  "language_info": {
   "codemirror_mode": {
    "name": "ipython",
    "version": 3
   },
   "file_extension": ".py",
   "mimetype": "text/x-python",
   "name": "python",
   "nbconvert_exporter": "python",
   "pygments_lexer": "ipython3",
   "version": "3.10.13"
  },
  "papermill": {
   "default_parameters": {},
   "duration": 192.921939,
   "end_time": "2024-07-28T12:07:22.452772",
   "environment_variables": {},
   "exception": null,
   "input_path": "__notebook__.ipynb",
   "output_path": "__notebook__.ipynb",
   "parameters": {},
   "start_time": "2024-07-28T12:04:09.530833",
   "version": "2.5.0"
  }
 },
 "nbformat": 4,
 "nbformat_minor": 5
}
