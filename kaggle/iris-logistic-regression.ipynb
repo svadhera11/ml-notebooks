{
 "cells": [
  {
   "cell_type": "markdown",
   "id": "979f4c67",
   "metadata": {
    "papermill": {
     "duration": 0.007318,
     "end_time": "2024-07-29T11:49:12.061257",
     "exception": false,
     "start_time": "2024-07-29T11:49:12.053939",
     "status": "completed"
    },
    "tags": []
   },
   "source": [
    "# Iris Dataset Classification Using Logistic Regression\n",
    "- This is a multi-class logistic regression problem.\n",
    "- While there are several ways to handle a multi-class classification (OvR, OvO, and multinomial logistic regression) we use multinomial logistic regression.\n",
    "- The loss function is the log-loss function, implemented in `sklearn.metrics.log_loss`.\n",
    "- The obvious candidates for feature engineering (such as sepal and petal area) did improve the loss, but could not improve performance in terms of accuracy or F1 score. Thus, the attempts at feature engineering have not been included here.\n",
    "- The performance on the test set was measured using the confusion matrix, and metrics such as precision, recall, and F1 score (macro/weighted), implemented in `sklearn.metrics.classification_report`"
   ]
  },
  {
   "cell_type": "code",
   "execution_count": 1,
   "id": "50705870",
   "metadata": {
    "_cell_guid": "b1076dfc-b9ad-4769-8c92-a6c4dae69d19",
    "_uuid": "8f2839f25d086af736a60e9eeb907d3b93b6e0e5",
    "execution": {
     "iopub.execute_input": "2024-07-29T11:49:12.077138Z",
     "iopub.status.busy": "2024-07-29T11:49:12.076724Z",
     "iopub.status.idle": "2024-07-29T11:49:14.505863Z",
     "shell.execute_reply": "2024-07-29T11:49:14.504418Z"
    },
    "papermill": {
     "duration": 2.440303,
     "end_time": "2024-07-29T11:49:14.508583",
     "exception": false,
     "start_time": "2024-07-29T11:49:12.068280",
     "status": "completed"
    },
    "tags": []
   },
   "outputs": [
    {
     "name": "stdout",
     "output_type": "stream",
     "text": [
      "/kaggle/input/iris-flower-dataset/IRIS.csv\n"
     ]
    }
   ],
   "source": [
    "# This Python 3 environment comes with many helpful analytics libraries installed\n",
    "# It is defined by the kaggle/python Docker image: https://github.com/kaggle/docker-python\n",
    "# For example, here's several helpful packages to load\n",
    "\n",
    "import numpy as np # linear algebra\n",
    "import pandas as pd # data processing, CSV file I/O (e.g. pd.read_csv)\n",
    "import matplotlib.pyplot as plt\n",
    "import seaborn as sns\n",
    "# Input data files are available in the read-only \"../input/\" directory\n",
    "# For example, running this (by clicking run or pressing Shift+Enter) will list all files under the input directory\n",
    "\n",
    "import os\n",
    "for dirname, _, filenames in os.walk('/kaggle/input'):\n",
    "    for filename in filenames:\n",
    "        print(os.path.join(dirname, filename))\n",
    "\n",
    "# You can write up to 20GB to the current directory (/kaggle/working/) that gets preserved as output when you create a version using \"Save & Run All\" \n",
    "# You can also write temporary files to /kaggle/temp/, but they won't be saved outside of the current session"
   ]
  },
  {
   "cell_type": "code",
   "execution_count": 2,
   "id": "7b60054c",
   "metadata": {
    "execution": {
     "iopub.execute_input": "2024-07-29T11:49:14.525048Z",
     "iopub.status.busy": "2024-07-29T11:49:14.524502Z",
     "iopub.status.idle": "2024-07-29T11:49:14.544608Z",
     "shell.execute_reply": "2024-07-29T11:49:14.543549Z"
    },
    "papermill": {
     "duration": 0.031261,
     "end_time": "2024-07-29T11:49:14.547165",
     "exception": false,
     "start_time": "2024-07-29T11:49:14.515904",
     "status": "completed"
    },
    "tags": []
   },
   "outputs": [],
   "source": [
    "iris_dataset = pd.read_csv('/kaggle/input/iris-flower-dataset/IRIS.csv')"
   ]
  },
  {
   "cell_type": "code",
   "execution_count": 3,
   "id": "7f2675e6",
   "metadata": {
    "execution": {
     "iopub.execute_input": "2024-07-29T11:49:14.563527Z",
     "iopub.status.busy": "2024-07-29T11:49:14.562826Z",
     "iopub.status.idle": "2024-07-29T11:49:14.599288Z",
     "shell.execute_reply": "2024-07-29T11:49:14.598038Z"
    },
    "papermill": {
     "duration": 0.048365,
     "end_time": "2024-07-29T11:49:14.602693",
     "exception": false,
     "start_time": "2024-07-29T11:49:14.554328",
     "status": "completed"
    },
    "tags": []
   },
   "outputs": [
    {
     "name": "stdout",
     "output_type": "stream",
     "text": [
      "<class 'pandas.core.frame.DataFrame'>\n",
      "RangeIndex: 150 entries, 0 to 149\n",
      "Data columns (total 5 columns):\n",
      " #   Column        Non-Null Count  Dtype  \n",
      "---  ------        --------------  -----  \n",
      " 0   sepal_length  150 non-null    float64\n",
      " 1   sepal_width   150 non-null    float64\n",
      " 2   petal_length  150 non-null    float64\n",
      " 3   petal_width   150 non-null    float64\n",
      " 4   species       150 non-null    object \n",
      "dtypes: float64(4), object(1)\n",
      "memory usage: 6.0+ KB\n"
     ]
    }
   ],
   "source": [
    "iris_dataset.info() # no null values. No need to preprocess nulls."
   ]
  },
  {
   "cell_type": "markdown",
   "id": "cb88dcaa",
   "metadata": {
    "papermill": {
     "duration": 0.007423,
     "end_time": "2024-07-29T11:49:14.617314",
     "exception": false,
     "start_time": "2024-07-29T11:49:14.609891",
     "status": "completed"
    },
    "tags": []
   },
   "source": [
    "## Looking at the Data"
   ]
  },
  {
   "cell_type": "markdown",
   "id": "97823e67",
   "metadata": {
    "papermill": {
     "duration": 0.00691,
     "end_time": "2024-07-29T11:49:14.631449",
     "exception": false,
     "start_time": "2024-07-29T11:49:14.624539",
     "status": "completed"
    },
    "tags": []
   },
   "source": [
    "### Performing the Train/Validation/Test split"
   ]
  },
  {
   "cell_type": "code",
   "execution_count": 4,
   "id": "6cfb7801",
   "metadata": {
    "execution": {
     "iopub.execute_input": "2024-07-29T11:49:14.647626Z",
     "iopub.status.busy": "2024-07-29T11:49:14.647251Z",
     "iopub.status.idle": "2024-07-29T11:49:15.055970Z",
     "shell.execute_reply": "2024-07-29T11:49:15.054582Z"
    },
    "papermill": {
     "duration": 0.41991,
     "end_time": "2024-07-29T11:49:15.058593",
     "exception": false,
     "start_time": "2024-07-29T11:49:14.638683",
     "status": "completed"
    },
    "tags": []
   },
   "outputs": [
    {
     "name": "stdout",
     "output_type": "stream",
     "text": [
      "The shape of the training data is: X_train=(90, 4), y_train = (90,)\n",
      "The shape of the validation data is: X_val=(30, 4), y_val = (30,)\n",
      "The shape of the testing data is: X_test = (30, 4), y_test = (30,)\n"
     ]
    }
   ],
   "source": [
    "from sklearn.model_selection import train_test_split\n",
    "X, X_test, y, y_test = train_test_split(iris_dataset.drop('species',axis=1),\n",
    "                                       iris_dataset['species'],\n",
    "                                       test_size = 0.2,\n",
    "                                       random_state = 42,\n",
    "                                       stratify = iris_dataset['species'])\n",
    "X_train, X_val, y_train, y_val = train_test_split(X, y, test_size=0.25,\n",
    "                                                 random_state=42, stratify=y)\n",
    "print(f\"The shape of the training data is: X_train={X_train.shape}, y_train = {y_train.shape}\")\n",
    "print(f\"The shape of the validation data is: X_val={X_val.shape}, y_val = {y_val.shape}\")\n",
    "print(f\"The shape of the testing data is: X_test = {X_test.shape}, y_test = {y_test.shape}\")"
   ]
  },
  {
   "cell_type": "code",
   "execution_count": 5,
   "id": "b67447c3",
   "metadata": {
    "execution": {
     "iopub.execute_input": "2024-07-29T11:49:15.075899Z",
     "iopub.status.busy": "2024-07-29T11:49:15.075458Z",
     "iopub.status.idle": "2024-07-29T11:49:15.082299Z",
     "shell.execute_reply": "2024-07-29T11:49:15.080792Z"
    },
    "papermill": {
     "duration": 0.019131,
     "end_time": "2024-07-29T11:49:15.085041",
     "exception": false,
     "start_time": "2024-07-29T11:49:15.065910",
     "status": "completed"
    },
    "tags": []
   },
   "outputs": [],
   "source": [
    "# these will be used later, when we try to solve the problem using some additional features\n",
    "X_train2 = X_train.copy()\n",
    "X_val2 = X_val.copy()\n",
    "y_train2 = y_train.copy()\n",
    "y_val2 = y_val.copy()"
   ]
  },
  {
   "cell_type": "code",
   "execution_count": 6,
   "id": "1af386f2",
   "metadata": {
    "execution": {
     "iopub.execute_input": "2024-07-29T11:49:15.101851Z",
     "iopub.status.busy": "2024-07-29T11:49:15.101350Z",
     "iopub.status.idle": "2024-07-29T11:49:15.116261Z",
     "shell.execute_reply": "2024-07-29T11:49:15.114443Z"
    },
    "papermill": {
     "duration": 0.026397,
     "end_time": "2024-07-29T11:49:15.118716",
     "exception": false,
     "start_time": "2024-07-29T11:49:15.092319",
     "status": "completed"
    },
    "tags": []
   },
   "outputs": [
    {
     "name": "stdout",
     "output_type": "stream",
     "text": [
      "<class 'pandas.core.frame.DataFrame'>\n",
      "Index: 90 entries, 124 to 88\n",
      "Data columns (total 4 columns):\n",
      " #   Column        Non-Null Count  Dtype  \n",
      "---  ------        --------------  -----  \n",
      " 0   sepal_length  90 non-null     float64\n",
      " 1   sepal_width   90 non-null     float64\n",
      " 2   petal_length  90 non-null     float64\n",
      " 3   petal_width   90 non-null     float64\n",
      "dtypes: float64(4)\n",
      "memory usage: 3.5 KB\n"
     ]
    }
   ],
   "source": [
    "X_train.info()"
   ]
  },
  {
   "cell_type": "code",
   "execution_count": 7,
   "id": "61e67c65",
   "metadata": {
    "execution": {
     "iopub.execute_input": "2024-07-29T11:49:15.136195Z",
     "iopub.status.busy": "2024-07-29T11:49:15.135805Z",
     "iopub.status.idle": "2024-07-29T11:49:15.141169Z",
     "shell.execute_reply": "2024-07-29T11:49:15.140015Z"
    },
    "papermill": {
     "duration": 0.016904,
     "end_time": "2024-07-29T11:49:15.143578",
     "exception": false,
     "start_time": "2024-07-29T11:49:15.126674",
     "status": "completed"
    },
    "tags": []
   },
   "outputs": [],
   "source": [
    "from sklearn.preprocessing import StandardScaler\n",
    "scaler = StandardScaler()"
   ]
  },
  {
   "cell_type": "code",
   "execution_count": 8,
   "id": "3538017d",
   "metadata": {
    "execution": {
     "iopub.execute_input": "2024-07-29T11:49:15.160511Z",
     "iopub.status.busy": "2024-07-29T11:49:15.159552Z",
     "iopub.status.idle": "2024-07-29T11:49:15.175745Z",
     "shell.execute_reply": "2024-07-29T11:49:15.174659Z"
    },
    "papermill": {
     "duration": 0.027427,
     "end_time": "2024-07-29T11:49:15.178343",
     "exception": false,
     "start_time": "2024-07-29T11:49:15.150916",
     "status": "completed"
    },
    "tags": []
   },
   "outputs": [],
   "source": [
    "cols = X_train.columns\n",
    "X_train = pd.DataFrame(scaler.fit_transform(X_train))\n",
    "X_train.columns = cols\n",
    "\n",
    "cols = X_val.columns\n",
    "X_val = pd.DataFrame(scaler.transform(X_val))\n",
    "X_val.columns = cols\n",
    "\n",
    "cols = X_test.columns\n",
    "X_test = pd.DataFrame(scaler.transform(X_test))\n",
    "X_test.columns = cols\n"
   ]
  },
  {
   "cell_type": "code",
   "execution_count": 9,
   "id": "d25d2e9c",
   "metadata": {
    "execution": {
     "iopub.execute_input": "2024-07-29T11:49:15.194629Z",
     "iopub.status.busy": "2024-07-29T11:49:15.194232Z",
     "iopub.status.idle": "2024-07-29T11:49:15.226051Z",
     "shell.execute_reply": "2024-07-29T11:49:15.224967Z"
    },
    "papermill": {
     "duration": 0.042868,
     "end_time": "2024-07-29T11:49:15.228540",
     "exception": false,
     "start_time": "2024-07-29T11:49:15.185672",
     "status": "completed"
    },
    "tags": []
   },
   "outputs": [
    {
     "data": {
      "text/html": [
       "<div>\n",
       "<style scoped>\n",
       "    .dataframe tbody tr th:only-of-type {\n",
       "        vertical-align: middle;\n",
       "    }\n",
       "\n",
       "    .dataframe tbody tr th {\n",
       "        vertical-align: top;\n",
       "    }\n",
       "\n",
       "    .dataframe thead th {\n",
       "        text-align: right;\n",
       "    }\n",
       "</style>\n",
       "<table border=\"1\" class=\"dataframe\">\n",
       "  <thead>\n",
       "    <tr style=\"text-align: right;\">\n",
       "      <th></th>\n",
       "      <th>sepal_length</th>\n",
       "      <th>sepal_width</th>\n",
       "      <th>petal_length</th>\n",
       "      <th>petal_width</th>\n",
       "    </tr>\n",
       "  </thead>\n",
       "  <tbody>\n",
       "    <tr>\n",
       "      <th>count</th>\n",
       "      <td>9.000000e+01</td>\n",
       "      <td>9.000000e+01</td>\n",
       "      <td>9.000000e+01</td>\n",
       "      <td>9.000000e+01</td>\n",
       "    </tr>\n",
       "    <tr>\n",
       "      <th>mean</th>\n",
       "      <td>7.524845e-16</td>\n",
       "      <td>-7.767321e-16</td>\n",
       "      <td>4.656769e-17</td>\n",
       "      <td>1.662251e-16</td>\n",
       "    </tr>\n",
       "    <tr>\n",
       "      <th>std</th>\n",
       "      <td>1.005602e+00</td>\n",
       "      <td>1.005602e+00</td>\n",
       "      <td>1.005602e+00</td>\n",
       "      <td>1.005602e+00</td>\n",
       "    </tr>\n",
       "    <tr>\n",
       "      <th>min</th>\n",
       "      <td>-1.784077e+00</td>\n",
       "      <td>-2.461613e+00</td>\n",
       "      <td>-1.506295e+00</td>\n",
       "      <td>-1.445697e+00</td>\n",
       "    </tr>\n",
       "    <tr>\n",
       "      <th>25%</th>\n",
       "      <td>-8.552731e-01</td>\n",
       "      <td>-6.907172e-01</td>\n",
       "      <td>-1.222326e+00</td>\n",
       "      <td>-1.182044e+00</td>\n",
       "    </tr>\n",
       "    <tr>\n",
       "      <th>50%</th>\n",
       "      <td>-1.006204e-01</td>\n",
       "      <td>-1.899812e-02</td>\n",
       "      <td>2.827063e-01</td>\n",
       "      <td>1.362206e-01</td>\n",
       "    </tr>\n",
       "    <tr>\n",
       "      <th>75%</th>\n",
       "      <td>6.540324e-01</td>\n",
       "      <td>4.695249e-01</td>\n",
       "      <td>7.654527e-01</td>\n",
       "      <td>7.953528e-01</td>\n",
       "    </tr>\n",
       "    <tr>\n",
       "      <th>max</th>\n",
       "      <td>2.395539e+00</td>\n",
       "      <td>2.179355e+00</td>\n",
       "      <td>1.787739e+00</td>\n",
       "      <td>1.718138e+00</td>\n",
       "    </tr>\n",
       "  </tbody>\n",
       "</table>\n",
       "</div>"
      ],
      "text/plain": [
       "       sepal_length   sepal_width  petal_length   petal_width\n",
       "count  9.000000e+01  9.000000e+01  9.000000e+01  9.000000e+01\n",
       "mean   7.524845e-16 -7.767321e-16  4.656769e-17  1.662251e-16\n",
       "std    1.005602e+00  1.005602e+00  1.005602e+00  1.005602e+00\n",
       "min   -1.784077e+00 -2.461613e+00 -1.506295e+00 -1.445697e+00\n",
       "25%   -8.552731e-01 -6.907172e-01 -1.222326e+00 -1.182044e+00\n",
       "50%   -1.006204e-01 -1.899812e-02  2.827063e-01  1.362206e-01\n",
       "75%    6.540324e-01  4.695249e-01  7.654527e-01  7.953528e-01\n",
       "max    2.395539e+00  2.179355e+00  1.787739e+00  1.718138e+00"
      ]
     },
     "execution_count": 9,
     "metadata": {},
     "output_type": "execute_result"
    }
   ],
   "source": [
    "X_train.describe()"
   ]
  },
  {
   "cell_type": "code",
   "execution_count": 10,
   "id": "b976d91a",
   "metadata": {
    "execution": {
     "iopub.execute_input": "2024-07-29T11:49:15.245368Z",
     "iopub.status.busy": "2024-07-29T11:49:15.244994Z",
     "iopub.status.idle": "2024-07-29T11:49:15.253631Z",
     "shell.execute_reply": "2024-07-29T11:49:15.252516Z"
    },
    "papermill": {
     "duration": 0.019723,
     "end_time": "2024-07-29T11:49:15.255929",
     "exception": false,
     "start_time": "2024-07-29T11:49:15.236206",
     "status": "completed"
    },
    "tags": []
   },
   "outputs": [
    {
     "data": {
      "text/plain": [
       "species\n",
       "Iris-virginica     30\n",
       "Iris-setosa        30\n",
       "Iris-versicolor    30\n",
       "Name: count, dtype: int64"
      ]
     },
     "execution_count": 10,
     "metadata": {},
     "output_type": "execute_result"
    }
   ],
   "source": [
    "y_train.value_counts()"
   ]
  },
  {
   "cell_type": "code",
   "execution_count": 11,
   "id": "dde89a97",
   "metadata": {
    "execution": {
     "iopub.execute_input": "2024-07-29T11:49:15.274351Z",
     "iopub.status.busy": "2024-07-29T11:49:15.273910Z",
     "iopub.status.idle": "2024-07-29T11:49:15.279899Z",
     "shell.execute_reply": "2024-07-29T11:49:15.278706Z"
    },
    "papermill": {
     "duration": 0.018504,
     "end_time": "2024-07-29T11:49:15.282281",
     "exception": false,
     "start_time": "2024-07-29T11:49:15.263777",
     "status": "completed"
    },
    "tags": []
   },
   "outputs": [],
   "source": [
    "import seaborn as sns\n",
    "import matplotlib.pyplot as plt\n",
    "import warnings\n",
    "warnings.filterwarnings(\"ignore\", category=FutureWarning, module=\"seaborn._oldcore\")"
   ]
  },
  {
   "cell_type": "code",
   "execution_count": 12,
   "id": "b92eca4e",
   "metadata": {
    "execution": {
     "iopub.execute_input": "2024-07-29T11:49:15.299969Z",
     "iopub.status.busy": "2024-07-29T11:49:15.298882Z",
     "iopub.status.idle": "2024-07-29T11:49:15.305987Z",
     "shell.execute_reply": "2024-07-29T11:49:15.304835Z"
    },
    "papermill": {
     "duration": 0.018183,
     "end_time": "2024-07-29T11:49:15.308108",
     "exception": false,
     "start_time": "2024-07-29T11:49:15.289925",
     "status": "completed"
    },
    "tags": []
   },
   "outputs": [],
   "source": [
    "show_data=X_train.copy()\n",
    "idx = show_data.index\n",
    "show_data = show_data.reset_index(drop=True)\n",
    "show_data['species'] = y_train.reset_index(drop=True)\n",
    "show_data.index = idx"
   ]
  },
  {
   "cell_type": "code",
   "execution_count": 13,
   "id": "7e09e419",
   "metadata": {
    "execution": {
     "iopub.execute_input": "2024-07-29T11:49:15.325748Z",
     "iopub.status.busy": "2024-07-29T11:49:15.324982Z",
     "iopub.status.idle": "2024-07-29T11:49:17.693088Z",
     "shell.execute_reply": "2024-07-29T11:49:17.691820Z"
    },
    "papermill": {
     "duration": 2.37943,
     "end_time": "2024-07-29T11:49:17.695578",
     "exception": false,
     "start_time": "2024-07-29T11:49:15.316148",
     "status": "completed"
    },
    "tags": []
   },
   "outputs": [
    {
     "data": {
      "image/png": "[encoded data removed]",
      "text/plain": [
       "<Figure size 643x500 with 1 Axes>"
      ]
     },
     "metadata": {},
     "output_type": "display_data"
    },
    {
     "data": {
      "image/png": "[encoded data removed]",
      "text/plain": [
       "<Figure size 643x500 with 1 Axes>"
      ]
     },
     "metadata": {},
     "output_type": "display_data"
    },
    {
     "data": {
      "image/png": "[encoded data removed]",
      "text/plain": [
       "<Figure size 643x500 with 1 Axes>"
      ]
     },
     "metadata": {},
     "output_type": "display_data"
    },
    {
     "data": {
      "image/png": "[encoded data removed]",
      "text/plain": [
       "<Figure size 643x500 with 1 Axes>"
      ]
     },
     "metadata": {},
     "output_type": "display_data"
    }
   ],
   "source": [
    "for x_col in list(X_train.columns):\n",
    "    sns.displot(data=show_data, x=x_col, hue='species', multiple='fill', stat='proportion')\n",
    "    plt.show()"
   ]
  },
  {
   "cell_type": "markdown",
   "id": "a7cf167c",
   "metadata": {
    "papermill": {
     "duration": 0.008984,
     "end_time": "2024-07-29T11:49:17.714159",
     "exception": false,
     "start_time": "2024-07-29T11:49:17.705175",
     "status": "completed"
    },
    "tags": []
   },
   "source": [
    "From the above plots we can make some simple observations:\n",
    "- iris_setosa has low sepal length, high sepal_width, small petal_length, and small petal_width\n",
    "- iris_versicolor is moderate on all of these values except sepal_width, which is low.\n",
    "- iris_virginica has high sepal length, low to medium-high sepal width,  high petal length and high petal width.\n",
    "\n",
    "Some possible additional features that we can use are:\n",
    "\n",
    "- petal area\n",
    "- sepal area\n",
    "- the ratio of petal area to sepal area\n",
    "- the aspect ratio of the petal and sepal\n",
    "\n",
    "Attempting to add these features did tend to decrease the loss marginally, implying the classifier was making better predictions, but it did not have any impact on the resulting F1 score (or accuracy). Thus, the analysis has not been included in the final notebook presented here."
   ]
  },
  {
   "cell_type": "markdown",
   "id": "8a4e60fb",
   "metadata": {
    "papermill": {
     "duration": 0.010398,
     "end_time": "2024-07-29T11:49:17.734313",
     "exception": false,
     "start_time": "2024-07-29T11:49:17.723915",
     "status": "completed"
    },
    "tags": []
   },
   "source": [
    "## Performing Multi-Class Logistic Regression"
   ]
  },
  {
   "cell_type": "code",
   "execution_count": 14,
   "id": "17bbed6e",
   "metadata": {
    "execution": {
     "iopub.execute_input": "2024-07-29T11:49:17.754742Z",
     "iopub.status.busy": "2024-07-29T11:49:17.754358Z",
     "iopub.status.idle": "2024-07-29T11:49:17.871193Z",
     "shell.execute_reply": "2024-07-29T11:49:17.869839Z"
    },
    "papermill": {
     "duration": 0.130367,
     "end_time": "2024-07-29T11:49:17.874114",
     "exception": false,
     "start_time": "2024-07-29T11:49:17.743747",
     "status": "completed"
    },
    "tags": []
   },
   "outputs": [],
   "source": [
    "from sklearn.linear_model import LogisticRegression\n",
    "from sklearn.metrics import log_loss\n",
    "from sklearn.model_selection import ParameterGrid\n",
    "from joblib import Parallel, delayed\n",
    "\n",
    "def parallel_search(param, X_train, y_train, X_val, y_val):\n",
    "    '''\n",
    "    This is a helper function that takes in the parameter choice for Logistic Regression \n",
    "    and finds the training and validation loss after training the Classifier with the specified\n",
    "    parameters. We will parallelize this using `joblib`.\n",
    "    '''\n",
    "    logistic_regression_classifier = LogisticRegression().set_params(**param)                                                                               \n",
    "    logistic_regression_classifier.fit(X_train, y_train)\n",
    "    y_pred_train_proba = logistic_regression_classifier.predict_proba(X_train)\n",
    "    y_pred_val_proba = logistic_regression_classifier.predict_proba(X_val)\n",
    "    train_loss = log_loss(y_train, y_pred_train_proba, normalize=True)\n",
    "    val_loss = log_loss(y_val, y_pred_val_proba, normalize=True)\n",
    "    return [param, train_loss, val_loss]\n",
    "\n",
    "\n",
    "def parameter_search(param_dict, X_train, y_train, X_val, y_val):\n",
    "    '''\n",
    "    This function performs parameter searching given a dict of possible parameters `param_dict`.\n",
    "    This is done in parallel using joblib.\n",
    "    '''\n",
    "    results = []\n",
    "    param_grid = ParameterGrid(param_dict)\n",
    "    results = np.array(Parallel(n_jobs=-1)(delayed(parallel_search)(param, X_train, y_train, X_val, y_val) for param in param_grid))\n",
    "    res = pd.DataFrame({\"parameters\": results[:,0],\n",
    "                       \"training_loss\": results[:,1],\n",
    "                       \"validation_loss\":results[:,2]})\n",
    "    return res\n"
   ]
  },
  {
   "cell_type": "code",
   "execution_count": 15,
   "id": "1ce11f64",
   "metadata": {
    "execution": {
     "iopub.execute_input": "2024-07-29T11:49:17.894855Z",
     "iopub.status.busy": "2024-07-29T11:49:17.894455Z",
     "iopub.status.idle": "2024-07-29T11:49:17.900976Z",
     "shell.execute_reply": "2024-07-29T11:49:17.899614Z"
    },
    "papermill": {
     "duration": 0.019658,
     "end_time": "2024-07-29T11:49:17.903446",
     "exception": false,
     "start_time": "2024-07-29T11:49:17.883788",
     "status": "completed"
    },
    "tags": []
   },
   "outputs": [],
   "source": [
    "param_dict = {'penalty': [\"l2\"], # only choice that works for multiple solvers.\n",
    "             'dual': [False],\n",
    "             'tol': [1e-4,1e-3,1e-2,1e-1,1,10,100],\n",
    "             'C': [0.1,0.3,1.0,3.0],\n",
    "             'class_weight': ['balanced', None],\n",
    "             'random_state':[42],\n",
    "             'solver':['lbfgs', 'newton-cg','sag', 'saga'],\n",
    "             'max_iter':[3_000, 10_000],\n",
    "             'multi_class':['multinomial'],\n",
    "             'n_jobs': [-1]}"
   ]
  },
  {
   "cell_type": "code",
   "execution_count": 16,
   "id": "a68f4c7b",
   "metadata": {
    "execution": {
     "iopub.execute_input": "2024-07-29T11:49:17.923528Z",
     "iopub.status.busy": "2024-07-29T11:49:17.923153Z",
     "iopub.status.idle": "2024-07-29T11:49:23.378885Z",
     "shell.execute_reply": "2024-07-29T11:49:23.377351Z"
    },
    "papermill": {
     "duration": 5.469235,
     "end_time": "2024-07-29T11:49:23.381895",
     "exception": false,
     "start_time": "2024-07-29T11:49:17.912660",
     "status": "completed"
    },
    "tags": []
   },
   "outputs": [],
   "source": [
    "loss_df = parameter_search(param_dict,X_train, y_train, X_val, y_val)"
   ]
  },
  {
   "cell_type": "code",
   "execution_count": 17,
   "id": "a034cf61",
   "metadata": {
    "execution": {
     "iopub.execute_input": "2024-07-29T11:49:23.404191Z",
     "iopub.status.busy": "2024-07-29T11:49:23.402900Z",
     "iopub.status.idle": "2024-07-29T11:49:23.419921Z",
     "shell.execute_reply": "2024-07-29T11:49:23.418645Z"
    },
    "papermill": {
     "duration": 0.030499,
     "end_time": "2024-07-29T11:49:23.422363",
     "exception": false,
     "start_time": "2024-07-29T11:49:23.391864",
     "status": "completed"
    },
    "tags": []
   },
   "outputs": [
    {
     "data": {
      "text/html": [
       "<div>\n",
       "<style scoped>\n",
       "    .dataframe tbody tr th:only-of-type {\n",
       "        vertical-align: middle;\n",
       "    }\n",
       "\n",
       "    .dataframe tbody tr th {\n",
       "        vertical-align: top;\n",
       "    }\n",
       "\n",
       "    .dataframe thead th {\n",
       "        text-align: right;\n",
       "    }\n",
       "</style>\n",
       "<table border=\"1\" class=\"dataframe\">\n",
       "  <thead>\n",
       "    <tr style=\"text-align: right;\">\n",
       "      <th></th>\n",
       "      <th>parameters</th>\n",
       "      <th>training_loss</th>\n",
       "      <th>validation_loss</th>\n",
       "    </tr>\n",
       "  </thead>\n",
       "  <tbody>\n",
       "    <tr>\n",
       "      <th>0</th>\n",
       "      <td>{'C': 0.1, 'class_weight': 'balanced', 'dual':...</td>\n",
       "      <td>0.370451</td>\n",
       "      <td>0.394186</td>\n",
       "    </tr>\n",
       "    <tr>\n",
       "      <th>1</th>\n",
       "      <td>{'C': 0.1, 'class_weight': 'balanced', 'dual':...</td>\n",
       "      <td>0.370446</td>\n",
       "      <td>0.39418</td>\n",
       "    </tr>\n",
       "    <tr>\n",
       "      <th>2</th>\n",
       "      <td>{'C': 0.1, 'class_weight': 'balanced', 'dual':...</td>\n",
       "      <td>0.370464</td>\n",
       "      <td>0.394152</td>\n",
       "    </tr>\n",
       "    <tr>\n",
       "      <th>3</th>\n",
       "      <td>{'C': 0.1, 'class_weight': 'balanced', 'dual':...</td>\n",
       "      <td>0.370339</td>\n",
       "      <td>0.394455</td>\n",
       "    </tr>\n",
       "    <tr>\n",
       "      <th>4</th>\n",
       "      <td>{'C': 0.1, 'class_weight': 'balanced', 'dual':...</td>\n",
       "      <td>0.372116</td>\n",
       "      <td>0.397128</td>\n",
       "    </tr>\n",
       "  </tbody>\n",
       "</table>\n",
       "</div>"
      ],
      "text/plain": [
       "                                          parameters training_loss  \\\n",
       "0  {'C': 0.1, 'class_weight': 'balanced', 'dual':...      0.370451   \n",
       "1  {'C': 0.1, 'class_weight': 'balanced', 'dual':...      0.370446   \n",
       "2  {'C': 0.1, 'class_weight': 'balanced', 'dual':...      0.370464   \n",
       "3  {'C': 0.1, 'class_weight': 'balanced', 'dual':...      0.370339   \n",
       "4  {'C': 0.1, 'class_weight': 'balanced', 'dual':...      0.372116   \n",
       "\n",
       "  validation_loss  \n",
       "0        0.394186  \n",
       "1         0.39418  \n",
       "2        0.394152  \n",
       "3        0.394455  \n",
       "4        0.397128  "
      ]
     },
     "execution_count": 17,
     "metadata": {},
     "output_type": "execute_result"
    }
   ],
   "source": [
    "loss_df.head()"
   ]
  },
  {
   "cell_type": "code",
   "execution_count": 18,
   "id": "d88c0e16",
   "metadata": {
    "execution": {
     "iopub.execute_input": "2024-07-29T11:49:23.443077Z",
     "iopub.status.busy": "2024-07-29T11:49:23.442650Z",
     "iopub.status.idle": "2024-07-29T11:49:23.458938Z",
     "shell.execute_reply": "2024-07-29T11:49:23.457614Z"
    },
    "papermill": {
     "duration": 0.029676,
     "end_time": "2024-07-29T11:49:23.461547",
     "exception": false,
     "start_time": "2024-07-29T11:49:23.431871",
     "status": "completed"
    },
    "tags": []
   },
   "outputs": [
    {
     "data": {
      "text/html": [
       "<div>\n",
       "<style scoped>\n",
       "    .dataframe tbody tr th:only-of-type {\n",
       "        vertical-align: middle;\n",
       "    }\n",
       "\n",
       "    .dataframe tbody tr th {\n",
       "        vertical-align: top;\n",
       "    }\n",
       "\n",
       "    .dataframe thead th {\n",
       "        text-align: right;\n",
       "    }\n",
       "</style>\n",
       "<table border=\"1\" class=\"dataframe\">\n",
       "  <thead>\n",
       "    <tr style=\"text-align: right;\">\n",
       "      <th></th>\n",
       "      <th>parameters</th>\n",
       "      <th>training_loss</th>\n",
       "      <th>validation_loss</th>\n",
       "    </tr>\n",
       "  </thead>\n",
       "  <tbody>\n",
       "    <tr>\n",
       "      <th>352</th>\n",
       "      <td>{'C': 3.0, 'class_weight': 'balanced', 'dual':...</td>\n",
       "      <td>0.08563</td>\n",
       "      <td>0.169711</td>\n",
       "    </tr>\n",
       "    <tr>\n",
       "      <th>380</th>\n",
       "      <td>{'C': 3.0, 'class_weight': 'balanced', 'dual':...</td>\n",
       "      <td>0.08563</td>\n",
       "      <td>0.169711</td>\n",
       "    </tr>\n",
       "    <tr>\n",
       "      <th>408</th>\n",
       "      <td>{'C': 3.0, 'class_weight': None, 'dual': False...</td>\n",
       "      <td>0.08563</td>\n",
       "      <td>0.169711</td>\n",
       "    </tr>\n",
       "    <tr>\n",
       "      <th>436</th>\n",
       "      <td>{'C': 3.0, 'class_weight': None, 'dual': False...</td>\n",
       "      <td>0.08563</td>\n",
       "      <td>0.169711</td>\n",
       "    </tr>\n",
       "  </tbody>\n",
       "</table>\n",
       "</div>"
      ],
      "text/plain": [
       "                                            parameters training_loss  \\\n",
       "352  {'C': 3.0, 'class_weight': 'balanced', 'dual':...       0.08563   \n",
       "380  {'C': 3.0, 'class_weight': 'balanced', 'dual':...       0.08563   \n",
       "408  {'C': 3.0, 'class_weight': None, 'dual': False...       0.08563   \n",
       "436  {'C': 3.0, 'class_weight': None, 'dual': False...       0.08563   \n",
       "\n",
       "    validation_loss  \n",
       "352        0.169711  \n",
       "380        0.169711  \n",
       "408        0.169711  \n",
       "436        0.169711  "
      ]
     },
     "execution_count": 18,
     "metadata": {},
     "output_type": "execute_result"
    }
   ],
   "source": [
    "loss_df[loss_df['validation_loss'] == np.min(loss_df['validation_loss'])]"
   ]
  },
  {
   "cell_type": "code",
   "execution_count": 19,
   "id": "0d45bdf1",
   "metadata": {
    "execution": {
     "iopub.execute_input": "2024-07-29T11:49:23.482936Z",
     "iopub.status.busy": "2024-07-29T11:49:23.482500Z",
     "iopub.status.idle": "2024-07-29T11:49:23.489115Z",
     "shell.execute_reply": "2024-07-29T11:49:23.487939Z"
    },
    "papermill": {
     "duration": 0.020343,
     "end_time": "2024-07-29T11:49:23.491527",
     "exception": false,
     "start_time": "2024-07-29T11:49:23.471184",
     "status": "completed"
    },
    "tags": []
   },
   "outputs": [],
   "source": [
    "optimal_sol = loss_df[loss_df['validation_loss'] == np.min(loss_df['validation_loss'])].iloc[0]"
   ]
  },
  {
   "cell_type": "code",
   "execution_count": 20,
   "id": "d4f1ca51",
   "metadata": {
    "execution": {
     "iopub.execute_input": "2024-07-29T11:49:23.513441Z",
     "iopub.status.busy": "2024-07-29T11:49:23.512573Z",
     "iopub.status.idle": "2024-07-29T11:49:23.518375Z",
     "shell.execute_reply": "2024-07-29T11:49:23.517023Z"
    },
    "papermill": {
     "duration": 0.019681,
     "end_time": "2024-07-29T11:49:23.520942",
     "exception": false,
     "start_time": "2024-07-29T11:49:23.501261",
     "status": "completed"
    },
    "tags": []
   },
   "outputs": [],
   "source": [
    "classifier = LogisticRegression().set_params(**optimal_sol['parameters'])"
   ]
  },
  {
   "cell_type": "code",
   "execution_count": 21,
   "id": "40fefd8b",
   "metadata": {
    "execution": {
     "iopub.execute_input": "2024-07-29T11:49:23.542431Z",
     "iopub.status.busy": "2024-07-29T11:49:23.542039Z",
     "iopub.status.idle": "2024-07-29T11:49:23.572638Z",
     "shell.execute_reply": "2024-07-29T11:49:23.571489Z"
    },
    "papermill": {
     "duration": 0.044859,
     "end_time": "2024-07-29T11:49:23.575359",
     "exception": false,
     "start_time": "2024-07-29T11:49:23.530500",
     "status": "completed"
    },
    "tags": []
   },
   "outputs": [
    {
     "data": {
      "text/html": [
       "<style>#sk-container-id-1 {color: black;background-color: white;}#sk-container-id-1 pre{padding: 0;}#sk-container-id-1 div.sk-toggleable {background-color: white;}#sk-container-id-1 label.sk-toggleable__label {cursor: pointer;display: block;width: 100%;margin-bottom: 0;padding: 0.3em;box-sizing: border-box;text-align: center;}#sk-container-id-1 label.sk-toggleable__label-arrow:before {content: \"▸\";float: left;margin-right: 0.25em;color: #696969;}#sk-container-id-1 label.sk-toggleable__label-arrow:hover:before {color: black;}#sk-container-id-1 div.sk-estimator:hover label.sk-toggleable__label-arrow:before {color: black;}#sk-container-id-1 div.sk-toggleable__content {max-height: 0;max-width: 0;overflow: hidden;text-align: left;background-color: #f0f8ff;}#sk-container-id-1 div.sk-toggleable__content pre {margin: 0.2em;color: black;border-radius: 0.25em;background-color: #f0f8ff;}#sk-container-id-1 input.sk-toggleable__control:checked~div.sk-toggleable__content {max-height: 200px;max-width: 100%;overflow: auto;}#sk-container-id-1 input.sk-toggleable__control:checked~label.sk-toggleable__label-arrow:before {content: \"▾\";}#sk-container-id-1 div.sk-estimator input.sk-toggleable__control:checked~label.sk-toggleable__label {background-color: #d4ebff;}#sk-container-id-1 div.sk-label input.sk-toggleable__control:checked~label.sk-toggleable__label {background-color: #d4ebff;}#sk-container-id-1 input.sk-hidden--visually {border: 0;clip: rect(1px 1px 1px 1px);clip: rect(1px, 1px, 1px, 1px);height: 1px;margin: -1px;overflow: hidden;padding: 0;position: absolute;width: 1px;}#sk-container-id-1 div.sk-estimator {font-family: monospace;background-color: #f0f8ff;border: 1px dotted black;border-radius: 0.25em;box-sizing: border-box;margin-bottom: 0.5em;}#sk-container-id-1 div.sk-estimator:hover {background-color: #d4ebff;}#sk-container-id-1 div.sk-parallel-item::after {content: \"\";width: 100%;border-bottom: 1px solid gray;flex-grow: 1;}#sk-container-id-1 div.sk-label:hover label.sk-toggleable__label {background-color: #d4ebff;}#sk-container-id-1 div.sk-serial::before {content: \"\";position: absolute;border-left: 1px solid gray;box-sizing: border-box;top: 0;bottom: 0;left: 50%;z-index: 0;}#sk-container-id-1 div.sk-serial {display: flex;flex-direction: column;align-items: center;background-color: white;padding-right: 0.2em;padding-left: 0.2em;position: relative;}#sk-container-id-1 div.sk-item {position: relative;z-index: 1;}#sk-container-id-1 div.sk-parallel {display: flex;align-items: stretch;justify-content: center;background-color: white;position: relative;}#sk-container-id-1 div.sk-item::before, #sk-container-id-1 div.sk-parallel-item::before {content: \"\";position: absolute;border-left: 1px solid gray;box-sizing: border-box;top: 0;bottom: 0;left: 50%;z-index: -1;}#sk-container-id-1 div.sk-parallel-item {display: flex;flex-direction: column;z-index: 1;position: relative;background-color: white;}#sk-container-id-1 div.sk-parallel-item:first-child::after {align-self: flex-end;width: 50%;}#sk-container-id-1 div.sk-parallel-item:last-child::after {align-self: flex-start;width: 50%;}#sk-container-id-1 div.sk-parallel-item:only-child::after {width: 0;}#sk-container-id-1 div.sk-dashed-wrapped {border: 1px dashed gray;margin: 0 0.4em 0.5em 0.4em;box-sizing: border-box;padding-bottom: 0.4em;background-color: white;}#sk-container-id-1 div.sk-label label {font-family: monospace;font-weight: bold;display: inline-block;line-height: 1.2em;}#sk-container-id-1 div.sk-label-container {text-align: center;}#sk-container-id-1 div.sk-container {/* jupyter's `normalize.less` sets `[hidden] { display: none; }` but bootstrap.min.css set `[hidden] { display: none !important; }` so we also need the `!important` here to be able to override the default hidden behavior on the sphinx rendered scikit-learn.org. See: https://github.com/scikit-learn/scikit-learn/issues/21755 */display: inline-block !important;position: relative;}#sk-container-id-1 div.sk-text-repr-fallback {display: none;}</style><div id=\"sk-container-id-1\" class=\"sk-top-container\"><div class=\"sk-text-repr-fallback\"><pre>LogisticRegression(C=3.0, class_weight=&#x27;balanced&#x27;, max_iter=3000,\n",
       "                   multi_class=&#x27;multinomial&#x27;, n_jobs=-1, random_state=42,\n",
       "                   solver=&#x27;sag&#x27;, tol=0.01)</pre><b>In a Jupyter environment, please rerun this cell to show the HTML representation or trust the notebook. <br />On GitHub, the HTML representation is unable to render, please try loading this page with nbviewer.org.</b></div><div class=\"sk-container\" hidden><div class=\"sk-item\"><div class=\"sk-estimator sk-toggleable\"><input class=\"sk-toggleable__control sk-hidden--visually\" id=\"sk-estimator-id-1\" type=\"checkbox\" checked><label for=\"sk-estimator-id-1\" class=\"sk-toggleable__label sk-toggleable__label-arrow\">LogisticRegression</label><div class=\"sk-toggleable__content\"><pre>LogisticRegression(C=3.0, class_weight=&#x27;balanced&#x27;, max_iter=3000,\n",
       "                   multi_class=&#x27;multinomial&#x27;, n_jobs=-1, random_state=42,\n",
       "                   solver=&#x27;sag&#x27;, tol=0.01)</pre></div></div></div></div></div>"
      ],
      "text/plain": [
       "LogisticRegression(C=3.0, class_weight='balanced', max_iter=3000,\n",
       "                   multi_class='multinomial', n_jobs=-1, random_state=42,\n",
       "                   solver='sag', tol=0.01)"
      ]
     },
     "execution_count": 21,
     "metadata": {},
     "output_type": "execute_result"
    }
   ],
   "source": [
    "classifier.fit(X_train, y_train)"
   ]
  },
  {
   "cell_type": "code",
   "execution_count": 22,
   "id": "b2a8378b",
   "metadata": {
    "execution": {
     "iopub.execute_input": "2024-07-29T11:49:23.597915Z",
     "iopub.status.busy": "2024-07-29T11:49:23.597507Z",
     "iopub.status.idle": "2024-07-29T11:49:23.608981Z",
     "shell.execute_reply": "2024-07-29T11:49:23.607804Z"
    },
    "papermill": {
     "duration": 0.025348,
     "end_time": "2024-07-29T11:49:23.611299",
     "exception": false,
     "start_time": "2024-07-29T11:49:23.585951",
     "status": "completed"
    },
    "tags": []
   },
   "outputs": [
    {
     "name": "stdout",
     "output_type": "stream",
     "text": [
      "The loss on the training dataset is: 0.086\n",
      "The loss on the validation dataset is: 0.17\n",
      "The loss on the test dataset is: 0.151\n"
     ]
    }
   ],
   "source": [
    "print(\"The loss on the training dataset is:\", optimal_sol['training_loss'].round(3))\n",
    "print(\"The loss on the validation dataset is:\", optimal_sol['validation_loss'].round(3))\n",
    "y_pred_test_proba = classifier.predict_proba(X_test)\n",
    "print(\"The loss on the test dataset is:\", log_loss(y_test,y_pred_test_proba).round(3))"
   ]
  },
  {
   "cell_type": "code",
   "execution_count": 23,
   "id": "2ff25c11",
   "metadata": {
    "execution": {
     "iopub.execute_input": "2024-07-29T11:49:23.633304Z",
     "iopub.status.busy": "2024-07-29T11:49:23.632637Z",
     "iopub.status.idle": "2024-07-29T11:49:23.646766Z",
     "shell.execute_reply": "2024-07-29T11:49:23.645333Z"
    },
    "papermill": {
     "duration": 0.02784,
     "end_time": "2024-07-29T11:49:23.649220",
     "exception": false,
     "start_time": "2024-07-29T11:49:23.621380",
     "status": "completed"
    },
    "tags": []
   },
   "outputs": [
    {
     "name": "stdout",
     "output_type": "stream",
     "text": [
      "The train accuracy is: 0.978\n",
      "The validation accuracy is: 0.933\n",
      "The test accuracy is: 0.933\n"
     ]
    }
   ],
   "source": [
    "print(\"The train accuracy is:\", classifier.score(X_train, y_train).round(3))\n",
    "print(\"The validation accuracy is:\", classifier.score(X_val, y_val).round(3))\n",
    "print(\"The test accuracy is:\", classifier.score(X_test, y_test).round(3))"
   ]
  },
  {
   "cell_type": "markdown",
   "id": "d0ef1eed",
   "metadata": {
    "papermill": {
     "duration": 0.00984,
     "end_time": "2024-07-29T11:49:23.669087",
     "exception": false,
     "start_time": "2024-07-29T11:49:23.659247",
     "status": "completed"
    },
    "tags": []
   },
   "source": [
    "## Precision, Recall, F1 Score on Test Set"
   ]
  },
  {
   "cell_type": "code",
   "execution_count": 24,
   "id": "973d019d",
   "metadata": {
    "execution": {
     "iopub.execute_input": "2024-07-29T11:49:23.691466Z",
     "iopub.status.busy": "2024-07-29T11:49:23.690708Z",
     "iopub.status.idle": "2024-07-29T11:49:24.007655Z",
     "shell.execute_reply": "2024-07-29T11:49:24.006569Z"
    },
    "papermill": {
     "duration": 0.330845,
     "end_time": "2024-07-29T11:49:24.010185",
     "exception": false,
     "start_time": "2024-07-29T11:49:23.679340",
     "status": "completed"
    },
    "tags": []
   },
   "outputs": [
    {
     "data": {
      "image/png": "[encoded data removed]",
      "text/plain": [
       "<Figure size 640x480 with 2 Axes>"
      ]
     },
     "metadata": {},
     "output_type": "display_data"
    }
   ],
   "source": [
    "y_pred_test = classifier.predict(X_test)\n",
    "from sklearn.metrics import confusion_matrix, ConfusionMatrixDisplay\n",
    "ConfusionMatrixDisplay(confusion_matrix(y_test, y_pred_test), display_labels=y_test.unique()).plot(); # confusion matrix"
   ]
  },
  {
   "cell_type": "code",
   "execution_count": 25,
   "id": "241ab55d",
   "metadata": {
    "execution": {
     "iopub.execute_input": "2024-07-29T11:49:24.033818Z",
     "iopub.status.busy": "2024-07-29T11:49:24.032765Z",
     "iopub.status.idle": "2024-07-29T11:49:24.047532Z",
     "shell.execute_reply": "2024-07-29T11:49:24.046164Z"
    },
    "papermill": {
     "duration": 0.028935,
     "end_time": "2024-07-29T11:49:24.049855",
     "exception": false,
     "start_time": "2024-07-29T11:49:24.020920",
     "status": "completed"
    },
    "tags": []
   },
   "outputs": [
    {
     "name": "stdout",
     "output_type": "stream",
     "text": [
      "                 precision    recall  f1-score   support\n",
      "\n",
      "Iris-versicolor       0.90      0.90      0.90        10\n",
      "    Iris-setosa       1.00      1.00      1.00        10\n",
      " Iris-virginica       0.90      0.90      0.90        10\n",
      "\n",
      "       accuracy                           0.93        30\n",
      "      macro avg       0.93      0.93      0.93        30\n",
      "   weighted avg       0.93      0.93      0.93        30\n",
      "\n"
     ]
    }
   ],
   "source": [
    "from sklearn.metrics import classification_report\n",
    "print(classification_report(y_test, \n",
    "                     y_pred_test,\n",
    "                     labels = ['Iris-versicolor', 'Iris-setosa', 'Iris-virginica'],\n",
    "                     target_names = ['Iris-versicolor', 'Iris-setosa', 'Iris-virginica']))"
   ]
  }
 ],
 "metadata": {
  "kaggle": {
   "accelerator": "none",
   "dataSources": [
    {
     "datasetId": 17860,
     "sourceId": 23404,
     "sourceType": "datasetVersion"
    }
   ],
   "dockerImageVersionId": 30746,
   "isGpuEnabled": false,
   "isInternetEnabled": false,
   "language": "python",
   "sourceType": "notebook"
  },
  "kernelspec": {
   "display_name": "Python 3",
   "language": "python",
   "name": "python3"
  },
  "language_info": {
   "codemirror_mode": {
    "name": "ipython",
    "version": 3
   },
   "file_extension": ".py",
   "mimetype": "text/x-python",
   "name": "python",
   "nbconvert_exporter": "python",
   "pygments_lexer": "ipython3",
   "version": "3.10.13"
  },
  "papermill": {
   "default_parameters": {},
   "duration": 17.586619,
   "end_time": "2024-07-29T11:49:26.682040",
   "environment_variables": {},
   "exception": null,
   "input_path": "__notebook__.ipynb",
   "output_path": "__notebook__.ipynb",
   "parameters": {},
   "start_time": "2024-07-29T11:49:09.095421",
   "version": "2.5.0"
  }
 },
 "nbformat": 4,
 "nbformat_minor": 5
}
