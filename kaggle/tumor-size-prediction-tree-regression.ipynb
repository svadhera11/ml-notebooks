{
 "cells": [
  {
   "cell_type": "code",
   "execution_count": 1,
   "id": "a95dc2bd",
   "metadata": {
    "execution": {
     "iopub.execute_input": "2024-07-21T17:42:01.243947Z",
     "iopub.status.busy": "2024-07-21T17:42:01.243443Z",
     "iopub.status.idle": "2024-07-21T17:42:01.249848Z",
     "shell.execute_reply": "2024-07-21T17:42:01.248644Z"
    },
    "papermill": {
     "duration": 0.022921,
     "end_time": "2024-07-21T17:42:01.252491",
     "exception": false,
     "start_time": "2024-07-21T17:42:01.229570",
     "status": "completed"
    },
    "tags": []
   },
   "outputs": [],
   "source": [
    "# goal: predict tumor size via tree methods."
   ]
  },
  {
   "cell_type": "code",
   "execution_count": 2,
   "id": "95b26373",
   "metadata": {
    "_cell_guid": "b1076dfc-b9ad-4769-8c92-a6c4dae69d19",
    "_uuid": "8f2839f25d086af736a60e9eeb907d3b93b6e0e5",
    "execution": {
     "iopub.execute_input": "2024-07-21T17:42:01.275260Z",
     "iopub.status.busy": "2024-07-21T17:42:01.274848Z",
     "iopub.status.idle": "2024-07-21T17:42:02.326939Z",
     "shell.execute_reply": "2024-07-21T17:42:02.325634Z"
    },
    "papermill": {
     "duration": 1.067196,
     "end_time": "2024-07-21T17:42:02.329888",
     "exception": false,
     "start_time": "2024-07-21T17:42:01.262692",
     "status": "completed"
    },
    "tags": []
   },
   "outputs": [
    {
     "name": "stdout",
     "output_type": "stream",
     "text": [
      "/kaggle/input/breast-cancer/Breast_Cancer.csv\n"
     ]
    }
   ],
   "source": [
    "# This Python 3 environment comes with many helpful analytics libraries installed\n",
    "# It is defined by the kaggle/python Docker image: https://github.com/kaggle/docker-python\n",
    "# For example, here's several helpful packages to load\n",
    "\n",
    "import numpy as np # linear algebra\n",
    "import pandas as pd # data processing, CSV file I/O (e.g. pd.read_csv)\n",
    "\n",
    "# Input data files are available in the read-only \"../input/\" directory\n",
    "# For example, running this (by clicking run or pressing Shift+Enter) will list all files under the input directory\n",
    "\n",
    "import os\n",
    "for dirname, _, filenames in os.walk('/kaggle/input'):\n",
    "    for filename in filenames:\n",
    "        print(os.path.join(dirname, filename))\n",
    "\n",
    "# You can write up to 20GB to the current directory (/kaggle/working/) that gets preserved as output when you create a version using \"Save & Run All\" \n",
    "# You can also write temporary files to /kaggle/temp/, but they won't be saved outside of the current session"
   ]
  },
  {
   "cell_type": "code",
   "execution_count": 3,
   "id": "ed2a8ad0",
   "metadata": {
    "execution": {
     "iopub.execute_input": "2024-07-21T17:42:02.353480Z",
     "iopub.status.busy": "2024-07-21T17:42:02.352897Z",
     "iopub.status.idle": "2024-07-21T17:42:02.392844Z",
     "shell.execute_reply": "2024-07-21T17:42:02.391592Z"
    },
    "papermill": {
     "duration": 0.055151,
     "end_time": "2024-07-21T17:42:02.395736",
     "exception": false,
     "start_time": "2024-07-21T17:42:02.340585",
     "status": "completed"
    },
    "tags": []
   },
   "outputs": [],
   "source": [
    "dataset=pd.read_csv('/kaggle/input/breast-cancer/Breast_Cancer.csv')"
   ]
  },
  {
   "cell_type": "code",
   "execution_count": 4,
   "id": "0a86d933",
   "metadata": {
    "execution": {
     "iopub.execute_input": "2024-07-21T17:42:02.418604Z",
     "iopub.status.busy": "2024-07-21T17:42:02.418228Z",
     "iopub.status.idle": "2024-07-21T17:42:02.448152Z",
     "shell.execute_reply": "2024-07-21T17:42:02.446955Z"
    },
    "papermill": {
     "duration": 0.044654,
     "end_time": "2024-07-21T17:42:02.450765",
     "exception": false,
     "start_time": "2024-07-21T17:42:02.406111",
     "status": "completed"
    },
    "tags": []
   },
   "outputs": [
    {
     "data": {
      "text/html": [
       "<div>\n",
       "<style scoped>\n",
       "    .dataframe tbody tr th:only-of-type {\n",
       "        vertical-align: middle;\n",
       "    }\n",
       "\n",
       "    .dataframe tbody tr th {\n",
       "        vertical-align: top;\n",
       "    }\n",
       "\n",
       "    .dataframe thead th {\n",
       "        text-align: right;\n",
       "    }\n",
       "</style>\n",
       "<table border=\"1\" class=\"dataframe\">\n",
       "  <thead>\n",
       "    <tr style=\"text-align: right;\">\n",
       "      <th></th>\n",
       "      <th>Age</th>\n",
       "      <th>Race</th>\n",
       "      <th>Marital Status</th>\n",
       "      <th>T Stage</th>\n",
       "      <th>N Stage</th>\n",
       "      <th>6th Stage</th>\n",
       "      <th>differentiate</th>\n",
       "      <th>Grade</th>\n",
       "      <th>A Stage</th>\n",
       "      <th>Tumor Size</th>\n",
       "      <th>Estrogen Status</th>\n",
       "      <th>Progesterone Status</th>\n",
       "      <th>Regional Node Examined</th>\n",
       "      <th>Reginol Node Positive</th>\n",
       "      <th>Survival Months</th>\n",
       "      <th>Status</th>\n",
       "    </tr>\n",
       "  </thead>\n",
       "  <tbody>\n",
       "    <tr>\n",
       "      <th>0</th>\n",
       "      <td>68</td>\n",
       "      <td>White</td>\n",
       "      <td>Married</td>\n",
       "      <td>T1</td>\n",
       "      <td>N1</td>\n",
       "      <td>IIA</td>\n",
       "      <td>Poorly differentiated</td>\n",
       "      <td>3</td>\n",
       "      <td>Regional</td>\n",
       "      <td>4</td>\n",
       "      <td>Positive</td>\n",
       "      <td>Positive</td>\n",
       "      <td>24</td>\n",
       "      <td>1</td>\n",
       "      <td>60</td>\n",
       "      <td>Alive</td>\n",
       "    </tr>\n",
       "    <tr>\n",
       "      <th>1</th>\n",
       "      <td>50</td>\n",
       "      <td>White</td>\n",
       "      <td>Married</td>\n",
       "      <td>T2</td>\n",
       "      <td>N2</td>\n",
       "      <td>IIIA</td>\n",
       "      <td>Moderately differentiated</td>\n",
       "      <td>2</td>\n",
       "      <td>Regional</td>\n",
       "      <td>35</td>\n",
       "      <td>Positive</td>\n",
       "      <td>Positive</td>\n",
       "      <td>14</td>\n",
       "      <td>5</td>\n",
       "      <td>62</td>\n",
       "      <td>Alive</td>\n",
       "    </tr>\n",
       "    <tr>\n",
       "      <th>2</th>\n",
       "      <td>58</td>\n",
       "      <td>White</td>\n",
       "      <td>Divorced</td>\n",
       "      <td>T3</td>\n",
       "      <td>N3</td>\n",
       "      <td>IIIC</td>\n",
       "      <td>Moderately differentiated</td>\n",
       "      <td>2</td>\n",
       "      <td>Regional</td>\n",
       "      <td>63</td>\n",
       "      <td>Positive</td>\n",
       "      <td>Positive</td>\n",
       "      <td>14</td>\n",
       "      <td>7</td>\n",
       "      <td>75</td>\n",
       "      <td>Alive</td>\n",
       "    </tr>\n",
       "    <tr>\n",
       "      <th>3</th>\n",
       "      <td>58</td>\n",
       "      <td>White</td>\n",
       "      <td>Married</td>\n",
       "      <td>T1</td>\n",
       "      <td>N1</td>\n",
       "      <td>IIA</td>\n",
       "      <td>Poorly differentiated</td>\n",
       "      <td>3</td>\n",
       "      <td>Regional</td>\n",
       "      <td>18</td>\n",
       "      <td>Positive</td>\n",
       "      <td>Positive</td>\n",
       "      <td>2</td>\n",
       "      <td>1</td>\n",
       "      <td>84</td>\n",
       "      <td>Alive</td>\n",
       "    </tr>\n",
       "    <tr>\n",
       "      <th>4</th>\n",
       "      <td>47</td>\n",
       "      <td>White</td>\n",
       "      <td>Married</td>\n",
       "      <td>T2</td>\n",
       "      <td>N1</td>\n",
       "      <td>IIB</td>\n",
       "      <td>Poorly differentiated</td>\n",
       "      <td>3</td>\n",
       "      <td>Regional</td>\n",
       "      <td>41</td>\n",
       "      <td>Positive</td>\n",
       "      <td>Positive</td>\n",
       "      <td>3</td>\n",
       "      <td>1</td>\n",
       "      <td>50</td>\n",
       "      <td>Alive</td>\n",
       "    </tr>\n",
       "  </tbody>\n",
       "</table>\n",
       "</div>"
      ],
      "text/plain": [
       "   Age   Race Marital Status T Stage  N Stage 6th Stage  \\\n",
       "0   68  White        Married       T1      N1       IIA   \n",
       "1   50  White        Married       T2      N2      IIIA   \n",
       "2   58  White       Divorced       T3      N3      IIIC   \n",
       "3   58  White        Married       T1      N1       IIA   \n",
       "4   47  White        Married       T2      N1       IIB   \n",
       "\n",
       "               differentiate Grade   A Stage  Tumor Size Estrogen Status  \\\n",
       "0      Poorly differentiated     3  Regional           4        Positive   \n",
       "1  Moderately differentiated     2  Regional          35        Positive   \n",
       "2  Moderately differentiated     2  Regional          63        Positive   \n",
       "3      Poorly differentiated     3  Regional          18        Positive   \n",
       "4      Poorly differentiated     3  Regional          41        Positive   \n",
       "\n",
       "  Progesterone Status  Regional Node Examined  Reginol Node Positive  \\\n",
       "0            Positive                      24                      1   \n",
       "1            Positive                      14                      5   \n",
       "2            Positive                      14                      7   \n",
       "3            Positive                       2                      1   \n",
       "4            Positive                       3                      1   \n",
       "\n",
       "   Survival Months Status  \n",
       "0               60  Alive  \n",
       "1               62  Alive  \n",
       "2               75  Alive  \n",
       "3               84  Alive  \n",
       "4               50  Alive  "
      ]
     },
     "execution_count": 4,
     "metadata": {},
     "output_type": "execute_result"
    }
   ],
   "source": [
    "dataset.head()"
   ]
  },
  {
   "cell_type": "code",
   "execution_count": 5,
   "id": "6e29e76a",
   "metadata": {
    "execution": {
     "iopub.execute_input": "2024-07-21T17:42:02.474983Z",
     "iopub.status.busy": "2024-07-21T17:42:02.474587Z",
     "iopub.status.idle": "2024-07-21T17:42:02.488156Z",
     "shell.execute_reply": "2024-07-21T17:42:02.486983Z"
    },
    "papermill": {
     "duration": 0.027769,
     "end_time": "2024-07-21T17:42:02.490748",
     "exception": false,
     "start_time": "2024-07-21T17:42:02.462979",
     "status": "completed"
    },
    "tags": []
   },
   "outputs": [],
   "source": [
    "dataset = dataset.drop('Status', axis=1).drop('Survival Months',axis=1)"
   ]
  },
  {
   "cell_type": "code",
   "execution_count": 6,
   "id": "9db96752",
   "metadata": {
    "execution": {
     "iopub.execute_input": "2024-07-21T17:42:02.515320Z",
     "iopub.status.busy": "2024-07-21T17:42:02.513880Z",
     "iopub.status.idle": "2024-07-21T17:42:02.522383Z",
     "shell.execute_reply": "2024-07-21T17:42:02.521123Z"
    },
    "papermill": {
     "duration": 0.023509,
     "end_time": "2024-07-21T17:42:02.525076",
     "exception": false,
     "start_time": "2024-07-21T17:42:02.501567",
     "status": "completed"
    },
    "tags": []
   },
   "outputs": [
    {
     "data": {
      "text/plain": [
       "Index(['Age', 'Race', 'Marital Status', 'T Stage ', 'N Stage', '6th Stage',\n",
       "       'differentiate', 'Grade', 'A Stage', 'Tumor Size', 'Estrogen Status',\n",
       "       'Progesterone Status', 'Regional Node Examined',\n",
       "       'Reginol Node Positive'],\n",
       "      dtype='object')"
      ]
     },
     "execution_count": 6,
     "metadata": {},
     "output_type": "execute_result"
    }
   ],
   "source": [
    "dataset.keys()"
   ]
  },
  {
   "cell_type": "code",
   "execution_count": 7,
   "id": "9c1d675b",
   "metadata": {
    "execution": {
     "iopub.execute_input": "2024-07-21T17:42:02.549574Z",
     "iopub.status.busy": "2024-07-21T17:42:02.549131Z",
     "iopub.status.idle": "2024-07-21T17:42:02.575616Z",
     "shell.execute_reply": "2024-07-21T17:42:02.574305Z"
    },
    "papermill": {
     "duration": 0.042184,
     "end_time": "2024-07-21T17:42:02.578636",
     "exception": false,
     "start_time": "2024-07-21T17:42:02.536452",
     "status": "completed"
    },
    "tags": []
   },
   "outputs": [
    {
     "name": "stdout",
     "output_type": "stream",
     "text": [
      "<class 'pandas.core.frame.DataFrame'>\n",
      "RangeIndex: 4024 entries, 0 to 4023\n",
      "Data columns (total 14 columns):\n",
      " #   Column                  Non-Null Count  Dtype \n",
      "---  ------                  --------------  ----- \n",
      " 0   Age                     4024 non-null   int64 \n",
      " 1   Race                    4024 non-null   object\n",
      " 2   Marital Status          4024 non-null   object\n",
      " 3   T Stage                 4024 non-null   object\n",
      " 4   N Stage                 4024 non-null   object\n",
      " 5   6th Stage               4024 non-null   object\n",
      " 6   differentiate           4024 non-null   object\n",
      " 7   Grade                   4024 non-null   object\n",
      " 8   A Stage                 4024 non-null   object\n",
      " 9   Tumor Size              4024 non-null   int64 \n",
      " 10  Estrogen Status         4024 non-null   object\n",
      " 11  Progesterone Status     4024 non-null   object\n",
      " 12  Regional Node Examined  4024 non-null   int64 \n",
      " 13  Reginol Node Positive   4024 non-null   int64 \n",
      "dtypes: int64(4), object(10)\n",
      "memory usage: 440.2+ KB\n"
     ]
    }
   ],
   "source": [
    "dataset.info()"
   ]
  },
  {
   "cell_type": "code",
   "execution_count": 8,
   "id": "bc769417",
   "metadata": {
    "execution": {
     "iopub.execute_input": "2024-07-21T17:42:02.603520Z",
     "iopub.status.busy": "2024-07-21T17:42:02.603125Z",
     "iopub.status.idle": "2024-07-21T17:42:04.171164Z",
     "shell.execute_reply": "2024-07-21T17:42:04.169571Z"
    },
    "papermill": {
     "duration": 1.583211,
     "end_time": "2024-07-21T17:42:04.174047",
     "exception": false,
     "start_time": "2024-07-21T17:42:02.590836",
     "status": "completed"
    },
    "tags": []
   },
   "outputs": [],
   "source": [
    "from sklearn.model_selection import train_test_split\n",
    "from sklearn.model_selection import cross_val_score"
   ]
  },
  {
   "cell_type": "code",
   "execution_count": 9,
   "id": "2238daf7",
   "metadata": {
    "execution": {
     "iopub.execute_input": "2024-07-21T17:42:04.197611Z",
     "iopub.status.busy": "2024-07-21T17:42:04.197219Z",
     "iopub.status.idle": "2024-07-21T17:42:04.213027Z",
     "shell.execute_reply": "2024-07-21T17:42:04.211685Z"
    },
    "papermill": {
     "duration": 0.03102,
     "end_time": "2024-07-21T17:42:04.215736",
     "exception": false,
     "start_time": "2024-07-21T17:42:04.184716",
     "status": "completed"
    },
    "tags": []
   },
   "outputs": [],
   "source": [
    "X_train, X_test, y_train, y_test = train_test_split(dataset.drop('Tumor Size',axis=1),\n",
    "                                                   dataset['Tumor Size'],\n",
    "                                                   test_size=0.25, random_state=42)"
   ]
  },
  {
   "cell_type": "code",
   "execution_count": 10,
   "id": "ea678a56",
   "metadata": {
    "execution": {
     "iopub.execute_input": "2024-07-21T17:42:04.239926Z",
     "iopub.status.busy": "2024-07-21T17:42:04.238885Z",
     "iopub.status.idle": "2024-07-21T17:42:04.254732Z",
     "shell.execute_reply": "2024-07-21T17:42:04.253109Z"
    },
    "papermill": {
     "duration": 0.031815,
     "end_time": "2024-07-21T17:42:04.258083",
     "exception": false,
     "start_time": "2024-07-21T17:42:04.226268",
     "status": "completed"
    },
    "tags": []
   },
   "outputs": [],
   "source": [
    "from sklearn.preprocessing import OneHotEncoder\n",
    "from sklearn.compose import ColumnTransformer\n",
    "from sklearn.pipeline import Pipeline"
   ]
  },
  {
   "cell_type": "code",
   "execution_count": 11,
   "id": "56e532f5",
   "metadata": {
    "execution": {
     "iopub.execute_input": "2024-07-21T17:42:04.281907Z",
     "iopub.status.busy": "2024-07-21T17:42:04.281476Z",
     "iopub.status.idle": "2024-07-21T17:42:04.312625Z",
     "shell.execute_reply": "2024-07-21T17:42:04.311195Z"
    },
    "papermill": {
     "duration": 0.046561,
     "end_time": "2024-07-21T17:42:04.315449",
     "exception": false,
     "start_time": "2024-07-21T17:42:04.268888",
     "status": "completed"
    },
    "tags": []
   },
   "outputs": [],
   "source": [
    "categorical_columns=['Race','Marital Status','T Stage ', 'N Stage',\n",
    "                    '6th Stage', 'differentiate', 'Grade', 'A Stage',\n",
    "                    'Estrogen Status','Progesterone Status']\n",
    "#numerical_columns = ['Age', 'Tumor Size', 'Regional Node Examined', 'Reginol Node Positive']\n",
    "column_transformer_pipeline = ColumnTransformer([ \n",
    "                                        ('categorical', OneHotEncoder(), categorical_columns) \n",
    "                                                ], remainder='passthrough')\n",
    "pipeline = Pipeline(steps=[('column_transformer', column_transformer_pipeline)])\n",
    "\n",
    "preprocessor = pipeline.fit(X=X_train)"
   ]
  },
  {
   "cell_type": "code",
   "execution_count": 12,
   "id": "b8524bf9",
   "metadata": {
    "execution": {
     "iopub.execute_input": "2024-07-21T17:42:04.339106Z",
     "iopub.status.busy": "2024-07-21T17:42:04.338699Z",
     "iopub.status.idle": "2024-07-21T17:42:04.357352Z",
     "shell.execute_reply": "2024-07-21T17:42:04.356140Z"
    },
    "papermill": {
     "duration": 0.034871,
     "end_time": "2024-07-21T17:42:04.361199",
     "exception": false,
     "start_time": "2024-07-21T17:42:04.326328",
     "status": "completed"
    },
    "tags": []
   },
   "outputs": [
    {
     "data": {
      "text/html": [
       "<div>\n",
       "<style scoped>\n",
       "    .dataframe tbody tr th:only-of-type {\n",
       "        vertical-align: middle;\n",
       "    }\n",
       "\n",
       "    .dataframe tbody tr th {\n",
       "        vertical-align: top;\n",
       "    }\n",
       "\n",
       "    .dataframe thead th {\n",
       "        text-align: right;\n",
       "    }\n",
       "</style>\n",
       "<table border=\"1\" class=\"dataframe\">\n",
       "  <thead>\n",
       "    <tr style=\"text-align: right;\">\n",
       "      <th></th>\n",
       "      <th>Age</th>\n",
       "      <th>Race</th>\n",
       "      <th>Marital Status</th>\n",
       "      <th>T Stage</th>\n",
       "      <th>N Stage</th>\n",
       "      <th>6th Stage</th>\n",
       "      <th>differentiate</th>\n",
       "      <th>Grade</th>\n",
       "      <th>A Stage</th>\n",
       "      <th>Estrogen Status</th>\n",
       "      <th>Progesterone Status</th>\n",
       "      <th>Regional Node Examined</th>\n",
       "      <th>Reginol Node Positive</th>\n",
       "    </tr>\n",
       "  </thead>\n",
       "  <tbody>\n",
       "    <tr>\n",
       "      <th>296</th>\n",
       "      <td>45</td>\n",
       "      <td>White</td>\n",
       "      <td>Married</td>\n",
       "      <td>T1</td>\n",
       "      <td>N1</td>\n",
       "      <td>IIA</td>\n",
       "      <td>Moderately differentiated</td>\n",
       "      <td>2</td>\n",
       "      <td>Regional</td>\n",
       "      <td>Positive</td>\n",
       "      <td>Positive</td>\n",
       "      <td>1</td>\n",
       "      <td>1</td>\n",
       "    </tr>\n",
       "    <tr>\n",
       "      <th>1163</th>\n",
       "      <td>61</td>\n",
       "      <td>White</td>\n",
       "      <td>Married</td>\n",
       "      <td>T1</td>\n",
       "      <td>N1</td>\n",
       "      <td>IIA</td>\n",
       "      <td>Moderately differentiated</td>\n",
       "      <td>2</td>\n",
       "      <td>Regional</td>\n",
       "      <td>Positive</td>\n",
       "      <td>Positive</td>\n",
       "      <td>21</td>\n",
       "      <td>2</td>\n",
       "    </tr>\n",
       "    <tr>\n",
       "      <th>507</th>\n",
       "      <td>50</td>\n",
       "      <td>White</td>\n",
       "      <td>Married</td>\n",
       "      <td>T1</td>\n",
       "      <td>N1</td>\n",
       "      <td>IIA</td>\n",
       "      <td>Moderately differentiated</td>\n",
       "      <td>2</td>\n",
       "      <td>Regional</td>\n",
       "      <td>Positive</td>\n",
       "      <td>Positive</td>\n",
       "      <td>15</td>\n",
       "      <td>3</td>\n",
       "    </tr>\n",
       "    <tr>\n",
       "      <th>2882</th>\n",
       "      <td>69</td>\n",
       "      <td>White</td>\n",
       "      <td>Single</td>\n",
       "      <td>T4</td>\n",
       "      <td>N3</td>\n",
       "      <td>IIIC</td>\n",
       "      <td>Moderately differentiated</td>\n",
       "      <td>2</td>\n",
       "      <td>Regional</td>\n",
       "      <td>Positive</td>\n",
       "      <td>Positive</td>\n",
       "      <td>24</td>\n",
       "      <td>23</td>\n",
       "    </tr>\n",
       "    <tr>\n",
       "      <th>7</th>\n",
       "      <td>40</td>\n",
       "      <td>White</td>\n",
       "      <td>Married</td>\n",
       "      <td>T2</td>\n",
       "      <td>N1</td>\n",
       "      <td>IIB</td>\n",
       "      <td>Moderately differentiated</td>\n",
       "      <td>2</td>\n",
       "      <td>Regional</td>\n",
       "      <td>Positive</td>\n",
       "      <td>Positive</td>\n",
       "      <td>9</td>\n",
       "      <td>1</td>\n",
       "    </tr>\n",
       "  </tbody>\n",
       "</table>\n",
       "</div>"
      ],
      "text/plain": [
       "      Age   Race Marital Status T Stage  N Stage 6th Stage  \\\n",
       "296    45  White        Married       T1      N1       IIA   \n",
       "1163   61  White        Married       T1      N1       IIA   \n",
       "507    50  White        Married       T1      N1       IIA   \n",
       "2882   69  White        Single        T4      N3      IIIC   \n",
       "7      40  White        Married       T2      N1       IIB   \n",
       "\n",
       "                  differentiate Grade   A Stage Estrogen Status  \\\n",
       "296   Moderately differentiated     2  Regional        Positive   \n",
       "1163  Moderately differentiated     2  Regional        Positive   \n",
       "507   Moderately differentiated     2  Regional        Positive   \n",
       "2882  Moderately differentiated     2  Regional        Positive   \n",
       "7     Moderately differentiated     2  Regional        Positive   \n",
       "\n",
       "     Progesterone Status  Regional Node Examined  Reginol Node Positive  \n",
       "296             Positive                       1                      1  \n",
       "1163            Positive                      21                      2  \n",
       "507             Positive                      15                      3  \n",
       "2882            Positive                      24                     23  \n",
       "7               Positive                       9                      1  "
      ]
     },
     "execution_count": 12,
     "metadata": {},
     "output_type": "execute_result"
    }
   ],
   "source": [
    "X_train.head()"
   ]
  },
  {
   "cell_type": "code",
   "execution_count": 13,
   "id": "f84f9be8",
   "metadata": {
    "execution": {
     "iopub.execute_input": "2024-07-21T17:42:04.386173Z",
     "iopub.status.busy": "2024-07-21T17:42:04.385735Z",
     "iopub.status.idle": "2024-07-21T17:42:04.394969Z",
     "shell.execute_reply": "2024-07-21T17:42:04.393718Z"
    },
    "papermill": {
     "duration": 0.025478,
     "end_time": "2024-07-21T17:42:04.397586",
     "exception": false,
     "start_time": "2024-07-21T17:42:04.372108",
     "status": "completed"
    },
    "tags": []
   },
   "outputs": [
    {
     "data": {
      "text/plain": [
       "296     20\n",
       "1163    18\n",
       "507     12\n",
       "2882    80\n",
       "7       30\n",
       "Name: Tumor Size, dtype: int64"
      ]
     },
     "execution_count": 13,
     "metadata": {},
     "output_type": "execute_result"
    }
   ],
   "source": [
    "y_train.head()"
   ]
  },
  {
   "cell_type": "code",
   "execution_count": 14,
   "id": "96300671",
   "metadata": {
    "execution": {
     "iopub.execute_input": "2024-07-21T17:42:04.422925Z",
     "iopub.status.busy": "2024-07-21T17:42:04.422519Z",
     "iopub.status.idle": "2024-07-21T17:42:04.455135Z",
     "shell.execute_reply": "2024-07-21T17:42:04.453781Z"
    },
    "papermill": {
     "duration": 0.048378,
     "end_time": "2024-07-21T17:42:04.458059",
     "exception": false,
     "start_time": "2024-07-21T17:42:04.409681",
     "status": "completed"
    },
    "tags": []
   },
   "outputs": [],
   "source": [
    "X_train = preprocessor.transform(X_train)\n",
    "X_test = preprocessor.transform(X_test)"
   ]
  },
  {
   "cell_type": "code",
   "execution_count": 15,
   "id": "86661358",
   "metadata": {
    "execution": {
     "iopub.execute_input": "2024-07-21T17:42:04.482306Z",
     "iopub.status.busy": "2024-07-21T17:42:04.481905Z",
     "iopub.status.idle": "2024-07-21T17:42:04.489573Z",
     "shell.execute_reply": "2024-07-21T17:42:04.488448Z"
    },
    "papermill": {
     "duration": 0.022289,
     "end_time": "2024-07-21T17:42:04.491788",
     "exception": false,
     "start_time": "2024-07-21T17:42:04.469499",
     "status": "completed"
    },
    "tags": []
   },
   "outputs": [
    {
     "data": {
      "text/plain": [
       "array([[ 0.,  0.,  1., ..., 45.,  1.,  1.],\n",
       "       [ 0.,  0.,  1., ..., 61., 21.,  2.],\n",
       "       [ 0.,  0.,  1., ..., 50., 15.,  3.],\n",
       "       ...,\n",
       "       [ 0.,  0.,  1., ..., 57., 31.,  2.],\n",
       "       [ 0.,  1.,  0., ..., 48., 27.,  1.],\n",
       "       [ 0.,  0.,  1., ..., 53., 14.,  2.]])"
      ]
     },
     "execution_count": 15,
     "metadata": {},
     "output_type": "execute_result"
    }
   ],
   "source": [
    "X_train"
   ]
  },
  {
   "cell_type": "markdown",
   "id": "b07343f4",
   "metadata": {
    "papermill": {
     "duration": 0.01074,
     "end_time": "2024-07-21T17:42:04.514089",
     "exception": false,
     "start_time": "2024-07-21T17:42:04.503349",
     "status": "completed"
    },
    "tags": []
   },
   "source": [
    "# Decision Trees"
   ]
  },
  {
   "cell_type": "code",
   "execution_count": 16,
   "id": "0fb70dea",
   "metadata": {
    "execution": {
     "iopub.execute_input": "2024-07-21T17:42:04.539922Z",
     "iopub.status.busy": "2024-07-21T17:42:04.539049Z",
     "iopub.status.idle": "2024-07-21T17:42:04.844847Z",
     "shell.execute_reply": "2024-07-21T17:42:04.843509Z"
    },
    "papermill": {
     "duration": 0.32203,
     "end_time": "2024-07-21T17:42:04.847750",
     "exception": false,
     "start_time": "2024-07-21T17:42:04.525720",
     "status": "completed"
    },
    "tags": []
   },
   "outputs": [],
   "source": [
    "from sklearn.tree import DecisionTreeRegressor"
   ]
  },
  {
   "cell_type": "code",
   "execution_count": 17,
   "id": "ab1ba78d",
   "metadata": {
    "execution": {
     "iopub.execute_input": "2024-07-21T17:42:04.871811Z",
     "iopub.status.busy": "2024-07-21T17:42:04.871420Z",
     "iopub.status.idle": "2024-07-21T17:42:04.877230Z",
     "shell.execute_reply": "2024-07-21T17:42:04.875782Z"
    },
    "papermill": {
     "duration": 0.021124,
     "end_time": "2024-07-21T17:42:04.879906",
     "exception": false,
     "start_time": "2024-07-21T17:42:04.858782",
     "status": "completed"
    },
    "tags": []
   },
   "outputs": [],
   "source": [
    "dtr = DecisionTreeRegressor(criterion='squared_error',\n",
    "                           splitter='best',\n",
    "                           random_state=42)"
   ]
  },
  {
   "cell_type": "code",
   "execution_count": 18,
   "id": "d30c82b4",
   "metadata": {
    "execution": {
     "iopub.execute_input": "2024-07-21T17:42:04.904226Z",
     "iopub.status.busy": "2024-07-21T17:42:04.903822Z",
     "iopub.status.idle": "2024-07-21T17:42:07.360750Z",
     "shell.execute_reply": "2024-07-21T17:42:07.358830Z"
    },
    "papermill": {
     "duration": 2.472057,
     "end_time": "2024-07-21T17:42:07.363439",
     "exception": false,
     "start_time": "2024-07-21T17:42:04.891382",
     "status": "completed"
    },
    "tags": []
   },
   "outputs": [
    {
     "name": "stdout",
     "output_type": "stream",
     "text": [
      "R^2: 0.502 +/- 0.095\n",
      "-ve RMSE: -14.525 +/- 1.534\n"
     ]
    }
   ],
   "source": [
    "r2 = cross_val_score(dtr, X_train, y_train, scoring='r2', cv=10, n_jobs=-1)\n",
    "neg_rmse_error = cross_val_score(dtr, X_train, y_train, scoring='neg_root_mean_squared_error', cv=10, n_jobs=-1)\n",
    "\n",
    "\n",
    "print(f\"R^2: {np.mean(r2).round(3)} +/- {np.std(r2).round(3)}\")\n",
    "print(f\"-ve RMSE: {np.mean(neg_rmse_error).round(3)} +/- {np.std(neg_rmse_error).round(3)}\")\n"
   ]
  },
  {
   "cell_type": "code",
   "execution_count": 19,
   "id": "1952919d",
   "metadata": {
    "execution": {
     "iopub.execute_input": "2024-07-21T17:42:07.392129Z",
     "iopub.status.busy": "2024-07-21T17:42:07.390472Z",
     "iopub.status.idle": "2024-07-21T17:42:07.418734Z",
     "shell.execute_reply": "2024-07-21T17:42:07.417428Z"
    },
    "papermill": {
     "duration": 0.046187,
     "end_time": "2024-07-21T17:42:07.421401",
     "exception": false,
     "start_time": "2024-07-21T17:42:07.375214",
     "status": "completed"
    },
    "tags": []
   },
   "outputs": [],
   "source": [
    "decision_tree_regressor = dtr.fit(X=X_train, y=y_train)"
   ]
  },
  {
   "cell_type": "code",
   "execution_count": 20,
   "id": "d2b7b9bb",
   "metadata": {
    "execution": {
     "iopub.execute_input": "2024-07-21T17:42:07.446031Z",
     "iopub.status.busy": "2024-07-21T17:42:07.445643Z",
     "iopub.status.idle": "2024-07-21T17:42:07.451822Z",
     "shell.execute_reply": "2024-07-21T17:42:07.450451Z"
    },
    "papermill": {
     "duration": 0.022073,
     "end_time": "2024-07-21T17:42:07.454703",
     "exception": false,
     "start_time": "2024-07-21T17:42:07.432630",
     "status": "completed"
    },
    "tags": []
   },
   "outputs": [],
   "source": [
    "y_pred = decision_tree_regressor.predict(X_test)"
   ]
  },
  {
   "cell_type": "code",
   "execution_count": 21,
   "id": "c0b00c44",
   "metadata": {
    "execution": {
     "iopub.execute_input": "2024-07-21T17:42:07.479753Z",
     "iopub.status.busy": "2024-07-21T17:42:07.479364Z",
     "iopub.status.idle": "2024-07-21T17:42:07.487361Z",
     "shell.execute_reply": "2024-07-21T17:42:07.485900Z"
    },
    "papermill": {
     "duration": 0.024341,
     "end_time": "2024-07-21T17:42:07.490795",
     "exception": false,
     "start_time": "2024-07-21T17:42:07.466454",
     "status": "completed"
    },
    "tags": []
   },
   "outputs": [
    {
     "name": "stdout",
     "output_type": "stream",
     "text": [
      "R^2 score:0.53\n"
     ]
    }
   ],
   "source": [
    "from sklearn.metrics import r2_score\n",
    "print(f\"R^2 score:{r2_score(y_test, y_pred).round(3)}\")"
   ]
  },
  {
   "cell_type": "markdown",
   "id": "cd3bb2fd",
   "metadata": {
    "papermill": {
     "duration": 0.085526,
     "end_time": "2024-07-21T17:42:07.593587",
     "exception": false,
     "start_time": "2024-07-21T17:42:07.508061",
     "status": "completed"
    },
    "tags": []
   },
   "source": [
    "# Bagging"
   ]
  },
  {
   "cell_type": "code",
   "execution_count": 22,
   "id": "77ab8131",
   "metadata": {
    "execution": {
     "iopub.execute_input": "2024-07-21T17:42:07.619107Z",
     "iopub.status.busy": "2024-07-21T17:42:07.618679Z",
     "iopub.status.idle": "2024-07-21T17:42:07.709550Z",
     "shell.execute_reply": "2024-07-21T17:42:07.708331Z"
    },
    "papermill": {
     "duration": 0.107791,
     "end_time": "2024-07-21T17:42:07.712625",
     "exception": false,
     "start_time": "2024-07-21T17:42:07.604834",
     "status": "completed"
    },
    "tags": []
   },
   "outputs": [],
   "source": [
    "from sklearn.ensemble import BaggingRegressor"
   ]
  },
  {
   "cell_type": "code",
   "execution_count": 23,
   "id": "ba7768d8",
   "metadata": {
    "execution": {
     "iopub.execute_input": "2024-07-21T17:42:07.745859Z",
     "iopub.status.busy": "2024-07-21T17:42:07.745399Z",
     "iopub.status.idle": "2024-07-21T17:42:07.751817Z",
     "shell.execute_reply": "2024-07-21T17:42:07.750090Z"
    },
    "papermill": {
     "duration": 0.025319,
     "end_time": "2024-07-21T17:42:07.754414",
     "exception": false,
     "start_time": "2024-07-21T17:42:07.729095",
     "status": "completed"
    },
    "tags": []
   },
   "outputs": [],
   "source": [
    "bgr = BaggingRegressor(estimator = dtr, \n",
    "                      n_estimators=100,\n",
    "                      bootstrap=True,\n",
    "                      oob_score=False,\n",
    "                      n_jobs=-1,\n",
    "                      random_state=42)"
   ]
  },
  {
   "cell_type": "code",
   "execution_count": 24,
   "id": "70031754",
   "metadata": {
    "execution": {
     "iopub.execute_input": "2024-07-21T17:42:07.780094Z",
     "iopub.status.busy": "2024-07-21T17:42:07.779588Z",
     "iopub.status.idle": "2024-07-21T17:42:18.439268Z",
     "shell.execute_reply": "2024-07-21T17:42:18.437879Z"
    },
    "papermill": {
     "duration": 10.675928,
     "end_time": "2024-07-21T17:42:18.442815",
     "exception": false,
     "start_time": "2024-07-21T17:42:07.766887",
     "status": "completed"
    },
    "tags": []
   },
   "outputs": [
    {
     "name": "stdout",
     "output_type": "stream",
     "text": [
      "R^2: 0.717 +/- 0.047\n",
      "-ve RMSE: -10.937 +/- 0.951\n"
     ]
    }
   ],
   "source": [
    "r2 = cross_val_score(bgr, X_train, y_train, scoring='r2', cv=10, n_jobs=-1)\n",
    "neg_rmse_error = cross_val_score(bgr, X_train, y_train, scoring='neg_root_mean_squared_error', cv=10, n_jobs=-1)\n",
    "\n",
    "\n",
    "print(f\"R^2: {np.mean(r2).round(3)} +/- {np.std(r2).round(3)}\")\n",
    "print(f\"-ve RMSE: {np.mean(neg_rmse_error).round(3)} +/- {np.std(neg_rmse_error).round(3)}\")"
   ]
  },
  {
   "cell_type": "code",
   "execution_count": 25,
   "id": "f8454353",
   "metadata": {
    "execution": {
     "iopub.execute_input": "2024-07-21T17:42:18.469406Z",
     "iopub.status.busy": "2024-07-21T17:42:18.468955Z",
     "iopub.status.idle": "2024-07-21T17:42:19.338284Z",
     "shell.execute_reply": "2024-07-21T17:42:19.336694Z"
    },
    "papermill": {
     "duration": 0.885582,
     "end_time": "2024-07-21T17:42:19.341619",
     "exception": false,
     "start_time": "2024-07-21T17:42:18.456037",
     "status": "completed"
    },
    "tags": []
   },
   "outputs": [
    {
     "name": "stdout",
     "output_type": "stream",
     "text": [
      "R^2 score:0.718\n"
     ]
    }
   ],
   "source": [
    "bagging_regressor = bgr.fit(X=X_train, y=y_train)\n",
    "y_pred = bagging_regressor.predict(X_test)\n",
    "print(f\"R^2 score:{r2_score(y_test, y_pred).round(3)}\")"
   ]
  },
  {
   "cell_type": "markdown",
   "id": "ddf8719a",
   "metadata": {
    "papermill": {
     "duration": 0.011313,
     "end_time": "2024-07-21T17:42:19.364790",
     "exception": false,
     "start_time": "2024-07-21T17:42:19.353477",
     "status": "completed"
    },
    "tags": []
   },
   "source": [
    "# Random Forests"
   ]
  },
  {
   "cell_type": "code",
   "execution_count": 26,
   "id": "4a89675d",
   "metadata": {
    "execution": {
     "iopub.execute_input": "2024-07-21T17:42:19.389917Z",
     "iopub.status.busy": "2024-07-21T17:42:19.389511Z",
     "iopub.status.idle": "2024-07-21T17:42:19.395932Z",
     "shell.execute_reply": "2024-07-21T17:42:19.394115Z"
    },
    "papermill": {
     "duration": 0.022271,
     "end_time": "2024-07-21T17:42:19.398587",
     "exception": false,
     "start_time": "2024-07-21T17:42:19.376316",
     "status": "completed"
    },
    "tags": []
   },
   "outputs": [],
   "source": [
    "from sklearn.ensemble import RandomForestRegressor"
   ]
  },
  {
   "cell_type": "code",
   "execution_count": 27,
   "id": "bc8722e9",
   "metadata": {
    "execution": {
     "iopub.execute_input": "2024-07-21T17:42:19.426387Z",
     "iopub.status.busy": "2024-07-21T17:42:19.425959Z",
     "iopub.status.idle": "2024-07-21T17:42:19.432876Z",
     "shell.execute_reply": "2024-07-21T17:42:19.431004Z"
    },
    "papermill": {
     "duration": 0.025483,
     "end_time": "2024-07-21T17:42:19.436790",
     "exception": false,
     "start_time": "2024-07-21T17:42:19.411307",
     "status": "completed"
    },
    "tags": []
   },
   "outputs": [],
   "source": [
    "rfr = RandomForestRegressor(n_estimators=500,\n",
    "                           criterion='squared_error',\n",
    "                           max_features = 'sqrt',\n",
    "                           bootstrap=True,\n",
    "                           oob_score=False,\n",
    "                           n_jobs=-1,\n",
    "                           random_state=42)"
   ]
  },
  {
   "cell_type": "code",
   "execution_count": 28,
   "id": "366ef90b",
   "metadata": {
    "execution": {
     "iopub.execute_input": "2024-07-21T17:42:19.464129Z",
     "iopub.status.busy": "2024-07-21T17:42:19.463178Z",
     "iopub.status.idle": "2024-07-21T17:43:00.443203Z",
     "shell.execute_reply": "2024-07-21T17:43:00.441758Z"
    },
    "papermill": {
     "duration": 41.008134,
     "end_time": "2024-07-21T17:43:00.457322",
     "exception": false,
     "start_time": "2024-07-21T17:42:19.449188",
     "status": "completed"
    },
    "tags": []
   },
   "outputs": [
    {
     "name": "stdout",
     "output_type": "stream",
     "text": [
      "R^2: 0.726 +/- 0.038\n",
      "-ve RMSE: -10.777 +/- 0.72\n"
     ]
    }
   ],
   "source": [
    "r2 = cross_val_score(rfr, X_train, y_train, scoring='r2', cv=10)\n",
    "neg_rmse_error = cross_val_score(rfr, X_train, y_train, scoring='neg_root_mean_squared_error', cv=10)\n",
    "\n",
    "\n",
    "print(f\"R^2: {np.mean(r2).round(3)} +/- {np.std(r2).round(3)}\")\n",
    "print(f\"-ve RMSE: {np.mean(neg_rmse_error).round(3)} +/- {np.std(neg_rmse_error).round(3)}\")"
   ]
  },
  {
   "cell_type": "code",
   "execution_count": 29,
   "id": "5093ae1c",
   "metadata": {
    "execution": {
     "iopub.execute_input": "2024-07-21T17:43:00.482317Z",
     "iopub.status.busy": "2024-07-21T17:43:00.481909Z",
     "iopub.status.idle": "2024-07-21T17:43:02.686282Z",
     "shell.execute_reply": "2024-07-21T17:43:02.685105Z"
    },
    "papermill": {
     "duration": 2.220009,
     "end_time": "2024-07-21T17:43:02.688848",
     "exception": false,
     "start_time": "2024-07-21T17:43:00.468839",
     "status": "completed"
    },
    "tags": []
   },
   "outputs": [
    {
     "name": "stdout",
     "output_type": "stream",
     "text": [
      "R^2 score:0.716\n"
     ]
    }
   ],
   "source": [
    "randomforest_regressor = rfr.fit(X=X_train, y=y_train)\n",
    "y_pred = randomforest_regressor.predict(X_test)\n",
    "print(f\"R^2 score:{r2_score(y_test, y_pred).round(3)}\")"
   ]
  },
  {
   "cell_type": "markdown",
   "id": "00ae5951",
   "metadata": {
    "papermill": {
     "duration": 0.012042,
     "end_time": "2024-07-21T17:43:02.712595",
     "exception": false,
     "start_time": "2024-07-21T17:43:02.700553",
     "status": "completed"
    },
    "tags": []
   },
   "source": [
    "# Gradient Boosting"
   ]
  },
  {
   "cell_type": "code",
   "execution_count": 30,
   "id": "7cbbf6de",
   "metadata": {
    "execution": {
     "iopub.execute_input": "2024-07-21T17:43:02.737803Z",
     "iopub.status.busy": "2024-07-21T17:43:02.737377Z",
     "iopub.status.idle": "2024-07-21T17:43:02.742622Z",
     "shell.execute_reply": "2024-07-21T17:43:02.741480Z"
    },
    "papermill": {
     "duration": 0.021193,
     "end_time": "2024-07-21T17:43:02.745455",
     "exception": false,
     "start_time": "2024-07-21T17:43:02.724262",
     "status": "completed"
    },
    "tags": []
   },
   "outputs": [],
   "source": [
    "from sklearn.ensemble import GradientBoostingRegressor"
   ]
  },
  {
   "cell_type": "code",
   "execution_count": 31,
   "id": "6f4551f8",
   "metadata": {
    "execution": {
     "iopub.execute_input": "2024-07-21T17:43:02.770854Z",
     "iopub.status.busy": "2024-07-21T17:43:02.770470Z",
     "iopub.status.idle": "2024-07-21T17:43:02.775982Z",
     "shell.execute_reply": "2024-07-21T17:43:02.774643Z"
    },
    "papermill": {
     "duration": 0.020972,
     "end_time": "2024-07-21T17:43:02.778390",
     "exception": false,
     "start_time": "2024-07-21T17:43:02.757418",
     "status": "completed"
    },
    "tags": []
   },
   "outputs": [],
   "source": [
    "gbr = GradientBoostingRegressor(loss = 'squared_error',\n",
    "                               learning_rate=2e-1,\n",
    "                               n_estimators=100,\n",
    "                               random_state=42,\n",
    "                               max_features='sqrt')"
   ]
  },
  {
   "cell_type": "code",
   "execution_count": 32,
   "id": "f194bb7d",
   "metadata": {
    "execution": {
     "iopub.execute_input": "2024-07-21T17:43:02.804435Z",
     "iopub.status.busy": "2024-07-21T17:43:02.804046Z",
     "iopub.status.idle": "2024-07-21T17:43:03.842864Z",
     "shell.execute_reply": "2024-07-21T17:43:03.841622Z"
    },
    "papermill": {
     "duration": 1.054716,
     "end_time": "2024-07-21T17:43:03.845668",
     "exception": false,
     "start_time": "2024-07-21T17:43:02.790952",
     "status": "completed"
    },
    "tags": []
   },
   "outputs": [
    {
     "name": "stdout",
     "output_type": "stream",
     "text": [
      "R^2: 0.736 +/- 0.045\n",
      "-ve RMSE: -10.563 +/- 0.862\n"
     ]
    }
   ],
   "source": [
    "r2 = cross_val_score(gbr, X_train, y_train, scoring='r2', cv=10, n_jobs=-1)\n",
    "neg_rmse_error = cross_val_score(gbr, X_train, y_train, scoring='neg_root_mean_squared_error', cv=10, n_jobs=-1)\n",
    "\n",
    "\n",
    "print(f\"R^2: {np.mean(r2).round(3)} +/- {np.std(r2).round(3)}\")\n",
    "print(f\"-ve RMSE: {np.mean(neg_rmse_error).round(3)} +/- {np.std(neg_rmse_error).round(3)}\")"
   ]
  },
  {
   "cell_type": "code",
   "execution_count": 33,
   "id": "3b98552d",
   "metadata": {
    "execution": {
     "iopub.execute_input": "2024-07-21T17:43:03.871003Z",
     "iopub.status.busy": "2024-07-21T17:43:03.870603Z",
     "iopub.status.idle": "2024-07-21T17:43:04.003455Z",
     "shell.execute_reply": "2024-07-21T17:43:04.002248Z"
    },
    "papermill": {
     "duration": 0.148355,
     "end_time": "2024-07-21T17:43:04.005907",
     "exception": false,
     "start_time": "2024-07-21T17:43:03.857552",
     "status": "completed"
    },
    "tags": []
   },
   "outputs": [
    {
     "name": "stdout",
     "output_type": "stream",
     "text": [
      "R^2 score:0.714\n"
     ]
    }
   ],
   "source": [
    "gradboost_regressor = gbr.fit(X=X_train, y=y_train)\n",
    "y_pred = gradboost_regressor.predict(X_test)\n",
    "print(f\"R^2 score:{r2_score(y_test, y_pred).round(3)}\")"
   ]
  },
  {
   "cell_type": "markdown",
   "id": "feefd01c",
   "metadata": {
    "papermill": {
     "duration": 0.012202,
     "end_time": "2024-07-21T17:43:04.029973",
     "exception": false,
     "start_time": "2024-07-21T17:43:04.017771",
     "status": "completed"
    },
    "tags": []
   },
   "source": [
    "# Histogram-Based GBR"
   ]
  },
  {
   "cell_type": "code",
   "execution_count": 34,
   "id": "1865bbdc",
   "metadata": {
    "execution": {
     "iopub.execute_input": "2024-07-21T17:43:04.057358Z",
     "iopub.status.busy": "2024-07-21T17:43:04.056929Z",
     "iopub.status.idle": "2024-07-21T17:43:04.062386Z",
     "shell.execute_reply": "2024-07-21T17:43:04.061127Z"
    },
    "papermill": {
     "duration": 0.022118,
     "end_time": "2024-07-21T17:43:04.064879",
     "exception": false,
     "start_time": "2024-07-21T17:43:04.042761",
     "status": "completed"
    },
    "tags": []
   },
   "outputs": [],
   "source": [
    "from sklearn.ensemble import HistGradientBoostingRegressor"
   ]
  },
  {
   "cell_type": "code",
   "execution_count": 35,
   "id": "263fb003",
   "metadata": {
    "execution": {
     "iopub.execute_input": "2024-07-21T17:43:04.090825Z",
     "iopub.status.busy": "2024-07-21T17:43:04.090431Z",
     "iopub.status.idle": "2024-07-21T17:43:04.096172Z",
     "shell.execute_reply": "2024-07-21T17:43:04.094652Z"
    },
    "papermill": {
     "duration": 0.02123,
     "end_time": "2024-07-21T17:43:04.098503",
     "exception": false,
     "start_time": "2024-07-21T17:43:04.077273",
     "status": "completed"
    },
    "tags": []
   },
   "outputs": [],
   "source": [
    "hgbr = HistGradientBoostingRegressor(loss = 'squared_error',\n",
    "                                     learning_rate=0.01,\n",
    "                                     max_iter = 400,\n",
    "                                     random_state=42)"
   ]
  },
  {
   "cell_type": "code",
   "execution_count": 36,
   "id": "2965ace6",
   "metadata": {
    "execution": {
     "iopub.execute_input": "2024-07-21T17:43:04.124588Z",
     "iopub.status.busy": "2024-07-21T17:43:04.124171Z",
     "iopub.status.idle": "2024-07-21T17:43:22.103274Z",
     "shell.execute_reply": "2024-07-21T17:43:22.101643Z"
    },
    "papermill": {
     "duration": 17.996448,
     "end_time": "2024-07-21T17:43:22.106876",
     "exception": false,
     "start_time": "2024-07-21T17:43:04.110428",
     "status": "completed"
    },
    "tags": []
   },
   "outputs": [
    {
     "name": "stdout",
     "output_type": "stream",
     "text": [
      "R^2: 0.743 +/- 0.04\n",
      "-ve RMSE: -10.421 +/- 0.858\n"
     ]
    }
   ],
   "source": [
    "r2 = cross_val_score(hgbr, X_train, y_train, scoring='r2', cv=10, n_jobs=-1)\n",
    "neg_rmse_error = cross_val_score(hgbr, X_train, y_train, scoring='neg_root_mean_squared_error', cv=10,n_jobs=-1)\n",
    "\n",
    "\n",
    "print(f\"R^2: {np.mean(r2).round(3)} +/- {np.std(r2).round(3)}\")\n",
    "print(f\"-ve RMSE: {np.mean(neg_rmse_error).round(3)} +/- {np.std(neg_rmse_error).round(3)}\")"
   ]
  },
  {
   "cell_type": "code",
   "execution_count": 37,
   "id": "1cd7a42e",
   "metadata": {
    "execution": {
     "iopub.execute_input": "2024-07-21T17:43:22.134428Z",
     "iopub.status.busy": "2024-07-21T17:43:22.133972Z",
     "iopub.status.idle": "2024-07-21T17:43:24.239809Z",
     "shell.execute_reply": "2024-07-21T17:43:24.238208Z"
    },
    "papermill": {
     "duration": 2.123058,
     "end_time": "2024-07-21T17:43:24.242293",
     "exception": false,
     "start_time": "2024-07-21T17:43:22.119235",
     "status": "completed"
    },
    "tags": []
   },
   "outputs": [
    {
     "name": "stdout",
     "output_type": "stream",
     "text": [
      "R^2 score:0.721\n"
     ]
    }
   ],
   "source": [
    "hgradboost_regressor = hgbr.fit(X=X_train, y=y_train)\n",
    "y_pred = hgradboost_regressor.predict(X_test)\n",
    "print(f\"R^2 score:{r2_score(y_test, y_pred).round(3)}\")"
   ]
  },
  {
   "cell_type": "markdown",
   "id": "4c3f438d",
   "metadata": {
    "papermill": {
     "duration": 0.011707,
     "end_time": "2024-07-21T17:43:24.266257",
     "exception": false,
     "start_time": "2024-07-21T17:43:24.254550",
     "status": "completed"
    },
    "tags": []
   },
   "source": [
    "# XGBoost"
   ]
  },
  {
   "cell_type": "code",
   "execution_count": 38,
   "id": "4b01b893",
   "metadata": {
    "execution": {
     "iopub.execute_input": "2024-07-21T17:43:24.292193Z",
     "iopub.status.busy": "2024-07-21T17:43:24.291751Z",
     "iopub.status.idle": "2024-07-21T17:43:24.507232Z",
     "shell.execute_reply": "2024-07-21T17:43:24.506070Z"
    },
    "papermill": {
     "duration": 0.231761,
     "end_time": "2024-07-21T17:43:24.510030",
     "exception": false,
     "start_time": "2024-07-21T17:43:24.278269",
     "status": "completed"
    },
    "tags": []
   },
   "outputs": [],
   "source": [
    "from xgboost import XGBRegressor"
   ]
  },
  {
   "cell_type": "code",
   "execution_count": 39,
   "id": "16f38fc9",
   "metadata": {
    "execution": {
     "iopub.execute_input": "2024-07-21T17:43:24.536335Z",
     "iopub.status.busy": "2024-07-21T17:43:24.535918Z",
     "iopub.status.idle": "2024-07-21T17:43:24.541665Z",
     "shell.execute_reply": "2024-07-21T17:43:24.540330Z"
    },
    "papermill": {
     "duration": 0.022521,
     "end_time": "2024-07-21T17:43:24.544688",
     "exception": false,
     "start_time": "2024-07-21T17:43:24.522167",
     "status": "completed"
    },
    "tags": []
   },
   "outputs": [],
   "source": [
    "xgbr = XGBRegressor(n_estimators=1000,\n",
    "                   eta=0.01)"
   ]
  },
  {
   "cell_type": "code",
   "execution_count": 40,
   "id": "0a5ece60",
   "metadata": {
    "execution": {
     "iopub.execute_input": "2024-07-21T17:43:24.577083Z",
     "iopub.status.busy": "2024-07-21T17:43:24.575860Z",
     "iopub.status.idle": "2024-07-21T17:43:46.369484Z",
     "shell.execute_reply": "2024-07-21T17:43:46.368216Z"
    },
    "papermill": {
     "duration": 21.809773,
     "end_time": "2024-07-21T17:43:46.372216",
     "exception": false,
     "start_time": "2024-07-21T17:43:24.562443",
     "status": "completed"
    },
    "tags": []
   },
   "outputs": [
    {
     "name": "stdout",
     "output_type": "stream",
     "text": [
      "R^2: 0.705 +/- 0.057\n",
      "-ve RMSE: -11.138 +/- 1.03\n"
     ]
    }
   ],
   "source": [
    "r2 = cross_val_score(xgbr, X_train, y_train, scoring='r2', cv=10)\n",
    "neg_rmse_error = cross_val_score(xgbr, X_train, y_train, scoring='neg_root_mean_squared_error', cv=10)\n",
    "\n",
    "\n",
    "print(f\"R^2: {np.mean(r2).round(3)} +/- {np.std(r2).round(3)}\")\n",
    "print(f\"-ve RMSE: {np.mean(neg_rmse_error).round(3)} +/- {np.std(neg_rmse_error).round(3)}\")"
   ]
  },
  {
   "cell_type": "code",
   "execution_count": 41,
   "id": "86c731f2",
   "metadata": {
    "execution": {
     "iopub.execute_input": "2024-07-21T17:43:46.403063Z",
     "iopub.status.busy": "2024-07-21T17:43:46.402590Z",
     "iopub.status.idle": "2024-07-21T17:43:47.505822Z",
     "shell.execute_reply": "2024-07-21T17:43:47.504948Z"
    },
    "papermill": {
     "duration": 1.123656,
     "end_time": "2024-07-21T17:43:47.508141",
     "exception": false,
     "start_time": "2024-07-21T17:43:46.384485",
     "status": "completed"
    },
    "tags": []
   },
   "outputs": [
    {
     "name": "stdout",
     "output_type": "stream",
     "text": [
      "R^2 score:0.684\n"
     ]
    }
   ],
   "source": [
    "xgboost_regressor = xgbr.fit(X=X_train, y=y_train)\n",
    "y_pred = xgboost_regressor.predict(X_test)\n",
    "print(f\"R^2 score:{r2_score(y_test, y_pred).round(3)}\")"
   ]
  }
 ],
 "metadata": {
  "kaggle": {
   "accelerator": "none",
   "dataSources": [
    {
     "datasetId": 2396275,
     "sourceId": 4045493,
     "sourceType": "datasetVersion"
    }
   ],
   "dockerImageVersionId": 30746,
   "isGpuEnabled": false,
   "isInternetEnabled": false,
   "language": "python",
   "sourceType": "notebook"
  },
  "kernelspec": {
   "display_name": "Python 3",
   "language": "python",
   "name": "python3"
  },
  "language_info": {
   "codemirror_mode": {
    "name": "ipython",
    "version": 3
   },
   "file_extension": ".py",
   "mimetype": "text/x-python",
   "name": "python",
   "nbconvert_exporter": "python",
   "pygments_lexer": "ipython3",
   "version": "3.10.13"
  },
  "papermill": {
   "default_parameters": {},
   "duration": 112.037786,
   "end_time": "2024-07-21T17:43:50.143613",
   "environment_variables": {},
   "exception": null,
   "input_path": "__notebook__.ipynb",
   "output_path": "__notebook__.ipynb",
   "parameters": {},
   "start_time": "2024-07-21T17:41:58.105827",
   "version": "2.5.0"
  }
 },
 "nbformat": 4,
 "nbformat_minor": 5
}
