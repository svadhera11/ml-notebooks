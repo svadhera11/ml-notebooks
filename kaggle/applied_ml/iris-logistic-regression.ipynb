{
 "cells": [
  {
   "cell_type": "markdown",
   "id": "ca559f14",
   "metadata": {
    "papermill": {
     "duration": 0.015708,
     "end_time": "2024-10-04T17:58:32.321742",
     "exception": false,
     "start_time": "2024-10-04T17:58:32.306034",
     "status": "completed"
    },
    "tags": []
   },
   "source": [
    "# Iris Dataset Classification Using Logistic Regression\n",
    "- This is a multi-class regression problem. We use logistic regression to illustrate its use in classification problems.\n",
    "- While there are several ways to handle a multi-class classification (OvR, OvO, and multinomial logistic regression) we use multinomial logistic regression.\n",
    "    - OvO is computationally intensive, requiring of the order of $k^2$ models for $k$ classes while multinomial logistic regression only requires one model.\n",
    "    - OvR has issues for large $k$ since we run the risk of essentially artifically unbalancing the dataset by considering one class positive and other $k-1$ classes negative. It is also more computationally intensive, requiring order of $k$ models for $k$ classes.\n",
    "    - Multinomial logistic regression is simpler to understand and interpret - in the other two cases one often needs to implement additional rules to deal with clashes (for instance, there is no reason why multiple classifiers in OvO or OvR case cannot give positive results). \n",
    "- The loss function is the log-loss function, implemented in `sklearn.metrics.log_loss`.\n",
    "- The performance on the test set was measured using the confusion matrix, and metrics such as precision, recall, and F1 score (macro/weighted), implemented in `sklearn.metrics.classification_report`"
   ]
  },
  {
   "cell_type": "code",
   "execution_count": 1,
   "id": "d3ea18d1",
   "metadata": {
    "_cell_guid": "b1076dfc-b9ad-4769-8c92-a6c4dae69d19",
    "_uuid": "8f2839f25d086af736a60e9eeb907d3b93b6e0e5",
    "execution": {
     "iopub.execute_input": "2024-10-04T17:58:32.354438Z",
     "iopub.status.busy": "2024-10-04T17:58:32.353967Z",
     "iopub.status.idle": "2024-10-04T17:58:34.866695Z",
     "shell.execute_reply": "2024-10-04T17:58:34.865357Z"
    },
    "papermill": {
     "duration": 2.532999,
     "end_time": "2024-10-04T17:58:34.870215",
     "exception": false,
     "start_time": "2024-10-04T17:58:32.337216",
     "status": "completed"
    },
    "tags": []
   },
   "outputs": [
    {
     "name": "stdout",
     "output_type": "stream",
     "text": [
      "/kaggle/input/iris-flower-dataset/IRIS.csv\n"
     ]
    }
   ],
   "source": [
    "import numpy as np\n",
    "import pandas as pd\n",
    "import matplotlib.pyplot as plt\n",
    "import seaborn as sns\n",
    "\n",
    "\n",
    "import os\n",
    "for dirname, _, filenames in os.walk('/kaggle/input'):\n",
    "    for filename in filenames:\n",
    "        print(os.path.join(dirname, filename))"
   ]
  },
  {
   "cell_type": "code",
   "execution_count": 2,
   "id": "478ac216",
   "metadata": {
    "execution": {
     "iopub.execute_input": "2024-10-04T17:58:34.904445Z",
     "iopub.status.busy": "2024-10-04T17:58:34.903834Z",
     "iopub.status.idle": "2024-10-04T17:58:34.923207Z",
     "shell.execute_reply": "2024-10-04T17:58:34.922028Z"
    },
    "papermill": {
     "duration": 0.039299,
     "end_time": "2024-10-04T17:58:34.926033",
     "exception": false,
     "start_time": "2024-10-04T17:58:34.886734",
     "status": "completed"
    },
    "tags": []
   },
   "outputs": [],
   "source": [
    "iris_dataset = pd.read_csv('/kaggle/input/iris-flower-dataset/IRIS.csv')"
   ]
  },
  {
   "cell_type": "markdown",
   "id": "549370d7",
   "metadata": {
    "papermill": {
     "duration": 0.015394,
     "end_time": "2024-10-04T17:58:34.957213",
     "exception": false,
     "start_time": "2024-10-04T17:58:34.941819",
     "status": "completed"
    },
    "tags": []
   },
   "source": [
    "## Looking at the Data"
   ]
  },
  {
   "cell_type": "code",
   "execution_count": 3,
   "id": "220308d2",
   "metadata": {
    "execution": {
     "iopub.execute_input": "2024-10-04T17:58:34.991069Z",
     "iopub.status.busy": "2024-10-04T17:58:34.990247Z",
     "iopub.status.idle": "2024-10-04T17:58:35.019652Z",
     "shell.execute_reply": "2024-10-04T17:58:35.018555Z"
    },
    "papermill": {
     "duration": 0.048638,
     "end_time": "2024-10-04T17:58:35.022250",
     "exception": false,
     "start_time": "2024-10-04T17:58:34.973612",
     "status": "completed"
    },
    "tags": []
   },
   "outputs": [
    {
     "data": {
      "text/html": [
       "<div>\n",
       "<style scoped>\n",
       "    .dataframe tbody tr th:only-of-type {\n",
       "        vertical-align: middle;\n",
       "    }\n",
       "\n",
       "    .dataframe tbody tr th {\n",
       "        vertical-align: top;\n",
       "    }\n",
       "\n",
       "    .dataframe thead th {\n",
       "        text-align: right;\n",
       "    }\n",
       "</style>\n",
       "<table border=\"1\" class=\"dataframe\">\n",
       "  <thead>\n",
       "    <tr style=\"text-align: right;\">\n",
       "      <th></th>\n",
       "      <th>sepal_length</th>\n",
       "      <th>sepal_width</th>\n",
       "      <th>petal_length</th>\n",
       "      <th>petal_width</th>\n",
       "      <th>species</th>\n",
       "    </tr>\n",
       "  </thead>\n",
       "  <tbody>\n",
       "    <tr>\n",
       "      <th>0</th>\n",
       "      <td>5.1</td>\n",
       "      <td>3.5</td>\n",
       "      <td>1.4</td>\n",
       "      <td>0.2</td>\n",
       "      <td>Iris-setosa</td>\n",
       "    </tr>\n",
       "    <tr>\n",
       "      <th>1</th>\n",
       "      <td>4.9</td>\n",
       "      <td>3.0</td>\n",
       "      <td>1.4</td>\n",
       "      <td>0.2</td>\n",
       "      <td>Iris-setosa</td>\n",
       "    </tr>\n",
       "    <tr>\n",
       "      <th>2</th>\n",
       "      <td>4.7</td>\n",
       "      <td>3.2</td>\n",
       "      <td>1.3</td>\n",
       "      <td>0.2</td>\n",
       "      <td>Iris-setosa</td>\n",
       "    </tr>\n",
       "    <tr>\n",
       "      <th>3</th>\n",
       "      <td>4.6</td>\n",
       "      <td>3.1</td>\n",
       "      <td>1.5</td>\n",
       "      <td>0.2</td>\n",
       "      <td>Iris-setosa</td>\n",
       "    </tr>\n",
       "    <tr>\n",
       "      <th>4</th>\n",
       "      <td>5.0</td>\n",
       "      <td>3.6</td>\n",
       "      <td>1.4</td>\n",
       "      <td>0.2</td>\n",
       "      <td>Iris-setosa</td>\n",
       "    </tr>\n",
       "  </tbody>\n",
       "</table>\n",
       "</div>"
      ],
      "text/plain": [
       "   sepal_length  sepal_width  petal_length  petal_width      species\n",
       "0           5.1          3.5           1.4          0.2  Iris-setosa\n",
       "1           4.9          3.0           1.4          0.2  Iris-setosa\n",
       "2           4.7          3.2           1.3          0.2  Iris-setosa\n",
       "3           4.6          3.1           1.5          0.2  Iris-setosa\n",
       "4           5.0          3.6           1.4          0.2  Iris-setosa"
      ]
     },
     "execution_count": 3,
     "metadata": {},
     "output_type": "execute_result"
    }
   ],
   "source": [
    "iris_dataset.head()"
   ]
  },
  {
   "cell_type": "code",
   "execution_count": 4,
   "id": "322335fe",
   "metadata": {
    "execution": {
     "iopub.execute_input": "2024-10-04T17:58:35.056101Z",
     "iopub.status.busy": "2024-10-04T17:58:35.055687Z",
     "iopub.status.idle": "2024-10-04T17:58:35.081894Z",
     "shell.execute_reply": "2024-10-04T17:58:35.080459Z"
    },
    "papermill": {
     "duration": 0.045983,
     "end_time": "2024-10-04T17:58:35.084399",
     "exception": false,
     "start_time": "2024-10-04T17:58:35.038416",
     "status": "completed"
    },
    "tags": []
   },
   "outputs": [
    {
     "name": "stdout",
     "output_type": "stream",
     "text": [
      "<class 'pandas.core.frame.DataFrame'>\n",
      "RangeIndex: 150 entries, 0 to 149\n",
      "Data columns (total 5 columns):\n",
      " #   Column        Non-Null Count  Dtype  \n",
      "---  ------        --------------  -----  \n",
      " 0   sepal_length  150 non-null    float64\n",
      " 1   sepal_width   150 non-null    float64\n",
      " 2   petal_length  150 non-null    float64\n",
      " 3   petal_width   150 non-null    float64\n",
      " 4   species       150 non-null    object \n",
      "dtypes: float64(4), object(1)\n",
      "memory usage: 6.0+ KB\n"
     ]
    }
   ],
   "source": [
    "iris_dataset.info()"
   ]
  },
  {
   "cell_type": "markdown",
   "id": "3eceac13",
   "metadata": {
    "papermill": {
     "duration": 0.01622,
     "end_time": "2024-10-04T17:58:35.117182",
     "exception": false,
     "start_time": "2024-10-04T17:58:35.100962",
     "status": "completed"
    },
    "tags": []
   },
   "source": [
    "Note that this is a simple, clean dataset:\n",
    "- There are just 150 examples in the whole dataset.\n",
    "- There are no missing values in the dataset. Thus, imputation is not necessary.\n",
    "- Other than the target variable (species) all the data is numerical. There are no categorical features to encode.\n",
    "\n",
    "Before we look at the data in more detail, we keep the val/test datasets aside."
   ]
  },
  {
   "cell_type": "markdown",
   "id": "01a14cb4",
   "metadata": {
    "papermill": {
     "duration": 0.015793,
     "end_time": "2024-10-04T17:58:35.149388",
     "exception": false,
     "start_time": "2024-10-04T17:58:35.133595",
     "status": "completed"
    },
    "tags": []
   },
   "source": [
    "### Performing the Train/Validation/Test split"
   ]
  },
  {
   "cell_type": "code",
   "execution_count": 5,
   "id": "52169492",
   "metadata": {
    "execution": {
     "iopub.execute_input": "2024-10-04T17:58:35.183021Z",
     "iopub.status.busy": "2024-10-04T17:58:35.182631Z",
     "iopub.status.idle": "2024-10-04T17:58:35.590729Z",
     "shell.execute_reply": "2024-10-04T17:58:35.589574Z"
    },
    "papermill": {
     "duration": 0.428833,
     "end_time": "2024-10-04T17:58:35.594253",
     "exception": false,
     "start_time": "2024-10-04T17:58:35.165420",
     "status": "completed"
    },
    "tags": []
   },
   "outputs": [
    {
     "name": "stdout",
     "output_type": "stream",
     "text": [
      "The shape of the training data is: X_train=(90, 4), y_train = (90,)\n",
      "The shape of the validation data is: X_val=(30, 4), y_val = (30,)\n",
      "The shape of the testing data is: X_test = (30, 4), y_test = (30,)\n"
     ]
    }
   ],
   "source": [
    "from sklearn.model_selection import train_test_split\n",
    "X, X_test, y, y_test = train_test_split(iris_dataset.drop('species',axis=1),\n",
    "                                       iris_dataset['species'],\n",
    "                                       test_size = 0.2,\n",
    "                                       random_state = 42,\n",
    "                                       stratify = iris_dataset['species'])\n",
    "X_train, X_val, y_train, y_val = train_test_split(X, y, test_size=0.25,\n",
    "                                                 random_state=42, stratify=y)\n",
    "print(f\"The shape of the training data is: X_train={X_train.shape}, y_train = {y_train.shape}\")\n",
    "print(f\"The shape of the validation data is: X_val={X_val.shape}, y_val = {y_val.shape}\")\n",
    "print(f\"The shape of the testing data is: X_test = {X_test.shape}, y_test = {y_test.shape}\")"
   ]
  },
  {
   "cell_type": "markdown",
   "id": "21745f28",
   "metadata": {
    "papermill": {
     "duration": 0.021372,
     "end_time": "2024-10-04T17:58:35.641145",
     "exception": false,
     "start_time": "2024-10-04T17:58:35.619773",
     "status": "completed"
    },
    "tags": []
   },
   "source": [
    "To get more information about the training set, X_train, we can look at some summary statistics of each feature, as given by `X_train.describe()`"
   ]
  },
  {
   "cell_type": "code",
   "execution_count": 6,
   "id": "9019c52b",
   "metadata": {
    "execution": {
     "iopub.execute_input": "2024-10-04T17:58:35.677801Z",
     "iopub.status.busy": "2024-10-04T17:58:35.677366Z",
     "iopub.status.idle": "2024-10-04T17:58:35.702232Z",
     "shell.execute_reply": "2024-10-04T17:58:35.701177Z"
    },
    "papermill": {
     "duration": 0.044858,
     "end_time": "2024-10-04T17:58:35.705004",
     "exception": false,
     "start_time": "2024-10-04T17:58:35.660146",
     "status": "completed"
    },
    "tags": []
   },
   "outputs": [
    {
     "data": {
      "text/html": [
       "<div>\n",
       "<style scoped>\n",
       "    .dataframe tbody tr th:only-of-type {\n",
       "        vertical-align: middle;\n",
       "    }\n",
       "\n",
       "    .dataframe tbody tr th {\n",
       "        vertical-align: top;\n",
       "    }\n",
       "\n",
       "    .dataframe thead th {\n",
       "        text-align: right;\n",
       "    }\n",
       "</style>\n",
       "<table border=\"1\" class=\"dataframe\">\n",
       "  <thead>\n",
       "    <tr style=\"text-align: right;\">\n",
       "      <th></th>\n",
       "      <th>sepal_length</th>\n",
       "      <th>sepal_width</th>\n",
       "      <th>petal_length</th>\n",
       "      <th>petal_width</th>\n",
       "    </tr>\n",
       "  </thead>\n",
       "  <tbody>\n",
       "    <tr>\n",
       "      <th>count</th>\n",
       "      <td>90.000000</td>\n",
       "      <td>90.000000</td>\n",
       "      <td>90.000000</td>\n",
       "      <td>90.000000</td>\n",
       "    </tr>\n",
       "    <tr>\n",
       "      <th>mean</th>\n",
       "      <td>5.836667</td>\n",
       "      <td>3.007778</td>\n",
       "      <td>3.752222</td>\n",
       "      <td>1.196667</td>\n",
       "    </tr>\n",
       "    <tr>\n",
       "      <th>std</th>\n",
       "      <td>0.866149</td>\n",
       "      <td>0.411691</td>\n",
       "      <td>1.770623</td>\n",
       "      <td>0.762823</td>\n",
       "    </tr>\n",
       "    <tr>\n",
       "      <th>min</th>\n",
       "      <td>4.300000</td>\n",
       "      <td>2.000000</td>\n",
       "      <td>1.100000</td>\n",
       "      <td>0.100000</td>\n",
       "    </tr>\n",
       "    <tr>\n",
       "      <th>25%</th>\n",
       "      <td>5.100000</td>\n",
       "      <td>2.725000</td>\n",
       "      <td>1.600000</td>\n",
       "      <td>0.300000</td>\n",
       "    </tr>\n",
       "    <tr>\n",
       "      <th>50%</th>\n",
       "      <td>5.750000</td>\n",
       "      <td>3.000000</td>\n",
       "      <td>4.250000</td>\n",
       "      <td>1.300000</td>\n",
       "    </tr>\n",
       "    <tr>\n",
       "      <th>75%</th>\n",
       "      <td>6.400000</td>\n",
       "      <td>3.200000</td>\n",
       "      <td>5.100000</td>\n",
       "      <td>1.800000</td>\n",
       "    </tr>\n",
       "    <tr>\n",
       "      <th>max</th>\n",
       "      <td>7.900000</td>\n",
       "      <td>3.900000</td>\n",
       "      <td>6.900000</td>\n",
       "      <td>2.500000</td>\n",
       "    </tr>\n",
       "  </tbody>\n",
       "</table>\n",
       "</div>"
      ],
      "text/plain": [
       "       sepal_length  sepal_width  petal_length  petal_width\n",
       "count     90.000000    90.000000     90.000000    90.000000\n",
       "mean       5.836667     3.007778      3.752222     1.196667\n",
       "std        0.866149     0.411691      1.770623     0.762823\n",
       "min        4.300000     2.000000      1.100000     0.100000\n",
       "25%        5.100000     2.725000      1.600000     0.300000\n",
       "50%        5.750000     3.000000      4.250000     1.300000\n",
       "75%        6.400000     3.200000      5.100000     1.800000\n",
       "max        7.900000     3.900000      6.900000     2.500000"
      ]
     },
     "execution_count": 6,
     "metadata": {},
     "output_type": "execute_result"
    }
   ],
   "source": [
    "X_train.describe()"
   ]
  },
  {
   "cell_type": "markdown",
   "id": "05cfe731",
   "metadata": {
    "execution": {
     "iopub.execute_input": "2024-08-09T14:40:36.192206Z",
     "iopub.status.busy": "2024-08-09T14:40:36.191670Z"
    },
    "papermill": {
     "duration": 0.016256,
     "end_time": "2024-10-04T17:58:35.737656",
     "exception": false,
     "start_time": "2024-10-04T17:58:35.721400",
     "status": "completed"
    },
    "tags": []
   },
   "source": [
    "Let us examine the data via a scatterplot to see if there are any outliers to deal with:"
   ]
  },
  {
   "cell_type": "code",
   "execution_count": 7,
   "id": "de53c49a",
   "metadata": {
    "execution": {
     "iopub.execute_input": "2024-10-04T17:58:35.772474Z",
     "iopub.status.busy": "2024-10-04T17:58:35.772047Z",
     "iopub.status.idle": "2024-10-04T17:58:35.800638Z",
     "shell.execute_reply": "2024-10-04T17:58:35.799600Z"
    },
    "papermill": {
     "duration": 0.048905,
     "end_time": "2024-10-04T17:58:35.802995",
     "exception": false,
     "start_time": "2024-10-04T17:58:35.754090",
     "status": "completed"
    },
    "tags": []
   },
   "outputs": [
    {
     "data": {
      "text/html": [
       "<div>\n",
       "<style scoped>\n",
       "    .dataframe tbody tr th:only-of-type {\n",
       "        vertical-align: middle;\n",
       "    }\n",
       "\n",
       "    .dataframe tbody tr th {\n",
       "        vertical-align: top;\n",
       "    }\n",
       "\n",
       "    .dataframe thead tr th {\n",
       "        text-align: left;\n",
       "    }\n",
       "\n",
       "    .dataframe thead tr:last-of-type th {\n",
       "        text-align: right;\n",
       "    }\n",
       "</style>\n",
       "<table border=\"1\" class=\"dataframe\">\n",
       "  <thead>\n",
       "    <tr>\n",
       "      <th></th>\n",
       "      <th colspan=\"2\" halign=\"left\">sepal_length</th>\n",
       "      <th colspan=\"2\" halign=\"left\">sepal_width</th>\n",
       "      <th colspan=\"2\" halign=\"left\">petal_length</th>\n",
       "      <th colspan=\"2\" halign=\"left\">petal_width</th>\n",
       "    </tr>\n",
       "    <tr>\n",
       "      <th></th>\n",
       "      <th>mean</th>\n",
       "      <th>std</th>\n",
       "      <th>mean</th>\n",
       "      <th>std</th>\n",
       "      <th>mean</th>\n",
       "      <th>std</th>\n",
       "      <th>mean</th>\n",
       "      <th>std</th>\n",
       "    </tr>\n",
       "    <tr>\n",
       "      <th>species</th>\n",
       "      <th></th>\n",
       "      <th></th>\n",
       "      <th></th>\n",
       "      <th></th>\n",
       "      <th></th>\n",
       "      <th></th>\n",
       "      <th></th>\n",
       "      <th></th>\n",
       "    </tr>\n",
       "  </thead>\n",
       "  <tbody>\n",
       "    <tr>\n",
       "      <th>Iris-setosa</th>\n",
       "      <td>4.94</td>\n",
       "      <td>0.288396</td>\n",
       "      <td>3.320000</td>\n",
       "      <td>0.346808</td>\n",
       "      <td>1.463333</td>\n",
       "      <td>0.158622</td>\n",
       "      <td>0.246667</td>\n",
       "      <td>0.122428</td>\n",
       "    </tr>\n",
       "    <tr>\n",
       "      <th>Iris-versicolor</th>\n",
       "      <td>5.96</td>\n",
       "      <td>0.494522</td>\n",
       "      <td>2.723333</td>\n",
       "      <td>0.295580</td>\n",
       "      <td>4.240000</td>\n",
       "      <td>0.462079</td>\n",
       "      <td>1.300000</td>\n",
       "      <td>0.164002</td>\n",
       "    </tr>\n",
       "    <tr>\n",
       "      <th>Iris-virginica</th>\n",
       "      <td>6.61</td>\n",
       "      <td>0.713104</td>\n",
       "      <td>2.980000</td>\n",
       "      <td>0.356612</td>\n",
       "      <td>5.553333</td>\n",
       "      <td>0.600995</td>\n",
       "      <td>2.043333</td>\n",
       "      <td>0.240235</td>\n",
       "    </tr>\n",
       "  </tbody>\n",
       "</table>\n",
       "</div>"
      ],
      "text/plain": [
       "                sepal_length           sepal_width           petal_length  \\\n",
       "                        mean       std        mean       std         mean   \n",
       "species                                                                     \n",
       "Iris-setosa             4.94  0.288396    3.320000  0.346808     1.463333   \n",
       "Iris-versicolor         5.96  0.494522    2.723333  0.295580     4.240000   \n",
       "Iris-virginica          6.61  0.713104    2.980000  0.356612     5.553333   \n",
       "\n",
       "                          petal_width            \n",
       "                      std        mean       std  \n",
       "species                                          \n",
       "Iris-setosa      0.158622    0.246667  0.122428  \n",
       "Iris-versicolor  0.462079    1.300000  0.164002  \n",
       "Iris-virginica   0.600995    2.043333  0.240235  "
      ]
     },
     "execution_count": 7,
     "metadata": {},
     "output_type": "execute_result"
    }
   ],
   "source": [
    "X_train.groupby(y_train).agg(['mean','std'])"
   ]
  },
  {
   "cell_type": "code",
   "execution_count": 8,
   "id": "5b518d20",
   "metadata": {
    "execution": {
     "iopub.execute_input": "2024-10-04T17:58:35.839259Z",
     "iopub.status.busy": "2024-10-04T17:58:35.838831Z",
     "iopub.status.idle": "2024-10-04T17:58:37.004988Z",
     "shell.execute_reply": "2024-10-04T17:58:37.003741Z"
    },
    "papermill": {
     "duration": 1.187206,
     "end_time": "2024-10-04T17:58:37.007555",
     "exception": false,
     "start_time": "2024-10-04T17:58:35.820349",
     "status": "completed"
    },
    "tags": []
   },
   "outputs": [
    {
     "data": {
      "image/png": "[encoded data removed]",
      "text/plain": [
       "<Figure size 1500x1000 with 4 Axes>"
      ]
     },
     "metadata": {},
     "output_type": "display_data"
    }
   ],
   "source": [
    "import matplotlib.pyplot as plt\n",
    "import seaborn as sns\n",
    "\n",
    "n_vars = X_train.shape[1]\n",
    "n_cols = int(np.ceil(n_vars/2))\n",
    "n_rows = int(np.ceil(n_vars/n_cols))\n",
    "stats = X_train.groupby(y_train).agg(['mean','std']) # some statistics to overlay.\n",
    "fig, ax = plt.subplots(n_rows, n_cols, figsize=(15, n_rows*5))\n",
    "axes = ax.flatten()\n",
    "\n",
    "for i, col in enumerate(X_train.columns):\n",
    "    sns.scatterplot(data=X_train, x=col, y=y_train, hue=y_train,\n",
    "                   ax=axes[i])\n",
    "    axes[i].set_title(f\"scatterplot: {col}\")\n",
    "    axes[i].legend().remove()\n",
    "    \n",
    "    for species in y_train.unique(): # plotting errorbars\n",
    "        mean_val = stats[col]['mean'][species]\n",
    "        std = stats[col]['std'][species]\n",
    "        axes[i].errorbar(x=mean_val, y=species, xerr=3*std, fmt='x', color='black', capsize=4, alpha=.7)\n",
    "    \n",
    "for j in range(i+1, len(axes)):\n",
    "    fig.delaxes(axes[j])\n",
    "    \n",
    "plt.tight_layout()\n",
    "plt.show()"
   ]
  },
  {
   "cell_type": "markdown",
   "id": "7b4c5eb2",
   "metadata": {
    "papermill": {
     "duration": 0.017693,
     "end_time": "2024-10-04T17:58:37.043478",
     "exception": false,
     "start_time": "2024-10-04T17:58:37.025785",
     "status": "completed"
    },
    "tags": []
   },
   "source": [
    "The error bars in the above scatterplot show $3$ standard deviations of spread. Since all points of a particular iris species lie within 3 standard deviations of the mean, we can conclude that the dataset does not have any outliers."
   ]
  },
  {
   "cell_type": "markdown",
   "id": "3a23ec2e",
   "metadata": {
    "papermill": {
     "duration": 0.017503,
     "end_time": "2024-10-04T17:58:37.078931",
     "exception": false,
     "start_time": "2024-10-04T17:58:37.061428",
     "status": "completed"
    },
    "tags": []
   },
   "source": [
    "## Standardizing the data\n",
    "\n",
    "Our next goal is to standardize the data, so that it has mean $0$ and variance $1$. This is important since we are using logistic regression, where the relative magnitudes of the features is important. This is in contrast to tree-based models, such as Random Forests, which are not affected by the relative size of features."
   ]
  },
  {
   "cell_type": "code",
   "execution_count": 9,
   "id": "b3c96e9e",
   "metadata": {
    "execution": {
     "iopub.execute_input": "2024-10-04T17:58:37.117512Z",
     "iopub.status.busy": "2024-10-04T17:58:37.116811Z",
     "iopub.status.idle": "2024-10-04T17:58:37.122126Z",
     "shell.execute_reply": "2024-10-04T17:58:37.120880Z"
    },
    "papermill": {
     "duration": 0.027635,
     "end_time": "2024-10-04T17:58:37.124486",
     "exception": false,
     "start_time": "2024-10-04T17:58:37.096851",
     "status": "completed"
    },
    "tags": []
   },
   "outputs": [],
   "source": [
    "from sklearn.preprocessing import StandardScaler\n",
    "scaler = StandardScaler()"
   ]
  },
  {
   "cell_type": "code",
   "execution_count": 10,
   "id": "6475d8dc",
   "metadata": {
    "execution": {
     "iopub.execute_input": "2024-10-04T17:58:37.162191Z",
     "iopub.status.busy": "2024-10-04T17:58:37.161257Z",
     "iopub.status.idle": "2024-10-04T17:58:37.177573Z",
     "shell.execute_reply": "2024-10-04T17:58:37.176474Z"
    },
    "papermill": {
     "duration": 0.037734,
     "end_time": "2024-10-04T17:58:37.180066",
     "exception": false,
     "start_time": "2024-10-04T17:58:37.142332",
     "status": "completed"
    },
    "tags": []
   },
   "outputs": [],
   "source": [
    "cols = X_train.columns\n",
    "X_train = pd.DataFrame(scaler.fit_transform(X_train))\n",
    "X_train.columns = cols\n",
    "y_train = y_train.reset_index()['species']\n",
    "\n",
    "cols = X_val.columns\n",
    "X_val = pd.DataFrame(scaler.transform(X_val))\n",
    "X_val.columns = cols\n",
    "y_val = y_val.reset_index()['species']\n",
    "\n",
    "cols = X_test.columns\n",
    "X_test = pd.DataFrame(scaler.transform(X_test))\n",
    "X_test.columns = cols\n",
    "y_test = y_test.reset_index()['species']"
   ]
  },
  {
   "cell_type": "code",
   "execution_count": 11,
   "id": "8a76fe59",
   "metadata": {
    "execution": {
     "iopub.execute_input": "2024-10-04T17:58:37.217530Z",
     "iopub.status.busy": "2024-10-04T17:58:37.217106Z",
     "iopub.status.idle": "2024-10-04T17:58:37.241072Z",
     "shell.execute_reply": "2024-10-04T17:58:37.240006Z"
    },
    "papermill": {
     "duration": 0.045744,
     "end_time": "2024-10-04T17:58:37.243867",
     "exception": false,
     "start_time": "2024-10-04T17:58:37.198123",
     "status": "completed"
    },
    "tags": []
   },
   "outputs": [
    {
     "data": {
      "text/html": [
       "<div>\n",
       "<style scoped>\n",
       "    .dataframe tbody tr th:only-of-type {\n",
       "        vertical-align: middle;\n",
       "    }\n",
       "\n",
       "    .dataframe tbody tr th {\n",
       "        vertical-align: top;\n",
       "    }\n",
       "\n",
       "    .dataframe thead th {\n",
       "        text-align: right;\n",
       "    }\n",
       "</style>\n",
       "<table border=\"1\" class=\"dataframe\">\n",
       "  <thead>\n",
       "    <tr style=\"text-align: right;\">\n",
       "      <th></th>\n",
       "      <th>sepal_length</th>\n",
       "      <th>sepal_width</th>\n",
       "      <th>petal_length</th>\n",
       "      <th>petal_width</th>\n",
       "    </tr>\n",
       "  </thead>\n",
       "  <tbody>\n",
       "    <tr>\n",
       "      <th>mean</th>\n",
       "      <td>0.000</td>\n",
       "      <td>-0.000</td>\n",
       "      <td>0.000</td>\n",
       "      <td>0.000</td>\n",
       "    </tr>\n",
       "    <tr>\n",
       "      <th>std</th>\n",
       "      <td>1.006</td>\n",
       "      <td>1.006</td>\n",
       "      <td>1.006</td>\n",
       "      <td>1.006</td>\n",
       "    </tr>\n",
       "    <tr>\n",
       "      <th>min</th>\n",
       "      <td>-1.784</td>\n",
       "      <td>-2.462</td>\n",
       "      <td>-1.506</td>\n",
       "      <td>-1.446</td>\n",
       "    </tr>\n",
       "    <tr>\n",
       "      <th>max</th>\n",
       "      <td>2.396</td>\n",
       "      <td>2.179</td>\n",
       "      <td>1.788</td>\n",
       "      <td>1.718</td>\n",
       "    </tr>\n",
       "  </tbody>\n",
       "</table>\n",
       "</div>"
      ],
      "text/plain": [
       "      sepal_length  sepal_width  petal_length  petal_width\n",
       "mean         0.000       -0.000         0.000        0.000\n",
       "std          1.006        1.006         1.006        1.006\n",
       "min         -1.784       -2.462        -1.506       -1.446\n",
       "max          2.396        2.179         1.788        1.718"
      ]
     },
     "execution_count": 11,
     "metadata": {},
     "output_type": "execute_result"
    }
   ],
   "source": [
    "X_train.describe().loc[['mean','std','min','max']].round(3)"
   ]
  },
  {
   "cell_type": "markdown",
   "id": "a5051eb9",
   "metadata": {
    "papermill": {
     "duration": 0.018139,
     "end_time": "2024-10-04T17:58:37.280658",
     "exception": false,
     "start_time": "2024-10-04T17:58:37.262519",
     "status": "completed"
    },
    "tags": []
   },
   "source": [
    "We can see that the scaling has worked, and we can also see the minimum and maximum values of each feature after scaling"
   ]
  },
  {
   "cell_type": "code",
   "execution_count": 12,
   "id": "07258cba",
   "metadata": {
    "execution": {
     "iopub.execute_input": "2024-10-04T17:58:37.318840Z",
     "iopub.status.busy": "2024-10-04T17:58:37.318443Z",
     "iopub.status.idle": "2024-10-04T17:58:37.355869Z",
     "shell.execute_reply": "2024-10-04T17:58:37.354773Z"
    },
    "papermill": {
     "duration": 0.059547,
     "end_time": "2024-10-04T17:58:37.358341",
     "exception": false,
     "start_time": "2024-10-04T17:58:37.298794",
     "status": "completed"
    },
    "tags": []
   },
   "outputs": [
    {
     "data": {
      "text/html": [
       "<div>\n",
       "<style scoped>\n",
       "    .dataframe tbody tr th:only-of-type {\n",
       "        vertical-align: middle;\n",
       "    }\n",
       "\n",
       "    .dataframe tbody tr th {\n",
       "        vertical-align: top;\n",
       "    }\n",
       "\n",
       "    .dataframe thead tr th {\n",
       "        text-align: left;\n",
       "    }\n",
       "\n",
       "    .dataframe thead tr:last-of-type th {\n",
       "        text-align: right;\n",
       "    }\n",
       "</style>\n",
       "<table border=\"1\" class=\"dataframe\">\n",
       "  <thead>\n",
       "    <tr>\n",
       "      <th></th>\n",
       "      <th colspan=\"4\" halign=\"left\">sepal_length</th>\n",
       "      <th colspan=\"4\" halign=\"left\">sepal_width</th>\n",
       "      <th colspan=\"4\" halign=\"left\">petal_length</th>\n",
       "      <th colspan=\"4\" halign=\"left\">petal_width</th>\n",
       "    </tr>\n",
       "    <tr>\n",
       "      <th></th>\n",
       "      <th>mean</th>\n",
       "      <th>std</th>\n",
       "      <th>min</th>\n",
       "      <th>max</th>\n",
       "      <th>mean</th>\n",
       "      <th>std</th>\n",
       "      <th>min</th>\n",
       "      <th>max</th>\n",
       "      <th>mean</th>\n",
       "      <th>std</th>\n",
       "      <th>min</th>\n",
       "      <th>max</th>\n",
       "      <th>mean</th>\n",
       "      <th>std</th>\n",
       "      <th>min</th>\n",
       "      <th>max</th>\n",
       "    </tr>\n",
       "    <tr>\n",
       "      <th>species</th>\n",
       "      <th></th>\n",
       "      <th></th>\n",
       "      <th></th>\n",
       "      <th></th>\n",
       "      <th></th>\n",
       "      <th></th>\n",
       "      <th></th>\n",
       "      <th></th>\n",
       "      <th></th>\n",
       "      <th></th>\n",
       "      <th></th>\n",
       "      <th></th>\n",
       "      <th></th>\n",
       "      <th></th>\n",
       "      <th></th>\n",
       "      <th></th>\n",
       "    </tr>\n",
       "  </thead>\n",
       "  <tbody>\n",
       "    <tr>\n",
       "      <th>Iris-setosa</th>\n",
       "      <td>-1.041</td>\n",
       "      <td>0.335</td>\n",
       "      <td>-1.784</td>\n",
       "      <td>-0.391</td>\n",
       "      <td>0.763</td>\n",
       "      <td>0.847</td>\n",
       "      <td>-1.729</td>\n",
       "      <td>2.179</td>\n",
       "      <td>-1.300</td>\n",
       "      <td>0.090</td>\n",
       "      <td>-1.506</td>\n",
       "      <td>-1.052</td>\n",
       "      <td>-1.252</td>\n",
       "      <td>0.161</td>\n",
       "      <td>-1.446</td>\n",
       "      <td>-0.787</td>\n",
       "    </tr>\n",
       "    <tr>\n",
       "      <th>Iris-versicolor</th>\n",
       "      <td>0.143</td>\n",
       "      <td>0.574</td>\n",
       "      <td>-0.971</td>\n",
       "      <td>1.351</td>\n",
       "      <td>-0.695</td>\n",
       "      <td>0.722</td>\n",
       "      <td>-2.462</td>\n",
       "      <td>0.470</td>\n",
       "      <td>0.277</td>\n",
       "      <td>0.262</td>\n",
       "      <td>-0.427</td>\n",
       "      <td>0.765</td>\n",
       "      <td>0.136</td>\n",
       "      <td>0.216</td>\n",
       "      <td>-0.259</td>\n",
       "      <td>0.532</td>\n",
       "    </tr>\n",
       "    <tr>\n",
       "      <th>Iris-virginica</th>\n",
       "      <td>0.898</td>\n",
       "      <td>0.828</td>\n",
       "      <td>-1.087</td>\n",
       "      <td>2.396</td>\n",
       "      <td>-0.068</td>\n",
       "      <td>0.871</td>\n",
       "      <td>-1.240</td>\n",
       "      <td>1.935</td>\n",
       "      <td>1.023</td>\n",
       "      <td>0.341</td>\n",
       "      <td>0.425</td>\n",
       "      <td>1.788</td>\n",
       "      <td>1.116</td>\n",
       "      <td>0.317</td>\n",
       "      <td>0.400</td>\n",
       "      <td>1.718</td>\n",
       "    </tr>\n",
       "  </tbody>\n",
       "</table>\n",
       "</div>"
      ],
      "text/plain": [
       "                sepal_length                      sepal_width                \\\n",
       "                        mean    std    min    max        mean    std    min   \n",
       "species                                                                       \n",
       "Iris-setosa           -1.041  0.335 -1.784 -0.391       0.763  0.847 -1.729   \n",
       "Iris-versicolor        0.143  0.574 -0.971  1.351      -0.695  0.722 -2.462   \n",
       "Iris-virginica         0.898  0.828 -1.087  2.396      -0.068  0.871 -1.240   \n",
       "\n",
       "                       petal_length                      petal_width         \\\n",
       "                   max         mean    std    min    max        mean    std   \n",
       "species                                                                       \n",
       "Iris-setosa      2.179       -1.300  0.090 -1.506 -1.052      -1.252  0.161   \n",
       "Iris-versicolor  0.470        0.277  0.262 -0.427  0.765       0.136  0.216   \n",
       "Iris-virginica   1.935        1.023  0.341  0.425  1.788       1.116  0.317   \n",
       "\n",
       "                               \n",
       "                   min    max  \n",
       "species                        \n",
       "Iris-setosa     -1.446 -0.787  \n",
       "Iris-versicolor -0.259  0.532  \n",
       "Iris-virginica   0.400  1.718  "
      ]
     },
     "execution_count": 12,
     "metadata": {},
     "output_type": "execute_result"
    }
   ],
   "source": [
    "X_train.groupby(y_train).agg(['mean','std','min','max']).round(3)"
   ]
  },
  {
   "cell_type": "markdown",
   "id": "4da310a8",
   "metadata": {
    "papermill": {
     "duration": 0.017998,
     "end_time": "2024-10-04T17:58:37.394976",
     "exception": false,
     "start_time": "2024-10-04T17:58:37.376978",
     "status": "completed"
    },
    "tags": []
   },
   "source": [
    "For a more fine-grained view, we can display the mean, std, min, and max value for each feature, grouped by the species. This is shown above."
   ]
  },
  {
   "cell_type": "code",
   "execution_count": 13,
   "id": "1617b07c",
   "metadata": {
    "execution": {
     "iopub.execute_input": "2024-10-04T17:58:37.491565Z",
     "iopub.status.busy": "2024-10-04T17:58:37.491130Z",
     "iopub.status.idle": "2024-10-04T17:58:37.504384Z",
     "shell.execute_reply": "2024-10-04T17:58:37.503292Z"
    },
    "papermill": {
     "duration": 0.093581,
     "end_time": "2024-10-04T17:58:37.506763",
     "exception": false,
     "start_time": "2024-10-04T17:58:37.413182",
     "status": "completed"
    },
    "tags": []
   },
   "outputs": [
    {
     "data": {
      "text/html": [
       "<div>\n",
       "<style scoped>\n",
       "    .dataframe tbody tr th:only-of-type {\n",
       "        vertical-align: middle;\n",
       "    }\n",
       "\n",
       "    .dataframe tbody tr th {\n",
       "        vertical-align: top;\n",
       "    }\n",
       "\n",
       "    .dataframe thead th {\n",
       "        text-align: right;\n",
       "    }\n",
       "</style>\n",
       "<table border=\"1\" class=\"dataframe\">\n",
       "  <thead>\n",
       "    <tr style=\"text-align: right;\">\n",
       "      <th></th>\n",
       "      <th>sepal_length</th>\n",
       "      <th>sepal_width</th>\n",
       "      <th>petal_length</th>\n",
       "      <th>petal_width</th>\n",
       "    </tr>\n",
       "  </thead>\n",
       "  <tbody>\n",
       "    <tr>\n",
       "      <th>0</th>\n",
       "      <td>1.002334</td>\n",
       "      <td>0.713786</td>\n",
       "      <td>1.106215</td>\n",
       "      <td>1.190832</td>\n",
       "    </tr>\n",
       "    <tr>\n",
       "      <th>1</th>\n",
       "      <td>-0.971374</td>\n",
       "      <td>1.202309</td>\n",
       "      <td>-1.392707</td>\n",
       "      <td>-1.182044</td>\n",
       "    </tr>\n",
       "    <tr>\n",
       "      <th>2</th>\n",
       "      <td>0.770133</td>\n",
       "      <td>-0.507521</td>\n",
       "      <td>0.481484</td>\n",
       "      <td>0.399874</td>\n",
       "    </tr>\n",
       "    <tr>\n",
       "      <th>3</th>\n",
       "      <td>-0.855273</td>\n",
       "      <td>0.713786</td>\n",
       "      <td>-1.165533</td>\n",
       "      <td>-0.918391</td>\n",
       "    </tr>\n",
       "    <tr>\n",
       "      <th>4</th>\n",
       "      <td>1.002334</td>\n",
       "      <td>-1.240306</td>\n",
       "      <td>1.163008</td>\n",
       "      <td>0.795353</td>\n",
       "    </tr>\n",
       "  </tbody>\n",
       "</table>\n",
       "</div>"
      ],
      "text/plain": [
       "   sepal_length  sepal_width  petal_length  petal_width\n",
       "0      1.002334     0.713786      1.106215     1.190832\n",
       "1     -0.971374     1.202309     -1.392707    -1.182044\n",
       "2      0.770133    -0.507521      0.481484     0.399874\n",
       "3     -0.855273     0.713786     -1.165533    -0.918391\n",
       "4      1.002334    -1.240306      1.163008     0.795353"
      ]
     },
     "execution_count": 13,
     "metadata": {},
     "output_type": "execute_result"
    }
   ],
   "source": [
    "X_train.head()"
   ]
  },
  {
   "cell_type": "code",
   "execution_count": 14,
   "id": "33916d05",
   "metadata": {
    "execution": {
     "iopub.execute_input": "2024-10-04T17:58:37.548117Z",
     "iopub.status.busy": "2024-10-04T17:58:37.547369Z",
     "iopub.status.idle": "2024-10-04T17:58:37.555080Z",
     "shell.execute_reply": "2024-10-04T17:58:37.554146Z"
    },
    "papermill": {
     "duration": 0.030262,
     "end_time": "2024-10-04T17:58:37.557491",
     "exception": false,
     "start_time": "2024-10-04T17:58:37.527229",
     "status": "completed"
    },
    "tags": []
   },
   "outputs": [
    {
     "data": {
      "text/plain": [
       "0     Iris-virginica\n",
       "1        Iris-setosa\n",
       "2    Iris-versicolor\n",
       "3        Iris-setosa\n",
       "4     Iris-virginica\n",
       "Name: species, dtype: object"
      ]
     },
     "execution_count": 14,
     "metadata": {},
     "output_type": "execute_result"
    }
   ],
   "source": [
    "y_train.head()"
   ]
  },
  {
   "cell_type": "code",
   "execution_count": 15,
   "id": "6f4529e0",
   "metadata": {
    "execution": {
     "iopub.execute_input": "2024-10-04T17:58:37.597215Z",
     "iopub.status.busy": "2024-10-04T17:58:37.596809Z",
     "iopub.status.idle": "2024-10-04T17:58:37.605358Z",
     "shell.execute_reply": "2024-10-04T17:58:37.604414Z"
    },
    "papermill": {
     "duration": 0.03124,
     "end_time": "2024-10-04T17:58:37.607806",
     "exception": false,
     "start_time": "2024-10-04T17:58:37.576566",
     "status": "completed"
    },
    "tags": []
   },
   "outputs": [
    {
     "data": {
      "text/plain": [
       "species\n",
       "Iris-virginica     30\n",
       "Iris-setosa        30\n",
       "Iris-versicolor    30\n",
       "Name: count, dtype: int64"
      ]
     },
     "execution_count": 15,
     "metadata": {},
     "output_type": "execute_result"
    }
   ],
   "source": [
    "y_train.value_counts()"
   ]
  },
  {
   "cell_type": "markdown",
   "id": "9c3ccb72",
   "metadata": {
    "papermill": {
     "duration": 0.018805,
     "end_time": "2024-10-04T17:58:37.645944",
     "exception": false,
     "start_time": "2024-10-04T17:58:37.627139",
     "status": "completed"
    },
    "tags": []
   },
   "source": [
    "From the above, we see the classes of the first five examples, as well as notice that there are a total of $3$ unique classes corresponding to the three iris species. Moreover, they are all equally balanced - thus we do not have to worry about class imbalance in this problem."
   ]
  },
  {
   "cell_type": "code",
   "execution_count": 16,
   "id": "628dc853",
   "metadata": {
    "execution": {
     "iopub.execute_input": "2024-10-04T17:58:37.685950Z",
     "iopub.status.busy": "2024-10-04T17:58:37.685579Z",
     "iopub.status.idle": "2024-10-04T17:58:38.756889Z",
     "shell.execute_reply": "2024-10-04T17:58:38.755766Z"
    },
    "papermill": {
     "duration": 1.095225,
     "end_time": "2024-10-04T17:58:38.760215",
     "exception": false,
     "start_time": "2024-10-04T17:58:37.664990",
     "status": "completed"
    },
    "tags": []
   },
   "outputs": [
    {
     "data": {
      "image/png": "[encoded data removed]",
      "text/plain": [
       "<Figure size 1500x1000 with 4 Axes>"
      ]
     },
     "metadata": {},
     "output_type": "display_data"
    }
   ],
   "source": [
    "# scatterplot of features after normalization\n",
    "n_vars = X_train.shape[1]\n",
    "n_cols = int(np.ceil(n_vars/2))\n",
    "n_rows = int(np.ceil(n_vars/n_cols))\n",
    "stats = X_train.groupby(y_train).agg(['mean','std'])\n",
    "fig, ax = plt.subplots(n_rows, n_cols, figsize=(15, n_rows*5))\n",
    "axes = ax.flatten()\n",
    "\n",
    "for i, col in enumerate(X_train.columns):\n",
    "    sns.scatterplot(data=X_train, x=col, y=y_train, hue=y_train,\n",
    "                   ax=axes[i])\n",
    "    axes[i].set_title(f\"scatterplot: {col}\")\n",
    "    axes[i].legend().remove()\n",
    "    \n",
    "    for species in y_train.unique():\n",
    "        mean_val = stats[col]['mean'][species]\n",
    "        std = stats[col]['std'][species]\n",
    "        axes[i].errorbar(x=mean_val, y=species, xerr=3*std, fmt='x', color='black', capsize=4, alpha=.7)\n",
    "    \n",
    "for j in range(i+1, len(axes)):\n",
    "    fig.delaxes(axes[j])\n",
    "    \n",
    "plt.tight_layout()\n",
    "plt.show()"
   ]
  },
  {
   "cell_type": "markdown",
   "id": "e3f1daaf",
   "metadata": {
    "papermill": {
     "duration": 0.020718,
     "end_time": "2024-10-04T17:58:38.801669",
     "exception": false,
     "start_time": "2024-10-04T17:58:38.780951",
     "status": "completed"
    },
    "tags": []
   },
   "source": [
    "## Performing Multi-Class Logistic Regression"
   ]
  },
  {
   "cell_type": "code",
   "execution_count": 17,
   "id": "15545039",
   "metadata": {
    "execution": {
     "iopub.execute_input": "2024-10-04T17:58:38.844496Z",
     "iopub.status.busy": "2024-10-04T17:58:38.843780Z",
     "iopub.status.idle": "2024-10-04T17:58:38.950814Z",
     "shell.execute_reply": "2024-10-04T17:58:38.949847Z"
    },
    "papermill": {
     "duration": 0.131717,
     "end_time": "2024-10-04T17:58:38.953759",
     "exception": false,
     "start_time": "2024-10-04T17:58:38.822042",
     "status": "completed"
    },
    "tags": []
   },
   "outputs": [],
   "source": [
    "from sklearn.linear_model import LogisticRegression\n",
    "from sklearn.metrics import log_loss\n",
    "from sklearn.model_selection import GridSearchCV, StratifiedKFold"
   ]
  },
  {
   "cell_type": "markdown",
   "id": "d22997a6",
   "metadata": {
    "papermill": {
     "duration": 0.02042,
     "end_time": "2024-10-04T17:58:38.995070",
     "exception": false,
     "start_time": "2024-10-04T17:58:38.974650",
     "status": "completed"
    },
    "tags": []
   },
   "source": [
    "We will use GridSearchCV to search for the best hyperparameter values for our problem. This is a brute-force method, but, in our case, given the small dataset and simple algorithm, it does not require too much computation. The hyperparameter values to test are given below in `param_dict` dictionary."
   ]
  },
  {
   "cell_type": "code",
   "execution_count": 18,
   "id": "3a2c058c",
   "metadata": {
    "execution": {
     "iopub.execute_input": "2024-10-04T17:58:39.038769Z",
     "iopub.status.busy": "2024-10-04T17:58:39.037926Z",
     "iopub.status.idle": "2024-10-04T17:58:39.046986Z",
     "shell.execute_reply": "2024-10-04T17:58:39.045741Z"
    },
    "papermill": {
     "duration": 0.033532,
     "end_time": "2024-10-04T17:58:39.049449",
     "exception": false,
     "start_time": "2024-10-04T17:58:39.015917",
     "status": "completed"
    },
    "tags": []
   },
   "outputs": [],
   "source": [
    "param_dict = {'penalty': [\"l2\"],\n",
    "             'dual': [False],\n",
    "             'tol': [1e-5,1e-4,1e-3],\n",
    "             'C': [0.01, 0.1, 1.0, 10.0],\n",
    "             'class_weight': ['balanced', None],\n",
    "             'random_state':[42],\n",
    "             'solver':['lbfgs', 'newton-cg','sag', 'saga'],\n",
    "             'max_iter':[3_000, 10_000],\n",
    "             'multi_class':['multinomial'],\n",
    "             'n_jobs': [-1]}"
   ]
  },
  {
   "cell_type": "markdown",
   "id": "97c13066",
   "metadata": {
    "papermill": {
     "duration": 0.020156,
     "end_time": "2024-10-04T17:58:39.090171",
     "exception": false,
     "start_time": "2024-10-04T17:58:39.070015",
     "status": "completed"
    },
    "tags": []
   },
   "source": [
    "In `param_dict`:\n",
    "- We use `penalty` of `l2` only, since that is the only choice supported by multiple solvers.\n",
    "- `C` is also given a logarithmic scale. It represents the inverse of the regularization strength for this model.\n",
    "- We check both `class_weight = balanced` and `None`. In sklearn, `class_weight` argument, when set to `balanced`, gives class instances weights inversely proportional to the classs frequencies. This is a very popular way of dealing with unbalanced class distributions - we can simply give the rarer instance greater weight, so that it's misclassification is more heavily penalized than the more frequent class.\n",
    "- `random_state` is kept fixed for reproducability and standardization across different solvers.\n",
    "- `solver` is given as argument, a list of all supported sklearn solvers.\n",
    "- `max_iter`, as the name suggests, is the maximum number of iterations the solver is given to converge.\n",
    "- Finally, the argument for `tol` specifies the tolerance for convergence, with a default value of `1e-4`. This is also varied over an order of magnitude to see if varying `tol` can help improve performance."
   ]
  },
  {
   "cell_type": "markdown",
   "id": "8f7db351",
   "metadata": {
    "papermill": {
     "duration": 0.020488,
     "end_time": "2024-10-04T17:58:39.131123",
     "exception": false,
     "start_time": "2024-10-04T17:58:39.110635",
     "status": "completed"
    },
    "tags": []
   },
   "source": [
    "**Criteria for GridSearchCV**\n",
    "\n",
    "We use `StratifiedKFold` to perform Stratified K-fold cross validation. This is because:\n",
    "\n",
    "- The dataset is small, and so K-fold cross-validation is a good way to get performance estimates. It is also computationally feasible for the same reason.\n",
    "- Stratification is done so that each of the K folds have the same distribution of the three classes as in the training set. This isn't important in the Iris dataset, where class imbalance doesn't exist, but in general is a good practice to handle class imbalance.\n",
    "\n",
    "Note that we do not need the validation set since we are performing cross-validation anyway. It would be acceptable to merge the validation set with the training set, and use the cross-validation estimates of performance instead. However, in this example, we decide to have a validation set anyway, since it will provide another estimate of the performance of the model for us, and the problem is simple enough for the training set to give good enough performance as is."
   ]
  },
  {
   "cell_type": "code",
   "execution_count": 19,
   "id": "85d57d73",
   "metadata": {
    "execution": {
     "iopub.execute_input": "2024-10-04T17:58:39.174153Z",
     "iopub.status.busy": "2024-10-04T17:58:39.173093Z",
     "iopub.status.idle": "2024-10-04T17:58:39.178904Z",
     "shell.execute_reply": "2024-10-04T17:58:39.177875Z"
    },
    "papermill": {
     "duration": 0.029767,
     "end_time": "2024-10-04T17:58:39.181205",
     "exception": false,
     "start_time": "2024-10-04T17:58:39.151438",
     "status": "completed"
    },
    "tags": []
   },
   "outputs": [],
   "source": [
    "grid_search = GridSearchCV(estimator=LogisticRegression(),\n",
    "                          param_grid=param_dict,\n",
    "                          cv=StratifiedKFold(n_splits=10),\n",
    "                          scoring='f1_macro',\n",
    "                          verbose=1,\n",
    "                          return_train_score=True)"
   ]
  },
  {
   "cell_type": "code",
   "execution_count": 20,
   "id": "0d0713c7",
   "metadata": {
    "execution": {
     "iopub.execute_input": "2024-10-04T17:58:39.223504Z",
     "iopub.status.busy": "2024-10-04T17:58:39.223057Z",
     "iopub.status.idle": "2024-10-04T17:59:25.973846Z",
     "shell.execute_reply": "2024-10-04T17:59:25.972752Z"
    },
    "papermill": {
     "duration": 46.796107,
     "end_time": "2024-10-04T17:59:25.997573",
     "exception": false,
     "start_time": "2024-10-04T17:58:39.201466",
     "status": "completed"
    },
    "tags": []
   },
   "outputs": [
    {
     "name": "stdout",
     "output_type": "stream",
     "text": [
      "Fitting 10 folds for each of 192 candidates, totalling 1920 fits\n"
     ]
    },
    {
     "data": {
      "text/html": [
       "<style>#sk-container-id-1 {color: black;background-color: white;}#sk-container-id-1 pre{padding: 0;}#sk-container-id-1 div.sk-toggleable {background-color: white;}#sk-container-id-1 label.sk-toggleable__label {cursor: pointer;display: block;width: 100%;margin-bottom: 0;padding: 0.3em;box-sizing: border-box;text-align: center;}#sk-container-id-1 label.sk-toggleable__label-arrow:before {content: \"▸\";float: left;margin-right: 0.25em;color: #696969;}#sk-container-id-1 label.sk-toggleable__label-arrow:hover:before {color: black;}#sk-container-id-1 div.sk-estimator:hover label.sk-toggleable__label-arrow:before {color: black;}#sk-container-id-1 div.sk-toggleable__content {max-height: 0;max-width: 0;overflow: hidden;text-align: left;background-color: #f0f8ff;}#sk-container-id-1 div.sk-toggleable__content pre {margin: 0.2em;color: black;border-radius: 0.25em;background-color: #f0f8ff;}#sk-container-id-1 input.sk-toggleable__control:checked~div.sk-toggleable__content {max-height: 200px;max-width: 100%;overflow: auto;}#sk-container-id-1 input.sk-toggleable__control:checked~label.sk-toggleable__label-arrow:before {content: \"▾\";}#sk-container-id-1 div.sk-estimator input.sk-toggleable__control:checked~label.sk-toggleable__label {background-color: #d4ebff;}#sk-container-id-1 div.sk-label input.sk-toggleable__control:checked~label.sk-toggleable__label {background-color: #d4ebff;}#sk-container-id-1 input.sk-hidden--visually {border: 0;clip: rect(1px 1px 1px 1px);clip: rect(1px, 1px, 1px, 1px);height: 1px;margin: -1px;overflow: hidden;padding: 0;position: absolute;width: 1px;}#sk-container-id-1 div.sk-estimator {font-family: monospace;background-color: #f0f8ff;border: 1px dotted black;border-radius: 0.25em;box-sizing: border-box;margin-bottom: 0.5em;}#sk-container-id-1 div.sk-estimator:hover {background-color: #d4ebff;}#sk-container-id-1 div.sk-parallel-item::after {content: \"\";width: 100%;border-bottom: 1px solid gray;flex-grow: 1;}#sk-container-id-1 div.sk-label:hover label.sk-toggleable__label {background-color: #d4ebff;}#sk-container-id-1 div.sk-serial::before {content: \"\";position: absolute;border-left: 1px solid gray;box-sizing: border-box;top: 0;bottom: 0;left: 50%;z-index: 0;}#sk-container-id-1 div.sk-serial {display: flex;flex-direction: column;align-items: center;background-color: white;padding-right: 0.2em;padding-left: 0.2em;position: relative;}#sk-container-id-1 div.sk-item {position: relative;z-index: 1;}#sk-container-id-1 div.sk-parallel {display: flex;align-items: stretch;justify-content: center;background-color: white;position: relative;}#sk-container-id-1 div.sk-item::before, #sk-container-id-1 div.sk-parallel-item::before {content: \"\";position: absolute;border-left: 1px solid gray;box-sizing: border-box;top: 0;bottom: 0;left: 50%;z-index: -1;}#sk-container-id-1 div.sk-parallel-item {display: flex;flex-direction: column;z-index: 1;position: relative;background-color: white;}#sk-container-id-1 div.sk-parallel-item:first-child::after {align-self: flex-end;width: 50%;}#sk-container-id-1 div.sk-parallel-item:last-child::after {align-self: flex-start;width: 50%;}#sk-container-id-1 div.sk-parallel-item:only-child::after {width: 0;}#sk-container-id-1 div.sk-dashed-wrapped {border: 1px dashed gray;margin: 0 0.4em 0.5em 0.4em;box-sizing: border-box;padding-bottom: 0.4em;background-color: white;}#sk-container-id-1 div.sk-label label {font-family: monospace;font-weight: bold;display: inline-block;line-height: 1.2em;}#sk-container-id-1 div.sk-label-container {text-align: center;}#sk-container-id-1 div.sk-container {/* jupyter's `normalize.less` sets `[hidden] { display: none; }` but bootstrap.min.css set `[hidden] { display: none !important; }` so we also need the `!important` here to be able to override the default hidden behavior on the sphinx rendered scikit-learn.org. See: https://github.com/scikit-learn/scikit-learn/issues/21755 */display: inline-block !important;position: relative;}#sk-container-id-1 div.sk-text-repr-fallback {display: none;}</style><div id=\"sk-container-id-1\" class=\"sk-top-container\"><div class=\"sk-text-repr-fallback\"><pre>GridSearchCV(cv=StratifiedKFold(n_splits=10, random_state=None, shuffle=False),\n",
       "             estimator=LogisticRegression(),\n",
       "             param_grid={&#x27;C&#x27;: [0.01, 0.1, 1.0, 10.0],\n",
       "                         &#x27;class_weight&#x27;: [&#x27;balanced&#x27;, None], &#x27;dual&#x27;: [False],\n",
       "                         &#x27;max_iter&#x27;: [3000, 10000],\n",
       "                         &#x27;multi_class&#x27;: [&#x27;multinomial&#x27;], &#x27;n_jobs&#x27;: [-1],\n",
       "                         &#x27;penalty&#x27;: [&#x27;l2&#x27;], &#x27;random_state&#x27;: [42],\n",
       "                         &#x27;solver&#x27;: [&#x27;lbfgs&#x27;, &#x27;newton-cg&#x27;, &#x27;sag&#x27;, &#x27;saga&#x27;],\n",
       "                         &#x27;tol&#x27;: [1e-05, 0.0001, 0.001]},\n",
       "             return_train_score=True, scoring=&#x27;f1_macro&#x27;, verbose=1)</pre><b>In a Jupyter environment, please rerun this cell to show the HTML representation or trust the notebook. <br />On GitHub, the HTML representation is unable to render, please try loading this page with nbviewer.org.</b></div><div class=\"sk-container\" hidden><div class=\"sk-item sk-dashed-wrapped\"><div class=\"sk-label-container\"><div class=\"sk-label sk-toggleable\"><input class=\"sk-toggleable__control sk-hidden--visually\" id=\"sk-estimator-id-1\" type=\"checkbox\" ><label for=\"sk-estimator-id-1\" class=\"sk-toggleable__label sk-toggleable__label-arrow\">GridSearchCV</label><div class=\"sk-toggleable__content\"><pre>GridSearchCV(cv=StratifiedKFold(n_splits=10, random_state=None, shuffle=False),\n",
       "             estimator=LogisticRegression(),\n",
       "             param_grid={&#x27;C&#x27;: [0.01, 0.1, 1.0, 10.0],\n",
       "                         &#x27;class_weight&#x27;: [&#x27;balanced&#x27;, None], &#x27;dual&#x27;: [False],\n",
       "                         &#x27;max_iter&#x27;: [3000, 10000],\n",
       "                         &#x27;multi_class&#x27;: [&#x27;multinomial&#x27;], &#x27;n_jobs&#x27;: [-1],\n",
       "                         &#x27;penalty&#x27;: [&#x27;l2&#x27;], &#x27;random_state&#x27;: [42],\n",
       "                         &#x27;solver&#x27;: [&#x27;lbfgs&#x27;, &#x27;newton-cg&#x27;, &#x27;sag&#x27;, &#x27;saga&#x27;],\n",
       "                         &#x27;tol&#x27;: [1e-05, 0.0001, 0.001]},\n",
       "             return_train_score=True, scoring=&#x27;f1_macro&#x27;, verbose=1)</pre></div></div></div><div class=\"sk-parallel\"><div class=\"sk-parallel-item\"><div class=\"sk-item\"><div class=\"sk-label-container\"><div class=\"sk-label sk-toggleable\"><input class=\"sk-toggleable__control sk-hidden--visually\" id=\"sk-estimator-id-2\" type=\"checkbox\" ><label for=\"sk-estimator-id-2\" class=\"sk-toggleable__label sk-toggleable__label-arrow\">estimator: LogisticRegression</label><div class=\"sk-toggleable__content\"><pre>LogisticRegression()</pre></div></div></div><div class=\"sk-serial\"><div class=\"sk-item\"><div class=\"sk-estimator sk-toggleable\"><input class=\"sk-toggleable__control sk-hidden--visually\" id=\"sk-estimator-id-3\" type=\"checkbox\" ><label for=\"sk-estimator-id-3\" class=\"sk-toggleable__label sk-toggleable__label-arrow\">LogisticRegression</label><div class=\"sk-toggleable__content\"><pre>LogisticRegression()</pre></div></div></div></div></div></div></div></div></div></div>"
      ],
      "text/plain": [
       "GridSearchCV(cv=StratifiedKFold(n_splits=10, random_state=None, shuffle=False),\n",
       "             estimator=LogisticRegression(),\n",
       "             param_grid={'C': [0.01, 0.1, 1.0, 10.0],\n",
       "                         'class_weight': ['balanced', None], 'dual': [False],\n",
       "                         'max_iter': [3000, 10000],\n",
       "                         'multi_class': ['multinomial'], 'n_jobs': [-1],\n",
       "                         'penalty': ['l2'], 'random_state': [42],\n",
       "                         'solver': ['lbfgs', 'newton-cg', 'sag', 'saga'],\n",
       "                         'tol': [1e-05, 0.0001, 0.001]},\n",
       "             return_train_score=True, scoring='f1_macro', verbose=1)"
      ]
     },
     "execution_count": 20,
     "metadata": {},
     "output_type": "execute_result"
    }
   ],
   "source": [
    "grid_search.fit(X_train, y_train)"
   ]
  },
  {
   "cell_type": "code",
   "execution_count": 21,
   "id": "e3a04e50",
   "metadata": {
    "execution": {
     "iopub.execute_input": "2024-10-04T17:59:26.042478Z",
     "iopub.status.busy": "2024-10-04T17:59:26.042041Z",
     "iopub.status.idle": "2024-10-04T17:59:26.049686Z",
     "shell.execute_reply": "2024-10-04T17:59:26.048376Z"
    },
    "papermill": {
     "duration": 0.032982,
     "end_time": "2024-10-04T17:59:26.052125",
     "exception": false,
     "start_time": "2024-10-04T17:59:26.019143",
     "status": "completed"
    },
    "tags": []
   },
   "outputs": [
    {
     "data": {
      "text/plain": [
       "dict_keys(['mean_fit_time', 'std_fit_time', 'mean_score_time', 'std_score_time', 'param_C', 'param_class_weight', 'param_dual', 'param_max_iter', 'param_multi_class', 'param_n_jobs', 'param_penalty', 'param_random_state', 'param_solver', 'param_tol', 'params', 'split0_test_score', 'split1_test_score', 'split2_test_score', 'split3_test_score', 'split4_test_score', 'split5_test_score', 'split6_test_score', 'split7_test_score', 'split8_test_score', 'split9_test_score', 'mean_test_score', 'std_test_score', 'rank_test_score', 'split0_train_score', 'split1_train_score', 'split2_train_score', 'split3_train_score', 'split4_train_score', 'split5_train_score', 'split6_train_score', 'split7_train_score', 'split8_train_score', 'split9_train_score', 'mean_train_score', 'std_train_score'])"
      ]
     },
     "execution_count": 21,
     "metadata": {},
     "output_type": "execute_result"
    }
   ],
   "source": [
    "grid_search.cv_results_.keys()"
   ]
  },
  {
   "cell_type": "code",
   "execution_count": 22,
   "id": "ab9574d9",
   "metadata": {
    "execution": {
     "iopub.execute_input": "2024-10-04T17:59:26.097178Z",
     "iopub.status.busy": "2024-10-04T17:59:26.096793Z",
     "iopub.status.idle": "2024-10-04T17:59:26.103773Z",
     "shell.execute_reply": "2024-10-04T17:59:26.102673Z"
    },
    "papermill": {
     "duration": 0.03268,
     "end_time": "2024-10-04T17:59:26.106198",
     "exception": false,
     "start_time": "2024-10-04T17:59:26.073518",
     "status": "completed"
    },
    "tags": []
   },
   "outputs": [],
   "source": [
    "keys_of_interest = ['params','mean_test_score', 'std_test_score', 'mean_train_score', 'std_train_score']\n",
    "cv_results_dict = {}\n",
    "for key in keys_of_interest:\n",
    "    cv_results_dict[key] = grid_search.cv_results_[key]\n",
    "cv_results_df = pd.DataFrame(cv_results_dict)"
   ]
  },
  {
   "cell_type": "code",
   "execution_count": 23,
   "id": "04913c37",
   "metadata": {
    "execution": {
     "iopub.execute_input": "2024-10-04T17:59:26.151315Z",
     "iopub.status.busy": "2024-10-04T17:59:26.150911Z",
     "iopub.status.idle": "2024-10-04T17:59:26.168760Z",
     "shell.execute_reply": "2024-10-04T17:59:26.167643Z"
    },
    "papermill": {
     "duration": 0.042933,
     "end_time": "2024-10-04T17:59:26.171159",
     "exception": false,
     "start_time": "2024-10-04T17:59:26.128226",
     "status": "completed"
    },
    "tags": []
   },
   "outputs": [
    {
     "data": {
      "text/html": [
       "<div>\n",
       "<style scoped>\n",
       "    .dataframe tbody tr th:only-of-type {\n",
       "        vertical-align: middle;\n",
       "    }\n",
       "\n",
       "    .dataframe tbody tr th {\n",
       "        vertical-align: top;\n",
       "    }\n",
       "\n",
       "    .dataframe thead th {\n",
       "        text-align: right;\n",
       "    }\n",
       "</style>\n",
       "<table border=\"1\" class=\"dataframe\">\n",
       "  <thead>\n",
       "    <tr style=\"text-align: right;\">\n",
       "      <th></th>\n",
       "      <th>params</th>\n",
       "      <th>mean_test_score</th>\n",
       "      <th>std_test_score</th>\n",
       "      <th>mean_train_score</th>\n",
       "      <th>std_train_score</th>\n",
       "    </tr>\n",
       "  </thead>\n",
       "  <tbody>\n",
       "    <tr>\n",
       "      <th>0</th>\n",
       "      <td>{'C': 0.01, 'class_weight': 'balanced', 'dual'...</td>\n",
       "      <td>0.870635</td>\n",
       "      <td>0.08505</td>\n",
       "      <td>0.885919</td>\n",
       "      <td>0.01073</td>\n",
       "    </tr>\n",
       "    <tr>\n",
       "      <th>1</th>\n",
       "      <td>{'C': 0.01, 'class_weight': 'balanced', 'dual'...</td>\n",
       "      <td>0.870635</td>\n",
       "      <td>0.08505</td>\n",
       "      <td>0.885919</td>\n",
       "      <td>0.01073</td>\n",
       "    </tr>\n",
       "    <tr>\n",
       "      <th>2</th>\n",
       "      <td>{'C': 0.01, 'class_weight': 'balanced', 'dual'...</td>\n",
       "      <td>0.870635</td>\n",
       "      <td>0.08505</td>\n",
       "      <td>0.885919</td>\n",
       "      <td>0.01073</td>\n",
       "    </tr>\n",
       "    <tr>\n",
       "      <th>3</th>\n",
       "      <td>{'C': 0.01, 'class_weight': 'balanced', 'dual'...</td>\n",
       "      <td>0.870635</td>\n",
       "      <td>0.08505</td>\n",
       "      <td>0.885919</td>\n",
       "      <td>0.01073</td>\n",
       "    </tr>\n",
       "    <tr>\n",
       "      <th>4</th>\n",
       "      <td>{'C': 0.01, 'class_weight': 'balanced', 'dual'...</td>\n",
       "      <td>0.870635</td>\n",
       "      <td>0.08505</td>\n",
       "      <td>0.885919</td>\n",
       "      <td>0.01073</td>\n",
       "    </tr>\n",
       "  </tbody>\n",
       "</table>\n",
       "</div>"
      ],
      "text/plain": [
       "                                              params  mean_test_score  \\\n",
       "0  {'C': 0.01, 'class_weight': 'balanced', 'dual'...         0.870635   \n",
       "1  {'C': 0.01, 'class_weight': 'balanced', 'dual'...         0.870635   \n",
       "2  {'C': 0.01, 'class_weight': 'balanced', 'dual'...         0.870635   \n",
       "3  {'C': 0.01, 'class_weight': 'balanced', 'dual'...         0.870635   \n",
       "4  {'C': 0.01, 'class_weight': 'balanced', 'dual'...         0.870635   \n",
       "\n",
       "   std_test_score  mean_train_score  std_train_score  \n",
       "0         0.08505          0.885919          0.01073  \n",
       "1         0.08505          0.885919          0.01073  \n",
       "2         0.08505          0.885919          0.01073  \n",
       "3         0.08505          0.885919          0.01073  \n",
       "4         0.08505          0.885919          0.01073  "
      ]
     },
     "execution_count": 23,
     "metadata": {},
     "output_type": "execute_result"
    }
   ],
   "source": [
    "cv_results_df.head()"
   ]
  },
  {
   "cell_type": "code",
   "execution_count": 24,
   "id": "ec2daa35",
   "metadata": {
    "execution": {
     "iopub.execute_input": "2024-10-04T17:59:26.216781Z",
     "iopub.status.busy": "2024-10-04T17:59:26.215937Z",
     "iopub.status.idle": "2024-10-04T17:59:26.222906Z",
     "shell.execute_reply": "2024-10-04T17:59:26.221790Z"
    },
    "papermill": {
     "duration": 0.033283,
     "end_time": "2024-10-04T17:59:26.226122",
     "exception": false,
     "start_time": "2024-10-04T17:59:26.192839",
     "status": "completed"
    },
    "tags": []
   },
   "outputs": [
    {
     "name": "stdout",
     "output_type": "stream",
     "text": [
      "Best Parameters: {'C': 1.0, 'class_weight': 'balanced', 'dual': False, 'max_iter': 3000, 'multi_class': 'multinomial', 'n_jobs': -1, 'penalty': 'l2', 'random_state': 42, 'solver': 'lbfgs', 'tol': 1e-05}\n",
      "Best Training Set Macro F1 Score: 0.984 +/- 0.008\n",
      "Best Cross-Validation Macro F1 Score: 0.966 +/- 0.052\n"
     ]
    }
   ],
   "source": [
    "best_series = cv_results_df.iloc[grid_search.best_index_]\n",
    "print(\"Best Parameters:\", best_series['params'])\n",
    "print(f\"Best Training Set Macro F1 Score: {best_series['mean_train_score']:.3f} +/- {best_series['std_train_score']:.3f}\")\n",
    "print(f\"Best Cross-Validation Macro F1 Score: {best_series['mean_test_score']:.3f} +/- {best_series['std_test_score']:.3f}\")"
   ]
  },
  {
   "cell_type": "markdown",
   "id": "fa33f051",
   "metadata": {
    "papermill": {
     "duration": 0.02148,
     "end_time": "2024-10-04T17:59:26.269441",
     "exception": false,
     "start_time": "2024-10-04T17:59:26.247961",
     "status": "completed"
    },
    "tags": []
   },
   "source": [
    "One can see that there is no overfitting since the training set score and the (mean) cross-validation scores are within one standard deviation of each other. As mentioned before, we can see that even a small training set gets us good performance (cross-validation macro-$F_1 = 0.966 \\pm 0.052$). This can be compared with the performance on the hold-out (validation) set and test set as well."
   ]
  },
  {
   "cell_type": "markdown",
   "id": "723f45e3",
   "metadata": {
    "papermill": {
     "duration": 0.021503,
     "end_time": "2024-10-04T17:59:26.312759",
     "exception": false,
     "start_time": "2024-10-04T17:59:26.291256",
     "status": "completed"
    },
    "tags": []
   },
   "source": [
    "## Precision, Recall, F1 Score on Validation and Test Set"
   ]
  },
  {
   "cell_type": "code",
   "execution_count": 25,
   "id": "c6bf0e09",
   "metadata": {
    "execution": {
     "iopub.execute_input": "2024-10-04T17:59:26.357783Z",
     "iopub.status.busy": "2024-10-04T17:59:26.357341Z",
     "iopub.status.idle": "2024-10-04T17:59:26.362532Z",
     "shell.execute_reply": "2024-10-04T17:59:26.361458Z"
    },
    "papermill": {
     "duration": 0.030622,
     "end_time": "2024-10-04T17:59:26.364997",
     "exception": false,
     "start_time": "2024-10-04T17:59:26.334375",
     "status": "completed"
    },
    "tags": []
   },
   "outputs": [],
   "source": [
    "classifier = grid_search.best_estimator_"
   ]
  },
  {
   "cell_type": "code",
   "execution_count": 26,
   "id": "06e141f0",
   "metadata": {
    "execution": {
     "iopub.execute_input": "2024-10-04T17:59:26.411735Z",
     "iopub.status.busy": "2024-10-04T17:59:26.410743Z",
     "iopub.status.idle": "2024-10-04T17:59:26.419028Z",
     "shell.execute_reply": "2024-10-04T17:59:26.417947Z"
    },
    "papermill": {
     "duration": 0.034099,
     "end_time": "2024-10-04T17:59:26.421577",
     "exception": false,
     "start_time": "2024-10-04T17:59:26.387478",
     "status": "completed"
    },
    "tags": []
   },
   "outputs": [],
   "source": [
    "y_pred_val = classifier.predict(X_val)\n",
    "y_pred_test = classifier.predict(X_test)"
   ]
  },
  {
   "cell_type": "code",
   "execution_count": 27,
   "id": "98716c76",
   "metadata": {
    "execution": {
     "iopub.execute_input": "2024-10-04T17:59:26.467194Z",
     "iopub.status.busy": "2024-10-04T17:59:26.466420Z",
     "iopub.status.idle": "2024-10-04T17:59:27.189027Z",
     "shell.execute_reply": "2024-10-04T17:59:27.187941Z"
    },
    "papermill": {
     "duration": 0.748355,
     "end_time": "2024-10-04T17:59:27.191749",
     "exception": false,
     "start_time": "2024-10-04T17:59:26.443394",
     "status": "completed"
    },
    "tags": []
   },
   "outputs": [
    {
     "data": {
      "image/png": "[encoded data removed]",
      "text/plain": [
       "<Figure size 640x480 with 2 Axes>"
      ]
     },
     "metadata": {},
     "output_type": "display_data"
    },
    {
     "data": {
      "image/png": "[encoded data removed]",
      "text/plain": [
       "<Figure size 640x480 with 2 Axes>"
      ]
     },
     "metadata": {},
     "output_type": "display_data"
    }
   ],
   "source": [
    "from sklearn.metrics import confusion_matrix, ConfusionMatrixDisplay\n",
    "ConfusionMatrixDisplay(confusion_matrix(y_val, y_pred_val), display_labels=y_val.unique()).plot(); # confusion matrix for validation dataset\n",
    "plt.tight_layout()\n",
    "plt.title(\"Confusion Matrix for Validation Dataset\")\n",
    "plt.show()\n",
    "ConfusionMatrixDisplay(confusion_matrix(y_test, y_pred_test), display_labels=y_test.unique()).plot(); # confusion matrix for test dataset\n",
    "plt.tight_layout()\n",
    "plt.title(\"Confusion Matrix for Test Dataset\")\n",
    "plt.show()"
   ]
  },
  {
   "cell_type": "code",
   "execution_count": 28,
   "id": "0ca093c8",
   "metadata": {
    "execution": {
     "iopub.execute_input": "2024-10-04T17:59:27.239304Z",
     "iopub.status.busy": "2024-10-04T17:59:27.238896Z",
     "iopub.status.idle": "2024-10-04T17:59:27.244342Z",
     "shell.execute_reply": "2024-10-04T17:59:27.243134Z"
    },
    "papermill": {
     "duration": 0.032068,
     "end_time": "2024-10-04T17:59:27.246750",
     "exception": false,
     "start_time": "2024-10-04T17:59:27.214682",
     "status": "completed"
    },
    "tags": []
   },
   "outputs": [],
   "source": [
    "from sklearn.metrics import classification_report"
   ]
  },
  {
   "cell_type": "code",
   "execution_count": 29,
   "id": "88f62295",
   "metadata": {
    "execution": {
     "iopub.execute_input": "2024-10-04T17:59:27.294715Z",
     "iopub.status.busy": "2024-10-04T17:59:27.293680Z",
     "iopub.status.idle": "2024-10-04T17:59:27.309278Z",
     "shell.execute_reply": "2024-10-04T17:59:27.308125Z"
    },
    "papermill": {
     "duration": 0.042106,
     "end_time": "2024-10-04T17:59:27.311862",
     "exception": false,
     "start_time": "2024-10-04T17:59:27.269756",
     "status": "completed"
    },
    "tags": []
   },
   "outputs": [
    {
     "name": "stdout",
     "output_type": "stream",
     "text": [
      "                 precision    recall  f1-score   support\n",
      "\n",
      "Iris-versicolor       0.90      0.90      0.90        10\n",
      "    Iris-setosa       1.00      1.00      1.00        10\n",
      " Iris-virginica       0.90      0.90      0.90        10\n",
      "\n",
      "       accuracy                           0.93        30\n",
      "      macro avg       0.93      0.93      0.93        30\n",
      "   weighted avg       0.93      0.93      0.93        30\n",
      "\n"
     ]
    }
   ],
   "source": [
    "print(classification_report(y_val, \n",
    "                     y_pred_val,\n",
    "                     labels = ['Iris-versicolor', 'Iris-setosa', 'Iris-virginica'],\n",
    "                     target_names = ['Iris-versicolor', 'Iris-setosa', 'Iris-virginica']))"
   ]
  },
  {
   "cell_type": "code",
   "execution_count": 30,
   "id": "60f9143b",
   "metadata": {
    "execution": {
     "iopub.execute_input": "2024-10-04T17:59:27.361324Z",
     "iopub.status.busy": "2024-10-04T17:59:27.360872Z",
     "iopub.status.idle": "2024-10-04T17:59:27.376053Z",
     "shell.execute_reply": "2024-10-04T17:59:27.374971Z"
    },
    "papermill": {
     "duration": 0.04272,
     "end_time": "2024-10-04T17:59:27.378901",
     "exception": false,
     "start_time": "2024-10-04T17:59:27.336181",
     "status": "completed"
    },
    "tags": []
   },
   "outputs": [
    {
     "name": "stdout",
     "output_type": "stream",
     "text": [
      "                 precision    recall  f1-score   support\n",
      "\n",
      "Iris-versicolor       0.90      0.90      0.90        10\n",
      "    Iris-setosa       1.00      1.00      1.00        10\n",
      " Iris-virginica       0.90      0.90      0.90        10\n",
      "\n",
      "       accuracy                           0.93        30\n",
      "      macro avg       0.93      0.93      0.93        30\n",
      "   weighted avg       0.93      0.93      0.93        30\n",
      "\n"
     ]
    }
   ],
   "source": [
    "print(classification_report(y_test, \n",
    "                     y_pred_test,\n",
    "                     labels = ['Iris-versicolor', 'Iris-setosa', 'Iris-virginica'],\n",
    "                     target_names = ['Iris-versicolor', 'Iris-setosa', 'Iris-virginica']))"
   ]
  },
  {
   "cell_type": "markdown",
   "id": "0c35d180",
   "metadata": {
    "execution": {
     "iopub.execute_input": "2024-10-04T16:51:51.634201Z",
     "iopub.status.busy": "2024-10-04T16:51:51.633752Z",
     "iopub.status.idle": "2024-10-04T16:51:51.655579Z",
     "shell.execute_reply": "2024-10-04T16:51:51.654272Z",
     "shell.execute_reply.started": "2024-10-04T16:51:51.634160Z"
    },
    "papermill": {
     "duration": 0.022875,
     "end_time": "2024-10-04T17:59:27.425994",
     "exception": false,
     "start_time": "2024-10-04T17:59:27.403119",
     "status": "completed"
    },
    "tags": []
   },
   "source": [
    "As expected, the macro-f1 score for the validation and test datasets are within one standard deviation of the cross-validation scores. Notably, though, they are lower than the mean cross-validation score."
   ]
  },
  {
   "cell_type": "markdown",
   "id": "55441695",
   "metadata": {
    "papermill": {
     "duration": 0.02285,
     "end_time": "2024-10-04T17:59:27.471882",
     "exception": false,
     "start_time": "2024-10-04T17:59:27.449032",
     "status": "completed"
    },
    "tags": []
   },
   "source": [
    "# Error Analysis"
   ]
  },
  {
   "cell_type": "markdown",
   "id": "49682507",
   "metadata": {
    "papermill": {
     "duration": 0.023024,
     "end_time": "2024-10-04T17:59:27.517963",
     "exception": false,
     "start_time": "2024-10-04T17:59:27.494939",
     "status": "completed"
    },
    "tags": []
   },
   "source": [
    "Let us take a look at the validation set examples that Logistic Regression **did** get wrong."
   ]
  },
  {
   "cell_type": "code",
   "execution_count": 31,
   "id": "300bc96d",
   "metadata": {
    "execution": {
     "iopub.execute_input": "2024-10-04T17:59:27.565958Z",
     "iopub.status.busy": "2024-10-04T17:59:27.565578Z",
     "iopub.status.idle": "2024-10-04T17:59:27.572342Z",
     "shell.execute_reply": "2024-10-04T17:59:27.571142Z"
    },
    "papermill": {
     "duration": 0.033894,
     "end_time": "2024-10-04T17:59:27.574953",
     "exception": false,
     "start_time": "2024-10-04T17:59:27.541059",
     "status": "completed"
    },
    "tags": []
   },
   "outputs": [
    {
     "name": "stdout",
     "output_type": "stream",
     "text": [
      "2\n"
     ]
    }
   ],
   "source": [
    "filt = y_val != y_pred_val\n",
    "print(filt.sum())"
   ]
  },
  {
   "cell_type": "code",
   "execution_count": 32,
   "id": "e307137c",
   "metadata": {
    "execution": {
     "iopub.execute_input": "2024-10-04T17:59:27.624017Z",
     "iopub.status.busy": "2024-10-04T17:59:27.623628Z",
     "iopub.status.idle": "2024-10-04T17:59:27.631624Z",
     "shell.execute_reply": "2024-10-04T17:59:27.630313Z"
    },
    "papermill": {
     "duration": 0.035673,
     "end_time": "2024-10-04T17:59:27.634010",
     "exception": false,
     "start_time": "2024-10-04T17:59:27.598337",
     "status": "completed"
    },
    "tags": []
   },
   "outputs": [],
   "source": [
    "pd.options.mode.copy_on_write = True\n",
    "err_val = X_val[filt]\n",
    "err_val['species'] = y_val[filt]\n",
    "err_val['prediction'] = y_pred_val[filt]"
   ]
  },
  {
   "cell_type": "code",
   "execution_count": 33,
   "id": "0e5cafdb",
   "metadata": {
    "execution": {
     "iopub.execute_input": "2024-10-04T17:59:27.683196Z",
     "iopub.status.busy": "2024-10-04T17:59:27.682800Z",
     "iopub.status.idle": "2024-10-04T17:59:27.696722Z",
     "shell.execute_reply": "2024-10-04T17:59:27.695441Z"
    },
    "papermill": {
     "duration": 0.041877,
     "end_time": "2024-10-04T17:59:27.699130",
     "exception": false,
     "start_time": "2024-10-04T17:59:27.657253",
     "status": "completed"
    },
    "tags": []
   },
   "outputs": [
    {
     "data": {
      "text/html": [
       "<div>\n",
       "<style scoped>\n",
       "    .dataframe tbody tr th:only-of-type {\n",
       "        vertical-align: middle;\n",
       "    }\n",
       "\n",
       "    .dataframe tbody tr th {\n",
       "        vertical-align: top;\n",
       "    }\n",
       "\n",
       "    .dataframe thead th {\n",
       "        text-align: right;\n",
       "    }\n",
       "</style>\n",
       "<table border=\"1\" class=\"dataframe\">\n",
       "  <thead>\n",
       "    <tr style=\"text-align: right;\">\n",
       "      <th></th>\n",
       "      <th>sepal_length</th>\n",
       "      <th>sepal_width</th>\n",
       "      <th>petal_length</th>\n",
       "      <th>petal_width</th>\n",
       "      <th>species</th>\n",
       "      <th>prediction</th>\n",
       "    </tr>\n",
       "  </thead>\n",
       "  <tbody>\n",
       "    <tr>\n",
       "      <th>10</th>\n",
       "      <td>0.073530</td>\n",
       "      <td>0.469525</td>\n",
       "      <td>0.595072</td>\n",
       "      <td>0.795353</td>\n",
       "      <td>Iris-versicolor</td>\n",
       "      <td>Iris-virginica</td>\n",
       "    </tr>\n",
       "    <tr>\n",
       "      <th>27</th>\n",
       "      <td>0.189631</td>\n",
       "      <td>-1.973090</td>\n",
       "      <td>0.708659</td>\n",
       "      <td>0.399874</td>\n",
       "      <td>Iris-virginica</td>\n",
       "      <td>Iris-versicolor</td>\n",
       "    </tr>\n",
       "  </tbody>\n",
       "</table>\n",
       "</div>"
      ],
      "text/plain": [
       "    sepal_length  sepal_width  petal_length  petal_width          species  \\\n",
       "10      0.073530     0.469525      0.595072     0.795353  Iris-versicolor   \n",
       "27      0.189631    -1.973090      0.708659     0.399874   Iris-virginica   \n",
       "\n",
       "         prediction  \n",
       "10   Iris-virginica  \n",
       "27  Iris-versicolor  "
      ]
     },
     "execution_count": 33,
     "metadata": {},
     "output_type": "execute_result"
    }
   ],
   "source": [
    "err_val"
   ]
  },
  {
   "cell_type": "code",
   "execution_count": 34,
   "id": "d3ece077",
   "metadata": {
    "execution": {
     "iopub.execute_input": "2024-10-04T17:59:27.750608Z",
     "iopub.status.busy": "2024-10-04T17:59:27.750146Z",
     "iopub.status.idle": "2024-10-04T17:59:29.435920Z",
     "shell.execute_reply": "2024-10-04T17:59:29.434775Z"
    },
    "papermill": {
     "duration": 1.717273,
     "end_time": "2024-10-04T17:59:29.439948",
     "exception": false,
     "start_time": "2024-10-04T17:59:27.722675",
     "status": "completed"
    },
    "tags": []
   },
   "outputs": [
    {
     "data": {
      "image/png": "[encoded data removed]",
      "text/plain": [
       "<Figure size 1500x1000 with 4 Axes>"
      ]
     },
     "metadata": {},
     "output_type": "display_data"
    }
   ],
   "source": [
    "# scatterplot of features after normalization - X_val\n",
    "n_vars = X_val.shape[1]\n",
    "n_cols = int(np.ceil(n_vars/2))\n",
    "n_rows = int(np.ceil(n_vars/n_cols))\n",
    "stats = X_val.groupby(y_val).agg(['mean','std'])\n",
    "fig, ax = plt.subplots(n_rows, n_cols, figsize=(15, n_rows*5))\n",
    "axes = ax.flatten()\n",
    "\n",
    "for i, col in enumerate(X_val.columns):\n",
    "    sns.scatterplot(data=X_val, x=col, y=y_val, hue=y_val,\n",
    "                   ax=axes[i])\n",
    "    axes[i].set_title(f\"scatterplot: {col}\")\n",
    "    axes[i].legend().remove()\n",
    "    \n",
    "    for species in y_val.unique():\n",
    "        mean_val = stats[col]['mean'][species]\n",
    "        std = stats[col]['std'][species]\n",
    "        axes[i].errorbar(x=mean_val, y=species, xerr=3*std, fmt='x', color='black', capsize=4, alpha=.7)\n",
    "    \n",
    "    if col in err_val.columns:\n",
    "        sns.scatterplot(data=err_val, x=col, y='species', \n",
    "                        ax=axes[i], marker='*', color='red', s=200, label='Misclassified points - true label')\n",
    "        sns.scatterplot(data=err_val, x=col, y='prediction', \n",
    "                        ax=axes[i], marker='o', color='pink', s=200, label='Misclassified points - predicted label')\n",
    "    \n",
    "for j in range(i+1, len(axes)):\n",
    "    fig.delaxes(axes[j])\n",
    "    \n",
    "plt.tight_layout()\n",
    "plt.show()"
   ]
  },
  {
   "cell_type": "markdown",
   "id": "a84e136f",
   "metadata": {
    "papermill": {
     "duration": 0.02577,
     "end_time": "2024-10-04T17:59:29.491358",
     "exception": false,
     "start_time": "2024-10-04T17:59:29.465588",
     "status": "completed"
    },
    "tags": []
   },
   "source": [
    "We can see that:\n",
    "- The misclassified points have very similar sepal and petal lengths.\n",
    "- One of the misclassified points is quite far from the mean of `sepal_width` compared to the rest of the points in the same species (`iris-virginica`). Perhaps we should treat it as an outlier."
   ]
  }
 ],
 "metadata": {
  "kaggle": {
   "accelerator": "none",
   "dataSources": [
    {
     "datasetId": 17860,
     "sourceId": 23404,
     "sourceType": "datasetVersion"
    }
   ],
   "dockerImageVersionId": 30746,
   "isGpuEnabled": false,
   "isInternetEnabled": false,
   "language": "python",
   "sourceType": "notebook"
  },
  "kernelspec": {
   "display_name": "Python 3",
   "language": "python",
   "name": "python3"
  },
  "language_info": {
   "codemirror_mode": {
    "name": "ipython",
    "version": 3
   },
   "file_extension": ".py",
   "mimetype": "text/x-python",
   "name": "python",
   "nbconvert_exporter": "python",
   "pygments_lexer": "ipython3",
   "version": "3.10.13"
  },
  "papermill": {
   "default_parameters": {},
   "duration": 63.431263,
   "end_time": "2024-10-04T17:59:32.138887",
   "environment_variables": {},
   "exception": null,
   "input_path": "__notebook__.ipynb",
   "output_path": "__notebook__.ipynb",
   "parameters": {},
   "start_time": "2024-10-04T17:58:28.707624",
   "version": "2.5.0"
  }
 },
 "nbformat": 4,
 "nbformat_minor": 5
}
