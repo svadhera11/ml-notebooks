{
 "cells": [
  {
   "cell_type": "code",
   "execution_count": 1,
   "id": "522ada28",
   "metadata": {
    "execution": {
     "iopub.execute_input": "2024-07-21T14:18:37.127551Z",
     "iopub.status.busy": "2024-07-21T14:18:37.127107Z",
     "iopub.status.idle": "2024-07-21T14:18:37.132984Z",
     "shell.execute_reply": "2024-07-21T14:18:37.131780Z"
    },
    "papermill": {
     "duration": 0.019856,
     "end_time": "2024-07-21T14:18:37.135368",
     "exception": false,
     "start_time": "2024-07-21T14:18:37.115512",
     "status": "completed"
    },
    "tags": []
   },
   "outputs": [],
   "source": [
    "# Goal: Predict failure (Classification) via Decision Trees, bagging, Random Forests, AdaBoost,gradient boosting\n",
    "# and XGBoost."
   ]
  },
  {
   "cell_type": "code",
   "execution_count": 2,
   "id": "c15be64d",
   "metadata": {
    "_cell_guid": "b1076dfc-b9ad-4769-8c92-a6c4dae69d19",
    "_uuid": "8f2839f25d086af736a60e9eeb907d3b93b6e0e5",
    "execution": {
     "iopub.execute_input": "2024-07-21T14:18:37.156197Z",
     "iopub.status.busy": "2024-07-21T14:18:37.155847Z",
     "iopub.status.idle": "2024-07-21T14:18:38.074395Z",
     "shell.execute_reply": "2024-07-21T14:18:38.072921Z"
    },
    "papermill": {
     "duration": 0.933207,
     "end_time": "2024-07-21T14:18:38.078278",
     "exception": false,
     "start_time": "2024-07-21T14:18:37.145071",
     "status": "completed"
    },
    "tags": []
   },
   "outputs": [
    {
     "name": "stdout",
     "output_type": "stream",
     "text": [
      "/kaggle/input/machine-failure-prediction-using-sensor-data/data.csv\n"
     ]
    }
   ],
   "source": [
    "# This Python 3 environment comes with many helpful analytics libraries installed\n",
    "# It is defined by the kaggle/python Docker image: https://github.com/kaggle/docker-python\n",
    "# For example, here's several helpful packages to load\n",
    "\n",
    "import numpy as np # linear algebra\n",
    "import pandas as pd # data processing, CSV file I/O (e.g. pd.read_csv)\n",
    "\n",
    "# Input data files are available in the read-only \"../input/\" directory\n",
    "# For example, running this (by clicking run or pressing Shift+Enter) will list all files under the input directory\n",
    "\n",
    "import os\n",
    "for dirname, _, filenames in os.walk('/kaggle/input'):\n",
    "    for filename in filenames:\n",
    "        print(os.path.join(dirname, filename))\n",
    "\n",
    "# You can write up to 20GB to the current directory (/kaggle/working/) that gets preserved as output when you create a version using \"Save & Run All\" \n",
    "# You can also write temporary files to /kaggle/temp/, but they won't be saved outside of the current session"
   ]
  },
  {
   "cell_type": "code",
   "execution_count": 3,
   "id": "050229bb",
   "metadata": {
    "execution": {
     "iopub.execute_input": "2024-07-21T14:18:38.101068Z",
     "iopub.status.busy": "2024-07-21T14:18:38.100584Z",
     "iopub.status.idle": "2024-07-21T14:18:38.125650Z",
     "shell.execute_reply": "2024-07-21T14:18:38.124512Z"
    },
    "papermill": {
     "duration": 0.03917,
     "end_time": "2024-07-21T14:18:38.128349",
     "exception": false,
     "start_time": "2024-07-21T14:18:38.089179",
     "status": "completed"
    },
    "tags": []
   },
   "outputs": [],
   "source": [
    "dataset = pd.read_csv('/kaggle/input/machine-failure-prediction-using-sensor-data/data.csv')"
   ]
  },
  {
   "cell_type": "code",
   "execution_count": 4,
   "id": "81dbcfa2",
   "metadata": {
    "execution": {
     "iopub.execute_input": "2024-07-21T14:18:38.149416Z",
     "iopub.status.busy": "2024-07-21T14:18:38.149043Z",
     "iopub.status.idle": "2024-07-21T14:18:38.171295Z",
     "shell.execute_reply": "2024-07-21T14:18:38.170179Z"
    },
    "papermill": {
     "duration": 0.035689,
     "end_time": "2024-07-21T14:18:38.173779",
     "exception": false,
     "start_time": "2024-07-21T14:18:38.138090",
     "status": "completed"
    },
    "tags": []
   },
   "outputs": [
    {
     "data": {
      "text/html": [
       "<div>\n",
       "<style scoped>\n",
       "    .dataframe tbody tr th:only-of-type {\n",
       "        vertical-align: middle;\n",
       "    }\n",
       "\n",
       "    .dataframe tbody tr th {\n",
       "        vertical-align: top;\n",
       "    }\n",
       "\n",
       "    .dataframe thead th {\n",
       "        text-align: right;\n",
       "    }\n",
       "</style>\n",
       "<table border=\"1\" class=\"dataframe\">\n",
       "  <thead>\n",
       "    <tr style=\"text-align: right;\">\n",
       "      <th></th>\n",
       "      <th>footfall</th>\n",
       "      <th>tempMode</th>\n",
       "      <th>AQ</th>\n",
       "      <th>USS</th>\n",
       "      <th>CS</th>\n",
       "      <th>VOC</th>\n",
       "      <th>RP</th>\n",
       "      <th>IP</th>\n",
       "      <th>Temperature</th>\n",
       "      <th>fail</th>\n",
       "    </tr>\n",
       "  </thead>\n",
       "  <tbody>\n",
       "    <tr>\n",
       "      <th>0</th>\n",
       "      <td>0</td>\n",
       "      <td>7</td>\n",
       "      <td>7</td>\n",
       "      <td>1</td>\n",
       "      <td>6</td>\n",
       "      <td>6</td>\n",
       "      <td>36</td>\n",
       "      <td>3</td>\n",
       "      <td>1</td>\n",
       "      <td>1</td>\n",
       "    </tr>\n",
       "    <tr>\n",
       "      <th>1</th>\n",
       "      <td>190</td>\n",
       "      <td>1</td>\n",
       "      <td>3</td>\n",
       "      <td>3</td>\n",
       "      <td>5</td>\n",
       "      <td>1</td>\n",
       "      <td>20</td>\n",
       "      <td>4</td>\n",
       "      <td>1</td>\n",
       "      <td>0</td>\n",
       "    </tr>\n",
       "    <tr>\n",
       "      <th>2</th>\n",
       "      <td>31</td>\n",
       "      <td>7</td>\n",
       "      <td>2</td>\n",
       "      <td>2</td>\n",
       "      <td>6</td>\n",
       "      <td>1</td>\n",
       "      <td>24</td>\n",
       "      <td>6</td>\n",
       "      <td>1</td>\n",
       "      <td>0</td>\n",
       "    </tr>\n",
       "    <tr>\n",
       "      <th>3</th>\n",
       "      <td>83</td>\n",
       "      <td>4</td>\n",
       "      <td>3</td>\n",
       "      <td>4</td>\n",
       "      <td>5</td>\n",
       "      <td>1</td>\n",
       "      <td>28</td>\n",
       "      <td>6</td>\n",
       "      <td>1</td>\n",
       "      <td>0</td>\n",
       "    </tr>\n",
       "    <tr>\n",
       "      <th>4</th>\n",
       "      <td>640</td>\n",
       "      <td>7</td>\n",
       "      <td>5</td>\n",
       "      <td>6</td>\n",
       "      <td>4</td>\n",
       "      <td>0</td>\n",
       "      <td>68</td>\n",
       "      <td>6</td>\n",
       "      <td>1</td>\n",
       "      <td>0</td>\n",
       "    </tr>\n",
       "  </tbody>\n",
       "</table>\n",
       "</div>"
      ],
      "text/plain": [
       "   footfall  tempMode  AQ  USS  CS  VOC  RP  IP  Temperature  fail\n",
       "0         0         7   7    1   6    6  36   3            1     1\n",
       "1       190         1   3    3   5    1  20   4            1     0\n",
       "2        31         7   2    2   6    1  24   6            1     0\n",
       "3        83         4   3    4   5    1  28   6            1     0\n",
       "4       640         7   5    6   4    0  68   6            1     0"
      ]
     },
     "execution_count": 4,
     "metadata": {},
     "output_type": "execute_result"
    }
   ],
   "source": [
    "dataset.head()"
   ]
  },
  {
   "cell_type": "code",
   "execution_count": 5,
   "id": "c08e9275",
   "metadata": {
    "execution": {
     "iopub.execute_input": "2024-07-21T14:18:38.196205Z",
     "iopub.status.busy": "2024-07-21T14:18:38.195825Z",
     "iopub.status.idle": "2024-07-21T14:18:38.220646Z",
     "shell.execute_reply": "2024-07-21T14:18:38.219097Z"
    },
    "papermill": {
     "duration": 0.038921,
     "end_time": "2024-07-21T14:18:38.223525",
     "exception": false,
     "start_time": "2024-07-21T14:18:38.184604",
     "status": "completed"
    },
    "tags": []
   },
   "outputs": [
    {
     "name": "stdout",
     "output_type": "stream",
     "text": [
      "<class 'pandas.core.frame.DataFrame'>\n",
      "RangeIndex: 944 entries, 0 to 943\n",
      "Data columns (total 10 columns):\n",
      " #   Column       Non-Null Count  Dtype\n",
      "---  ------       --------------  -----\n",
      " 0   footfall     944 non-null    int64\n",
      " 1   tempMode     944 non-null    int64\n",
      " 2   AQ           944 non-null    int64\n",
      " 3   USS          944 non-null    int64\n",
      " 4   CS           944 non-null    int64\n",
      " 5   VOC          944 non-null    int64\n",
      " 6   RP           944 non-null    int64\n",
      " 7   IP           944 non-null    int64\n",
      " 8   Temperature  944 non-null    int64\n",
      " 9   fail         944 non-null    int64\n",
      "dtypes: int64(10)\n",
      "memory usage: 73.9 KB\n"
     ]
    }
   ],
   "source": [
    "dataset.info()"
   ]
  },
  {
   "cell_type": "code",
   "execution_count": 6,
   "id": "8bd532b2",
   "metadata": {
    "execution": {
     "iopub.execute_input": "2024-07-21T14:18:38.247592Z",
     "iopub.status.busy": "2024-07-21T14:18:38.246343Z",
     "iopub.status.idle": "2024-07-21T14:18:38.252393Z",
     "shell.execute_reply": "2024-07-21T14:18:38.251044Z"
    },
    "papermill": {
     "duration": 0.020433,
     "end_time": "2024-07-21T14:18:38.254933",
     "exception": false,
     "start_time": "2024-07-21T14:18:38.234500",
     "status": "completed"
    },
    "tags": []
   },
   "outputs": [],
   "source": [
    "'''\n",
    "Columns Description\n",
    "footfall: The number of people or objects passing by the machine. (Continuous Variable)\n",
    "tempMode: The temperature mode or setting of the machine. (Categorical, 1-7)\n",
    "AQ: Air quality index near the machine. (Categorical)\n",
    "USS: Ultrasonic sensor data, indicating proximity measurements.(Categorical)\n",
    "CS: Current sensor readings, indicating the electrical current usage of the machine.(Categorical)\n",
    "VOC: Volatile organic compounds level detected near the machine.(Categorical)\n",
    "RP: Rotational position or RPM (revolutions per minute) of the machine parts. (Continuous)\n",
    "IP: Input pressure to the machine.(Categorical)\n",
    "Temperature: The operating temperature of the machine.(Continuous)\n",
    "fail: Binary indicator of machine failure (1 for failure, 0 for no failure). (Categorical)\n",
    "''';"
   ]
  },
  {
   "cell_type": "code",
   "execution_count": 7,
   "id": "dda64bc7",
   "metadata": {
    "execution": {
     "iopub.execute_input": "2024-07-21T14:18:38.277088Z",
     "iopub.status.busy": "2024-07-21T14:18:38.276269Z",
     "iopub.status.idle": "2024-07-21T14:18:39.536861Z",
     "shell.execute_reply": "2024-07-21T14:18:39.535647Z"
    },
    "papermill": {
     "duration": 1.274565,
     "end_time": "2024-07-21T14:18:39.539532",
     "exception": false,
     "start_time": "2024-07-21T14:18:38.264967",
     "status": "completed"
    },
    "tags": []
   },
   "outputs": [],
   "source": [
    "from sklearn.model_selection import train_test_split\n",
    "from sklearn.model_selection import cross_val_score\n",
    "from sklearn.metrics import classification_report"
   ]
  },
  {
   "cell_type": "code",
   "execution_count": 8,
   "id": "6f4d7635",
   "metadata": {
    "execution": {
     "iopub.execute_input": "2024-07-21T14:18:39.561729Z",
     "iopub.status.busy": "2024-07-21T14:18:39.561281Z",
     "iopub.status.idle": "2024-07-21T14:18:39.573622Z",
     "shell.execute_reply": "2024-07-21T14:18:39.572449Z"
    },
    "papermill": {
     "duration": 0.026435,
     "end_time": "2024-07-21T14:18:39.576168",
     "exception": false,
     "start_time": "2024-07-21T14:18:39.549733",
     "status": "completed"
    },
    "tags": []
   },
   "outputs": [],
   "source": [
    "X_train, X_test, y_train, y_test = train_test_split(dataset.drop('fail',axis=1),\n",
    "                                                   dataset['fail'],\n",
    "                                                   test_size=0.25, random_state=42)"
   ]
  },
  {
   "cell_type": "code",
   "execution_count": 9,
   "id": "2ea9f158",
   "metadata": {
    "execution": {
     "iopub.execute_input": "2024-07-21T14:18:39.598590Z",
     "iopub.status.busy": "2024-07-21T14:18:39.598216Z",
     "iopub.status.idle": "2024-07-21T14:18:39.611203Z",
     "shell.execute_reply": "2024-07-21T14:18:39.610095Z"
    },
    "papermill": {
     "duration": 0.026619,
     "end_time": "2024-07-21T14:18:39.613484",
     "exception": false,
     "start_time": "2024-07-21T14:18:39.586865",
     "status": "completed"
    },
    "tags": []
   },
   "outputs": [
    {
     "data": {
      "text/html": [
       "<div>\n",
       "<style scoped>\n",
       "    .dataframe tbody tr th:only-of-type {\n",
       "        vertical-align: middle;\n",
       "    }\n",
       "\n",
       "    .dataframe tbody tr th {\n",
       "        vertical-align: top;\n",
       "    }\n",
       "\n",
       "    .dataframe thead th {\n",
       "        text-align: right;\n",
       "    }\n",
       "</style>\n",
       "<table border=\"1\" class=\"dataframe\">\n",
       "  <thead>\n",
       "    <tr style=\"text-align: right;\">\n",
       "      <th></th>\n",
       "      <th>footfall</th>\n",
       "      <th>tempMode</th>\n",
       "      <th>AQ</th>\n",
       "      <th>USS</th>\n",
       "      <th>CS</th>\n",
       "      <th>VOC</th>\n",
       "      <th>RP</th>\n",
       "      <th>IP</th>\n",
       "      <th>Temperature</th>\n",
       "    </tr>\n",
       "  </thead>\n",
       "  <tbody>\n",
       "    <tr>\n",
       "      <th>584</th>\n",
       "      <td>0</td>\n",
       "      <td>5</td>\n",
       "      <td>4</td>\n",
       "      <td>6</td>\n",
       "      <td>5</td>\n",
       "      <td>2</td>\n",
       "      <td>51</td>\n",
       "      <td>3</td>\n",
       "      <td>20</td>\n",
       "    </tr>\n",
       "    <tr>\n",
       "      <th>298</th>\n",
       "      <td>330</td>\n",
       "      <td>2</td>\n",
       "      <td>4</td>\n",
       "      <td>5</td>\n",
       "      <td>5</td>\n",
       "      <td>1</td>\n",
       "      <td>43</td>\n",
       "      <td>5</td>\n",
       "      <td>15</td>\n",
       "    </tr>\n",
       "    <tr>\n",
       "      <th>828</th>\n",
       "      <td>3</td>\n",
       "      <td>7</td>\n",
       "      <td>2</td>\n",
       "      <td>4</td>\n",
       "      <td>3</td>\n",
       "      <td>6</td>\n",
       "      <td>33</td>\n",
       "      <td>6</td>\n",
       "      <td>22</td>\n",
       "    </tr>\n",
       "    <tr>\n",
       "      <th>328</th>\n",
       "      <td>900</td>\n",
       "      <td>2</td>\n",
       "      <td>6</td>\n",
       "      <td>5</td>\n",
       "      <td>3</td>\n",
       "      <td>1</td>\n",
       "      <td>25</td>\n",
       "      <td>3</td>\n",
       "      <td>15</td>\n",
       "    </tr>\n",
       "    <tr>\n",
       "      <th>204</th>\n",
       "      <td>290</td>\n",
       "      <td>0</td>\n",
       "      <td>6</td>\n",
       "      <td>3</td>\n",
       "      <td>6</td>\n",
       "      <td>5</td>\n",
       "      <td>35</td>\n",
       "      <td>4</td>\n",
       "      <td>12</td>\n",
       "    </tr>\n",
       "  </tbody>\n",
       "</table>\n",
       "</div>"
      ],
      "text/plain": [
       "     footfall  tempMode  AQ  USS  CS  VOC  RP  IP  Temperature\n",
       "584         0         5   4    6   5    2  51   3           20\n",
       "298       330         2   4    5   5    1  43   5           15\n",
       "828         3         7   2    4   3    6  33   6           22\n",
       "328       900         2   6    5   3    1  25   3           15\n",
       "204       290         0   6    3   6    5  35   4           12"
      ]
     },
     "execution_count": 9,
     "metadata": {},
     "output_type": "execute_result"
    }
   ],
   "source": [
    "X_train.head()"
   ]
  },
  {
   "cell_type": "code",
   "execution_count": 10,
   "id": "a42eb6a8",
   "metadata": {
    "execution": {
     "iopub.execute_input": "2024-07-21T14:18:39.636739Z",
     "iopub.status.busy": "2024-07-21T14:18:39.636342Z",
     "iopub.status.idle": "2024-07-21T14:18:39.644032Z",
     "shell.execute_reply": "2024-07-21T14:18:39.643021Z"
    },
    "papermill": {
     "duration": 0.021335,
     "end_time": "2024-07-21T14:18:39.646247",
     "exception": false,
     "start_time": "2024-07-21T14:18:39.624912",
     "status": "completed"
    },
    "tags": []
   },
   "outputs": [
    {
     "data": {
      "text/plain": [
       "584    0\n",
       "298    0\n",
       "828    1\n",
       "328    0\n",
       "204    1\n",
       "Name: fail, dtype: int64"
      ]
     },
     "execution_count": 10,
     "metadata": {},
     "output_type": "execute_result"
    }
   ],
   "source": [
    "y_train.head()"
   ]
  },
  {
   "cell_type": "markdown",
   "id": "7eb5f6ea",
   "metadata": {
    "papermill": {
     "duration": 0.009892,
     "end_time": "2024-07-21T14:18:39.666590",
     "exception": false,
     "start_time": "2024-07-21T14:18:39.656698",
     "status": "completed"
    },
    "tags": []
   },
   "source": [
    "# Decision Trees"
   ]
  },
  {
   "cell_type": "code",
   "execution_count": 11,
   "id": "48f630ad",
   "metadata": {
    "execution": {
     "iopub.execute_input": "2024-07-21T14:18:39.688749Z",
     "iopub.status.busy": "2024-07-21T14:18:39.688343Z",
     "iopub.status.idle": "2024-07-21T14:18:39.874820Z",
     "shell.execute_reply": "2024-07-21T14:18:39.873672Z"
    },
    "papermill": {
     "duration": 0.200391,
     "end_time": "2024-07-21T14:18:39.877315",
     "exception": false,
     "start_time": "2024-07-21T14:18:39.676924",
     "status": "completed"
    },
    "tags": []
   },
   "outputs": [],
   "source": [
    "from sklearn.tree import DecisionTreeClassifier\n",
    "\n",
    "dt = DecisionTreeClassifier(criterion='gini', splitter='best', min_samples_leaf=2)"
   ]
  },
  {
   "cell_type": "code",
   "execution_count": 12,
   "id": "85e15590",
   "metadata": {
    "execution": {
     "iopub.execute_input": "2024-07-21T14:18:39.899304Z",
     "iopub.status.busy": "2024-07-21T14:18:39.898947Z",
     "iopub.status.idle": "2024-07-21T14:18:40.133630Z",
     "shell.execute_reply": "2024-07-21T14:18:40.132349Z"
    },
    "papermill": {
     "duration": 0.248617,
     "end_time": "2024-07-21T14:18:40.136176",
     "exception": false,
     "start_time": "2024-07-21T14:18:39.887559",
     "status": "completed"
    },
    "tags": []
   },
   "outputs": [
    {
     "name": "stdout",
     "output_type": "stream",
     "text": [
      "roc-auc: 0.884 +/- 0.048\n",
      "acc-score: 0.874 +/- 0.046\n"
     ]
    }
   ],
   "source": [
    "roc_auc_score = cross_val_score(dt, X_train, y_train, scoring='roc_auc', cv=10)\n",
    "acc_score = cross_val_score(dt, X_train, y_train, scoring='accuracy', cv=10)\n",
    "\n",
    "\n",
    "print(f\"roc-auc: {np.mean(roc_auc_score).round(3)} +/- {np.std(roc_auc_score).round(3)}\")\n",
    "print(f\"acc-score: {np.mean(acc_score).round(3)} +/- {np.std(acc_score).round(3)}\")\n"
   ]
  },
  {
   "cell_type": "code",
   "execution_count": 13,
   "id": "7d002cd8",
   "metadata": {
    "execution": {
     "iopub.execute_input": "2024-07-21T14:18:40.158398Z",
     "iopub.status.busy": "2024-07-21T14:18:40.158017Z",
     "iopub.status.idle": "2024-07-21T14:18:40.170482Z",
     "shell.execute_reply": "2024-07-21T14:18:40.169416Z"
    },
    "papermill": {
     "duration": 0.026978,
     "end_time": "2024-07-21T14:18:40.173635",
     "exception": false,
     "start_time": "2024-07-21T14:18:40.146657",
     "status": "completed"
    },
    "tags": []
   },
   "outputs": [],
   "source": [
    "decision_tree = dt.fit(X_train, y_train)\n",
    "y_pred = decision_tree.predict(X_test)\n",
    "y_pred_proba = decision_tree.predict_proba(X_test)[:,1]"
   ]
  },
  {
   "cell_type": "code",
   "execution_count": 14,
   "id": "48999a0f",
   "metadata": {
    "execution": {
     "iopub.execute_input": "2024-07-21T14:18:40.196377Z",
     "iopub.status.busy": "2024-07-21T14:18:40.195996Z",
     "iopub.status.idle": "2024-07-21T14:18:40.213078Z",
     "shell.execute_reply": "2024-07-21T14:18:40.211927Z"
    },
    "papermill": {
     "duration": 0.031459,
     "end_time": "2024-07-21T14:18:40.215456",
     "exception": false,
     "start_time": "2024-07-21T14:18:40.183997",
     "status": "completed"
    },
    "tags": []
   },
   "outputs": [
    {
     "name": "stdout",
     "output_type": "stream",
     "text": [
      "              precision    recall  f1-score   support\n",
      "\n",
      "           0       0.88      0.85      0.86       132\n",
      "           1       0.81      0.85      0.83       104\n",
      "\n",
      "    accuracy                           0.85       236\n",
      "   macro avg       0.84      0.85      0.85       236\n",
      "weighted avg       0.85      0.85      0.85       236\n",
      "\n",
      "ROC-AUC:0.861\n"
     ]
    }
   ],
   "source": [
    "from sklearn.metrics import classification_report\n",
    "from sklearn.metrics import roc_auc_score\n",
    "print(classification_report(y_test, y_pred))\n",
    "print(f\"ROC-AUC:{roc_auc_score(y_test, y_pred_proba).round(3)}\")"
   ]
  },
  {
   "cell_type": "markdown",
   "id": "c2e8ebcf",
   "metadata": {
    "papermill": {
     "duration": 0.010144,
     "end_time": "2024-07-21T14:18:40.236072",
     "exception": false,
     "start_time": "2024-07-21T14:18:40.225928",
     "status": "completed"
    },
    "tags": []
   },
   "source": [
    "# Bagging"
   ]
  },
  {
   "cell_type": "code",
   "execution_count": 15,
   "id": "77db1124",
   "metadata": {
    "execution": {
     "iopub.execute_input": "2024-07-21T14:18:40.259426Z",
     "iopub.status.busy": "2024-07-21T14:18:40.258758Z",
     "iopub.status.idle": "2024-07-21T14:18:40.336582Z",
     "shell.execute_reply": "2024-07-21T14:18:40.335419Z"
    },
    "papermill": {
     "duration": 0.092149,
     "end_time": "2024-07-21T14:18:40.339241",
     "exception": false,
     "start_time": "2024-07-21T14:18:40.247092",
     "status": "completed"
    },
    "tags": []
   },
   "outputs": [],
   "source": [
    "from sklearn.ensemble import BaggingClassifier"
   ]
  },
  {
   "cell_type": "code",
   "execution_count": 16,
   "id": "85da7d94",
   "metadata": {
    "execution": {
     "iopub.execute_input": "2024-07-21T14:18:40.361839Z",
     "iopub.status.busy": "2024-07-21T14:18:40.361412Z",
     "iopub.status.idle": "2024-07-21T14:18:40.367089Z",
     "shell.execute_reply": "2024-07-21T14:18:40.365892Z"
    },
    "papermill": {
     "duration": 0.01978,
     "end_time": "2024-07-21T14:18:40.369562",
     "exception": false,
     "start_time": "2024-07-21T14:18:40.349782",
     "status": "completed"
    },
    "tags": []
   },
   "outputs": [],
   "source": [
    "bc = BaggingClassifier(estimator=dt,\n",
    "                      n_estimators=10,\n",
    "                      bootstrap=True,\n",
    "                      oob_score=False,\n",
    "                      n_jobs=-1)"
   ]
  },
  {
   "cell_type": "code",
   "execution_count": 17,
   "id": "c5fb4ff4",
   "metadata": {
    "execution": {
     "iopub.execute_input": "2024-07-21T14:18:40.391978Z",
     "iopub.status.busy": "2024-07-21T14:18:40.391575Z",
     "iopub.status.idle": "2024-07-21T14:18:42.599821Z",
     "shell.execute_reply": "2024-07-21T14:18:42.598286Z"
    },
    "papermill": {
     "duration": 2.222293,
     "end_time": "2024-07-21T14:18:42.602356",
     "exception": false,
     "start_time": "2024-07-21T14:18:40.380063",
     "status": "completed"
    },
    "tags": []
   },
   "outputs": [
    {
     "name": "stdout",
     "output_type": "stream",
     "text": [
      "roc-auc: 0.947 +/- 0.031\n",
      "acc-score: 0.888 +/- 0.046\n"
     ]
    }
   ],
   "source": [
    "roc_auc_score = cross_val_score(bc, X_train, y_train, scoring='roc_auc', cv=10)\n",
    "acc_score = cross_val_score(bc, X_train, y_train, scoring='accuracy', cv=10)\n",
    "\n",
    "\n",
    "print(f\"roc-auc: {np.mean(roc_auc_score).round(3)} +/- {np.std(roc_auc_score).round(3)}\")\n",
    "print(f\"acc-score: {np.mean(acc_score).round(3)} +/- {np.std(acc_score).round(3)}\")\n"
   ]
  },
  {
   "cell_type": "code",
   "execution_count": 18,
   "id": "910a3029",
   "metadata": {
    "execution": {
     "iopub.execute_input": "2024-07-21T14:18:42.625568Z",
     "iopub.status.busy": "2024-07-21T14:18:42.625133Z",
     "iopub.status.idle": "2024-07-21T14:18:42.686766Z",
     "shell.execute_reply": "2024-07-21T14:18:42.685650Z"
    },
    "papermill": {
     "duration": 0.07637,
     "end_time": "2024-07-21T14:18:42.689332",
     "exception": false,
     "start_time": "2024-07-21T14:18:42.612962",
     "status": "completed"
    },
    "tags": []
   },
   "outputs": [],
   "source": [
    "bagging_classifier = bc.fit(X_train, y_train)\n",
    "y_pred = bagging_classifier.predict(X_test)\n",
    "y_pred_proba = bagging_classifier.predict_proba(X_test)[:,1]"
   ]
  },
  {
   "cell_type": "code",
   "execution_count": 19,
   "id": "bf9c2971",
   "metadata": {
    "execution": {
     "iopub.execute_input": "2024-07-21T14:18:42.712041Z",
     "iopub.status.busy": "2024-07-21T14:18:42.711688Z",
     "iopub.status.idle": "2024-07-21T14:18:42.728512Z",
     "shell.execute_reply": "2024-07-21T14:18:42.727358Z"
    },
    "papermill": {
     "duration": 0.030858,
     "end_time": "2024-07-21T14:18:42.730864",
     "exception": false,
     "start_time": "2024-07-21T14:18:42.700006",
     "status": "completed"
    },
    "tags": []
   },
   "outputs": [
    {
     "name": "stdout",
     "output_type": "stream",
     "text": [
      "              precision    recall  f1-score   support\n",
      "\n",
      "           0       0.87      0.89      0.88       132\n",
      "           1       0.85      0.84      0.84       104\n",
      "\n",
      "    accuracy                           0.86       236\n",
      "   macro avg       0.86      0.86      0.86       236\n",
      "weighted avg       0.86      0.86      0.86       236\n",
      "\n",
      "ROC-AUC:0.934\n"
     ]
    }
   ],
   "source": [
    "from sklearn.metrics import classification_report\n",
    "from sklearn.metrics import roc_auc_score\n",
    "print(classification_report(y_test, y_pred))\n",
    "print(f\"ROC-AUC:{roc_auc_score(y_test, y_pred_proba).round(3)}\")"
   ]
  },
  {
   "cell_type": "markdown",
   "id": "f0f376b3",
   "metadata": {
    "papermill": {
     "duration": 0.010753,
     "end_time": "2024-07-21T14:18:42.752070",
     "exception": false,
     "start_time": "2024-07-21T14:18:42.741317",
     "status": "completed"
    },
    "tags": []
   },
   "source": [
    "# Random Forests"
   ]
  },
  {
   "cell_type": "code",
   "execution_count": 20,
   "id": "055654ac",
   "metadata": {
    "execution": {
     "iopub.execute_input": "2024-07-21T14:18:42.774569Z",
     "iopub.status.busy": "2024-07-21T14:18:42.774165Z",
     "iopub.status.idle": "2024-07-21T14:18:42.779077Z",
     "shell.execute_reply": "2024-07-21T14:18:42.777979Z"
    },
    "papermill": {
     "duration": 0.018875,
     "end_time": "2024-07-21T14:18:42.781341",
     "exception": false,
     "start_time": "2024-07-21T14:18:42.762466",
     "status": "completed"
    },
    "tags": []
   },
   "outputs": [],
   "source": [
    "from sklearn.ensemble import RandomForestClassifier"
   ]
  },
  {
   "cell_type": "code",
   "execution_count": 21,
   "id": "3647d18f",
   "metadata": {
    "execution": {
     "iopub.execute_input": "2024-07-21T14:18:42.804206Z",
     "iopub.status.busy": "2024-07-21T14:18:42.803818Z",
     "iopub.status.idle": "2024-07-21T14:18:42.809267Z",
     "shell.execute_reply": "2024-07-21T14:18:42.808183Z"
    },
    "papermill": {
     "duration": 0.019526,
     "end_time": "2024-07-21T14:18:42.811450",
     "exception": false,
     "start_time": "2024-07-21T14:18:42.791924",
     "status": "completed"
    },
    "tags": []
   },
   "outputs": [],
   "source": [
    "rf = RandomForestClassifier(n_estimators=100,\n",
    "                           criterion='gini',\n",
    "                           min_samples_leaf=2,\n",
    "                           max_features='sqrt',\n",
    "                           bootstrap=True,\n",
    "                           oob_score=False,\n",
    "                           n_jobs=-1)"
   ]
  },
  {
   "cell_type": "code",
   "execution_count": 22,
   "id": "b74ab72b",
   "metadata": {
    "execution": {
     "iopub.execute_input": "2024-07-21T14:18:42.834508Z",
     "iopub.status.busy": "2024-07-21T14:18:42.834128Z",
     "iopub.status.idle": "2024-07-21T14:18:50.064701Z",
     "shell.execute_reply": "2024-07-21T14:18:50.063607Z"
    },
    "papermill": {
     "duration": 7.245134,
     "end_time": "2024-07-21T14:18:50.067218",
     "exception": false,
     "start_time": "2024-07-21T14:18:42.822084",
     "status": "completed"
    },
    "tags": []
   },
   "outputs": [
    {
     "name": "stdout",
     "output_type": "stream",
     "text": [
      "roc-auc: 0.963 +/- 0.023\n",
      "acc-score: 0.912 +/- 0.037\n"
     ]
    }
   ],
   "source": [
    "roc_auc_score = cross_val_score(rf, X_train, y_train, scoring='roc_auc', cv=10)\n",
    "acc_score = cross_val_score(rf, X_train, y_train, scoring='accuracy', cv=10)\n",
    "\n",
    "\n",
    "print(f\"roc-auc: {np.mean(roc_auc_score).round(3)} +/- {np.std(roc_auc_score).round(3)}\")\n",
    "print(f\"acc-score: {np.mean(acc_score).round(3)} +/- {np.std(acc_score).round(3)}\")\n"
   ]
  },
  {
   "cell_type": "code",
   "execution_count": 23,
   "id": "e9fe428d",
   "metadata": {
    "execution": {
     "iopub.execute_input": "2024-07-21T14:18:50.090308Z",
     "iopub.status.busy": "2024-07-21T14:18:50.089929Z",
     "iopub.status.idle": "2024-07-21T14:18:50.487539Z",
     "shell.execute_reply": "2024-07-21T14:18:50.486164Z"
    },
    "papermill": {
     "duration": 0.412314,
     "end_time": "2024-07-21T14:18:50.490324",
     "exception": false,
     "start_time": "2024-07-21T14:18:50.078010",
     "status": "completed"
    },
    "tags": []
   },
   "outputs": [],
   "source": [
    "random_forest = rf.fit(X_train, y_train)\n",
    "y_pred = random_forest.predict(X_test)\n",
    "y_pred_proba = random_forest.predict_proba(X_test)[:,1]"
   ]
  },
  {
   "cell_type": "code",
   "execution_count": 24,
   "id": "0e42afec",
   "metadata": {
    "execution": {
     "iopub.execute_input": "2024-07-21T14:18:50.514358Z",
     "iopub.status.busy": "2024-07-21T14:18:50.513975Z",
     "iopub.status.idle": "2024-07-21T14:18:50.532907Z",
     "shell.execute_reply": "2024-07-21T14:18:50.531517Z"
    },
    "papermill": {
     "duration": 0.03434,
     "end_time": "2024-07-21T14:18:50.535390",
     "exception": false,
     "start_time": "2024-07-21T14:18:50.501050",
     "status": "completed"
    },
    "tags": []
   },
   "outputs": [
    {
     "name": "stdout",
     "output_type": "stream",
     "text": [
      "              precision    recall  f1-score   support\n",
      "\n",
      "           0       0.91      0.89      0.90       132\n",
      "           1       0.86      0.89      0.88       104\n",
      "\n",
      "    accuracy                           0.89       236\n",
      "   macro avg       0.89      0.89      0.89       236\n",
      "weighted avg       0.89      0.89      0.89       236\n",
      "\n",
      "ROC-AUC:0.954\n"
     ]
    }
   ],
   "source": [
    "from sklearn.metrics import classification_report\n",
    "from sklearn.metrics import roc_auc_score\n",
    "print(classification_report(y_test, y_pred))\n",
    "print(f\"ROC-AUC:{roc_auc_score(y_test, y_pred_proba).round(3)}\")"
   ]
  },
  {
   "cell_type": "markdown",
   "id": "c00add24",
   "metadata": {
    "papermill": {
     "duration": 0.010712,
     "end_time": "2024-07-21T14:18:50.556912",
     "exception": false,
     "start_time": "2024-07-21T14:18:50.546200",
     "status": "completed"
    },
    "tags": []
   },
   "source": [
    "# AdaBoost"
   ]
  },
  {
   "cell_type": "code",
   "execution_count": 25,
   "id": "dffc2320",
   "metadata": {
    "execution": {
     "iopub.execute_input": "2024-07-21T14:18:50.580473Z",
     "iopub.status.busy": "2024-07-21T14:18:50.580095Z",
     "iopub.status.idle": "2024-07-21T14:18:50.585458Z",
     "shell.execute_reply": "2024-07-21T14:18:50.584239Z"
    },
    "papermill": {
     "duration": 0.020102,
     "end_time": "2024-07-21T14:18:50.587991",
     "exception": false,
     "start_time": "2024-07-21T14:18:50.567889",
     "status": "completed"
    },
    "tags": []
   },
   "outputs": [],
   "source": [
    "from sklearn.ensemble import AdaBoostClassifier"
   ]
  },
  {
   "cell_type": "code",
   "execution_count": 26,
   "id": "5ef88007",
   "metadata": {
    "execution": {
     "iopub.execute_input": "2024-07-21T14:18:50.673424Z",
     "iopub.status.busy": "2024-07-21T14:18:50.673080Z",
     "iopub.status.idle": "2024-07-21T14:18:50.678168Z",
     "shell.execute_reply": "2024-07-21T14:18:50.677004Z"
    },
    "papermill": {
     "duration": 0.020239,
     "end_time": "2024-07-21T14:18:50.680625",
     "exception": false,
     "start_time": "2024-07-21T14:18:50.660386",
     "status": "completed"
    },
    "tags": []
   },
   "outputs": [],
   "source": [
    "abc = AdaBoostClassifier(estimator=dt,\n",
    "                         n_estimators=100,\n",
    "                         learning_rate = 1)"
   ]
  },
  {
   "cell_type": "code",
   "execution_count": 27,
   "id": "0bb0c810",
   "metadata": {
    "execution": {
     "iopub.execute_input": "2024-07-21T14:18:50.704356Z",
     "iopub.status.busy": "2024-07-21T14:18:50.703412Z",
     "iopub.status.idle": "2024-07-21T14:18:59.162031Z",
     "shell.execute_reply": "2024-07-21T14:18:59.160721Z"
    },
    "papermill": {
     "duration": 8.472905,
     "end_time": "2024-07-21T14:18:59.164393",
     "exception": false,
     "start_time": "2024-07-21T14:18:50.691488",
     "status": "completed"
    },
    "tags": []
   },
   "outputs": [
    {
     "name": "stdout",
     "output_type": "stream",
     "text": [
      "roc-auc: 0.961 +/- 0.021\n",
      "acc-score: 0.905 +/- 0.034\n"
     ]
    }
   ],
   "source": [
    "roc_auc_score = cross_val_score(abc, X_train, y_train, scoring='roc_auc', cv=10)\n",
    "acc_score = cross_val_score(abc, X_train, y_train, scoring='accuracy', cv=10)\n",
    "\n",
    "\n",
    "print(f\"roc-auc: {np.mean(roc_auc_score).round(3)} +/- {np.std(roc_auc_score).round(3)}\")\n",
    "print(f\"acc-score: {np.mean(acc_score).round(3)} +/- {np.std(acc_score).round(3)}\")"
   ]
  },
  {
   "cell_type": "code",
   "execution_count": 28,
   "id": "332359f4",
   "metadata": {
    "execution": {
     "iopub.execute_input": "2024-07-21T14:18:59.188275Z",
     "iopub.status.busy": "2024-07-21T14:18:59.187357Z",
     "iopub.status.idle": "2024-07-21T14:18:59.667665Z",
     "shell.execute_reply": "2024-07-21T14:18:59.666545Z"
    },
    "papermill": {
     "duration": 0.494917,
     "end_time": "2024-07-21T14:18:59.670255",
     "exception": false,
     "start_time": "2024-07-21T14:18:59.175338",
     "status": "completed"
    },
    "tags": []
   },
   "outputs": [],
   "source": [
    "adaboost_classifier = abc.fit(X_train, y_train)\n",
    "y_pred = adaboost_classifier.predict(X_test)\n",
    "y_pred_proba = adaboost_classifier.predict_proba(X_test)[:,1]"
   ]
  },
  {
   "cell_type": "code",
   "execution_count": 29,
   "id": "7133eafd",
   "metadata": {
    "execution": {
     "iopub.execute_input": "2024-07-21T14:18:59.694801Z",
     "iopub.status.busy": "2024-07-21T14:18:59.693807Z",
     "iopub.status.idle": "2024-07-21T14:18:59.712311Z",
     "shell.execute_reply": "2024-07-21T14:18:59.710747Z"
    },
    "papermill": {
     "duration": 0.033709,
     "end_time": "2024-07-21T14:18:59.714962",
     "exception": false,
     "start_time": "2024-07-21T14:18:59.681253",
     "status": "completed"
    },
    "tags": []
   },
   "outputs": [
    {
     "name": "stdout",
     "output_type": "stream",
     "text": [
      "              precision    recall  f1-score   support\n",
      "\n",
      "           0       0.90      0.89      0.90       132\n",
      "           1       0.87      0.88      0.87       104\n",
      "\n",
      "    accuracy                           0.89       236\n",
      "   macro avg       0.88      0.88      0.88       236\n",
      "weighted avg       0.89      0.89      0.89       236\n",
      "\n",
      "ROC-AUC:0.955\n"
     ]
    }
   ],
   "source": [
    "from sklearn.metrics import classification_report\n",
    "from sklearn.metrics import roc_auc_score\n",
    "print(classification_report(y_test, y_pred))\n",
    "print(f\"ROC-AUC:{roc_auc_score(y_test, y_pred_proba).round(3)}\")"
   ]
  },
  {
   "cell_type": "markdown",
   "id": "50f44afb",
   "metadata": {
    "papermill": {
     "duration": 0.010654,
     "end_time": "2024-07-21T14:18:59.736566",
     "exception": false,
     "start_time": "2024-07-21T14:18:59.725912",
     "status": "completed"
    },
    "tags": []
   },
   "source": [
    "# Gradient Boosting"
   ]
  },
  {
   "cell_type": "code",
   "execution_count": 30,
   "id": "194fb90d",
   "metadata": {
    "execution": {
     "iopub.execute_input": "2024-07-21T14:18:59.760212Z",
     "iopub.status.busy": "2024-07-21T14:18:59.759793Z",
     "iopub.status.idle": "2024-07-21T14:18:59.764775Z",
     "shell.execute_reply": "2024-07-21T14:18:59.763806Z"
    },
    "papermill": {
     "duration": 0.01939,
     "end_time": "2024-07-21T14:18:59.766934",
     "exception": false,
     "start_time": "2024-07-21T14:18:59.747544",
     "status": "completed"
    },
    "tags": []
   },
   "outputs": [],
   "source": [
    "from sklearn.ensemble import GradientBoostingClassifier"
   ]
  },
  {
   "cell_type": "code",
   "execution_count": 31,
   "id": "354bb81d",
   "metadata": {
    "execution": {
     "iopub.execute_input": "2024-07-21T14:18:59.790726Z",
     "iopub.status.busy": "2024-07-21T14:18:59.789955Z",
     "iopub.status.idle": "2024-07-21T14:18:59.795419Z",
     "shell.execute_reply": "2024-07-21T14:18:59.794159Z"
    },
    "papermill": {
     "duration": 0.019963,
     "end_time": "2024-07-21T14:18:59.797909",
     "exception": false,
     "start_time": "2024-07-21T14:18:59.777946",
     "status": "completed"
    },
    "tags": []
   },
   "outputs": [],
   "source": [
    "gbc = GradientBoostingClassifier(loss='log_loss', learning_rate = 0.1,\n",
    "                                n_estimators=500, min_samples_leaf=2)"
   ]
  },
  {
   "cell_type": "code",
   "execution_count": 32,
   "id": "5b35681c",
   "metadata": {
    "execution": {
     "iopub.execute_input": "2024-07-21T14:18:59.821629Z",
     "iopub.status.busy": "2024-07-21T14:18:59.821236Z",
     "iopub.status.idle": "2024-07-21T14:19:13.539558Z",
     "shell.execute_reply": "2024-07-21T14:19:13.538407Z"
    },
    "papermill": {
     "duration": 13.733267,
     "end_time": "2024-07-21T14:19:13.542236",
     "exception": false,
     "start_time": "2024-07-21T14:18:59.808969",
     "status": "completed"
    },
    "tags": []
   },
   "outputs": [
    {
     "name": "stdout",
     "output_type": "stream",
     "text": [
      "roc-auc: 0.957 +/- 0.025\n",
      "acc-score: 0.9 +/- 0.035\n"
     ]
    }
   ],
   "source": [
    "roc_auc_score = cross_val_score(gbc, X_train, y_train, scoring='roc_auc', cv=10)\n",
    "acc_score = cross_val_score(gbc, X_train, y_train, scoring='accuracy', cv=10)\n",
    "\n",
    "\n",
    "print(f\"roc-auc: {np.mean(roc_auc_score).round(3)} +/- {np.std(roc_auc_score).round(3)}\")\n",
    "print(f\"acc-score: {np.mean(acc_score).round(3)} +/- {np.std(acc_score).round(3)}\")"
   ]
  },
  {
   "cell_type": "code",
   "execution_count": 33,
   "id": "a1acce4a",
   "metadata": {
    "execution": {
     "iopub.execute_input": "2024-07-21T14:19:13.566305Z",
     "iopub.status.busy": "2024-07-21T14:19:13.565907Z",
     "iopub.status.idle": "2024-07-21T14:19:14.314593Z",
     "shell.execute_reply": "2024-07-21T14:19:14.313505Z"
    },
    "papermill": {
     "duration": 0.763812,
     "end_time": "2024-07-21T14:19:14.317290",
     "exception": false,
     "start_time": "2024-07-21T14:19:13.553478",
     "status": "completed"
    },
    "tags": []
   },
   "outputs": [],
   "source": [
    "gb_classifier = gbc.fit(X_train, y_train)\n",
    "y_pred = gb_classifier.predict(X_test)\n",
    "y_pred_proba = gb_classifier.predict_proba(X_test)[:,1]"
   ]
  },
  {
   "cell_type": "code",
   "execution_count": 34,
   "id": "4efeaef6",
   "metadata": {
    "execution": {
     "iopub.execute_input": "2024-07-21T14:19:14.341040Z",
     "iopub.status.busy": "2024-07-21T14:19:14.340656Z",
     "iopub.status.idle": "2024-07-21T14:19:14.357902Z",
     "shell.execute_reply": "2024-07-21T14:19:14.356720Z"
    },
    "papermill": {
     "duration": 0.031915,
     "end_time": "2024-07-21T14:19:14.360260",
     "exception": false,
     "start_time": "2024-07-21T14:19:14.328345",
     "status": "completed"
    },
    "tags": []
   },
   "outputs": [
    {
     "name": "stdout",
     "output_type": "stream",
     "text": [
      "              precision    recall  f1-score   support\n",
      "\n",
      "           0       0.88      0.89      0.89       132\n",
      "           1       0.86      0.85      0.85       104\n",
      "\n",
      "    accuracy                           0.87       236\n",
      "   macro avg       0.87      0.87      0.87       236\n",
      "weighted avg       0.87      0.87      0.87       236\n",
      "\n",
      "ROC-AUC:0.942\n"
     ]
    }
   ],
   "source": [
    "from sklearn.metrics import classification_report\n",
    "from sklearn.metrics import roc_auc_score\n",
    "print(classification_report(y_test, y_pred))\n",
    "print(f\"ROC-AUC:{roc_auc_score(y_test, y_pred_proba).round(3)}\")"
   ]
  },
  {
   "cell_type": "markdown",
   "id": "b99bff56",
   "metadata": {
    "papermill": {
     "duration": 0.011001,
     "end_time": "2024-07-21T14:19:14.382469",
     "exception": false,
     "start_time": "2024-07-21T14:19:14.371468",
     "status": "completed"
    },
    "tags": []
   },
   "source": [
    "# XGBoost"
   ]
  },
  {
   "cell_type": "code",
   "execution_count": 35,
   "id": "f684c5d3",
   "metadata": {
    "execution": {
     "iopub.execute_input": "2024-07-21T14:19:14.406125Z",
     "iopub.status.busy": "2024-07-21T14:19:14.405739Z",
     "iopub.status.idle": "2024-07-21T14:19:14.589060Z",
     "shell.execute_reply": "2024-07-21T14:19:14.587801Z"
    },
    "papermill": {
     "duration": 0.198311,
     "end_time": "2024-07-21T14:19:14.591776",
     "exception": false,
     "start_time": "2024-07-21T14:19:14.393465",
     "status": "completed"
    },
    "tags": []
   },
   "outputs": [],
   "source": [
    "from xgboost import XGBClassifier"
   ]
  },
  {
   "cell_type": "code",
   "execution_count": 36,
   "id": "48be1017",
   "metadata": {
    "execution": {
     "iopub.execute_input": "2024-07-21T14:19:14.616223Z",
     "iopub.status.busy": "2024-07-21T14:19:14.615857Z",
     "iopub.status.idle": "2024-07-21T14:19:14.620853Z",
     "shell.execute_reply": "2024-07-21T14:19:14.619644Z"
    },
    "papermill": {
     "duration": 0.019605,
     "end_time": "2024-07-21T14:19:14.623181",
     "exception": false,
     "start_time": "2024-07-21T14:19:14.603576",
     "status": "completed"
    },
    "tags": []
   },
   "outputs": [],
   "source": [
    "xgbc = XGBClassifier(tree_method='hist')"
   ]
  },
  {
   "cell_type": "code",
   "execution_count": 37,
   "id": "6f6c3e39",
   "metadata": {
    "execution": {
     "iopub.execute_input": "2024-07-21T14:19:14.647173Z",
     "iopub.status.busy": "2024-07-21T14:19:14.646749Z",
     "iopub.status.idle": "2024-07-21T14:19:15.881063Z",
     "shell.execute_reply": "2024-07-21T14:19:15.880049Z"
    },
    "papermill": {
     "duration": 1.248922,
     "end_time": "2024-07-21T14:19:15.883294",
     "exception": false,
     "start_time": "2024-07-21T14:19:14.634372",
     "status": "completed"
    },
    "tags": []
   },
   "outputs": [
    {
     "name": "stdout",
     "output_type": "stream",
     "text": [
      "roc-auc: 0.959 +/- 0.024\n",
      "acc-score: 0.91 +/- 0.043\n"
     ]
    }
   ],
   "source": [
    "roc_auc_score = cross_val_score(xgbc, X_train, y_train, scoring='roc_auc', cv=10)\n",
    "acc_score = cross_val_score(xgbc, X_train, y_train, scoring='accuracy', cv=10)\n",
    "\n",
    "\n",
    "print(f\"roc-auc: {np.mean(roc_auc_score).round(3)} +/- {np.std(roc_auc_score).round(3)}\")\n",
    "print(f\"acc-score: {np.mean(acc_score).round(3)} +/- {np.std(acc_score).round(3)}\")"
   ]
  },
  {
   "cell_type": "code",
   "execution_count": 38,
   "id": "19424783",
   "metadata": {
    "execution": {
     "iopub.execute_input": "2024-07-21T14:19:15.907430Z",
     "iopub.status.busy": "2024-07-21T14:19:15.906601Z",
     "iopub.status.idle": "2024-07-21T14:19:15.971397Z",
     "shell.execute_reply": "2024-07-21T14:19:15.970512Z"
    },
    "papermill": {
     "duration": 0.079594,
     "end_time": "2024-07-21T14:19:15.973913",
     "exception": false,
     "start_time": "2024-07-21T14:19:15.894319",
     "status": "completed"
    },
    "tags": []
   },
   "outputs": [],
   "source": [
    "xgb_classifier = xgbc.fit(X_train, y_train)\n",
    "y_pred = xgb_classifier.predict(X_test)\n",
    "y_pred_proba = xgb_classifier.predict_proba(X_test)[:,1]"
   ]
  },
  {
   "cell_type": "code",
   "execution_count": 39,
   "id": "b9cd8260",
   "metadata": {
    "execution": {
     "iopub.execute_input": "2024-07-21T14:19:15.997889Z",
     "iopub.status.busy": "2024-07-21T14:19:15.997499Z",
     "iopub.status.idle": "2024-07-21T14:19:16.013908Z",
     "shell.execute_reply": "2024-07-21T14:19:16.012943Z"
    },
    "papermill": {
     "duration": 0.031425,
     "end_time": "2024-07-21T14:19:16.016625",
     "exception": false,
     "start_time": "2024-07-21T14:19:15.985200",
     "status": "completed"
    },
    "tags": []
   },
   "outputs": [
    {
     "name": "stdout",
     "output_type": "stream",
     "text": [
      "              precision    recall  f1-score   support\n",
      "\n",
      "           0       0.88      0.87      0.88       132\n",
      "           1       0.84      0.86      0.85       104\n",
      "\n",
      "    accuracy                           0.86       236\n",
      "   macro avg       0.86      0.86      0.86       236\n",
      "weighted avg       0.86      0.86      0.86       236\n",
      "\n",
      "ROC-AUC:0.946\n"
     ]
    }
   ],
   "source": [
    "from sklearn.metrics import classification_report\n",
    "from sklearn.metrics import roc_auc_score\n",
    "print(classification_report(y_test, y_pred))\n",
    "print(f\"ROC-AUC:{roc_auc_score(y_test, y_pred_proba).round(3)}\")"
   ]
  }
 ],
 "metadata": {
  "kaggle": {
   "accelerator": "none",
   "dataSources": [
    {
     "datasetId": 5280683,
     "sourceId": 8784285,
     "sourceType": "datasetVersion"
    }
   ],
   "dockerImageVersionId": 30746,
   "isGpuEnabled": false,
   "isInternetEnabled": false,
   "language": "python",
   "sourceType": "notebook"
  },
  "kernelspec": {
   "display_name": "Python 3",
   "language": "python",
   "name": "python3"
  },
  "language_info": {
   "codemirror_mode": {
    "name": "ipython",
    "version": 3
   },
   "file_extension": ".py",
   "mimetype": "text/x-python",
   "name": "python",
   "nbconvert_exporter": "python",
   "pygments_lexer": "ipython3",
   "version": "3.10.13"
  },
  "papermill": {
   "default_parameters": {},
   "duration": 44.428899,
   "end_time": "2024-07-21T14:19:18.648664",
   "environment_variables": {},
   "exception": null,
   "input_path": "__notebook__.ipynb",
   "output_path": "__notebook__.ipynb",
   "parameters": {},
   "start_time": "2024-07-21T14:18:34.219765",
   "version": "2.5.0"
  }
 },
 "nbformat": 4,
 "nbformat_minor": 5
}
