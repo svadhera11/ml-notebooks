{
 "cells": [
  {
   "cell_type": "code",
   "execution_count": 1,
   "id": "08cc8b2b",
   "metadata": {
    "_cell_guid": "b1076dfc-b9ad-4769-8c92-a6c4dae69d19",
    "_uuid": "8f2839f25d086af736a60e9eeb907d3b93b6e0e5",
    "execution": {
     "iopub.execute_input": "2024-07-22T13:17:42.143747Z",
     "iopub.status.busy": "2024-07-22T13:17:42.142830Z",
     "iopub.status.idle": "2024-07-22T13:17:43.154216Z",
     "shell.execute_reply": "2024-07-22T13:17:43.152933Z"
    },
    "papermill": {
     "duration": 1.024522,
     "end_time": "2024-07-22T13:17:43.157094",
     "exception": false,
     "start_time": "2024-07-22T13:17:42.132572",
     "status": "completed"
    },
    "tags": []
   },
   "outputs": [
    {
     "name": "stdout",
     "output_type": "stream",
     "text": [
      "/kaggle/input/ccdata/CC GENERAL.csv\n"
     ]
    }
   ],
   "source": [
    "# This Python 3 environment comes with many helpful analytics libraries installed\n",
    "# It is defined by the kaggle/python Docker image: https://github.com/kaggle/docker-python\n",
    "# For example, here's several helpful packages to load\n",
    "\n",
    "import numpy as np # linear algebra\n",
    "import pandas as pd # data processing, CSV file I/O (e.g. pd.read_csv)\n",
    "\n",
    "# Input data files are available in the read-only \"../input/\" directory\n",
    "# For example, running this (by clicking run or pressing Shift+Enter) will list all files under the input directory\n",
    "\n",
    "import os\n",
    "for dirname, _, filenames in os.walk('/kaggle/input'):\n",
    "    for filename in filenames:\n",
    "        print(os.path.join(dirname, filename))\n",
    "\n",
    "# You can write up to 20GB to the current directory (/kaggle/working/) that gets preserved as output when you create a version using \"Save & Run All\" \n",
    "# You can also write temporary files to /kaggle/temp/, but they won't be saved outside of the current session"
   ]
  },
  {
   "cell_type": "code",
   "execution_count": 2,
   "id": "3a529882",
   "metadata": {
    "execution": {
     "iopub.execute_input": "2024-07-22T13:17:43.174554Z",
     "iopub.status.busy": "2024-07-22T13:17:43.174047Z",
     "iopub.status.idle": "2024-07-22T13:17:43.245571Z",
     "shell.execute_reply": "2024-07-22T13:17:43.244283Z"
    },
    "papermill": {
     "duration": 0.083456,
     "end_time": "2024-07-22T13:17:43.248435",
     "exception": false,
     "start_time": "2024-07-22T13:17:43.164979",
     "status": "completed"
    },
    "tags": []
   },
   "outputs": [],
   "source": [
    "dataset = pd.read_csv('/kaggle/input/ccdata/CC GENERAL.csv')"
   ]
  },
  {
   "cell_type": "code",
   "execution_count": 3,
   "id": "260fbbed",
   "metadata": {
    "execution": {
     "iopub.execute_input": "2024-07-22T13:17:43.265325Z",
     "iopub.status.busy": "2024-07-22T13:17:43.264878Z",
     "iopub.status.idle": "2024-07-22T13:17:43.282181Z",
     "shell.execute_reply": "2024-07-22T13:17:43.280706Z"
    },
    "papermill": {
     "duration": 0.028891,
     "end_time": "2024-07-22T13:17:43.284991",
     "exception": false,
     "start_time": "2024-07-22T13:17:43.256100",
     "status": "completed"
    },
    "tags": []
   },
   "outputs": [],
   "source": [
    "dataset = dataset.set_index('CUST_ID')"
   ]
  },
  {
   "cell_type": "code",
   "execution_count": 4,
   "id": "834fd3b0",
   "metadata": {
    "execution": {
     "iopub.execute_input": "2024-07-22T13:17:43.302125Z",
     "iopub.status.busy": "2024-07-22T13:17:43.301689Z",
     "iopub.status.idle": "2024-07-22T13:17:43.333586Z",
     "shell.execute_reply": "2024-07-22T13:17:43.332102Z"
    },
    "papermill": {
     "duration": 0.043755,
     "end_time": "2024-07-22T13:17:43.336430",
     "exception": false,
     "start_time": "2024-07-22T13:17:43.292675",
     "status": "completed"
    },
    "tags": []
   },
   "outputs": [
    {
     "data": {
      "text/html": [
       "<div>\n",
       "<style scoped>\n",
       "    .dataframe tbody tr th:only-of-type {\n",
       "        vertical-align: middle;\n",
       "    }\n",
       "\n",
       "    .dataframe tbody tr th {\n",
       "        vertical-align: top;\n",
       "    }\n",
       "\n",
       "    .dataframe thead th {\n",
       "        text-align: right;\n",
       "    }\n",
       "</style>\n",
       "<table border=\"1\" class=\"dataframe\">\n",
       "  <thead>\n",
       "    <tr style=\"text-align: right;\">\n",
       "      <th></th>\n",
       "      <th>BALANCE</th>\n",
       "      <th>BALANCE_FREQUENCY</th>\n",
       "      <th>PURCHASES</th>\n",
       "      <th>ONEOFF_PURCHASES</th>\n",
       "      <th>INSTALLMENTS_PURCHASES</th>\n",
       "      <th>CASH_ADVANCE</th>\n",
       "      <th>PURCHASES_FREQUENCY</th>\n",
       "      <th>ONEOFF_PURCHASES_FREQUENCY</th>\n",
       "      <th>PURCHASES_INSTALLMENTS_FREQUENCY</th>\n",
       "      <th>CASH_ADVANCE_FREQUENCY</th>\n",
       "      <th>CASH_ADVANCE_TRX</th>\n",
       "      <th>PURCHASES_TRX</th>\n",
       "      <th>CREDIT_LIMIT</th>\n",
       "      <th>PAYMENTS</th>\n",
       "      <th>MINIMUM_PAYMENTS</th>\n",
       "      <th>PRC_FULL_PAYMENT</th>\n",
       "      <th>TENURE</th>\n",
       "    </tr>\n",
       "    <tr>\n",
       "      <th>CUST_ID</th>\n",
       "      <th></th>\n",
       "      <th></th>\n",
       "      <th></th>\n",
       "      <th></th>\n",
       "      <th></th>\n",
       "      <th></th>\n",
       "      <th></th>\n",
       "      <th></th>\n",
       "      <th></th>\n",
       "      <th></th>\n",
       "      <th></th>\n",
       "      <th></th>\n",
       "      <th></th>\n",
       "      <th></th>\n",
       "      <th></th>\n",
       "      <th></th>\n",
       "      <th></th>\n",
       "    </tr>\n",
       "  </thead>\n",
       "  <tbody>\n",
       "    <tr>\n",
       "      <th>C10001</th>\n",
       "      <td>40.900749</td>\n",
       "      <td>0.818182</td>\n",
       "      <td>95.40</td>\n",
       "      <td>0.00</td>\n",
       "      <td>95.4</td>\n",
       "      <td>0.000000</td>\n",
       "      <td>0.166667</td>\n",
       "      <td>0.000000</td>\n",
       "      <td>0.083333</td>\n",
       "      <td>0.000000</td>\n",
       "      <td>0</td>\n",
       "      <td>2</td>\n",
       "      <td>1000.0</td>\n",
       "      <td>201.802084</td>\n",
       "      <td>139.509787</td>\n",
       "      <td>0.000000</td>\n",
       "      <td>12</td>\n",
       "    </tr>\n",
       "    <tr>\n",
       "      <th>C10002</th>\n",
       "      <td>3202.467416</td>\n",
       "      <td>0.909091</td>\n",
       "      <td>0.00</td>\n",
       "      <td>0.00</td>\n",
       "      <td>0.0</td>\n",
       "      <td>6442.945483</td>\n",
       "      <td>0.000000</td>\n",
       "      <td>0.000000</td>\n",
       "      <td>0.000000</td>\n",
       "      <td>0.250000</td>\n",
       "      <td>4</td>\n",
       "      <td>0</td>\n",
       "      <td>7000.0</td>\n",
       "      <td>4103.032597</td>\n",
       "      <td>1072.340217</td>\n",
       "      <td>0.222222</td>\n",
       "      <td>12</td>\n",
       "    </tr>\n",
       "    <tr>\n",
       "      <th>C10003</th>\n",
       "      <td>2495.148862</td>\n",
       "      <td>1.000000</td>\n",
       "      <td>773.17</td>\n",
       "      <td>773.17</td>\n",
       "      <td>0.0</td>\n",
       "      <td>0.000000</td>\n",
       "      <td>1.000000</td>\n",
       "      <td>1.000000</td>\n",
       "      <td>0.000000</td>\n",
       "      <td>0.000000</td>\n",
       "      <td>0</td>\n",
       "      <td>12</td>\n",
       "      <td>7500.0</td>\n",
       "      <td>622.066742</td>\n",
       "      <td>627.284787</td>\n",
       "      <td>0.000000</td>\n",
       "      <td>12</td>\n",
       "    </tr>\n",
       "    <tr>\n",
       "      <th>C10004</th>\n",
       "      <td>1666.670542</td>\n",
       "      <td>0.636364</td>\n",
       "      <td>1499.00</td>\n",
       "      <td>1499.00</td>\n",
       "      <td>0.0</td>\n",
       "      <td>205.788017</td>\n",
       "      <td>0.083333</td>\n",
       "      <td>0.083333</td>\n",
       "      <td>0.000000</td>\n",
       "      <td>0.083333</td>\n",
       "      <td>1</td>\n",
       "      <td>1</td>\n",
       "      <td>7500.0</td>\n",
       "      <td>0.000000</td>\n",
       "      <td>NaN</td>\n",
       "      <td>0.000000</td>\n",
       "      <td>12</td>\n",
       "    </tr>\n",
       "    <tr>\n",
       "      <th>C10005</th>\n",
       "      <td>817.714335</td>\n",
       "      <td>1.000000</td>\n",
       "      <td>16.00</td>\n",
       "      <td>16.00</td>\n",
       "      <td>0.0</td>\n",
       "      <td>0.000000</td>\n",
       "      <td>0.083333</td>\n",
       "      <td>0.083333</td>\n",
       "      <td>0.000000</td>\n",
       "      <td>0.000000</td>\n",
       "      <td>0</td>\n",
       "      <td>1</td>\n",
       "      <td>1200.0</td>\n",
       "      <td>678.334763</td>\n",
       "      <td>244.791237</td>\n",
       "      <td>0.000000</td>\n",
       "      <td>12</td>\n",
       "    </tr>\n",
       "  </tbody>\n",
       "</table>\n",
       "</div>"
      ],
      "text/plain": [
       "             BALANCE  BALANCE_FREQUENCY  PURCHASES  ONEOFF_PURCHASES  \\\n",
       "CUST_ID                                                                \n",
       "C10001     40.900749           0.818182      95.40              0.00   \n",
       "C10002   3202.467416           0.909091       0.00              0.00   \n",
       "C10003   2495.148862           1.000000     773.17            773.17   \n",
       "C10004   1666.670542           0.636364    1499.00           1499.00   \n",
       "C10005    817.714335           1.000000      16.00             16.00   \n",
       "\n",
       "         INSTALLMENTS_PURCHASES  CASH_ADVANCE  PURCHASES_FREQUENCY  \\\n",
       "CUST_ID                                                              \n",
       "C10001                     95.4      0.000000             0.166667   \n",
       "C10002                      0.0   6442.945483             0.000000   \n",
       "C10003                      0.0      0.000000             1.000000   \n",
       "C10004                      0.0    205.788017             0.083333   \n",
       "C10005                      0.0      0.000000             0.083333   \n",
       "\n",
       "         ONEOFF_PURCHASES_FREQUENCY  PURCHASES_INSTALLMENTS_FREQUENCY  \\\n",
       "CUST_ID                                                                 \n",
       "C10001                     0.000000                          0.083333   \n",
       "C10002                     0.000000                          0.000000   \n",
       "C10003                     1.000000                          0.000000   \n",
       "C10004                     0.083333                          0.000000   \n",
       "C10005                     0.083333                          0.000000   \n",
       "\n",
       "         CASH_ADVANCE_FREQUENCY  CASH_ADVANCE_TRX  PURCHASES_TRX  \\\n",
       "CUST_ID                                                            \n",
       "C10001                 0.000000                 0              2   \n",
       "C10002                 0.250000                 4              0   \n",
       "C10003                 0.000000                 0             12   \n",
       "C10004                 0.083333                 1              1   \n",
       "C10005                 0.000000                 0              1   \n",
       "\n",
       "         CREDIT_LIMIT     PAYMENTS  MINIMUM_PAYMENTS  PRC_FULL_PAYMENT  TENURE  \n",
       "CUST_ID                                                                         \n",
       "C10001         1000.0   201.802084        139.509787          0.000000      12  \n",
       "C10002         7000.0  4103.032597       1072.340217          0.222222      12  \n",
       "C10003         7500.0   622.066742        627.284787          0.000000      12  \n",
       "C10004         7500.0     0.000000               NaN          0.000000      12  \n",
       "C10005         1200.0   678.334763        244.791237          0.000000      12  "
      ]
     },
     "execution_count": 4,
     "metadata": {},
     "output_type": "execute_result"
    }
   ],
   "source": [
    "dataset.head()"
   ]
  },
  {
   "cell_type": "code",
   "execution_count": 5,
   "id": "583a2677",
   "metadata": {
    "execution": {
     "iopub.execute_input": "2024-07-22T13:17:43.354946Z",
     "iopub.status.busy": "2024-07-22T13:17:43.354512Z",
     "iopub.status.idle": "2024-07-22T13:17:43.381353Z",
     "shell.execute_reply": "2024-07-22T13:17:43.380287Z"
    },
    "papermill": {
     "duration": 0.039553,
     "end_time": "2024-07-22T13:17:43.384138",
     "exception": false,
     "start_time": "2024-07-22T13:17:43.344585",
     "status": "completed"
    },
    "tags": []
   },
   "outputs": [
    {
     "name": "stdout",
     "output_type": "stream",
     "text": [
      "<class 'pandas.core.frame.DataFrame'>\n",
      "Index: 8950 entries, C10001 to C19190\n",
      "Data columns (total 17 columns):\n",
      " #   Column                            Non-Null Count  Dtype  \n",
      "---  ------                            --------------  -----  \n",
      " 0   BALANCE                           8950 non-null   float64\n",
      " 1   BALANCE_FREQUENCY                 8950 non-null   float64\n",
      " 2   PURCHASES                         8950 non-null   float64\n",
      " 3   ONEOFF_PURCHASES                  8950 non-null   float64\n",
      " 4   INSTALLMENTS_PURCHASES            8950 non-null   float64\n",
      " 5   CASH_ADVANCE                      8950 non-null   float64\n",
      " 6   PURCHASES_FREQUENCY               8950 non-null   float64\n",
      " 7   ONEOFF_PURCHASES_FREQUENCY        8950 non-null   float64\n",
      " 8   PURCHASES_INSTALLMENTS_FREQUENCY  8950 non-null   float64\n",
      " 9   CASH_ADVANCE_FREQUENCY            8950 non-null   float64\n",
      " 10  CASH_ADVANCE_TRX                  8950 non-null   int64  \n",
      " 11  PURCHASES_TRX                     8950 non-null   int64  \n",
      " 12  CREDIT_LIMIT                      8949 non-null   float64\n",
      " 13  PAYMENTS                          8950 non-null   float64\n",
      " 14  MINIMUM_PAYMENTS                  8637 non-null   float64\n",
      " 15  PRC_FULL_PAYMENT                  8950 non-null   float64\n",
      " 16  TENURE                            8950 non-null   int64  \n",
      "dtypes: float64(14), int64(3)\n",
      "memory usage: 1.2+ MB\n"
     ]
    }
   ],
   "source": [
    "dataset.info()"
   ]
  },
  {
   "cell_type": "code",
   "execution_count": 6,
   "id": "854d9236",
   "metadata": {
    "execution": {
     "iopub.execute_input": "2024-07-22T13:17:43.402916Z",
     "iopub.status.busy": "2024-07-22T13:17:43.402447Z",
     "iopub.status.idle": "2024-07-22T13:17:43.410966Z",
     "shell.execute_reply": "2024-07-22T13:17:43.409820Z"
    },
    "papermill": {
     "duration": 0.021058,
     "end_time": "2024-07-22T13:17:43.413496",
     "exception": false,
     "start_time": "2024-07-22T13:17:43.392438",
     "status": "completed"
    },
    "tags": []
   },
   "outputs": [
    {
     "data": {
      "text/plain": [
       "(8950, 17)"
      ]
     },
     "execution_count": 6,
     "metadata": {},
     "output_type": "execute_result"
    }
   ],
   "source": [
    "dataset.shape"
   ]
  },
  {
   "cell_type": "code",
   "execution_count": 7,
   "id": "08d38082",
   "metadata": {
    "execution": {
     "iopub.execute_input": "2024-07-22T13:17:43.432124Z",
     "iopub.status.busy": "2024-07-22T13:17:43.431652Z",
     "iopub.status.idle": "2024-07-22T13:17:43.442958Z",
     "shell.execute_reply": "2024-07-22T13:17:43.441650Z"
    },
    "papermill": {
     "duration": 0.023599,
     "end_time": "2024-07-22T13:17:43.445514",
     "exception": false,
     "start_time": "2024-07-22T13:17:43.421915",
     "status": "completed"
    },
    "tags": []
   },
   "outputs": [
    {
     "data": {
      "text/plain": [
       "BALANCE                               0\n",
       "BALANCE_FREQUENCY                     0\n",
       "PURCHASES                             0\n",
       "ONEOFF_PURCHASES                      0\n",
       "INSTALLMENTS_PURCHASES                0\n",
       "CASH_ADVANCE                          0\n",
       "PURCHASES_FREQUENCY                   0\n",
       "ONEOFF_PURCHASES_FREQUENCY            0\n",
       "PURCHASES_INSTALLMENTS_FREQUENCY      0\n",
       "CASH_ADVANCE_FREQUENCY                0\n",
       "CASH_ADVANCE_TRX                      0\n",
       "PURCHASES_TRX                         0\n",
       "CREDIT_LIMIT                          1\n",
       "PAYMENTS                              0\n",
       "MINIMUM_PAYMENTS                    313\n",
       "PRC_FULL_PAYMENT                      0\n",
       "TENURE                                0\n",
       "dtype: int64"
      ]
     },
     "execution_count": 7,
     "metadata": {},
     "output_type": "execute_result"
    }
   ],
   "source": [
    "dataset.isnull().sum()"
   ]
  },
  {
   "cell_type": "code",
   "execution_count": 8,
   "id": "a6c838c3",
   "metadata": {
    "execution": {
     "iopub.execute_input": "2024-07-22T13:17:43.464624Z",
     "iopub.status.busy": "2024-07-22T13:17:43.464204Z",
     "iopub.status.idle": "2024-07-22T13:17:43.469640Z",
     "shell.execute_reply": "2024-07-22T13:17:43.468553Z"
    },
    "papermill": {
     "duration": 0.018307,
     "end_time": "2024-07-22T13:17:43.472556",
     "exception": false,
     "start_time": "2024-07-22T13:17:43.454249",
     "status": "completed"
    },
    "tags": []
   },
   "outputs": [],
   "source": [
    "null_cols = ['CREDIT_LIMIT', 'MINIMUM_PAYMENTS']"
   ]
  },
  {
   "cell_type": "code",
   "execution_count": 9,
   "id": "8f88e20e",
   "metadata": {
    "execution": {
     "iopub.execute_input": "2024-07-22T13:17:43.491655Z",
     "iopub.status.busy": "2024-07-22T13:17:43.490928Z",
     "iopub.status.idle": "2024-07-22T13:17:45.143044Z",
     "shell.execute_reply": "2024-07-22T13:17:45.141837Z"
    },
    "papermill": {
     "duration": 1.665362,
     "end_time": "2024-07-22T13:17:45.146406",
     "exception": false,
     "start_time": "2024-07-22T13:17:43.481044",
     "status": "completed"
    },
    "tags": []
   },
   "outputs": [],
   "source": [
    "from sklearn.impute import SimpleImputer"
   ]
  },
  {
   "cell_type": "code",
   "execution_count": 10,
   "id": "eafd1e99",
   "metadata": {
    "execution": {
     "iopub.execute_input": "2024-07-22T13:17:45.165962Z",
     "iopub.status.busy": "2024-07-22T13:17:45.165012Z",
     "iopub.status.idle": "2024-07-22T13:17:45.179991Z",
     "shell.execute_reply": "2024-07-22T13:17:45.178834Z"
    },
    "papermill": {
     "duration": 0.027415,
     "end_time": "2024-07-22T13:17:45.182681",
     "exception": false,
     "start_time": "2024-07-22T13:17:45.155266",
     "status": "completed"
    },
    "tags": []
   },
   "outputs": [],
   "source": [
    "dataset[null_cols] = SimpleImputer().fit_transform(dataset[null_cols])"
   ]
  },
  {
   "cell_type": "code",
   "execution_count": 11,
   "id": "5c1efc73",
   "metadata": {
    "execution": {
     "iopub.execute_input": "2024-07-22T13:17:45.201860Z",
     "iopub.status.busy": "2024-07-22T13:17:45.200847Z",
     "iopub.status.idle": "2024-07-22T13:17:45.205965Z",
     "shell.execute_reply": "2024-07-22T13:17:45.204938Z"
    },
    "papermill": {
     "duration": 0.017422,
     "end_time": "2024-07-22T13:17:45.208525",
     "exception": false,
     "start_time": "2024-07-22T13:17:45.191103",
     "status": "completed"
    },
    "tags": []
   },
   "outputs": [],
   "source": [
    "from sklearn.preprocessing import StandardScaler"
   ]
  },
  {
   "cell_type": "code",
   "execution_count": 12,
   "id": "016cda92",
   "metadata": {
    "execution": {
     "iopub.execute_input": "2024-07-22T13:17:45.226975Z",
     "iopub.status.busy": "2024-07-22T13:17:45.226556Z",
     "iopub.status.idle": "2024-07-22T13:17:45.247636Z",
     "shell.execute_reply": "2024-07-22T13:17:45.246049Z"
    },
    "papermill": {
     "duration": 0.03355,
     "end_time": "2024-07-22T13:17:45.250469",
     "exception": false,
     "start_time": "2024-07-22T13:17:45.216919",
     "status": "completed"
    },
    "tags": []
   },
   "outputs": [],
   "source": [
    "cols = dataset.columns\n",
    "dataset[cols] = StandardScaler().fit_transform(dataset[cols])"
   ]
  },
  {
   "cell_type": "code",
   "execution_count": 13,
   "id": "db99a4cc",
   "metadata": {
    "execution": {
     "iopub.execute_input": "2024-07-22T13:17:45.269120Z",
     "iopub.status.busy": "2024-07-22T13:17:45.268681Z",
     "iopub.status.idle": "2024-07-22T13:17:45.295814Z",
     "shell.execute_reply": "2024-07-22T13:17:45.294662Z"
    },
    "papermill": {
     "duration": 0.039531,
     "end_time": "2024-07-22T13:17:45.298446",
     "exception": false,
     "start_time": "2024-07-22T13:17:45.258915",
     "status": "completed"
    },
    "tags": []
   },
   "outputs": [
    {
     "data": {
      "text/html": [
       "<div>\n",
       "<style scoped>\n",
       "    .dataframe tbody tr th:only-of-type {\n",
       "        vertical-align: middle;\n",
       "    }\n",
       "\n",
       "    .dataframe tbody tr th {\n",
       "        vertical-align: top;\n",
       "    }\n",
       "\n",
       "    .dataframe thead th {\n",
       "        text-align: right;\n",
       "    }\n",
       "</style>\n",
       "<table border=\"1\" class=\"dataframe\">\n",
       "  <thead>\n",
       "    <tr style=\"text-align: right;\">\n",
       "      <th></th>\n",
       "      <th>BALANCE</th>\n",
       "      <th>BALANCE_FREQUENCY</th>\n",
       "      <th>PURCHASES</th>\n",
       "      <th>ONEOFF_PURCHASES</th>\n",
       "      <th>INSTALLMENTS_PURCHASES</th>\n",
       "      <th>CASH_ADVANCE</th>\n",
       "      <th>PURCHASES_FREQUENCY</th>\n",
       "      <th>ONEOFF_PURCHASES_FREQUENCY</th>\n",
       "      <th>PURCHASES_INSTALLMENTS_FREQUENCY</th>\n",
       "      <th>CASH_ADVANCE_FREQUENCY</th>\n",
       "      <th>CASH_ADVANCE_TRX</th>\n",
       "      <th>PURCHASES_TRX</th>\n",
       "      <th>CREDIT_LIMIT</th>\n",
       "      <th>PAYMENTS</th>\n",
       "      <th>MINIMUM_PAYMENTS</th>\n",
       "      <th>PRC_FULL_PAYMENT</th>\n",
       "      <th>TENURE</th>\n",
       "    </tr>\n",
       "    <tr>\n",
       "      <th>CUST_ID</th>\n",
       "      <th></th>\n",
       "      <th></th>\n",
       "      <th></th>\n",
       "      <th></th>\n",
       "      <th></th>\n",
       "      <th></th>\n",
       "      <th></th>\n",
       "      <th></th>\n",
       "      <th></th>\n",
       "      <th></th>\n",
       "      <th></th>\n",
       "      <th></th>\n",
       "      <th></th>\n",
       "      <th></th>\n",
       "      <th></th>\n",
       "      <th></th>\n",
       "      <th></th>\n",
       "    </tr>\n",
       "  </thead>\n",
       "  <tbody>\n",
       "    <tr>\n",
       "      <th>C10001</th>\n",
       "      <td>-0.731989</td>\n",
       "      <td>-0.249434</td>\n",
       "      <td>-0.424900</td>\n",
       "      <td>-0.356934</td>\n",
       "      <td>-0.349079</td>\n",
       "      <td>-0.466786</td>\n",
       "      <td>-0.806490</td>\n",
       "      <td>-0.678661</td>\n",
       "      <td>-0.707313</td>\n",
       "      <td>-0.675349</td>\n",
       "      <td>-0.476070</td>\n",
       "      <td>-0.511333</td>\n",
       "      <td>-0.960433</td>\n",
       "      <td>-0.528979</td>\n",
       "      <td>-3.109675e-01</td>\n",
       "      <td>-0.525551</td>\n",
       "      <td>0.36068</td>\n",
       "    </tr>\n",
       "    <tr>\n",
       "      <th>C10002</th>\n",
       "      <td>0.786961</td>\n",
       "      <td>0.134325</td>\n",
       "      <td>-0.469552</td>\n",
       "      <td>-0.356934</td>\n",
       "      <td>-0.454576</td>\n",
       "      <td>2.605605</td>\n",
       "      <td>-1.221758</td>\n",
       "      <td>-0.678661</td>\n",
       "      <td>-0.916995</td>\n",
       "      <td>0.573963</td>\n",
       "      <td>0.110074</td>\n",
       "      <td>-0.591796</td>\n",
       "      <td>0.688639</td>\n",
       "      <td>0.818642</td>\n",
       "      <td>8.931021e-02</td>\n",
       "      <td>0.234227</td>\n",
       "      <td>0.36068</td>\n",
       "    </tr>\n",
       "    <tr>\n",
       "      <th>C10003</th>\n",
       "      <td>0.447135</td>\n",
       "      <td>0.518084</td>\n",
       "      <td>-0.107668</td>\n",
       "      <td>0.108889</td>\n",
       "      <td>-0.454576</td>\n",
       "      <td>-0.466786</td>\n",
       "      <td>1.269843</td>\n",
       "      <td>2.673451</td>\n",
       "      <td>-0.916995</td>\n",
       "      <td>-0.675349</td>\n",
       "      <td>-0.476070</td>\n",
       "      <td>-0.109020</td>\n",
       "      <td>0.826062</td>\n",
       "      <td>-0.383805</td>\n",
       "      <td>-1.016632e-01</td>\n",
       "      <td>-0.525551</td>\n",
       "      <td>0.36068</td>\n",
       "    </tr>\n",
       "    <tr>\n",
       "      <th>C10004</th>\n",
       "      <td>0.049099</td>\n",
       "      <td>-1.016953</td>\n",
       "      <td>0.232058</td>\n",
       "      <td>0.546189</td>\n",
       "      <td>-0.454576</td>\n",
       "      <td>-0.368653</td>\n",
       "      <td>-1.014125</td>\n",
       "      <td>-0.399319</td>\n",
       "      <td>-0.916995</td>\n",
       "      <td>-0.258913</td>\n",
       "      <td>-0.329534</td>\n",
       "      <td>-0.551565</td>\n",
       "      <td>0.826062</td>\n",
       "      <td>-0.598688</td>\n",
       "      <td>4.878305e-17</td>\n",
       "      <td>-0.525551</td>\n",
       "      <td>0.36068</td>\n",
       "    </tr>\n",
       "    <tr>\n",
       "      <th>C10005</th>\n",
       "      <td>-0.358775</td>\n",
       "      <td>0.518084</td>\n",
       "      <td>-0.462063</td>\n",
       "      <td>-0.347294</td>\n",
       "      <td>-0.454576</td>\n",
       "      <td>-0.466786</td>\n",
       "      <td>-1.014125</td>\n",
       "      <td>-0.399319</td>\n",
       "      <td>-0.916995</td>\n",
       "      <td>-0.675349</td>\n",
       "      <td>-0.476070</td>\n",
       "      <td>-0.551565</td>\n",
       "      <td>-0.905464</td>\n",
       "      <td>-0.364368</td>\n",
       "      <td>-2.657913e-01</td>\n",
       "      <td>-0.525551</td>\n",
       "      <td>0.36068</td>\n",
       "    </tr>\n",
       "  </tbody>\n",
       "</table>\n",
       "</div>"
      ],
      "text/plain": [
       "          BALANCE  BALANCE_FREQUENCY  PURCHASES  ONEOFF_PURCHASES  \\\n",
       "CUST_ID                                                             \n",
       "C10001  -0.731989          -0.249434  -0.424900         -0.356934   \n",
       "C10002   0.786961           0.134325  -0.469552         -0.356934   \n",
       "C10003   0.447135           0.518084  -0.107668          0.108889   \n",
       "C10004   0.049099          -1.016953   0.232058          0.546189   \n",
       "C10005  -0.358775           0.518084  -0.462063         -0.347294   \n",
       "\n",
       "         INSTALLMENTS_PURCHASES  CASH_ADVANCE  PURCHASES_FREQUENCY  \\\n",
       "CUST_ID                                                              \n",
       "C10001                -0.349079     -0.466786            -0.806490   \n",
       "C10002                -0.454576      2.605605            -1.221758   \n",
       "C10003                -0.454576     -0.466786             1.269843   \n",
       "C10004                -0.454576     -0.368653            -1.014125   \n",
       "C10005                -0.454576     -0.466786            -1.014125   \n",
       "\n",
       "         ONEOFF_PURCHASES_FREQUENCY  PURCHASES_INSTALLMENTS_FREQUENCY  \\\n",
       "CUST_ID                                                                 \n",
       "C10001                    -0.678661                         -0.707313   \n",
       "C10002                    -0.678661                         -0.916995   \n",
       "C10003                     2.673451                         -0.916995   \n",
       "C10004                    -0.399319                         -0.916995   \n",
       "C10005                    -0.399319                         -0.916995   \n",
       "\n",
       "         CASH_ADVANCE_FREQUENCY  CASH_ADVANCE_TRX  PURCHASES_TRX  \\\n",
       "CUST_ID                                                            \n",
       "C10001                -0.675349         -0.476070      -0.511333   \n",
       "C10002                 0.573963          0.110074      -0.591796   \n",
       "C10003                -0.675349         -0.476070      -0.109020   \n",
       "C10004                -0.258913         -0.329534      -0.551565   \n",
       "C10005                -0.675349         -0.476070      -0.551565   \n",
       "\n",
       "         CREDIT_LIMIT  PAYMENTS  MINIMUM_PAYMENTS  PRC_FULL_PAYMENT   TENURE  \n",
       "CUST_ID                                                                       \n",
       "C10001      -0.960433 -0.528979     -3.109675e-01         -0.525551  0.36068  \n",
       "C10002       0.688639  0.818642      8.931021e-02          0.234227  0.36068  \n",
       "C10003       0.826062 -0.383805     -1.016632e-01         -0.525551  0.36068  \n",
       "C10004       0.826062 -0.598688      4.878305e-17         -0.525551  0.36068  \n",
       "C10005      -0.905464 -0.364368     -2.657913e-01         -0.525551  0.36068  "
      ]
     },
     "execution_count": 13,
     "metadata": {},
     "output_type": "execute_result"
    }
   ],
   "source": [
    "dataset.head()"
   ]
  },
  {
   "cell_type": "code",
   "execution_count": 14,
   "id": "aaca2799",
   "metadata": {
    "execution": {
     "iopub.execute_input": "2024-07-22T13:17:45.318612Z",
     "iopub.status.busy": "2024-07-22T13:17:45.318206Z",
     "iopub.status.idle": "2024-07-22T13:17:45.531413Z",
     "shell.execute_reply": "2024-07-22T13:17:45.530259Z"
    },
    "papermill": {
     "duration": 0.226272,
     "end_time": "2024-07-22T13:17:45.534379",
     "exception": false,
     "start_time": "2024-07-22T13:17:45.308107",
     "status": "completed"
    },
    "tags": []
   },
   "outputs": [],
   "source": [
    "from sklearn.cluster import KMeans"
   ]
  },
  {
   "cell_type": "code",
   "execution_count": 15,
   "id": "906fedf9",
   "metadata": {
    "execution": {
     "iopub.execute_input": "2024-07-22T13:17:45.553952Z",
     "iopub.status.busy": "2024-07-22T13:17:45.553526Z",
     "iopub.status.idle": "2024-07-22T13:17:45.558795Z",
     "shell.execute_reply": "2024-07-22T13:17:45.557728Z"
    },
    "papermill": {
     "duration": 0.017945,
     "end_time": "2024-07-22T13:17:45.561370",
     "exception": false,
     "start_time": "2024-07-22T13:17:45.543425",
     "status": "completed"
    },
    "tags": []
   },
   "outputs": [],
   "source": [
    "from matplotlib import pyplot as plt"
   ]
  },
  {
   "cell_type": "code",
   "execution_count": 16,
   "id": "dbd0a730",
   "metadata": {
    "execution": {
     "iopub.execute_input": "2024-07-22T13:17:45.580835Z",
     "iopub.status.busy": "2024-07-22T13:17:45.580327Z",
     "iopub.status.idle": "2024-07-22T13:17:47.216953Z",
     "shell.execute_reply": "2024-07-22T13:17:47.215498Z"
    },
    "papermill": {
     "duration": 1.650088,
     "end_time": "2024-07-22T13:17:47.220237",
     "exception": false,
     "start_time": "2024-07-22T13:17:45.570149",
     "status": "completed"
    },
    "tags": []
   },
   "outputs": [
    {
     "data": {
      "image/png": "[encoded data removed]",
      "text/plain": [
       "<Figure size 640x480 with 1 Axes>"
      ]
     },
     "metadata": {},
     "output_type": "display_data"
    }
   ],
   "source": [
    "wcss = [] #within-cluster-sum-of-squares.\n",
    "for i in range(1,10):\n",
    "    km_cluster_test = KMeans(n_clusters=i,init='k-means++',n_init='auto',max_iter=1000,random_state=42,copy_x=True,\n",
    "                   algorithm='lloyd')\n",
    "    wcss.append([i, km_cluster_test.fit(dataset).inertia_])\n",
    "wcss = np.array(wcss).reshape(-1,2)\n",
    "\n",
    "plt.plot(wcss[:,0], wcss[:,1], marker='o')\n",
    "plt.xlabel(\"K\")\n",
    "plt.ylabel(\"WCSS\")\n",
    "plt.title(\"The Elbow Method\")\n",
    "plt.show()"
   ]
  },
  {
   "cell_type": "code",
   "execution_count": 17,
   "id": "a50a7939",
   "metadata": {
    "execution": {
     "iopub.execute_input": "2024-07-22T13:17:47.242431Z",
     "iopub.status.busy": "2024-07-22T13:17:47.241979Z",
     "iopub.status.idle": "2024-07-22T13:17:47.248135Z",
     "shell.execute_reply": "2024-07-22T13:17:47.246819Z"
    },
    "papermill": {
     "duration": 0.020491,
     "end_time": "2024-07-22T13:17:47.250653",
     "exception": false,
     "start_time": "2024-07-22T13:17:47.230162",
     "status": "completed"
    },
    "tags": []
   },
   "outputs": [],
   "source": [
    "km_cluster = KMeans(n_clusters=4,init='k-means++',n_init='auto',max_iter=1000,random_state=42,copy_x=True,\n",
    "                   algorithm='lloyd')"
   ]
  },
  {
   "cell_type": "code",
   "execution_count": 18,
   "id": "7e9c9634",
   "metadata": {
    "execution": {
     "iopub.execute_input": "2024-07-22T13:17:47.271425Z",
     "iopub.status.busy": "2024-07-22T13:17:47.270974Z",
     "iopub.status.idle": "2024-07-22T13:17:47.430120Z",
     "shell.execute_reply": "2024-07-22T13:17:47.428950Z"
    },
    "papermill": {
     "duration": 0.172705,
     "end_time": "2024-07-22T13:17:47.432885",
     "exception": false,
     "start_time": "2024-07-22T13:17:47.260180",
     "status": "completed"
    },
    "tags": []
   },
   "outputs": [],
   "source": [
    "cust_types = km_cluster.fit_predict(dataset)"
   ]
  },
  {
   "cell_type": "code",
   "execution_count": 19,
   "id": "bc56e5c8",
   "metadata": {
    "execution": {
     "iopub.execute_input": "2024-07-22T13:17:47.455270Z",
     "iopub.status.busy": "2024-07-22T13:17:47.454897Z",
     "iopub.status.idle": "2024-07-22T13:17:47.460100Z",
     "shell.execute_reply": "2024-07-22T13:17:47.458857Z"
    },
    "papermill": {
     "duration": 0.018419,
     "end_time": "2024-07-22T13:17:47.462599",
     "exception": false,
     "start_time": "2024-07-22T13:17:47.444180",
     "status": "completed"
    },
    "tags": []
   },
   "outputs": [],
   "source": [
    "from sklearn.decomposition import PCA"
   ]
  },
  {
   "cell_type": "code",
   "execution_count": 20,
   "id": "e895afe4",
   "metadata": {
    "execution": {
     "iopub.execute_input": "2024-07-22T13:17:47.483319Z",
     "iopub.status.busy": "2024-07-22T13:17:47.482540Z",
     "iopub.status.idle": "2024-07-22T13:17:47.537065Z",
     "shell.execute_reply": "2024-07-22T13:17:47.535414Z"
    },
    "papermill": {
     "duration": 0.069545,
     "end_time": "2024-07-22T13:17:47.541470",
     "exception": false,
     "start_time": "2024-07-22T13:17:47.471925",
     "status": "completed"
    },
    "tags": []
   },
   "outputs": [],
   "source": [
    "pca_components = PCA(n_components=2,copy=True).fit_transform(dataset)"
   ]
  },
  {
   "cell_type": "code",
   "execution_count": 21,
   "id": "b4b23aca",
   "metadata": {
    "execution": {
     "iopub.execute_input": "2024-07-22T13:17:47.607693Z",
     "iopub.status.busy": "2024-07-22T13:17:47.606992Z",
     "iopub.status.idle": "2024-07-22T13:17:48.115583Z",
     "shell.execute_reply": "2024-07-22T13:17:48.114325Z"
    },
    "papermill": {
     "duration": 0.551214,
     "end_time": "2024-07-22T13:17:48.118293",
     "exception": false,
     "start_time": "2024-07-22T13:17:47.567079",
     "status": "completed"
    },
    "tags": []
   },
   "outputs": [
    {
     "data": {
      "image/png": "[encoded data removed]",
      "text/plain": [
       "<Figure size 640x480 with 1 Axes>"
      ]
     },
     "metadata": {},
     "output_type": "display_data"
    }
   ],
   "source": [
    "plt.scatter(pca_components[:,0], pca_components[:,1], c=cust_types, cmap='Dark2')\n",
    "plt.xlabel('PCA Component 1')\n",
    "plt.ylabel('PCA Component 2')\n",
    "plt.title('Clustering of Credit Card Customers')\n",
    "plt.show()"
   ]
  }
 ],
 "metadata": {
  "kaggle": {
   "accelerator": "none",
   "dataSources": [
    {
     "datasetId": 14701,
     "sourceId": 19663,
     "sourceType": "datasetVersion"
    }
   ],
   "dockerImageVersionId": 30746,
   "isGpuEnabled": false,
   "isInternetEnabled": false,
   "language": "python",
   "sourceType": "notebook"
  },
  "kernelspec": {
   "display_name": "Python 3",
   "language": "python",
   "name": "python3"
  },
  "language_info": {
   "codemirror_mode": {
    "name": "ipython",
    "version": 3
   },
   "file_extension": ".py",
   "mimetype": "text/x-python",
   "name": "python",
   "nbconvert_exporter": "python",
   "pygments_lexer": "ipython3",
   "version": "3.10.13"
  },
  "papermill": {
   "default_parameters": {},
   "duration": 9.88448,
   "end_time": "2024-07-22T13:17:48.851007",
   "environment_variables": {},
   "exception": null,
   "input_path": "__notebook__.ipynb",
   "output_path": "__notebook__.ipynb",
   "parameters": {},
   "start_time": "2024-07-22T13:17:38.966527",
   "version": "2.5.0"
  }
 },
 "nbformat": 4,
 "nbformat_minor": 5
}
