{
 "cells": [
  {
   "cell_type": "markdown",
   "id": "bf57f887",
   "metadata": {
    "papermill": {
     "duration": 0.00618,
     "end_time": "2024-07-14T14:19:15.016404",
     "exception": false,
     "start_time": "2024-07-14T14:19:15.010224",
     "status": "completed"
    },
    "tags": []
   },
   "source": [
    "# Iris Dataset Classification Using Logistic Regression"
   ]
  },
  {
   "cell_type": "code",
   "execution_count": 1,
   "id": "323b8494",
   "metadata": {
    "_cell_guid": "b1076dfc-b9ad-4769-8c92-a6c4dae69d19",
    "_uuid": "8f2839f25d086af736a60e9eeb907d3b93b6e0e5",
    "execution": {
     "iopub.execute_input": "2024-07-14T14:19:15.030252Z",
     "iopub.status.busy": "2024-07-14T14:19:15.029765Z",
     "iopub.status.idle": "2024-07-14T14:19:17.501109Z",
     "shell.execute_reply": "2024-07-14T14:19:17.499619Z"
    },
    "papermill": {
     "duration": 2.481591,
     "end_time": "2024-07-14T14:19:17.503861",
     "exception": false,
     "start_time": "2024-07-14T14:19:15.022270",
     "status": "completed"
    },
    "tags": []
   },
   "outputs": [
    {
     "name": "stdout",
     "output_type": "stream",
     "text": [
      "/kaggle/input/iris-flower-dataset/IRIS.csv\n"
     ]
    }
   ],
   "source": [
    "# This Python 3 environment comes with many helpful analytics libraries installed\n",
    "# It is defined by the kaggle/python Docker image: https://github.com/kaggle/docker-python\n",
    "# For example, here's several helpful packages to load\n",
    "\n",
    "import numpy as np # linear algebra\n",
    "import pandas as pd # data processing, CSV file I/O (e.g. pd.read_csv)\n",
    "import matplotlib.pyplot as plt\n",
    "import seaborn as sns\n",
    "# Input data files are available in the read-only \"../input/\" directory\n",
    "# For example, running this (by clicking run or pressing Shift+Enter) will list all files under the input directory\n",
    "\n",
    "import os\n",
    "for dirname, _, filenames in os.walk('/kaggle/input'):\n",
    "    for filename in filenames:\n",
    "        print(os.path.join(dirname, filename))\n",
    "\n",
    "# You can write up to 20GB to the current directory (/kaggle/working/) that gets preserved as output when you create a version using \"Save & Run All\" \n",
    "# You can also write temporary files to /kaggle/temp/, but they won't be saved outside of the current session"
   ]
  },
  {
   "cell_type": "code",
   "execution_count": 2,
   "id": "0edec8be",
   "metadata": {
    "execution": {
     "iopub.execute_input": "2024-07-14T14:19:17.517039Z",
     "iopub.status.busy": "2024-07-14T14:19:17.516470Z",
     "iopub.status.idle": "2024-07-14T14:19:17.537420Z",
     "shell.execute_reply": "2024-07-14T14:19:17.536009Z"
    },
    "papermill": {
     "duration": 0.031192,
     "end_time": "2024-07-14T14:19:17.540656",
     "exception": false,
     "start_time": "2024-07-14T14:19:17.509464",
     "status": "completed"
    },
    "tags": []
   },
   "outputs": [],
   "source": [
    "iris_dataset = pd.read_csv('/kaggle/input/iris-flower-dataset/IRIS.csv')"
   ]
  },
  {
   "cell_type": "markdown",
   "id": "762d2038",
   "metadata": {
    "papermill": {
     "duration": 0.00501,
     "end_time": "2024-07-14T14:19:17.551387",
     "exception": false,
     "start_time": "2024-07-14T14:19:17.546377",
     "status": "completed"
    },
    "tags": []
   },
   "source": [
    "## Looking at the Data"
   ]
  },
  {
   "cell_type": "code",
   "execution_count": 3,
   "id": "e717f525",
   "metadata": {
    "execution": {
     "iopub.execute_input": "2024-07-14T14:19:17.564020Z",
     "iopub.status.busy": "2024-07-14T14:19:17.563547Z",
     "iopub.status.idle": "2024-07-14T14:19:17.594961Z",
     "shell.execute_reply": "2024-07-14T14:19:17.593553Z"
    },
    "papermill": {
     "duration": 0.041427,
     "end_time": "2024-07-14T14:19:17.598080",
     "exception": false,
     "start_time": "2024-07-14T14:19:17.556653",
     "status": "completed"
    },
    "tags": []
   },
   "outputs": [
    {
     "data": {
      "text/html": [
       "<div>\n",
       "<style scoped>\n",
       "    .dataframe tbody tr th:only-of-type {\n",
       "        vertical-align: middle;\n",
       "    }\n",
       "\n",
       "    .dataframe tbody tr th {\n",
       "        vertical-align: top;\n",
       "    }\n",
       "\n",
       "    .dataframe thead th {\n",
       "        text-align: right;\n",
       "    }\n",
       "</style>\n",
       "<table border=\"1\" class=\"dataframe\">\n",
       "  <thead>\n",
       "    <tr style=\"text-align: right;\">\n",
       "      <th></th>\n",
       "      <th>sepal_length</th>\n",
       "      <th>sepal_width</th>\n",
       "      <th>petal_length</th>\n",
       "      <th>petal_width</th>\n",
       "      <th>species</th>\n",
       "    </tr>\n",
       "  </thead>\n",
       "  <tbody>\n",
       "    <tr>\n",
       "      <th>0</th>\n",
       "      <td>5.1</td>\n",
       "      <td>3.5</td>\n",
       "      <td>1.4</td>\n",
       "      <td>0.2</td>\n",
       "      <td>Iris-setosa</td>\n",
       "    </tr>\n",
       "    <tr>\n",
       "      <th>1</th>\n",
       "      <td>4.9</td>\n",
       "      <td>3.0</td>\n",
       "      <td>1.4</td>\n",
       "      <td>0.2</td>\n",
       "      <td>Iris-setosa</td>\n",
       "    </tr>\n",
       "    <tr>\n",
       "      <th>2</th>\n",
       "      <td>4.7</td>\n",
       "      <td>3.2</td>\n",
       "      <td>1.3</td>\n",
       "      <td>0.2</td>\n",
       "      <td>Iris-setosa</td>\n",
       "    </tr>\n",
       "    <tr>\n",
       "      <th>3</th>\n",
       "      <td>4.6</td>\n",
       "      <td>3.1</td>\n",
       "      <td>1.5</td>\n",
       "      <td>0.2</td>\n",
       "      <td>Iris-setosa</td>\n",
       "    </tr>\n",
       "    <tr>\n",
       "      <th>4</th>\n",
       "      <td>5.0</td>\n",
       "      <td>3.6</td>\n",
       "      <td>1.4</td>\n",
       "      <td>0.2</td>\n",
       "      <td>Iris-setosa</td>\n",
       "    </tr>\n",
       "  </tbody>\n",
       "</table>\n",
       "</div>"
      ],
      "text/plain": [
       "   sepal_length  sepal_width  petal_length  petal_width      species\n",
       "0           5.1          3.5           1.4          0.2  Iris-setosa\n",
       "1           4.9          3.0           1.4          0.2  Iris-setosa\n",
       "2           4.7          3.2           1.3          0.2  Iris-setosa\n",
       "3           4.6          3.1           1.5          0.2  Iris-setosa\n",
       "4           5.0          3.6           1.4          0.2  Iris-setosa"
      ]
     },
     "execution_count": 3,
     "metadata": {},
     "output_type": "execute_result"
    }
   ],
   "source": [
    "iris_dataset.head()"
   ]
  },
  {
   "cell_type": "code",
   "execution_count": 4,
   "id": "c4727f46",
   "metadata": {
    "execution": {
     "iopub.execute_input": "2024-07-14T14:19:17.612232Z",
     "iopub.status.busy": "2024-07-14T14:19:17.611799Z",
     "iopub.status.idle": "2024-07-14T14:19:17.643535Z",
     "shell.execute_reply": "2024-07-14T14:19:17.642071Z"
    },
    "papermill": {
     "duration": 0.042183,
     "end_time": "2024-07-14T14:19:17.646287",
     "exception": false,
     "start_time": "2024-07-14T14:19:17.604104",
     "status": "completed"
    },
    "tags": []
   },
   "outputs": [
    {
     "data": {
      "text/html": [
       "<div>\n",
       "<style scoped>\n",
       "    .dataframe tbody tr th:only-of-type {\n",
       "        vertical-align: middle;\n",
       "    }\n",
       "\n",
       "    .dataframe tbody tr th {\n",
       "        vertical-align: top;\n",
       "    }\n",
       "\n",
       "    .dataframe thead th {\n",
       "        text-align: right;\n",
       "    }\n",
       "</style>\n",
       "<table border=\"1\" class=\"dataframe\">\n",
       "  <thead>\n",
       "    <tr style=\"text-align: right;\">\n",
       "      <th></th>\n",
       "      <th>sepal_length</th>\n",
       "      <th>sepal_width</th>\n",
       "      <th>petal_length</th>\n",
       "      <th>petal_width</th>\n",
       "    </tr>\n",
       "  </thead>\n",
       "  <tbody>\n",
       "    <tr>\n",
       "      <th>count</th>\n",
       "      <td>150.000000</td>\n",
       "      <td>150.000000</td>\n",
       "      <td>150.000000</td>\n",
       "      <td>150.000000</td>\n",
       "    </tr>\n",
       "    <tr>\n",
       "      <th>mean</th>\n",
       "      <td>5.843333</td>\n",
       "      <td>3.054000</td>\n",
       "      <td>3.758667</td>\n",
       "      <td>1.198667</td>\n",
       "    </tr>\n",
       "    <tr>\n",
       "      <th>std</th>\n",
       "      <td>0.828066</td>\n",
       "      <td>0.433594</td>\n",
       "      <td>1.764420</td>\n",
       "      <td>0.763161</td>\n",
       "    </tr>\n",
       "    <tr>\n",
       "      <th>min</th>\n",
       "      <td>4.300000</td>\n",
       "      <td>2.000000</td>\n",
       "      <td>1.000000</td>\n",
       "      <td>0.100000</td>\n",
       "    </tr>\n",
       "    <tr>\n",
       "      <th>25%</th>\n",
       "      <td>5.100000</td>\n",
       "      <td>2.800000</td>\n",
       "      <td>1.600000</td>\n",
       "      <td>0.300000</td>\n",
       "    </tr>\n",
       "    <tr>\n",
       "      <th>50%</th>\n",
       "      <td>5.800000</td>\n",
       "      <td>3.000000</td>\n",
       "      <td>4.350000</td>\n",
       "      <td>1.300000</td>\n",
       "    </tr>\n",
       "    <tr>\n",
       "      <th>75%</th>\n",
       "      <td>6.400000</td>\n",
       "      <td>3.300000</td>\n",
       "      <td>5.100000</td>\n",
       "      <td>1.800000</td>\n",
       "    </tr>\n",
       "    <tr>\n",
       "      <th>max</th>\n",
       "      <td>7.900000</td>\n",
       "      <td>4.400000</td>\n",
       "      <td>6.900000</td>\n",
       "      <td>2.500000</td>\n",
       "    </tr>\n",
       "  </tbody>\n",
       "</table>\n",
       "</div>"
      ],
      "text/plain": [
       "       sepal_length  sepal_width  petal_length  petal_width\n",
       "count    150.000000   150.000000    150.000000   150.000000\n",
       "mean       5.843333     3.054000      3.758667     1.198667\n",
       "std        0.828066     0.433594      1.764420     0.763161\n",
       "min        4.300000     2.000000      1.000000     0.100000\n",
       "25%        5.100000     2.800000      1.600000     0.300000\n",
       "50%        5.800000     3.000000      4.350000     1.300000\n",
       "75%        6.400000     3.300000      5.100000     1.800000\n",
       "max        7.900000     4.400000      6.900000     2.500000"
      ]
     },
     "execution_count": 4,
     "metadata": {},
     "output_type": "execute_result"
    }
   ],
   "source": [
    "iris_dataset.describe()"
   ]
  },
  {
   "cell_type": "code",
   "execution_count": 5,
   "id": "c49dc14a",
   "metadata": {
    "execution": {
     "iopub.execute_input": "2024-07-14T14:19:17.660501Z",
     "iopub.status.busy": "2024-07-14T14:19:17.660015Z",
     "iopub.status.idle": "2024-07-14T14:19:17.684755Z",
     "shell.execute_reply": "2024-07-14T14:19:17.683573Z"
    },
    "papermill": {
     "duration": 0.035153,
     "end_time": "2024-07-14T14:19:17.687668",
     "exception": false,
     "start_time": "2024-07-14T14:19:17.652515",
     "status": "completed"
    },
    "tags": []
   },
   "outputs": [
    {
     "name": "stdout",
     "output_type": "stream",
     "text": [
      "<class 'pandas.core.frame.DataFrame'>\n",
      "RangeIndex: 150 entries, 0 to 149\n",
      "Data columns (total 5 columns):\n",
      " #   Column        Non-Null Count  Dtype  \n",
      "---  ------        --------------  -----  \n",
      " 0   sepal_length  150 non-null    float64\n",
      " 1   sepal_width   150 non-null    float64\n",
      " 2   petal_length  150 non-null    float64\n",
      " 3   petal_width   150 non-null    float64\n",
      " 4   species       150 non-null    object \n",
      "dtypes: float64(4), object(1)\n",
      "memory usage: 6.0+ KB\n"
     ]
    }
   ],
   "source": [
    "iris_dataset.info()"
   ]
  },
  {
   "cell_type": "code",
   "execution_count": 6,
   "id": "b6ef952c",
   "metadata": {
    "execution": {
     "iopub.execute_input": "2024-07-14T14:19:17.701947Z",
     "iopub.status.busy": "2024-07-14T14:19:17.701576Z",
     "iopub.status.idle": "2024-07-14T14:19:17.729474Z",
     "shell.execute_reply": "2024-07-14T14:19:17.728200Z"
    },
    "papermill": {
     "duration": 0.038318,
     "end_time": "2024-07-14T14:19:17.732227",
     "exception": false,
     "start_time": "2024-07-14T14:19:17.693909",
     "status": "completed"
    },
    "tags": []
   },
   "outputs": [
    {
     "data": {
      "text/html": [
       "<div>\n",
       "<style scoped>\n",
       "    .dataframe tbody tr th:only-of-type {\n",
       "        vertical-align: middle;\n",
       "    }\n",
       "\n",
       "    .dataframe tbody tr th {\n",
       "        vertical-align: top;\n",
       "    }\n",
       "\n",
       "    .dataframe thead tr th {\n",
       "        text-align: left;\n",
       "    }\n",
       "\n",
       "    .dataframe thead tr:last-of-type th {\n",
       "        text-align: right;\n",
       "    }\n",
       "</style>\n",
       "<table border=\"1\" class=\"dataframe\">\n",
       "  <thead>\n",
       "    <tr>\n",
       "      <th></th>\n",
       "      <th colspan=\"2\" halign=\"left\">sepal_length</th>\n",
       "      <th colspan=\"2\" halign=\"left\">sepal_width</th>\n",
       "      <th colspan=\"2\" halign=\"left\">petal_length</th>\n",
       "      <th colspan=\"2\" halign=\"left\">petal_width</th>\n",
       "    </tr>\n",
       "    <tr>\n",
       "      <th></th>\n",
       "      <th>mean</th>\n",
       "      <th>std</th>\n",
       "      <th>mean</th>\n",
       "      <th>std</th>\n",
       "      <th>mean</th>\n",
       "      <th>std</th>\n",
       "      <th>mean</th>\n",
       "      <th>std</th>\n",
       "    </tr>\n",
       "    <tr>\n",
       "      <th>species</th>\n",
       "      <th></th>\n",
       "      <th></th>\n",
       "      <th></th>\n",
       "      <th></th>\n",
       "      <th></th>\n",
       "      <th></th>\n",
       "      <th></th>\n",
       "      <th></th>\n",
       "    </tr>\n",
       "  </thead>\n",
       "  <tbody>\n",
       "    <tr>\n",
       "      <th>Iris-setosa</th>\n",
       "      <td>5.006</td>\n",
       "      <td>0.352490</td>\n",
       "      <td>3.418</td>\n",
       "      <td>0.381024</td>\n",
       "      <td>1.464</td>\n",
       "      <td>0.173511</td>\n",
       "      <td>0.244</td>\n",
       "      <td>0.107210</td>\n",
       "    </tr>\n",
       "    <tr>\n",
       "      <th>Iris-versicolor</th>\n",
       "      <td>5.936</td>\n",
       "      <td>0.516171</td>\n",
       "      <td>2.770</td>\n",
       "      <td>0.313798</td>\n",
       "      <td>4.260</td>\n",
       "      <td>0.469911</td>\n",
       "      <td>1.326</td>\n",
       "      <td>0.197753</td>\n",
       "    </tr>\n",
       "    <tr>\n",
       "      <th>Iris-virginica</th>\n",
       "      <td>6.588</td>\n",
       "      <td>0.635880</td>\n",
       "      <td>2.974</td>\n",
       "      <td>0.322497</td>\n",
       "      <td>5.552</td>\n",
       "      <td>0.551895</td>\n",
       "      <td>2.026</td>\n",
       "      <td>0.274650</td>\n",
       "    </tr>\n",
       "  </tbody>\n",
       "</table>\n",
       "</div>"
      ],
      "text/plain": [
       "                sepal_length           sepal_width           petal_length  \\\n",
       "                        mean       std        mean       std         mean   \n",
       "species                                                                     \n",
       "Iris-setosa            5.006  0.352490       3.418  0.381024        1.464   \n",
       "Iris-versicolor        5.936  0.516171       2.770  0.313798        4.260   \n",
       "Iris-virginica         6.588  0.635880       2.974  0.322497        5.552   \n",
       "\n",
       "                          petal_width            \n",
       "                      std        mean       std  \n",
       "species                                          \n",
       "Iris-setosa      0.173511       0.244  0.107210  \n",
       "Iris-versicolor  0.469911       1.326  0.197753  \n",
       "Iris-virginica   0.551895       2.026  0.274650  "
      ]
     },
     "execution_count": 6,
     "metadata": {},
     "output_type": "execute_result"
    }
   ],
   "source": [
    "iris_dataset.groupby('species').agg(['mean', 'std'])"
   ]
  },
  {
   "cell_type": "markdown",
   "id": "920d0972",
   "metadata": {
    "papermill": {
     "duration": 0.00612,
     "end_time": "2024-07-14T14:19:17.745207",
     "exception": false,
     "start_time": "2024-07-14T14:19:17.739087",
     "status": "completed"
    },
    "tags": []
   },
   "source": [
    "## Performing Multi-Class Logistic Regression"
   ]
  },
  {
   "cell_type": "code",
   "execution_count": 7,
   "id": "8aa08a4e",
   "metadata": {
    "execution": {
     "iopub.execute_input": "2024-07-14T14:19:17.760074Z",
     "iopub.status.busy": "2024-07-14T14:19:17.759214Z",
     "iopub.status.idle": "2024-07-14T14:19:18.282504Z",
     "shell.execute_reply": "2024-07-14T14:19:18.281199Z"
    },
    "papermill": {
     "duration": 0.533794,
     "end_time": "2024-07-14T14:19:18.285428",
     "exception": false,
     "start_time": "2024-07-14T14:19:17.751634",
     "status": "completed"
    },
    "tags": []
   },
   "outputs": [],
   "source": [
    "from sklearn.preprocessing import StandardScaler\n",
    "from sklearn.pipeline import Pipeline\n",
    "from sklearn.linear_model import LogisticRegression\n",
    "from sklearn.model_selection import train_test_split\n",
    "scaler = StandardScaler()\n",
    "logistic_regression = LogisticRegression(multi_class='multinomial',\n",
    "                                        solver='saga',\n",
    "                                        penalty='l1', max_iter = 1000)\n",
    "pipe = Pipeline(steps = [(\"scaler\", scaler), (\"logistic_regression\", logistic_regression)])\n",
    "X_train, X_test, y_train, y_test = train_test_split(iris_dataset[['sepal_length', 'sepal_width', 'petal_length', 'petal_width']],\n",
    "                                                    iris_dataset['species'], test_size = 0.25, random_state=42)\n",
    "predictor = pipe.fit(X_train, y_train)\n",
    "y_pred = predictor.predict(X_test)\n",
    "y_pred_prob = predictor.predict_proba(X_test)"
   ]
  },
  {
   "cell_type": "markdown",
   "id": "e49758e9",
   "metadata": {
    "papermill": {
     "duration": 0.006008,
     "end_time": "2024-07-14T14:19:18.297875",
     "exception": false,
     "start_time": "2024-07-14T14:19:18.291867",
     "status": "completed"
    },
    "tags": []
   },
   "source": [
    "## Analysing the Model: Precision, Recall, F1 Score"
   ]
  },
  {
   "cell_type": "code",
   "execution_count": 8,
   "id": "6ba63928",
   "metadata": {
    "execution": {
     "iopub.execute_input": "2024-07-14T14:19:18.312730Z",
     "iopub.status.busy": "2024-07-14T14:19:18.312211Z",
     "iopub.status.idle": "2024-07-14T14:19:18.710142Z",
     "shell.execute_reply": "2024-07-14T14:19:18.708534Z"
    },
    "papermill": {
     "duration": 0.408997,
     "end_time": "2024-07-14T14:19:18.713202",
     "exception": false,
     "start_time": "2024-07-14T14:19:18.304205",
     "status": "completed"
    },
    "tags": []
   },
   "outputs": [
    {
     "data": {
      "image/png": "[encoded data removed]",
      "text/plain": [
       "<Figure size 640x480 with 2 Axes>"
      ]
     },
     "metadata": {},
     "output_type": "display_data"
    }
   ],
   "source": [
    "from sklearn.metrics import confusion_matrix, ConfusionMatrixDisplay\n",
    "ConfusionMatrixDisplay(confusion_matrix(y_test, y_pred, \n",
    "                                        labels = iris_dataset['species'].unique()),\n",
    "                       display_labels = iris_dataset['species'].unique()).plot(); # confusion matrix"
   ]
  },
  {
   "cell_type": "code",
   "execution_count": 9,
   "id": "d57c1540",
   "metadata": {
    "execution": {
     "iopub.execute_input": "2024-07-14T14:19:18.728835Z",
     "iopub.status.busy": "2024-07-14T14:19:18.728414Z",
     "iopub.status.idle": "2024-07-14T14:19:18.746505Z",
     "shell.execute_reply": "2024-07-14T14:19:18.744908Z"
    },
    "papermill": {
     "duration": 0.029501,
     "end_time": "2024-07-14T14:19:18.749572",
     "exception": false,
     "start_time": "2024-07-14T14:19:18.720071",
     "status": "completed"
    },
    "tags": []
   },
   "outputs": [
    {
     "name": "stdout",
     "output_type": "stream",
     "text": [
      "                 precision    recall  f1-score   support\n",
      "\n",
      "Iris-versicolor       1.00      1.00      1.00        11\n",
      "    Iris-setosa       1.00      1.00      1.00        15\n",
      " Iris-virginica       1.00      1.00      1.00        12\n",
      "\n",
      "       accuracy                           1.00        38\n",
      "      macro avg       1.00      1.00      1.00        38\n",
      "   weighted avg       1.00      1.00      1.00        38\n",
      "\n"
     ]
    }
   ],
   "source": [
    "from sklearn.metrics import classification_report\n",
    "print(classification_report(y_test, \n",
    "                     y_pred,\n",
    "                     labels = ['Iris-versicolor', 'Iris-setosa', 'Iris-virginica'],\n",
    "                     target_names = ['Iris-versicolor', 'Iris-setosa', 'Iris-virginica']))"
   ]
  },
  {
   "cell_type": "code",
   "execution_count": 10,
   "id": "26be92de",
   "metadata": {
    "execution": {
     "iopub.execute_input": "2024-07-14T14:19:18.766205Z",
     "iopub.status.busy": "2024-07-14T14:19:18.765109Z",
     "iopub.status.idle": "2024-07-14T14:19:18.784082Z",
     "shell.execute_reply": "2024-07-14T14:19:18.782771Z"
    },
    "papermill": {
     "duration": 0.030147,
     "end_time": "2024-07-14T14:19:18.786801",
     "exception": false,
     "start_time": "2024-07-14T14:19:18.756654",
     "status": "completed"
    },
    "tags": []
   },
   "outputs": [
    {
     "data": {
      "text/plain": [
       "1.0"
      ]
     },
     "execution_count": 10,
     "metadata": {},
     "output_type": "execute_result"
    }
   ],
   "source": [
    "from sklearn.metrics import roc_auc_score\n",
    "# the AUC-ROC, another metric that measures the overall performance of a classifier.\n",
    "roc_auc_score(y_test, predictor.predict_proba(X_test),\n",
    "             average='macro', multi_class='ovr')"
   ]
  }
 ],
 "metadata": {
  "kaggle": {
   "accelerator": "none",
   "dataSources": [
    {
     "datasetId": 17860,
     "sourceId": 23404,
     "sourceType": "datasetVersion"
    }
   ],
   "dockerImageVersionId": 30746,
   "isGpuEnabled": false,
   "isInternetEnabled": false,
   "language": "python",
   "sourceType": "notebook"
  },
  "kernelspec": {
   "display_name": "Python 3",
   "language": "python",
   "name": "python3"
  },
  "language_info": {
   "codemirror_mode": {
    "name": "ipython",
    "version": 3
   },
   "file_extension": ".py",
   "mimetype": "text/x-python",
   "name": "python",
   "nbconvert_exporter": "python",
   "pygments_lexer": "ipython3",
   "version": "3.10.13"
  },
  "papermill": {
   "default_parameters": {},
   "duration": 7.899355,
   "end_time": "2024-07-14T14:19:19.719082",
   "environment_variables": {},
   "exception": null,
   "input_path": "__notebook__.ipynb",
   "output_path": "__notebook__.ipynb",
   "parameters": {},
   "start_time": "2024-07-14T14:19:11.819727",
   "version": "2.5.0"
  }
 },
 "nbformat": 4,
 "nbformat_minor": 5
}
