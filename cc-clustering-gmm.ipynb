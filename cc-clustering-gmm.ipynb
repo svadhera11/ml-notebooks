{
 "cells": [
  {
   "cell_type": "code",
   "execution_count": 1,
   "id": "2fa0435e",
   "metadata": {
    "_cell_guid": "b1076dfc-b9ad-4769-8c92-a6c4dae69d19",
    "_uuid": "8f2839f25d086af736a60e9eeb907d3b93b6e0e5",
    "execution": {
     "iopub.execute_input": "2024-07-23T15:42:36.195648Z",
     "iopub.status.busy": "2024-07-23T15:42:36.194567Z",
     "iopub.status.idle": "2024-07-23T15:42:37.102578Z",
     "shell.execute_reply": "2024-07-23T15:42:37.101020Z"
    },
    "papermill": {
     "duration": 0.917942,
     "end_time": "2024-07-23T15:42:37.105107",
     "exception": false,
     "start_time": "2024-07-23T15:42:36.187165",
     "status": "completed"
    },
    "tags": []
   },
   "outputs": [
    {
     "name": "stdout",
     "output_type": "stream",
     "text": [
      "/kaggle/input/ccdata/CC GENERAL.csv\n"
     ]
    }
   ],
   "source": [
    "# This Python 3 environment comes with many helpful analytics libraries installed\n",
    "# It is defined by the kaggle/python Docker image: https://github.com/kaggle/docker-python\n",
    "# For example, here's several helpful packages to load\n",
    "\n",
    "import numpy as np # linear algebra\n",
    "import pandas as pd # data processing, CSV file I/O (e.g. pd.read_csv)\n",
    "\n",
    "# Input data files are available in the read-only \"../input/\" directory\n",
    "# For example, running this (by clicking run or pressing Shift+Enter) will list all files under the input directory\n",
    "\n",
    "import os\n",
    "for dirname, _, filenames in os.walk('/kaggle/input'):\n",
    "    for filename in filenames:\n",
    "        print(os.path.join(dirname, filename))\n",
    "\n",
    "# You can write up to 20GB to the current directory (/kaggle/working/) that gets preserved as output when you create a version using \"Save & Run All\" \n",
    "# You can also write temporary files to /kaggle/temp/, but they won't be saved outside of the current session"
   ]
  },
  {
   "cell_type": "code",
   "execution_count": 2,
   "id": "f9266109",
   "metadata": {
    "execution": {
     "iopub.execute_input": "2024-07-23T15:42:37.117181Z",
     "iopub.status.busy": "2024-07-23T15:42:37.116654Z",
     "iopub.status.idle": "2024-07-23T15:42:37.166565Z",
     "shell.execute_reply": "2024-07-23T15:42:37.165503Z"
    },
    "papermill": {
     "duration": 0.058777,
     "end_time": "2024-07-23T15:42:37.169199",
     "exception": false,
     "start_time": "2024-07-23T15:42:37.110422",
     "status": "completed"
    },
    "tags": []
   },
   "outputs": [],
   "source": [
    "dataset = pd.read_csv('/kaggle/input/ccdata/CC GENERAL.csv')"
   ]
  },
  {
   "cell_type": "code",
   "execution_count": 3,
   "id": "9fd194ea",
   "metadata": {
    "execution": {
     "iopub.execute_input": "2024-07-23T15:42:37.181246Z",
     "iopub.status.busy": "2024-07-23T15:42:37.180541Z",
     "iopub.status.idle": "2024-07-23T15:42:37.220242Z",
     "shell.execute_reply": "2024-07-23T15:42:37.219201Z"
    },
    "papermill": {
     "duration": 0.04847,
     "end_time": "2024-07-23T15:42:37.222725",
     "exception": false,
     "start_time": "2024-07-23T15:42:37.174255",
     "status": "completed"
    },
    "tags": []
   },
   "outputs": [
    {
     "data": {
      "text/html": [
       "<div>\n",
       "<style scoped>\n",
       "    .dataframe tbody tr th:only-of-type {\n",
       "        vertical-align: middle;\n",
       "    }\n",
       "\n",
       "    .dataframe tbody tr th {\n",
       "        vertical-align: top;\n",
       "    }\n",
       "\n",
       "    .dataframe thead th {\n",
       "        text-align: right;\n",
       "    }\n",
       "</style>\n",
       "<table border=\"1\" class=\"dataframe\">\n",
       "  <thead>\n",
       "    <tr style=\"text-align: right;\">\n",
       "      <th></th>\n",
       "      <th>BALANCE</th>\n",
       "      <th>BALANCE_FREQUENCY</th>\n",
       "      <th>PURCHASES</th>\n",
       "      <th>ONEOFF_PURCHASES</th>\n",
       "      <th>INSTALLMENTS_PURCHASES</th>\n",
       "      <th>CASH_ADVANCE</th>\n",
       "      <th>PURCHASES_FREQUENCY</th>\n",
       "      <th>ONEOFF_PURCHASES_FREQUENCY</th>\n",
       "      <th>PURCHASES_INSTALLMENTS_FREQUENCY</th>\n",
       "      <th>CASH_ADVANCE_FREQUENCY</th>\n",
       "      <th>CASH_ADVANCE_TRX</th>\n",
       "      <th>PURCHASES_TRX</th>\n",
       "      <th>CREDIT_LIMIT</th>\n",
       "      <th>PAYMENTS</th>\n",
       "      <th>MINIMUM_PAYMENTS</th>\n",
       "      <th>PRC_FULL_PAYMENT</th>\n",
       "      <th>TENURE</th>\n",
       "    </tr>\n",
       "    <tr>\n",
       "      <th>CUST_ID</th>\n",
       "      <th></th>\n",
       "      <th></th>\n",
       "      <th></th>\n",
       "      <th></th>\n",
       "      <th></th>\n",
       "      <th></th>\n",
       "      <th></th>\n",
       "      <th></th>\n",
       "      <th></th>\n",
       "      <th></th>\n",
       "      <th></th>\n",
       "      <th></th>\n",
       "      <th></th>\n",
       "      <th></th>\n",
       "      <th></th>\n",
       "      <th></th>\n",
       "      <th></th>\n",
       "    </tr>\n",
       "  </thead>\n",
       "  <tbody>\n",
       "    <tr>\n",
       "      <th>C10001</th>\n",
       "      <td>40.900749</td>\n",
       "      <td>0.818182</td>\n",
       "      <td>95.40</td>\n",
       "      <td>0.00</td>\n",
       "      <td>95.4</td>\n",
       "      <td>0.000000</td>\n",
       "      <td>0.166667</td>\n",
       "      <td>0.000000</td>\n",
       "      <td>0.083333</td>\n",
       "      <td>0.000000</td>\n",
       "      <td>0</td>\n",
       "      <td>2</td>\n",
       "      <td>1000.0</td>\n",
       "      <td>201.802084</td>\n",
       "      <td>139.509787</td>\n",
       "      <td>0.000000</td>\n",
       "      <td>12</td>\n",
       "    </tr>\n",
       "    <tr>\n",
       "      <th>C10002</th>\n",
       "      <td>3202.467416</td>\n",
       "      <td>0.909091</td>\n",
       "      <td>0.00</td>\n",
       "      <td>0.00</td>\n",
       "      <td>0.0</td>\n",
       "      <td>6442.945483</td>\n",
       "      <td>0.000000</td>\n",
       "      <td>0.000000</td>\n",
       "      <td>0.000000</td>\n",
       "      <td>0.250000</td>\n",
       "      <td>4</td>\n",
       "      <td>0</td>\n",
       "      <td>7000.0</td>\n",
       "      <td>4103.032597</td>\n",
       "      <td>1072.340217</td>\n",
       "      <td>0.222222</td>\n",
       "      <td>12</td>\n",
       "    </tr>\n",
       "    <tr>\n",
       "      <th>C10003</th>\n",
       "      <td>2495.148862</td>\n",
       "      <td>1.000000</td>\n",
       "      <td>773.17</td>\n",
       "      <td>773.17</td>\n",
       "      <td>0.0</td>\n",
       "      <td>0.000000</td>\n",
       "      <td>1.000000</td>\n",
       "      <td>1.000000</td>\n",
       "      <td>0.000000</td>\n",
       "      <td>0.000000</td>\n",
       "      <td>0</td>\n",
       "      <td>12</td>\n",
       "      <td>7500.0</td>\n",
       "      <td>622.066742</td>\n",
       "      <td>627.284787</td>\n",
       "      <td>0.000000</td>\n",
       "      <td>12</td>\n",
       "    </tr>\n",
       "    <tr>\n",
       "      <th>C10004</th>\n",
       "      <td>1666.670542</td>\n",
       "      <td>0.636364</td>\n",
       "      <td>1499.00</td>\n",
       "      <td>1499.00</td>\n",
       "      <td>0.0</td>\n",
       "      <td>205.788017</td>\n",
       "      <td>0.083333</td>\n",
       "      <td>0.083333</td>\n",
       "      <td>0.000000</td>\n",
       "      <td>0.083333</td>\n",
       "      <td>1</td>\n",
       "      <td>1</td>\n",
       "      <td>7500.0</td>\n",
       "      <td>0.000000</td>\n",
       "      <td>NaN</td>\n",
       "      <td>0.000000</td>\n",
       "      <td>12</td>\n",
       "    </tr>\n",
       "    <tr>\n",
       "      <th>C10005</th>\n",
       "      <td>817.714335</td>\n",
       "      <td>1.000000</td>\n",
       "      <td>16.00</td>\n",
       "      <td>16.00</td>\n",
       "      <td>0.0</td>\n",
       "      <td>0.000000</td>\n",
       "      <td>0.083333</td>\n",
       "      <td>0.083333</td>\n",
       "      <td>0.000000</td>\n",
       "      <td>0.000000</td>\n",
       "      <td>0</td>\n",
       "      <td>1</td>\n",
       "      <td>1200.0</td>\n",
       "      <td>678.334763</td>\n",
       "      <td>244.791237</td>\n",
       "      <td>0.000000</td>\n",
       "      <td>12</td>\n",
       "    </tr>\n",
       "  </tbody>\n",
       "</table>\n",
       "</div>"
      ],
      "text/plain": [
       "             BALANCE  BALANCE_FREQUENCY  PURCHASES  ONEOFF_PURCHASES  \\\n",
       "CUST_ID                                                                \n",
       "C10001     40.900749           0.818182      95.40              0.00   \n",
       "C10002   3202.467416           0.909091       0.00              0.00   \n",
       "C10003   2495.148862           1.000000     773.17            773.17   \n",
       "C10004   1666.670542           0.636364    1499.00           1499.00   \n",
       "C10005    817.714335           1.000000      16.00             16.00   \n",
       "\n",
       "         INSTALLMENTS_PURCHASES  CASH_ADVANCE  PURCHASES_FREQUENCY  \\\n",
       "CUST_ID                                                              \n",
       "C10001                     95.4      0.000000             0.166667   \n",
       "C10002                      0.0   6442.945483             0.000000   \n",
       "C10003                      0.0      0.000000             1.000000   \n",
       "C10004                      0.0    205.788017             0.083333   \n",
       "C10005                      0.0      0.000000             0.083333   \n",
       "\n",
       "         ONEOFF_PURCHASES_FREQUENCY  PURCHASES_INSTALLMENTS_FREQUENCY  \\\n",
       "CUST_ID                                                                 \n",
       "C10001                     0.000000                          0.083333   \n",
       "C10002                     0.000000                          0.000000   \n",
       "C10003                     1.000000                          0.000000   \n",
       "C10004                     0.083333                          0.000000   \n",
       "C10005                     0.083333                          0.000000   \n",
       "\n",
       "         CASH_ADVANCE_FREQUENCY  CASH_ADVANCE_TRX  PURCHASES_TRX  \\\n",
       "CUST_ID                                                            \n",
       "C10001                 0.000000                 0              2   \n",
       "C10002                 0.250000                 4              0   \n",
       "C10003                 0.000000                 0             12   \n",
       "C10004                 0.083333                 1              1   \n",
       "C10005                 0.000000                 0              1   \n",
       "\n",
       "         CREDIT_LIMIT     PAYMENTS  MINIMUM_PAYMENTS  PRC_FULL_PAYMENT  TENURE  \n",
       "CUST_ID                                                                         \n",
       "C10001         1000.0   201.802084        139.509787          0.000000      12  \n",
       "C10002         7000.0  4103.032597       1072.340217          0.222222      12  \n",
       "C10003         7500.0   622.066742        627.284787          0.000000      12  \n",
       "C10004         7500.0     0.000000               NaN          0.000000      12  \n",
       "C10005         1200.0   678.334763        244.791237          0.000000      12  "
      ]
     },
     "execution_count": 3,
     "metadata": {},
     "output_type": "execute_result"
    }
   ],
   "source": [
    "dataset = dataset.set_index('CUST_ID')\n",
    "dataset.head()"
   ]
  },
  {
   "cell_type": "code",
   "execution_count": 4,
   "id": "cf27465b",
   "metadata": {
    "execution": {
     "iopub.execute_input": "2024-07-23T15:42:37.234918Z",
     "iopub.status.busy": "2024-07-23T15:42:37.234586Z",
     "iopub.status.idle": "2024-07-23T15:42:37.256123Z",
     "shell.execute_reply": "2024-07-23T15:42:37.254952Z"
    },
    "papermill": {
     "duration": 0.030464,
     "end_time": "2024-07-23T15:42:37.258523",
     "exception": false,
     "start_time": "2024-07-23T15:42:37.228059",
     "status": "completed"
    },
    "tags": []
   },
   "outputs": [
    {
     "name": "stdout",
     "output_type": "stream",
     "text": [
      "<class 'pandas.core.frame.DataFrame'>\n",
      "Index: 8950 entries, C10001 to C19190\n",
      "Data columns (total 17 columns):\n",
      " #   Column                            Non-Null Count  Dtype  \n",
      "---  ------                            --------------  -----  \n",
      " 0   BALANCE                           8950 non-null   float64\n",
      " 1   BALANCE_FREQUENCY                 8950 non-null   float64\n",
      " 2   PURCHASES                         8950 non-null   float64\n",
      " 3   ONEOFF_PURCHASES                  8950 non-null   float64\n",
      " 4   INSTALLMENTS_PURCHASES            8950 non-null   float64\n",
      " 5   CASH_ADVANCE                      8950 non-null   float64\n",
      " 6   PURCHASES_FREQUENCY               8950 non-null   float64\n",
      " 7   ONEOFF_PURCHASES_FREQUENCY        8950 non-null   float64\n",
      " 8   PURCHASES_INSTALLMENTS_FREQUENCY  8950 non-null   float64\n",
      " 9   CASH_ADVANCE_FREQUENCY            8950 non-null   float64\n",
      " 10  CASH_ADVANCE_TRX                  8950 non-null   int64  \n",
      " 11  PURCHASES_TRX                     8950 non-null   int64  \n",
      " 12  CREDIT_LIMIT                      8949 non-null   float64\n",
      " 13  PAYMENTS                          8950 non-null   float64\n",
      " 14  MINIMUM_PAYMENTS                  8637 non-null   float64\n",
      " 15  PRC_FULL_PAYMENT                  8950 non-null   float64\n",
      " 16  TENURE                            8950 non-null   int64  \n",
      "dtypes: float64(14), int64(3)\n",
      "memory usage: 1.2+ MB\n"
     ]
    }
   ],
   "source": [
    "dataset.info()"
   ]
  },
  {
   "cell_type": "code",
   "execution_count": 5,
   "id": "c9fadbbb",
   "metadata": {
    "execution": {
     "iopub.execute_input": "2024-07-23T15:42:37.270979Z",
     "iopub.status.busy": "2024-07-23T15:42:37.270601Z",
     "iopub.status.idle": "2024-07-23T15:42:37.280445Z",
     "shell.execute_reply": "2024-07-23T15:42:37.279323Z"
    },
    "papermill": {
     "duration": 0.019032,
     "end_time": "2024-07-23T15:42:37.282888",
     "exception": false,
     "start_time": "2024-07-23T15:42:37.263856",
     "status": "completed"
    },
    "tags": []
   },
   "outputs": [
    {
     "data": {
      "text/plain": [
       "BALANCE                               0\n",
       "BALANCE_FREQUENCY                     0\n",
       "PURCHASES                             0\n",
       "ONEOFF_PURCHASES                      0\n",
       "INSTALLMENTS_PURCHASES                0\n",
       "CASH_ADVANCE                          0\n",
       "PURCHASES_FREQUENCY                   0\n",
       "ONEOFF_PURCHASES_FREQUENCY            0\n",
       "PURCHASES_INSTALLMENTS_FREQUENCY      0\n",
       "CASH_ADVANCE_FREQUENCY                0\n",
       "CASH_ADVANCE_TRX                      0\n",
       "PURCHASES_TRX                         0\n",
       "CREDIT_LIMIT                          1\n",
       "PAYMENTS                              0\n",
       "MINIMUM_PAYMENTS                    313\n",
       "PRC_FULL_PAYMENT                      0\n",
       "TENURE                                0\n",
       "dtype: int64"
      ]
     },
     "execution_count": 5,
     "metadata": {},
     "output_type": "execute_result"
    }
   ],
   "source": [
    "dataset.isnull().sum()"
   ]
  },
  {
   "cell_type": "code",
   "execution_count": 6,
   "id": "edff02ab",
   "metadata": {
    "execution": {
     "iopub.execute_input": "2024-07-23T15:42:37.295872Z",
     "iopub.status.busy": "2024-07-23T15:42:37.295512Z",
     "iopub.status.idle": "2024-07-23T15:42:37.304896Z",
     "shell.execute_reply": "2024-07-23T15:42:37.303844Z"
    },
    "papermill": {
     "duration": 0.018793,
     "end_time": "2024-07-23T15:42:37.307449",
     "exception": false,
     "start_time": "2024-07-23T15:42:37.288656",
     "status": "completed"
    },
    "tags": []
   },
   "outputs": [],
   "source": [
    "dataset = dataset.dropna()"
   ]
  },
  {
   "cell_type": "code",
   "execution_count": 7,
   "id": "f953b298",
   "metadata": {
    "execution": {
     "iopub.execute_input": "2024-07-23T15:42:37.320390Z",
     "iopub.status.busy": "2024-07-23T15:42:37.319966Z",
     "iopub.status.idle": "2024-07-23T15:42:37.341702Z",
     "shell.execute_reply": "2024-07-23T15:42:37.340543Z"
    },
    "papermill": {
     "duration": 0.031195,
     "end_time": "2024-07-23T15:42:37.344133",
     "exception": false,
     "start_time": "2024-07-23T15:42:37.312938",
     "status": "completed"
    },
    "tags": []
   },
   "outputs": [
    {
     "data": {
      "text/html": [
       "<div>\n",
       "<style scoped>\n",
       "    .dataframe tbody tr th:only-of-type {\n",
       "        vertical-align: middle;\n",
       "    }\n",
       "\n",
       "    .dataframe tbody tr th {\n",
       "        vertical-align: top;\n",
       "    }\n",
       "\n",
       "    .dataframe thead th {\n",
       "        text-align: right;\n",
       "    }\n",
       "</style>\n",
       "<table border=\"1\" class=\"dataframe\">\n",
       "  <thead>\n",
       "    <tr style=\"text-align: right;\">\n",
       "      <th></th>\n",
       "      <th>BALANCE</th>\n",
       "      <th>BALANCE_FREQUENCY</th>\n",
       "      <th>PURCHASES</th>\n",
       "      <th>ONEOFF_PURCHASES</th>\n",
       "      <th>INSTALLMENTS_PURCHASES</th>\n",
       "      <th>CASH_ADVANCE</th>\n",
       "      <th>PURCHASES_FREQUENCY</th>\n",
       "      <th>ONEOFF_PURCHASES_FREQUENCY</th>\n",
       "      <th>PURCHASES_INSTALLMENTS_FREQUENCY</th>\n",
       "      <th>CASH_ADVANCE_FREQUENCY</th>\n",
       "      <th>CASH_ADVANCE_TRX</th>\n",
       "      <th>PURCHASES_TRX</th>\n",
       "      <th>CREDIT_LIMIT</th>\n",
       "      <th>PAYMENTS</th>\n",
       "      <th>MINIMUM_PAYMENTS</th>\n",
       "      <th>PRC_FULL_PAYMENT</th>\n",
       "      <th>TENURE</th>\n",
       "    </tr>\n",
       "    <tr>\n",
       "      <th>CUST_ID</th>\n",
       "      <th></th>\n",
       "      <th></th>\n",
       "      <th></th>\n",
       "      <th></th>\n",
       "      <th></th>\n",
       "      <th></th>\n",
       "      <th></th>\n",
       "      <th></th>\n",
       "      <th></th>\n",
       "      <th></th>\n",
       "      <th></th>\n",
       "      <th></th>\n",
       "      <th></th>\n",
       "      <th></th>\n",
       "      <th></th>\n",
       "      <th></th>\n",
       "      <th></th>\n",
       "    </tr>\n",
       "  </thead>\n",
       "  <tbody>\n",
       "    <tr>\n",
       "      <th>C10001</th>\n",
       "      <td>40.900749</td>\n",
       "      <td>0.818182</td>\n",
       "      <td>95.40</td>\n",
       "      <td>0.00</td>\n",
       "      <td>95.40</td>\n",
       "      <td>0.000000</td>\n",
       "      <td>0.166667</td>\n",
       "      <td>0.000000</td>\n",
       "      <td>0.083333</td>\n",
       "      <td>0.00</td>\n",
       "      <td>0</td>\n",
       "      <td>2</td>\n",
       "      <td>1000.0</td>\n",
       "      <td>201.802084</td>\n",
       "      <td>139.509787</td>\n",
       "      <td>0.000000</td>\n",
       "      <td>12</td>\n",
       "    </tr>\n",
       "    <tr>\n",
       "      <th>C10002</th>\n",
       "      <td>3202.467416</td>\n",
       "      <td>0.909091</td>\n",
       "      <td>0.00</td>\n",
       "      <td>0.00</td>\n",
       "      <td>0.00</td>\n",
       "      <td>6442.945483</td>\n",
       "      <td>0.000000</td>\n",
       "      <td>0.000000</td>\n",
       "      <td>0.000000</td>\n",
       "      <td>0.25</td>\n",
       "      <td>4</td>\n",
       "      <td>0</td>\n",
       "      <td>7000.0</td>\n",
       "      <td>4103.032597</td>\n",
       "      <td>1072.340217</td>\n",
       "      <td>0.222222</td>\n",
       "      <td>12</td>\n",
       "    </tr>\n",
       "    <tr>\n",
       "      <th>C10003</th>\n",
       "      <td>2495.148862</td>\n",
       "      <td>1.000000</td>\n",
       "      <td>773.17</td>\n",
       "      <td>773.17</td>\n",
       "      <td>0.00</td>\n",
       "      <td>0.000000</td>\n",
       "      <td>1.000000</td>\n",
       "      <td>1.000000</td>\n",
       "      <td>0.000000</td>\n",
       "      <td>0.00</td>\n",
       "      <td>0</td>\n",
       "      <td>12</td>\n",
       "      <td>7500.0</td>\n",
       "      <td>622.066742</td>\n",
       "      <td>627.284787</td>\n",
       "      <td>0.000000</td>\n",
       "      <td>12</td>\n",
       "    </tr>\n",
       "    <tr>\n",
       "      <th>C10005</th>\n",
       "      <td>817.714335</td>\n",
       "      <td>1.000000</td>\n",
       "      <td>16.00</td>\n",
       "      <td>16.00</td>\n",
       "      <td>0.00</td>\n",
       "      <td>0.000000</td>\n",
       "      <td>0.083333</td>\n",
       "      <td>0.083333</td>\n",
       "      <td>0.000000</td>\n",
       "      <td>0.00</td>\n",
       "      <td>0</td>\n",
       "      <td>1</td>\n",
       "      <td>1200.0</td>\n",
       "      <td>678.334763</td>\n",
       "      <td>244.791237</td>\n",
       "      <td>0.000000</td>\n",
       "      <td>12</td>\n",
       "    </tr>\n",
       "    <tr>\n",
       "      <th>C10006</th>\n",
       "      <td>1809.828751</td>\n",
       "      <td>1.000000</td>\n",
       "      <td>1333.28</td>\n",
       "      <td>0.00</td>\n",
       "      <td>1333.28</td>\n",
       "      <td>0.000000</td>\n",
       "      <td>0.666667</td>\n",
       "      <td>0.000000</td>\n",
       "      <td>0.583333</td>\n",
       "      <td>0.00</td>\n",
       "      <td>0</td>\n",
       "      <td>8</td>\n",
       "      <td>1800.0</td>\n",
       "      <td>1400.057770</td>\n",
       "      <td>2407.246035</td>\n",
       "      <td>0.000000</td>\n",
       "      <td>12</td>\n",
       "    </tr>\n",
       "  </tbody>\n",
       "</table>\n",
       "</div>"
      ],
      "text/plain": [
       "             BALANCE  BALANCE_FREQUENCY  PURCHASES  ONEOFF_PURCHASES  \\\n",
       "CUST_ID                                                                \n",
       "C10001     40.900749           0.818182      95.40              0.00   \n",
       "C10002   3202.467416           0.909091       0.00              0.00   \n",
       "C10003   2495.148862           1.000000     773.17            773.17   \n",
       "C10005    817.714335           1.000000      16.00             16.00   \n",
       "C10006   1809.828751           1.000000    1333.28              0.00   \n",
       "\n",
       "         INSTALLMENTS_PURCHASES  CASH_ADVANCE  PURCHASES_FREQUENCY  \\\n",
       "CUST_ID                                                              \n",
       "C10001                    95.40      0.000000             0.166667   \n",
       "C10002                     0.00   6442.945483             0.000000   \n",
       "C10003                     0.00      0.000000             1.000000   \n",
       "C10005                     0.00      0.000000             0.083333   \n",
       "C10006                  1333.28      0.000000             0.666667   \n",
       "\n",
       "         ONEOFF_PURCHASES_FREQUENCY  PURCHASES_INSTALLMENTS_FREQUENCY  \\\n",
       "CUST_ID                                                                 \n",
       "C10001                     0.000000                          0.083333   \n",
       "C10002                     0.000000                          0.000000   \n",
       "C10003                     1.000000                          0.000000   \n",
       "C10005                     0.083333                          0.000000   \n",
       "C10006                     0.000000                          0.583333   \n",
       "\n",
       "         CASH_ADVANCE_FREQUENCY  CASH_ADVANCE_TRX  PURCHASES_TRX  \\\n",
       "CUST_ID                                                            \n",
       "C10001                     0.00                 0              2   \n",
       "C10002                     0.25                 4              0   \n",
       "C10003                     0.00                 0             12   \n",
       "C10005                     0.00                 0              1   \n",
       "C10006                     0.00                 0              8   \n",
       "\n",
       "         CREDIT_LIMIT     PAYMENTS  MINIMUM_PAYMENTS  PRC_FULL_PAYMENT  TENURE  \n",
       "CUST_ID                                                                         \n",
       "C10001         1000.0   201.802084        139.509787          0.000000      12  \n",
       "C10002         7000.0  4103.032597       1072.340217          0.222222      12  \n",
       "C10003         7500.0   622.066742        627.284787          0.000000      12  \n",
       "C10005         1200.0   678.334763        244.791237          0.000000      12  \n",
       "C10006         1800.0  1400.057770       2407.246035          0.000000      12  "
      ]
     },
     "execution_count": 7,
     "metadata": {},
     "output_type": "execute_result"
    }
   ],
   "source": [
    "dataset.head()"
   ]
  },
  {
   "cell_type": "code",
   "execution_count": 8,
   "id": "3e5eb6b8",
   "metadata": {
    "execution": {
     "iopub.execute_input": "2024-07-23T15:42:37.357741Z",
     "iopub.status.busy": "2024-07-23T15:42:37.357359Z",
     "iopub.status.idle": "2024-07-23T15:42:37.369968Z",
     "shell.execute_reply": "2024-07-23T15:42:37.368525Z"
    },
    "papermill": {
     "duration": 0.02229,
     "end_time": "2024-07-23T15:42:37.372468",
     "exception": false,
     "start_time": "2024-07-23T15:42:37.350178",
     "status": "completed"
    },
    "tags": []
   },
   "outputs": [
    {
     "name": "stdout",
     "output_type": "stream",
     "text": [
      "<class 'pandas.core.frame.DataFrame'>\n",
      "Index: 8636 entries, C10001 to C19190\n",
      "Data columns (total 17 columns):\n",
      " #   Column                            Non-Null Count  Dtype  \n",
      "---  ------                            --------------  -----  \n",
      " 0   BALANCE                           8636 non-null   float64\n",
      " 1   BALANCE_FREQUENCY                 8636 non-null   float64\n",
      " 2   PURCHASES                         8636 non-null   float64\n",
      " 3   ONEOFF_PURCHASES                  8636 non-null   float64\n",
      " 4   INSTALLMENTS_PURCHASES            8636 non-null   float64\n",
      " 5   CASH_ADVANCE                      8636 non-null   float64\n",
      " 6   PURCHASES_FREQUENCY               8636 non-null   float64\n",
      " 7   ONEOFF_PURCHASES_FREQUENCY        8636 non-null   float64\n",
      " 8   PURCHASES_INSTALLMENTS_FREQUENCY  8636 non-null   float64\n",
      " 9   CASH_ADVANCE_FREQUENCY            8636 non-null   float64\n",
      " 10  CASH_ADVANCE_TRX                  8636 non-null   int64  \n",
      " 11  PURCHASES_TRX                     8636 non-null   int64  \n",
      " 12  CREDIT_LIMIT                      8636 non-null   float64\n",
      " 13  PAYMENTS                          8636 non-null   float64\n",
      " 14  MINIMUM_PAYMENTS                  8636 non-null   float64\n",
      " 15  PRC_FULL_PAYMENT                  8636 non-null   float64\n",
      " 16  TENURE                            8636 non-null   int64  \n",
      "dtypes: float64(14), int64(3)\n",
      "memory usage: 1.2+ MB\n"
     ]
    }
   ],
   "source": [
    "dataset.info()"
   ]
  },
  {
   "cell_type": "code",
   "execution_count": 9,
   "id": "22bb30d4",
   "metadata": {
    "execution": {
     "iopub.execute_input": "2024-07-23T15:42:37.386259Z",
     "iopub.status.busy": "2024-07-23T15:42:37.385861Z",
     "iopub.status.idle": "2024-07-23T15:42:38.635790Z",
     "shell.execute_reply": "2024-07-23T15:42:38.634631Z"
    },
    "papermill": {
     "duration": 1.259783,
     "end_time": "2024-07-23T15:42:38.638379",
     "exception": false,
     "start_time": "2024-07-23T15:42:37.378596",
     "status": "completed"
    },
    "tags": []
   },
   "outputs": [
    {
     "data": {
      "text/html": [
       "<div>\n",
       "<style scoped>\n",
       "    .dataframe tbody tr th:only-of-type {\n",
       "        vertical-align: middle;\n",
       "    }\n",
       "\n",
       "    .dataframe tbody tr th {\n",
       "        vertical-align: top;\n",
       "    }\n",
       "\n",
       "    .dataframe thead th {\n",
       "        text-align: right;\n",
       "    }\n",
       "</style>\n",
       "<table border=\"1\" class=\"dataframe\">\n",
       "  <thead>\n",
       "    <tr style=\"text-align: right;\">\n",
       "      <th></th>\n",
       "      <th>BALANCE</th>\n",
       "      <th>BALANCE_FREQUENCY</th>\n",
       "      <th>PURCHASES</th>\n",
       "      <th>ONEOFF_PURCHASES</th>\n",
       "      <th>INSTALLMENTS_PURCHASES</th>\n",
       "      <th>CASH_ADVANCE</th>\n",
       "      <th>PURCHASES_FREQUENCY</th>\n",
       "      <th>ONEOFF_PURCHASES_FREQUENCY</th>\n",
       "      <th>PURCHASES_INSTALLMENTS_FREQUENCY</th>\n",
       "      <th>CASH_ADVANCE_FREQUENCY</th>\n",
       "      <th>CASH_ADVANCE_TRX</th>\n",
       "      <th>PURCHASES_TRX</th>\n",
       "      <th>CREDIT_LIMIT</th>\n",
       "      <th>PAYMENTS</th>\n",
       "      <th>MINIMUM_PAYMENTS</th>\n",
       "      <th>PRC_FULL_PAYMENT</th>\n",
       "      <th>TENURE</th>\n",
       "    </tr>\n",
       "    <tr>\n",
       "      <th>CUST_ID</th>\n",
       "      <th></th>\n",
       "      <th></th>\n",
       "      <th></th>\n",
       "      <th></th>\n",
       "      <th></th>\n",
       "      <th></th>\n",
       "      <th></th>\n",
       "      <th></th>\n",
       "      <th></th>\n",
       "      <th></th>\n",
       "      <th></th>\n",
       "      <th></th>\n",
       "      <th></th>\n",
       "      <th></th>\n",
       "      <th></th>\n",
       "      <th></th>\n",
       "      <th></th>\n",
       "    </tr>\n",
       "  </thead>\n",
       "  <tbody>\n",
       "    <tr>\n",
       "      <th>C10001</th>\n",
       "      <td>-0.744625</td>\n",
       "      <td>-0.370047</td>\n",
       "      <td>-0.429184</td>\n",
       "      <td>-0.359160</td>\n",
       "      <td>-0.354826</td>\n",
       "      <td>-0.468655</td>\n",
       "      <td>-0.820769</td>\n",
       "      <td>-0.686280</td>\n",
       "      <td>-0.717179</td>\n",
       "      <td>-0.681953</td>\n",
       "      <td>-0.479437</td>\n",
       "      <td>-0.517623</td>\n",
       "      <td>-0.962575</td>\n",
       "      <td>-0.543942</td>\n",
       "      <td>-0.305508</td>\n",
       "      <td>-0.537727</td>\n",
       "      <td>0.355181</td>\n",
       "    </tr>\n",
       "    <tr>\n",
       "      <th>C10002</th>\n",
       "      <td>0.764152</td>\n",
       "      <td>0.067679</td>\n",
       "      <td>-0.473208</td>\n",
       "      <td>-0.359160</td>\n",
       "      <td>-0.458839</td>\n",
       "      <td>2.568556</td>\n",
       "      <td>-1.236139</td>\n",
       "      <td>-0.686280</td>\n",
       "      <td>-0.926522</td>\n",
       "      <td>0.557022</td>\n",
       "      <td>0.099258</td>\n",
       "      <td>-0.597054</td>\n",
       "      <td>0.677204</td>\n",
       "      <td>0.796852</td>\n",
       "      <td>0.087689</td>\n",
       "      <td>0.212380</td>\n",
       "      <td>0.355181</td>\n",
       "    </tr>\n",
       "    <tr>\n",
       "      <th>C10003</th>\n",
       "      <td>0.426602</td>\n",
       "      <td>0.505405</td>\n",
       "      <td>-0.116413</td>\n",
       "      <td>0.099909</td>\n",
       "      <td>-0.458839</td>\n",
       "      <td>-0.468655</td>\n",
       "      <td>1.256077</td>\n",
       "      <td>2.646651</td>\n",
       "      <td>-0.926522</td>\n",
       "      <td>-0.681953</td>\n",
       "      <td>-0.479437</td>\n",
       "      <td>-0.120467</td>\n",
       "      <td>0.813852</td>\n",
       "      <td>-0.399503</td>\n",
       "      <td>-0.099906</td>\n",
       "      <td>-0.537727</td>\n",
       "      <td>0.355181</td>\n",
       "    </tr>\n",
       "    <tr>\n",
       "      <th>C10005</th>\n",
       "      <td>-0.373910</td>\n",
       "      <td>0.505405</td>\n",
       "      <td>-0.465825</td>\n",
       "      <td>-0.349660</td>\n",
       "      <td>-0.458839</td>\n",
       "      <td>-0.468655</td>\n",
       "      <td>-1.028455</td>\n",
       "      <td>-0.408536</td>\n",
       "      <td>-0.926522</td>\n",
       "      <td>-0.681953</td>\n",
       "      <td>-0.479437</td>\n",
       "      <td>-0.557339</td>\n",
       "      <td>-0.907916</td>\n",
       "      <td>-0.380165</td>\n",
       "      <td>-0.261131</td>\n",
       "      <td>-0.537727</td>\n",
       "      <td>0.355181</td>\n",
       "    </tr>\n",
       "    <tr>\n",
       "      <th>C10006</th>\n",
       "      <td>0.099551</td>\n",
       "      <td>0.505405</td>\n",
       "      <td>0.142062</td>\n",
       "      <td>-0.359160</td>\n",
       "      <td>0.994815</td>\n",
       "      <td>-0.468655</td>\n",
       "      <td>0.425339</td>\n",
       "      <td>-0.686280</td>\n",
       "      <td>0.538882</td>\n",
       "      <td>-0.681953</td>\n",
       "      <td>-0.479437</td>\n",
       "      <td>-0.279329</td>\n",
       "      <td>-0.743938</td>\n",
       "      <td>-0.132119</td>\n",
       "      <td>0.650363</td>\n",
       "      <td>-0.537727</td>\n",
       "      <td>0.355181</td>\n",
       "    </tr>\n",
       "  </tbody>\n",
       "</table>\n",
       "</div>"
      ],
      "text/plain": [
       "          BALANCE  BALANCE_FREQUENCY  PURCHASES  ONEOFF_PURCHASES  \\\n",
       "CUST_ID                                                             \n",
       "C10001  -0.744625          -0.370047  -0.429184         -0.359160   \n",
       "C10002   0.764152           0.067679  -0.473208         -0.359160   \n",
       "C10003   0.426602           0.505405  -0.116413          0.099909   \n",
       "C10005  -0.373910           0.505405  -0.465825         -0.349660   \n",
       "C10006   0.099551           0.505405   0.142062         -0.359160   \n",
       "\n",
       "         INSTALLMENTS_PURCHASES  CASH_ADVANCE  PURCHASES_FREQUENCY  \\\n",
       "CUST_ID                                                              \n",
       "C10001                -0.354826     -0.468655            -0.820769   \n",
       "C10002                -0.458839      2.568556            -1.236139   \n",
       "C10003                -0.458839     -0.468655             1.256077   \n",
       "C10005                -0.458839     -0.468655            -1.028455   \n",
       "C10006                 0.994815     -0.468655             0.425339   \n",
       "\n",
       "         ONEOFF_PURCHASES_FREQUENCY  PURCHASES_INSTALLMENTS_FREQUENCY  \\\n",
       "CUST_ID                                                                 \n",
       "C10001                    -0.686280                         -0.717179   \n",
       "C10002                    -0.686280                         -0.926522   \n",
       "C10003                     2.646651                         -0.926522   \n",
       "C10005                    -0.408536                         -0.926522   \n",
       "C10006                    -0.686280                          0.538882   \n",
       "\n",
       "         CASH_ADVANCE_FREQUENCY  CASH_ADVANCE_TRX  PURCHASES_TRX  \\\n",
       "CUST_ID                                                            \n",
       "C10001                -0.681953         -0.479437      -0.517623   \n",
       "C10002                 0.557022          0.099258      -0.597054   \n",
       "C10003                -0.681953         -0.479437      -0.120467   \n",
       "C10005                -0.681953         -0.479437      -0.557339   \n",
       "C10006                -0.681953         -0.479437      -0.279329   \n",
       "\n",
       "         CREDIT_LIMIT  PAYMENTS  MINIMUM_PAYMENTS  PRC_FULL_PAYMENT    TENURE  \n",
       "CUST_ID                                                                        \n",
       "C10001      -0.962575 -0.543942         -0.305508         -0.537727  0.355181  \n",
       "C10002       0.677204  0.796852          0.087689          0.212380  0.355181  \n",
       "C10003       0.813852 -0.399503         -0.099906         -0.537727  0.355181  \n",
       "C10005      -0.907916 -0.380165         -0.261131         -0.537727  0.355181  \n",
       "C10006      -0.743938 -0.132119          0.650363         -0.537727  0.355181  "
      ]
     },
     "execution_count": 9,
     "metadata": {},
     "output_type": "execute_result"
    }
   ],
   "source": [
    "from sklearn.preprocessing import StandardScaler\n",
    "scaler = StandardScaler()\n",
    "dataset[dataset.columns] = scaler.fit_transform(dataset[dataset.columns])\n",
    "dataset.head()"
   ]
  },
  {
   "cell_type": "code",
   "execution_count": 10,
   "id": "6401027c",
   "metadata": {
    "execution": {
     "iopub.execute_input": "2024-07-23T15:42:38.652705Z",
     "iopub.status.busy": "2024-07-23T15:42:38.652309Z",
     "iopub.status.idle": "2024-07-23T15:42:39.126948Z",
     "shell.execute_reply": "2024-07-23T15:42:39.125804Z"
    },
    "papermill": {
     "duration": 0.485009,
     "end_time": "2024-07-23T15:42:39.129683",
     "exception": false,
     "start_time": "2024-07-23T15:42:38.644674",
     "status": "completed"
    },
    "tags": []
   },
   "outputs": [],
   "source": [
    "from sklearn.mixture import GaussianMixture"
   ]
  },
  {
   "cell_type": "code",
   "execution_count": 11,
   "id": "c372b38e",
   "metadata": {
    "execution": {
     "iopub.execute_input": "2024-07-23T15:42:39.144028Z",
     "iopub.status.busy": "2024-07-23T15:42:39.143643Z",
     "iopub.status.idle": "2024-07-23T15:44:49.420316Z",
     "shell.execute_reply": "2024-07-23T15:44:49.418634Z"
    },
    "papermill": {
     "duration": 130.288208,
     "end_time": "2024-07-23T15:44:49.424250",
     "exception": false,
     "start_time": "2024-07-23T15:42:39.136042",
     "status": "completed"
    },
    "tags": []
   },
   "outputs": [],
   "source": [
    "bic = []\n",
    "for i in range(2, 10):\n",
    "    gm = GaussianMixture(n_components = i, covariance_type='full', tol=1e-3,\n",
    "                         max_iter=100,n_init=10, init_params='k-means++', random_state=42)\n",
    "    gm.fit(dataset)\n",
    "    bic.append([i,gm.bic(dataset)])\n",
    "bic = np.array(bic)"
   ]
  },
  {
   "cell_type": "code",
   "execution_count": 12,
   "id": "5dba5095",
   "metadata": {
    "execution": {
     "iopub.execute_input": "2024-07-23T15:44:49.449584Z",
     "iopub.status.busy": "2024-07-23T15:44:49.449018Z",
     "iopub.status.idle": "2024-07-23T15:44:49.464548Z",
     "shell.execute_reply": "2024-07-23T15:44:49.463170Z"
    },
    "papermill": {
     "duration": 0.032997,
     "end_time": "2024-07-23T15:44:49.468962",
     "exception": false,
     "start_time": "2024-07-23T15:44:49.435965",
     "status": "completed"
    },
    "tags": []
   },
   "outputs": [
    {
     "data": {
      "text/plain": [
       "array([[ 2.00000000e+00,  8.29577337e+04],\n",
       "       [ 3.00000000e+00, -1.03855314e+05],\n",
       "       [ 4.00000000e+00, -1.63699608e+05],\n",
       "       [ 5.00000000e+00, -2.18432452e+05],\n",
       "       [ 6.00000000e+00, -2.71569358e+05],\n",
       "       [ 7.00000000e+00, -2.98039630e+05],\n",
       "       [ 8.00000000e+00, -3.24941146e+05],\n",
       "       [ 9.00000000e+00, -3.09449891e+05]])"
      ]
     },
     "execution_count": 12,
     "metadata": {},
     "output_type": "execute_result"
    }
   ],
   "source": [
    "bic"
   ]
  },
  {
   "cell_type": "code",
   "execution_count": 13,
   "id": "a2de1a03",
   "metadata": {
    "execution": {
     "iopub.execute_input": "2024-07-23T15:44:49.499518Z",
     "iopub.status.busy": "2024-07-23T15:44:49.498704Z",
     "iopub.status.idle": "2024-07-23T15:44:50.046646Z",
     "shell.execute_reply": "2024-07-23T15:44:50.045339Z"
    },
    "papermill": {
     "duration": 0.567859,
     "end_time": "2024-07-23T15:44:50.050064",
     "exception": false,
     "start_time": "2024-07-23T15:44:49.482205",
     "status": "completed"
    },
    "tags": []
   },
   "outputs": [
    {
     "data": {
      "image/png": "[encoded data removed]",
      "text/plain": [
       "<Figure size 640x480 with 1 Axes>"
      ]
     },
     "metadata": {},
     "output_type": "display_data"
    },
    {
     "data": {
      "image/png": "[encoded data removed]",
      "text/plain": [
       "<Figure size 640x480 with 1 Axes>"
      ]
     },
     "metadata": {},
     "output_type": "display_data"
    }
   ],
   "source": [
    "import matplotlib.pyplot as plt\n",
    "plt.plot(bic[:,0], bic[:,1], marker='o')\n",
    "plt.xlabel(\"Groups\")\n",
    "plt.ylabel(\"BIC\")\n",
    "plt.show()\n",
    "plt.plot(bic[:,0], np.gradient(bic[:,1]), marker='o')\n",
    "plt.xlabel(\"Groups\")\n",
    "plt.ylabel(\"gradient of BIC\")\n",
    "plt.show()"
   ]
  },
  {
   "cell_type": "code",
   "execution_count": 14,
   "id": "404e08ed",
   "metadata": {
    "execution": {
     "iopub.execute_input": "2024-07-23T15:44:50.072583Z",
     "iopub.status.busy": "2024-07-23T15:44:50.072053Z",
     "iopub.status.idle": "2024-07-23T15:44:50.078800Z",
     "shell.execute_reply": "2024-07-23T15:44:50.077512Z"
    },
    "papermill": {
     "duration": 0.019785,
     "end_time": "2024-07-23T15:44:50.081635",
     "exception": false,
     "start_time": "2024-07-23T15:44:50.061850",
     "status": "completed"
    },
    "tags": []
   },
   "outputs": [],
   "source": [
    "gm = GaussianMixture(n_components = 3, covariance_type='full', tol=1e-3,\n",
    "                         max_iter=100,n_init=10, init_params='k-means++', random_state=42)"
   ]
  },
  {
   "cell_type": "code",
   "execution_count": 15,
   "id": "19c71e5e",
   "metadata": {
    "execution": {
     "iopub.execute_input": "2024-07-23T15:44:50.098312Z",
     "iopub.status.busy": "2024-07-23T15:44:50.097905Z",
     "iopub.status.idle": "2024-07-23T15:44:58.648121Z",
     "shell.execute_reply": "2024-07-23T15:44:58.646784Z"
    },
    "papermill": {
     "duration": 8.562309,
     "end_time": "2024-07-23T15:44:58.651527",
     "exception": false,
     "start_time": "2024-07-23T15:44:50.089218",
     "status": "completed"
    },
    "tags": []
   },
   "outputs": [
    {
     "data": {
      "text/html": [
       "<style>#sk-container-id-1 {color: black;background-color: white;}#sk-container-id-1 pre{padding: 0;}#sk-container-id-1 div.sk-toggleable {background-color: white;}#sk-container-id-1 label.sk-toggleable__label {cursor: pointer;display: block;width: 100%;margin-bottom: 0;padding: 0.3em;box-sizing: border-box;text-align: center;}#sk-container-id-1 label.sk-toggleable__label-arrow:before {content: \"▸\";float: left;margin-right: 0.25em;color: #696969;}#sk-container-id-1 label.sk-toggleable__label-arrow:hover:before {color: black;}#sk-container-id-1 div.sk-estimator:hover label.sk-toggleable__label-arrow:before {color: black;}#sk-container-id-1 div.sk-toggleable__content {max-height: 0;max-width: 0;overflow: hidden;text-align: left;background-color: #f0f8ff;}#sk-container-id-1 div.sk-toggleable__content pre {margin: 0.2em;color: black;border-radius: 0.25em;background-color: #f0f8ff;}#sk-container-id-1 input.sk-toggleable__control:checked~div.sk-toggleable__content {max-height: 200px;max-width: 100%;overflow: auto;}#sk-container-id-1 input.sk-toggleable__control:checked~label.sk-toggleable__label-arrow:before {content: \"▾\";}#sk-container-id-1 div.sk-estimator input.sk-toggleable__control:checked~label.sk-toggleable__label {background-color: #d4ebff;}#sk-container-id-1 div.sk-label input.sk-toggleable__control:checked~label.sk-toggleable__label {background-color: #d4ebff;}#sk-container-id-1 input.sk-hidden--visually {border: 0;clip: rect(1px 1px 1px 1px);clip: rect(1px, 1px, 1px, 1px);height: 1px;margin: -1px;overflow: hidden;padding: 0;position: absolute;width: 1px;}#sk-container-id-1 div.sk-estimator {font-family: monospace;background-color: #f0f8ff;border: 1px dotted black;border-radius: 0.25em;box-sizing: border-box;margin-bottom: 0.5em;}#sk-container-id-1 div.sk-estimator:hover {background-color: #d4ebff;}#sk-container-id-1 div.sk-parallel-item::after {content: \"\";width: 100%;border-bottom: 1px solid gray;flex-grow: 1;}#sk-container-id-1 div.sk-label:hover label.sk-toggleable__label {background-color: #d4ebff;}#sk-container-id-1 div.sk-serial::before {content: \"\";position: absolute;border-left: 1px solid gray;box-sizing: border-box;top: 0;bottom: 0;left: 50%;z-index: 0;}#sk-container-id-1 div.sk-serial {display: flex;flex-direction: column;align-items: center;background-color: white;padding-right: 0.2em;padding-left: 0.2em;position: relative;}#sk-container-id-1 div.sk-item {position: relative;z-index: 1;}#sk-container-id-1 div.sk-parallel {display: flex;align-items: stretch;justify-content: center;background-color: white;position: relative;}#sk-container-id-1 div.sk-item::before, #sk-container-id-1 div.sk-parallel-item::before {content: \"\";position: absolute;border-left: 1px solid gray;box-sizing: border-box;top: 0;bottom: 0;left: 50%;z-index: -1;}#sk-container-id-1 div.sk-parallel-item {display: flex;flex-direction: column;z-index: 1;position: relative;background-color: white;}#sk-container-id-1 div.sk-parallel-item:first-child::after {align-self: flex-end;width: 50%;}#sk-container-id-1 div.sk-parallel-item:last-child::after {align-self: flex-start;width: 50%;}#sk-container-id-1 div.sk-parallel-item:only-child::after {width: 0;}#sk-container-id-1 div.sk-dashed-wrapped {border: 1px dashed gray;margin: 0 0.4em 0.5em 0.4em;box-sizing: border-box;padding-bottom: 0.4em;background-color: white;}#sk-container-id-1 div.sk-label label {font-family: monospace;font-weight: bold;display: inline-block;line-height: 1.2em;}#sk-container-id-1 div.sk-label-container {text-align: center;}#sk-container-id-1 div.sk-container {/* jupyter's `normalize.less` sets `[hidden] { display: none; }` but bootstrap.min.css set `[hidden] { display: none !important; }` so we also need the `!important` here to be able to override the default hidden behavior on the sphinx rendered scikit-learn.org. See: https://github.com/scikit-learn/scikit-learn/issues/21755 */display: inline-block !important;position: relative;}#sk-container-id-1 div.sk-text-repr-fallback {display: none;}</style><div id=\"sk-container-id-1\" class=\"sk-top-container\"><div class=\"sk-text-repr-fallback\"><pre>GaussianMixture(init_params=&#x27;k-means++&#x27;, n_components=3, n_init=10,\n",
       "                random_state=42)</pre><b>In a Jupyter environment, please rerun this cell to show the HTML representation or trust the notebook. <br />On GitHub, the HTML representation is unable to render, please try loading this page with nbviewer.org.</b></div><div class=\"sk-container\" hidden><div class=\"sk-item\"><div class=\"sk-estimator sk-toggleable\"><input class=\"sk-toggleable__control sk-hidden--visually\" id=\"sk-estimator-id-1\" type=\"checkbox\" checked><label for=\"sk-estimator-id-1\" class=\"sk-toggleable__label sk-toggleable__label-arrow\">GaussianMixture</label><div class=\"sk-toggleable__content\"><pre>GaussianMixture(init_params=&#x27;k-means++&#x27;, n_components=3, n_init=10,\n",
       "                random_state=42)</pre></div></div></div></div></div>"
      ],
      "text/plain": [
       "GaussianMixture(init_params='k-means++', n_components=3, n_init=10,\n",
       "                random_state=42)"
      ]
     },
     "execution_count": 15,
     "metadata": {},
     "output_type": "execute_result"
    }
   ],
   "source": [
    "gm.fit(dataset)"
   ]
  },
  {
   "cell_type": "code",
   "execution_count": 16,
   "id": "5cd21ea2",
   "metadata": {
    "execution": {
     "iopub.execute_input": "2024-07-23T15:44:58.715992Z",
     "iopub.status.busy": "2024-07-23T15:44:58.715252Z",
     "iopub.status.idle": "2024-07-23T15:44:58.734556Z",
     "shell.execute_reply": "2024-07-23T15:44:58.733194Z"
    },
    "papermill": {
     "duration": 0.062068,
     "end_time": "2024-07-23T15:44:58.737992",
     "exception": false,
     "start_time": "2024-07-23T15:44:58.675924",
     "status": "completed"
    },
    "tags": []
   },
   "outputs": [],
   "source": [
    "cc_segments = gm.predict(dataset)"
   ]
  },
  {
   "cell_type": "code",
   "execution_count": 17,
   "id": "28c7465e",
   "metadata": {
    "execution": {
     "iopub.execute_input": "2024-07-23T15:44:58.769348Z",
     "iopub.status.busy": "2024-07-23T15:44:58.768748Z",
     "iopub.status.idle": "2024-07-23T15:44:58.815297Z",
     "shell.execute_reply": "2024-07-23T15:44:58.814031Z"
    },
    "papermill": {
     "duration": 0.064641,
     "end_time": "2024-07-23T15:44:58.818801",
     "exception": false,
     "start_time": "2024-07-23T15:44:58.754160",
     "status": "completed"
    },
    "tags": []
   },
   "outputs": [],
   "source": [
    "from sklearn.decomposition import PCA\n",
    "pca_components = PCA(n_components = 2, copy=True).fit_transform(dataset)"
   ]
  },
  {
   "cell_type": "code",
   "execution_count": 18,
   "id": "d6ad2d2f",
   "metadata": {
    "execution": {
     "iopub.execute_input": "2024-07-23T15:44:58.860156Z",
     "iopub.status.busy": "2024-07-23T15:44:58.859642Z",
     "iopub.status.idle": "2024-07-23T15:44:59.289166Z",
     "shell.execute_reply": "2024-07-23T15:44:59.287641Z"
    },
    "papermill": {
     "duration": 0.459976,
     "end_time": "2024-07-23T15:44:59.292074",
     "exception": false,
     "start_time": "2024-07-23T15:44:58.832098",
     "status": "completed"
    },
    "tags": []
   },
   "outputs": [
    {
     "data": {
      "image/png": "[encoded data removed]",
      "text/plain": [
       "<Figure size 640x480 with 1 Axes>"
      ]
     },
     "metadata": {},
     "output_type": "display_data"
    }
   ],
   "source": [
    "plt.scatter(pca_components[:,0], pca_components[:,1], c=cc_segments, cmap='tab10')\n",
    "plt.xlabel(\"PCA Component 1\")\n",
    "plt.ylabel(\"PCA Component 2\")\n",
    "plt.title(\"CC Clustering using GMM\")\n",
    "plt.show()"
   ]
  }
 ],
 "metadata": {
  "kaggle": {
   "accelerator": "none",
   "dataSources": [
    {
     "datasetId": 14701,
     "sourceId": 19663,
     "sourceType": "datasetVersion"
    }
   ],
   "dockerImageVersionId": 30746,
   "isGpuEnabled": false,
   "isInternetEnabled": true,
   "language": "python",
   "sourceType": "notebook"
  },
  "kernelspec": {
   "display_name": "Python 3",
   "language": "python",
   "name": "python3"
  },
  "language_info": {
   "codemirror_mode": {
    "name": "ipython",
    "version": 3
   },
   "file_extension": ".py",
   "mimetype": "text/x-python",
   "name": "python",
   "nbconvert_exporter": "python",
   "pygments_lexer": "ipython3",
   "version": "3.10.13"
  },
  "papermill": {
   "default_parameters": {},
   "duration": 146.547596,
   "end_time": "2024-07-23T15:44:59.923918",
   "environment_variables": {},
   "exception": null,
   "input_path": "__notebook__.ipynb",
   "output_path": "__notebook__.ipynb",
   "parameters": {},
   "start_time": "2024-07-23T15:42:33.376322",
   "version": "2.5.0"
  }
 },
 "nbformat": 4,
 "nbformat_minor": 5
}
