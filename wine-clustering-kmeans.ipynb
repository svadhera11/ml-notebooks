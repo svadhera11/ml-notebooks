{
 "cells": [
  {
   "cell_type": "code",
   "execution_count": 1,
   "id": "8e518126",
   "metadata": {
    "_cell_guid": "b1076dfc-b9ad-4769-8c92-a6c4dae69d19",
    "_uuid": "8f2839f25d086af736a60e9eeb907d3b93b6e0e5",
    "execution": {
     "iopub.execute_input": "2024-07-22T11:38:16.618267Z",
     "iopub.status.busy": "2024-07-22T11:38:16.617689Z",
     "iopub.status.idle": "2024-07-22T11:38:17.441689Z",
     "shell.execute_reply": "2024-07-22T11:38:17.440233Z"
    },
    "papermill": {
     "duration": 0.834044,
     "end_time": "2024-07-22T11:38:17.444813",
     "exception": false,
     "start_time": "2024-07-22T11:38:16.610769",
     "status": "completed"
    },
    "tags": []
   },
   "outputs": [
    {
     "name": "stdout",
     "output_type": "stream",
     "text": [
      "/kaggle/input/wine-dataset-for-clustering/wine-clustering.csv\n"
     ]
    }
   ],
   "source": [
    "# This Python 3 environment comes with many helpful analytics libraries installed\n",
    "# It is defined by the kaggle/python Docker image: https://github.com/kaggle/docker-python\n",
    "# For example, here's several helpful packages to load\n",
    "\n",
    "import numpy as np # linear algebra\n",
    "import pandas as pd # data processing, CSV file I/O (e.g. pd.read_csv)\n",
    "\n",
    "# Input data files are available in the read-only \"../input/\" directory\n",
    "# For example, running this (by clicking run or pressing Shift+Enter) will list all files under the input directory\n",
    "\n",
    "import os\n",
    "for dirname, _, filenames in os.walk('/kaggle/input'):\n",
    "    for filename in filenames:\n",
    "        print(os.path.join(dirname, filename))\n",
    "\n",
    "# You can write up to 20GB to the current directory (/kaggle/working/) that gets preserved as output when you create a version using \"Save & Run All\" \n",
    "# You can also write temporary files to /kaggle/temp/, but they won't be saved outside of the current session"
   ]
  },
  {
   "cell_type": "code",
   "execution_count": 2,
   "id": "f32dab14",
   "metadata": {
    "execution": {
     "iopub.execute_input": "2024-07-22T11:38:17.456359Z",
     "iopub.status.busy": "2024-07-22T11:38:17.455872Z",
     "iopub.status.idle": "2024-07-22T11:38:17.460193Z",
     "shell.execute_reply": "2024-07-22T11:38:17.459212Z"
    },
    "papermill": {
     "duration": 0.012319,
     "end_time": "2024-07-22T11:38:17.462224",
     "exception": false,
     "start_time": "2024-07-22T11:38:17.449905",
     "status": "completed"
    },
    "tags": []
   },
   "outputs": [],
   "source": [
    "# These data are the results of a chemical analysis of wines grown in the same region in Italy but\n",
    "# derived from three different cultivars. \n",
    "# The analysis determined the quantities of 13 constituents found in each of the three types of wines."
   ]
  },
  {
   "cell_type": "code",
   "execution_count": 3,
   "id": "d5755463",
   "metadata": {
    "execution": {
     "iopub.execute_input": "2024-07-22T11:38:17.472865Z",
     "iopub.status.busy": "2024-07-22T11:38:17.472549Z",
     "iopub.status.idle": "2024-07-22T11:38:17.487398Z",
     "shell.execute_reply": "2024-07-22T11:38:17.486386Z"
    },
    "papermill": {
     "duration": 0.022797,
     "end_time": "2024-07-22T11:38:17.489660",
     "exception": false,
     "start_time": "2024-07-22T11:38:17.466863",
     "status": "completed"
    },
    "tags": []
   },
   "outputs": [],
   "source": [
    "dataset = pd.read_csv('/kaggle/input/wine-dataset-for-clustering/wine-clustering.csv')"
   ]
  },
  {
   "cell_type": "code",
   "execution_count": 4,
   "id": "dc917c5c",
   "metadata": {
    "execution": {
     "iopub.execute_input": "2024-07-22T11:38:17.500372Z",
     "iopub.status.busy": "2024-07-22T11:38:17.500017Z",
     "iopub.status.idle": "2024-07-22T11:38:17.528116Z",
     "shell.execute_reply": "2024-07-22T11:38:17.527121Z"
    },
    "papermill": {
     "duration": 0.035798,
     "end_time": "2024-07-22T11:38:17.530232",
     "exception": false,
     "start_time": "2024-07-22T11:38:17.494434",
     "status": "completed"
    },
    "tags": []
   },
   "outputs": [
    {
     "data": {
      "text/html": [
       "<div>\n",
       "<style scoped>\n",
       "    .dataframe tbody tr th:only-of-type {\n",
       "        vertical-align: middle;\n",
       "    }\n",
       "\n",
       "    .dataframe tbody tr th {\n",
       "        vertical-align: top;\n",
       "    }\n",
       "\n",
       "    .dataframe thead th {\n",
       "        text-align: right;\n",
       "    }\n",
       "</style>\n",
       "<table border=\"1\" class=\"dataframe\">\n",
       "  <thead>\n",
       "    <tr style=\"text-align: right;\">\n",
       "      <th></th>\n",
       "      <th>Alcohol</th>\n",
       "      <th>Malic_Acid</th>\n",
       "      <th>Ash</th>\n",
       "      <th>Ash_Alcanity</th>\n",
       "      <th>Magnesium</th>\n",
       "      <th>Total_Phenols</th>\n",
       "      <th>Flavanoids</th>\n",
       "      <th>Nonflavanoid_Phenols</th>\n",
       "      <th>Proanthocyanins</th>\n",
       "      <th>Color_Intensity</th>\n",
       "      <th>Hue</th>\n",
       "      <th>OD280</th>\n",
       "      <th>Proline</th>\n",
       "    </tr>\n",
       "  </thead>\n",
       "  <tbody>\n",
       "    <tr>\n",
       "      <th>0</th>\n",
       "      <td>14.23</td>\n",
       "      <td>1.71</td>\n",
       "      <td>2.43</td>\n",
       "      <td>15.6</td>\n",
       "      <td>127</td>\n",
       "      <td>2.80</td>\n",
       "      <td>3.06</td>\n",
       "      <td>0.28</td>\n",
       "      <td>2.29</td>\n",
       "      <td>5.64</td>\n",
       "      <td>1.04</td>\n",
       "      <td>3.92</td>\n",
       "      <td>1065</td>\n",
       "    </tr>\n",
       "    <tr>\n",
       "      <th>1</th>\n",
       "      <td>13.20</td>\n",
       "      <td>1.78</td>\n",
       "      <td>2.14</td>\n",
       "      <td>11.2</td>\n",
       "      <td>100</td>\n",
       "      <td>2.65</td>\n",
       "      <td>2.76</td>\n",
       "      <td>0.26</td>\n",
       "      <td>1.28</td>\n",
       "      <td>4.38</td>\n",
       "      <td>1.05</td>\n",
       "      <td>3.40</td>\n",
       "      <td>1050</td>\n",
       "    </tr>\n",
       "    <tr>\n",
       "      <th>2</th>\n",
       "      <td>13.16</td>\n",
       "      <td>2.36</td>\n",
       "      <td>2.67</td>\n",
       "      <td>18.6</td>\n",
       "      <td>101</td>\n",
       "      <td>2.80</td>\n",
       "      <td>3.24</td>\n",
       "      <td>0.30</td>\n",
       "      <td>2.81</td>\n",
       "      <td>5.68</td>\n",
       "      <td>1.03</td>\n",
       "      <td>3.17</td>\n",
       "      <td>1185</td>\n",
       "    </tr>\n",
       "    <tr>\n",
       "      <th>3</th>\n",
       "      <td>14.37</td>\n",
       "      <td>1.95</td>\n",
       "      <td>2.50</td>\n",
       "      <td>16.8</td>\n",
       "      <td>113</td>\n",
       "      <td>3.85</td>\n",
       "      <td>3.49</td>\n",
       "      <td>0.24</td>\n",
       "      <td>2.18</td>\n",
       "      <td>7.80</td>\n",
       "      <td>0.86</td>\n",
       "      <td>3.45</td>\n",
       "      <td>1480</td>\n",
       "    </tr>\n",
       "    <tr>\n",
       "      <th>4</th>\n",
       "      <td>13.24</td>\n",
       "      <td>2.59</td>\n",
       "      <td>2.87</td>\n",
       "      <td>21.0</td>\n",
       "      <td>118</td>\n",
       "      <td>2.80</td>\n",
       "      <td>2.69</td>\n",
       "      <td>0.39</td>\n",
       "      <td>1.82</td>\n",
       "      <td>4.32</td>\n",
       "      <td>1.04</td>\n",
       "      <td>2.93</td>\n",
       "      <td>735</td>\n",
       "    </tr>\n",
       "  </tbody>\n",
       "</table>\n",
       "</div>"
      ],
      "text/plain": [
       "   Alcohol  Malic_Acid   Ash  Ash_Alcanity  Magnesium  Total_Phenols  \\\n",
       "0    14.23        1.71  2.43          15.6        127           2.80   \n",
       "1    13.20        1.78  2.14          11.2        100           2.65   \n",
       "2    13.16        2.36  2.67          18.6        101           2.80   \n",
       "3    14.37        1.95  2.50          16.8        113           3.85   \n",
       "4    13.24        2.59  2.87          21.0        118           2.80   \n",
       "\n",
       "   Flavanoids  Nonflavanoid_Phenols  Proanthocyanins  Color_Intensity   Hue  \\\n",
       "0        3.06                  0.28             2.29             5.64  1.04   \n",
       "1        2.76                  0.26             1.28             4.38  1.05   \n",
       "2        3.24                  0.30             2.81             5.68  1.03   \n",
       "3        3.49                  0.24             2.18             7.80  0.86   \n",
       "4        2.69                  0.39             1.82             4.32  1.04   \n",
       "\n",
       "   OD280  Proline  \n",
       "0   3.92     1065  \n",
       "1   3.40     1050  \n",
       "2   3.17     1185  \n",
       "3   3.45     1480  \n",
       "4   2.93      735  "
      ]
     },
     "execution_count": 4,
     "metadata": {},
     "output_type": "execute_result"
    }
   ],
   "source": [
    "dataset.head()"
   ]
  },
  {
   "cell_type": "code",
   "execution_count": 5,
   "id": "b339aaa5",
   "metadata": {
    "execution": {
     "iopub.execute_input": "2024-07-22T11:38:17.541766Z",
     "iopub.status.busy": "2024-07-22T11:38:17.541407Z",
     "iopub.status.idle": "2024-07-22T11:38:17.565256Z",
     "shell.execute_reply": "2024-07-22T11:38:17.564037Z"
    },
    "papermill": {
     "duration": 0.0323,
     "end_time": "2024-07-22T11:38:17.567506",
     "exception": false,
     "start_time": "2024-07-22T11:38:17.535206",
     "status": "completed"
    },
    "tags": []
   },
   "outputs": [
    {
     "name": "stdout",
     "output_type": "stream",
     "text": [
      "<class 'pandas.core.frame.DataFrame'>\n",
      "RangeIndex: 178 entries, 0 to 177\n",
      "Data columns (total 13 columns):\n",
      " #   Column                Non-Null Count  Dtype  \n",
      "---  ------                --------------  -----  \n",
      " 0   Alcohol               178 non-null    float64\n",
      " 1   Malic_Acid            178 non-null    float64\n",
      " 2   Ash                   178 non-null    float64\n",
      " 3   Ash_Alcanity          178 non-null    float64\n",
      " 4   Magnesium             178 non-null    int64  \n",
      " 5   Total_Phenols         178 non-null    float64\n",
      " 6   Flavanoids            178 non-null    float64\n",
      " 7   Nonflavanoid_Phenols  178 non-null    float64\n",
      " 8   Proanthocyanins       178 non-null    float64\n",
      " 9   Color_Intensity       178 non-null    float64\n",
      " 10  Hue                   178 non-null    float64\n",
      " 11  OD280                 178 non-null    float64\n",
      " 12  Proline               178 non-null    int64  \n",
      "dtypes: float64(11), int64(2)\n",
      "memory usage: 18.2 KB\n"
     ]
    }
   ],
   "source": [
    "dataset.info()"
   ]
  },
  {
   "cell_type": "code",
   "execution_count": 6,
   "id": "223e6ac5",
   "metadata": {
    "execution": {
     "iopub.execute_input": "2024-07-22T11:38:17.580594Z",
     "iopub.status.busy": "2024-07-22T11:38:17.579756Z",
     "iopub.status.idle": "2024-07-22T11:38:18.664304Z",
     "shell.execute_reply": "2024-07-22T11:38:18.663384Z"
    },
    "papermill": {
     "duration": 1.093976,
     "end_time": "2024-07-22T11:38:18.666765",
     "exception": false,
     "start_time": "2024-07-22T11:38:17.572789",
     "status": "completed"
    },
    "tags": []
   },
   "outputs": [],
   "source": [
    "from sklearn.preprocessing import StandardScaler\n",
    "scaler = StandardScaler()\n",
    "columns_to_scale = dataset.columns\n",
    "dataset[columns_to_scale] = scaler.fit_transform(dataset[columns_to_scale])"
   ]
  },
  {
   "cell_type": "code",
   "execution_count": 7,
   "id": "0e60a8b8",
   "metadata": {
    "execution": {
     "iopub.execute_input": "2024-07-22T11:38:18.679041Z",
     "iopub.status.busy": "2024-07-22T11:38:18.678311Z",
     "iopub.status.idle": "2024-07-22T11:38:18.695318Z",
     "shell.execute_reply": "2024-07-22T11:38:18.694274Z"
    },
    "papermill": {
     "duration": 0.025515,
     "end_time": "2024-07-22T11:38:18.697446",
     "exception": false,
     "start_time": "2024-07-22T11:38:18.671931",
     "status": "completed"
    },
    "tags": []
   },
   "outputs": [
    {
     "data": {
      "text/html": [
       "<div>\n",
       "<style scoped>\n",
       "    .dataframe tbody tr th:only-of-type {\n",
       "        vertical-align: middle;\n",
       "    }\n",
       "\n",
       "    .dataframe tbody tr th {\n",
       "        vertical-align: top;\n",
       "    }\n",
       "\n",
       "    .dataframe thead th {\n",
       "        text-align: right;\n",
       "    }\n",
       "</style>\n",
       "<table border=\"1\" class=\"dataframe\">\n",
       "  <thead>\n",
       "    <tr style=\"text-align: right;\">\n",
       "      <th></th>\n",
       "      <th>Alcohol</th>\n",
       "      <th>Malic_Acid</th>\n",
       "      <th>Ash</th>\n",
       "      <th>Ash_Alcanity</th>\n",
       "      <th>Magnesium</th>\n",
       "      <th>Total_Phenols</th>\n",
       "      <th>Flavanoids</th>\n",
       "      <th>Nonflavanoid_Phenols</th>\n",
       "      <th>Proanthocyanins</th>\n",
       "      <th>Color_Intensity</th>\n",
       "      <th>Hue</th>\n",
       "      <th>OD280</th>\n",
       "      <th>Proline</th>\n",
       "    </tr>\n",
       "  </thead>\n",
       "  <tbody>\n",
       "    <tr>\n",
       "      <th>0</th>\n",
       "      <td>1.518613</td>\n",
       "      <td>-0.562250</td>\n",
       "      <td>0.232053</td>\n",
       "      <td>-1.169593</td>\n",
       "      <td>1.913905</td>\n",
       "      <td>0.808997</td>\n",
       "      <td>1.034819</td>\n",
       "      <td>-0.659563</td>\n",
       "      <td>1.224884</td>\n",
       "      <td>0.251717</td>\n",
       "      <td>0.362177</td>\n",
       "      <td>1.847920</td>\n",
       "      <td>1.013009</td>\n",
       "    </tr>\n",
       "    <tr>\n",
       "      <th>1</th>\n",
       "      <td>0.246290</td>\n",
       "      <td>-0.499413</td>\n",
       "      <td>-0.827996</td>\n",
       "      <td>-2.490847</td>\n",
       "      <td>0.018145</td>\n",
       "      <td>0.568648</td>\n",
       "      <td>0.733629</td>\n",
       "      <td>-0.820719</td>\n",
       "      <td>-0.544721</td>\n",
       "      <td>-0.293321</td>\n",
       "      <td>0.406051</td>\n",
       "      <td>1.113449</td>\n",
       "      <td>0.965242</td>\n",
       "    </tr>\n",
       "    <tr>\n",
       "      <th>2</th>\n",
       "      <td>0.196879</td>\n",
       "      <td>0.021231</td>\n",
       "      <td>1.109334</td>\n",
       "      <td>-0.268738</td>\n",
       "      <td>0.088358</td>\n",
       "      <td>0.808997</td>\n",
       "      <td>1.215533</td>\n",
       "      <td>-0.498407</td>\n",
       "      <td>2.135968</td>\n",
       "      <td>0.269020</td>\n",
       "      <td>0.318304</td>\n",
       "      <td>0.788587</td>\n",
       "      <td>1.395148</td>\n",
       "    </tr>\n",
       "    <tr>\n",
       "      <th>3</th>\n",
       "      <td>1.691550</td>\n",
       "      <td>-0.346811</td>\n",
       "      <td>0.487926</td>\n",
       "      <td>-0.809251</td>\n",
       "      <td>0.930918</td>\n",
       "      <td>2.491446</td>\n",
       "      <td>1.466525</td>\n",
       "      <td>-0.981875</td>\n",
       "      <td>1.032155</td>\n",
       "      <td>1.186068</td>\n",
       "      <td>-0.427544</td>\n",
       "      <td>1.184071</td>\n",
       "      <td>2.334574</td>\n",
       "    </tr>\n",
       "    <tr>\n",
       "      <th>4</th>\n",
       "      <td>0.295700</td>\n",
       "      <td>0.227694</td>\n",
       "      <td>1.840403</td>\n",
       "      <td>0.451946</td>\n",
       "      <td>1.281985</td>\n",
       "      <td>0.808997</td>\n",
       "      <td>0.663351</td>\n",
       "      <td>0.226796</td>\n",
       "      <td>0.401404</td>\n",
       "      <td>-0.319276</td>\n",
       "      <td>0.362177</td>\n",
       "      <td>0.449601</td>\n",
       "      <td>-0.037874</td>\n",
       "    </tr>\n",
       "  </tbody>\n",
       "</table>\n",
       "</div>"
      ],
      "text/plain": [
       "    Alcohol  Malic_Acid       Ash  Ash_Alcanity  Magnesium  Total_Phenols  \\\n",
       "0  1.518613   -0.562250  0.232053     -1.169593   1.913905       0.808997   \n",
       "1  0.246290   -0.499413 -0.827996     -2.490847   0.018145       0.568648   \n",
       "2  0.196879    0.021231  1.109334     -0.268738   0.088358       0.808997   \n",
       "3  1.691550   -0.346811  0.487926     -0.809251   0.930918       2.491446   \n",
       "4  0.295700    0.227694  1.840403      0.451946   1.281985       0.808997   \n",
       "\n",
       "   Flavanoids  Nonflavanoid_Phenols  Proanthocyanins  Color_Intensity  \\\n",
       "0    1.034819             -0.659563         1.224884         0.251717   \n",
       "1    0.733629             -0.820719        -0.544721        -0.293321   \n",
       "2    1.215533             -0.498407         2.135968         0.269020   \n",
       "3    1.466525             -0.981875         1.032155         1.186068   \n",
       "4    0.663351              0.226796         0.401404        -0.319276   \n",
       "\n",
       "        Hue     OD280   Proline  \n",
       "0  0.362177  1.847920  1.013009  \n",
       "1  0.406051  1.113449  0.965242  \n",
       "2  0.318304  0.788587  1.395148  \n",
       "3 -0.427544  1.184071  2.334574  \n",
       "4  0.362177  0.449601 -0.037874  "
      ]
     },
     "execution_count": 7,
     "metadata": {},
     "output_type": "execute_result"
    }
   ],
   "source": [
    "dataset.head()"
   ]
  },
  {
   "cell_type": "code",
   "execution_count": 8,
   "id": "a1e556a0",
   "metadata": {
    "execution": {
     "iopub.execute_input": "2024-07-22T11:38:18.709842Z",
     "iopub.status.busy": "2024-07-22T11:38:18.708975Z",
     "iopub.status.idle": "2024-07-22T11:38:19.109802Z",
     "shell.execute_reply": "2024-07-22T11:38:19.108927Z"
    },
    "papermill": {
     "duration": 0.409481,
     "end_time": "2024-07-22T11:38:19.112170",
     "exception": false,
     "start_time": "2024-07-22T11:38:18.702689",
     "status": "completed"
    },
    "tags": []
   },
   "outputs": [],
   "source": [
    "from sklearn.cluster import KMeans"
   ]
  },
  {
   "cell_type": "code",
   "execution_count": 9,
   "id": "148934c2",
   "metadata": {
    "execution": {
     "iopub.execute_input": "2024-07-22T11:38:19.124561Z",
     "iopub.status.busy": "2024-07-22T11:38:19.124175Z",
     "iopub.status.idle": "2024-07-22T11:38:19.128791Z",
     "shell.execute_reply": "2024-07-22T11:38:19.127798Z"
    },
    "papermill": {
     "duration": 0.013216,
     "end_time": "2024-07-22T11:38:19.130809",
     "exception": false,
     "start_time": "2024-07-22T11:38:19.117593",
     "status": "completed"
    },
    "tags": []
   },
   "outputs": [],
   "source": [
    "from matplotlib import pyplot as plt"
   ]
  },
  {
   "cell_type": "code",
   "execution_count": 10,
   "id": "e44cf6b0",
   "metadata": {
    "execution": {
     "iopub.execute_input": "2024-07-22T11:38:19.143053Z",
     "iopub.status.busy": "2024-07-22T11:38:19.142338Z",
     "iopub.status.idle": "2024-07-22T11:38:19.608356Z",
     "shell.execute_reply": "2024-07-22T11:38:19.607328Z"
    },
    "papermill": {
     "duration": 0.474547,
     "end_time": "2024-07-22T11:38:19.610632",
     "exception": false,
     "start_time": "2024-07-22T11:38:19.136085",
     "status": "completed"
    },
    "tags": []
   },
   "outputs": [
    {
     "data": {
      "image/png": "[encoded data removed]",
      "text/plain": [
       "<Figure size 640x480 with 1 Axes>"
      ]
     },
     "metadata": {},
     "output_type": "display_data"
    }
   ],
   "source": [
    "wcss = [] #within-cluster-sum-of-squares.\n",
    "for i in range(1, 10):\n",
    "    km_cluster_test = KMeans(n_clusters=i,n_init=10,max_iter=1000,random_state=42,copy_x=True,\n",
    "                   algorithm='lloyd')\n",
    "    wcss.append([i, km_cluster_test.fit(dataset).inertia_])\n",
    "wcss = np.array(wcss).reshape(-1,2)\n",
    "\n",
    "plt.plot(wcss[:,0], np.log(wcss[:,1]))\n",
    "plt.xlabel(\"K\")\n",
    "plt.ylabel(\"log(WCSS)\")\n",
    "plt.title(\"The Elbow Method\")\n",
    "plt.show()"
   ]
  },
  {
   "cell_type": "code",
   "execution_count": 11,
   "id": "223edb9b",
   "metadata": {
    "execution": {
     "iopub.execute_input": "2024-07-22T11:38:19.623776Z",
     "iopub.status.busy": "2024-07-22T11:38:19.623414Z",
     "iopub.status.idle": "2024-07-22T11:38:19.628266Z",
     "shell.execute_reply": "2024-07-22T11:38:19.627333Z"
    },
    "papermill": {
     "duration": 0.013968,
     "end_time": "2024-07-22T11:38:19.630343",
     "exception": false,
     "start_time": "2024-07-22T11:38:19.616375",
     "status": "completed"
    },
    "tags": []
   },
   "outputs": [],
   "source": [
    "km_cluster = KMeans(n_clusters=3,n_init=10,max_iter=1000,random_state=42,copy_x=True,\n",
    "                   algorithm='lloyd')"
   ]
  },
  {
   "cell_type": "code",
   "execution_count": 12,
   "id": "1a2e0302",
   "metadata": {
    "execution": {
     "iopub.execute_input": "2024-07-22T11:38:19.642990Z",
     "iopub.status.busy": "2024-07-22T11:38:19.642632Z",
     "iopub.status.idle": "2024-07-22T11:38:19.666879Z",
     "shell.execute_reply": "2024-07-22T11:38:19.665922Z"
    },
    "papermill": {
     "duration": 0.033387,
     "end_time": "2024-07-22T11:38:19.669393",
     "exception": false,
     "start_time": "2024-07-22T11:38:19.636006",
     "status": "completed"
    },
    "tags": []
   },
   "outputs": [],
   "source": [
    "cultivar_pred = km_cluster.fit_predict(dataset)"
   ]
  },
  {
   "cell_type": "code",
   "execution_count": 13,
   "id": "39ed86f6",
   "metadata": {
    "execution": {
     "iopub.execute_input": "2024-07-22T11:38:19.682812Z",
     "iopub.status.busy": "2024-07-22T11:38:19.682437Z",
     "iopub.status.idle": "2024-07-22T11:38:19.687214Z",
     "shell.execute_reply": "2024-07-22T11:38:19.686254Z"
    },
    "papermill": {
     "duration": 0.01376,
     "end_time": "2024-07-22T11:38:19.689327",
     "exception": false,
     "start_time": "2024-07-22T11:38:19.675567",
     "status": "completed"
    },
    "tags": []
   },
   "outputs": [],
   "source": [
    "dataset_predicted = pd.DataFrame(dataset)"
   ]
  },
  {
   "cell_type": "code",
   "execution_count": 14,
   "id": "d065ac6e",
   "metadata": {
    "execution": {
     "iopub.execute_input": "2024-07-22T11:38:19.702783Z",
     "iopub.status.busy": "2024-07-22T11:38:19.701913Z",
     "iopub.status.idle": "2024-07-22T11:38:19.707262Z",
     "shell.execute_reply": "2024-07-22T11:38:19.706295Z"
    },
    "papermill": {
     "duration": 0.014098,
     "end_time": "2024-07-22T11:38:19.709256",
     "exception": false,
     "start_time": "2024-07-22T11:38:19.695158",
     "status": "completed"
    },
    "tags": []
   },
   "outputs": [],
   "source": [
    "dataset_predicted['cultivar_pred'] = cultivar_pred"
   ]
  },
  {
   "cell_type": "code",
   "execution_count": 15,
   "id": "6991f06e",
   "metadata": {
    "execution": {
     "iopub.execute_input": "2024-07-22T11:38:19.721985Z",
     "iopub.status.busy": "2024-07-22T11:38:19.721614Z",
     "iopub.status.idle": "2024-07-22T11:38:19.739620Z",
     "shell.execute_reply": "2024-07-22T11:38:19.738646Z"
    },
    "papermill": {
     "duration": 0.02687,
     "end_time": "2024-07-22T11:38:19.741783",
     "exception": false,
     "start_time": "2024-07-22T11:38:19.714913",
     "status": "completed"
    },
    "tags": []
   },
   "outputs": [
    {
     "data": {
      "text/html": [
       "<div>\n",
       "<style scoped>\n",
       "    .dataframe tbody tr th:only-of-type {\n",
       "        vertical-align: middle;\n",
       "    }\n",
       "\n",
       "    .dataframe tbody tr th {\n",
       "        vertical-align: top;\n",
       "    }\n",
       "\n",
       "    .dataframe thead th {\n",
       "        text-align: right;\n",
       "    }\n",
       "</style>\n",
       "<table border=\"1\" class=\"dataframe\">\n",
       "  <thead>\n",
       "    <tr style=\"text-align: right;\">\n",
       "      <th></th>\n",
       "      <th>Alcohol</th>\n",
       "      <th>Malic_Acid</th>\n",
       "      <th>Ash</th>\n",
       "      <th>Ash_Alcanity</th>\n",
       "      <th>Magnesium</th>\n",
       "      <th>Total_Phenols</th>\n",
       "      <th>Flavanoids</th>\n",
       "      <th>Nonflavanoid_Phenols</th>\n",
       "      <th>Proanthocyanins</th>\n",
       "      <th>Color_Intensity</th>\n",
       "      <th>Hue</th>\n",
       "      <th>OD280</th>\n",
       "      <th>Proline</th>\n",
       "      <th>cultivar_pred</th>\n",
       "    </tr>\n",
       "  </thead>\n",
       "  <tbody>\n",
       "    <tr>\n",
       "      <th>0</th>\n",
       "      <td>1.518613</td>\n",
       "      <td>-0.562250</td>\n",
       "      <td>0.232053</td>\n",
       "      <td>-1.169593</td>\n",
       "      <td>1.913905</td>\n",
       "      <td>0.808997</td>\n",
       "      <td>1.034819</td>\n",
       "      <td>-0.659563</td>\n",
       "      <td>1.224884</td>\n",
       "      <td>0.251717</td>\n",
       "      <td>0.362177</td>\n",
       "      <td>1.847920</td>\n",
       "      <td>1.013009</td>\n",
       "      <td>1</td>\n",
       "    </tr>\n",
       "    <tr>\n",
       "      <th>1</th>\n",
       "      <td>0.246290</td>\n",
       "      <td>-0.499413</td>\n",
       "      <td>-0.827996</td>\n",
       "      <td>-2.490847</td>\n",
       "      <td>0.018145</td>\n",
       "      <td>0.568648</td>\n",
       "      <td>0.733629</td>\n",
       "      <td>-0.820719</td>\n",
       "      <td>-0.544721</td>\n",
       "      <td>-0.293321</td>\n",
       "      <td>0.406051</td>\n",
       "      <td>1.113449</td>\n",
       "      <td>0.965242</td>\n",
       "      <td>1</td>\n",
       "    </tr>\n",
       "    <tr>\n",
       "      <th>2</th>\n",
       "      <td>0.196879</td>\n",
       "      <td>0.021231</td>\n",
       "      <td>1.109334</td>\n",
       "      <td>-0.268738</td>\n",
       "      <td>0.088358</td>\n",
       "      <td>0.808997</td>\n",
       "      <td>1.215533</td>\n",
       "      <td>-0.498407</td>\n",
       "      <td>2.135968</td>\n",
       "      <td>0.269020</td>\n",
       "      <td>0.318304</td>\n",
       "      <td>0.788587</td>\n",
       "      <td>1.395148</td>\n",
       "      <td>1</td>\n",
       "    </tr>\n",
       "    <tr>\n",
       "      <th>3</th>\n",
       "      <td>1.691550</td>\n",
       "      <td>-0.346811</td>\n",
       "      <td>0.487926</td>\n",
       "      <td>-0.809251</td>\n",
       "      <td>0.930918</td>\n",
       "      <td>2.491446</td>\n",
       "      <td>1.466525</td>\n",
       "      <td>-0.981875</td>\n",
       "      <td>1.032155</td>\n",
       "      <td>1.186068</td>\n",
       "      <td>-0.427544</td>\n",
       "      <td>1.184071</td>\n",
       "      <td>2.334574</td>\n",
       "      <td>1</td>\n",
       "    </tr>\n",
       "    <tr>\n",
       "      <th>4</th>\n",
       "      <td>0.295700</td>\n",
       "      <td>0.227694</td>\n",
       "      <td>1.840403</td>\n",
       "      <td>0.451946</td>\n",
       "      <td>1.281985</td>\n",
       "      <td>0.808997</td>\n",
       "      <td>0.663351</td>\n",
       "      <td>0.226796</td>\n",
       "      <td>0.401404</td>\n",
       "      <td>-0.319276</td>\n",
       "      <td>0.362177</td>\n",
       "      <td>0.449601</td>\n",
       "      <td>-0.037874</td>\n",
       "      <td>1</td>\n",
       "    </tr>\n",
       "  </tbody>\n",
       "</table>\n",
       "</div>"
      ],
      "text/plain": [
       "    Alcohol  Malic_Acid       Ash  Ash_Alcanity  Magnesium  Total_Phenols  \\\n",
       "0  1.518613   -0.562250  0.232053     -1.169593   1.913905       0.808997   \n",
       "1  0.246290   -0.499413 -0.827996     -2.490847   0.018145       0.568648   \n",
       "2  0.196879    0.021231  1.109334     -0.268738   0.088358       0.808997   \n",
       "3  1.691550   -0.346811  0.487926     -0.809251   0.930918       2.491446   \n",
       "4  0.295700    0.227694  1.840403      0.451946   1.281985       0.808997   \n",
       "\n",
       "   Flavanoids  Nonflavanoid_Phenols  Proanthocyanins  Color_Intensity  \\\n",
       "0    1.034819             -0.659563         1.224884         0.251717   \n",
       "1    0.733629             -0.820719        -0.544721        -0.293321   \n",
       "2    1.215533             -0.498407         2.135968         0.269020   \n",
       "3    1.466525             -0.981875         1.032155         1.186068   \n",
       "4    0.663351              0.226796         0.401404        -0.319276   \n",
       "\n",
       "        Hue     OD280   Proline  cultivar_pred  \n",
       "0  0.362177  1.847920  1.013009              1  \n",
       "1  0.406051  1.113449  0.965242              1  \n",
       "2  0.318304  0.788587  1.395148              1  \n",
       "3 -0.427544  1.184071  2.334574              1  \n",
       "4  0.362177  0.449601 -0.037874              1  "
      ]
     },
     "execution_count": 15,
     "metadata": {},
     "output_type": "execute_result"
    }
   ],
   "source": [
    "dataset_predicted.head()"
   ]
  },
  {
   "cell_type": "code",
   "execution_count": 16,
   "id": "713a83c9",
   "metadata": {
    "execution": {
     "iopub.execute_input": "2024-07-22T11:38:19.755323Z",
     "iopub.status.busy": "2024-07-22T11:38:19.754973Z",
     "iopub.status.idle": "2024-07-22T11:38:19.759494Z",
     "shell.execute_reply": "2024-07-22T11:38:19.758358Z"
    },
    "papermill": {
     "duration": 0.01376,
     "end_time": "2024-07-22T11:38:19.761587",
     "exception": false,
     "start_time": "2024-07-22T11:38:19.747827",
     "status": "completed"
    },
    "tags": []
   },
   "outputs": [],
   "source": [
    "from sklearn.decomposition import PCA"
   ]
  },
  {
   "cell_type": "code",
   "execution_count": 17,
   "id": "134048bd",
   "metadata": {
    "execution": {
     "iopub.execute_input": "2024-07-22T11:38:19.774772Z",
     "iopub.status.busy": "2024-07-22T11:38:19.774442Z",
     "iopub.status.idle": "2024-07-22T11:38:19.790397Z",
     "shell.execute_reply": "2024-07-22T11:38:19.789528Z"
    },
    "papermill": {
     "duration": 0.024931,
     "end_time": "2024-07-22T11:38:19.792478",
     "exception": false,
     "start_time": "2024-07-22T11:38:19.767547",
     "status": "completed"
    },
    "tags": []
   },
   "outputs": [],
   "source": [
    "pca_components = PCA(n_components=2,copy=True).fit_transform(dataset)"
   ]
  },
  {
   "cell_type": "code",
   "execution_count": 18,
   "id": "68c70baf",
   "metadata": {
    "execution": {
     "iopub.execute_input": "2024-07-22T11:38:19.806410Z",
     "iopub.status.busy": "2024-07-22T11:38:19.806023Z",
     "iopub.status.idle": "2024-07-22T11:38:20.062804Z",
     "shell.execute_reply": "2024-07-22T11:38:20.061817Z"
    },
    "papermill": {
     "duration": 0.266532,
     "end_time": "2024-07-22T11:38:20.065451",
     "exception": false,
     "start_time": "2024-07-22T11:38:19.798919",
     "status": "completed"
    },
    "tags": []
   },
   "outputs": [
    {
     "data": {
      "image/png": "[encoded data removed]",
      "text/plain": [
       "<Figure size 640x480 with 1 Axes>"
      ]
     },
     "metadata": {},
     "output_type": "display_data"
    }
   ],
   "source": [
    "plt.scatter(pca_components[:,0], pca_components[:,1], c=dataset_predicted['cultivar_pred'], cmap='Dark2');\n",
    "plt.xlabel('PCA Component 1')\n",
    "plt.ylabel('PCA Component 2')\n",
    "plt.title('Clustering of Wines from three different cultivars')\n",
    "plt.show()"
   ]
  }
 ],
 "metadata": {
  "kaggle": {
   "accelerator": "none",
   "dataSources": [
    {
     "datasetId": 626341,
     "sourceId": 1116242,
     "sourceType": "datasetVersion"
    }
   ],
   "dockerImageVersionId": 30746,
   "isGpuEnabled": false,
   "isInternetEnabled": false,
   "language": "python",
   "sourceType": "notebook"
  },
  "kernelspec": {
   "display_name": "Python 3",
   "language": "python",
   "name": "python3"
  },
  "language_info": {
   "codemirror_mode": {
    "name": "ipython",
    "version": 3
   },
   "file_extension": ".py",
   "mimetype": "text/x-python",
   "name": "python",
   "nbconvert_exporter": "python",
   "pygments_lexer": "ipython3",
   "version": "3.10.13"
  },
  "papermill": {
   "default_parameters": {},
   "duration": 6.637493,
   "end_time": "2024-07-22T11:38:20.593106",
   "environment_variables": {},
   "exception": null,
   "input_path": "__notebook__.ipynb",
   "output_path": "__notebook__.ipynb",
   "parameters": {},
   "start_time": "2024-07-22T11:38:13.955613",
   "version": "2.5.0"
  }
 },
 "nbformat": 4,
 "nbformat_minor": 5
}
