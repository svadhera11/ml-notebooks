{
 "cells": [
  {
   "cell_type": "code",
   "execution_count": 1,
   "id": "94205c09",
   "metadata": {
    "execution": {
     "iopub.execute_input": "2024-07-21T17:39:44.431089Z",
     "iopub.status.busy": "2024-07-21T17:39:44.430575Z",
     "iopub.status.idle": "2024-07-21T17:39:44.437125Z",
     "shell.execute_reply": "2024-07-21T17:39:44.435993Z"
    },
    "papermill": {
     "duration": 0.025544,
     "end_time": "2024-07-21T17:39:44.439731",
     "exception": false,
     "start_time": "2024-07-21T17:39:44.414187",
     "status": "completed"
    },
    "tags": []
   },
   "outputs": [],
   "source": [
    "# Goal: Predict Employee Satisfaction (Regression) via Decision Trees, bagging, Random Forests, gradient boosting\n",
    "# and XGBoost."
   ]
  },
  {
   "cell_type": "code",
   "execution_count": 2,
   "id": "777addaf",
   "metadata": {
    "_cell_guid": "b1076dfc-b9ad-4769-8c92-a6c4dae69d19",
    "_uuid": "8f2839f25d086af736a60e9eeb907d3b93b6e0e5",
    "execution": {
     "iopub.execute_input": "2024-07-21T17:39:44.469916Z",
     "iopub.status.busy": "2024-07-21T17:39:44.469488Z",
     "iopub.status.idle": "2024-07-21T17:39:45.526822Z",
     "shell.execute_reply": "2024-07-21T17:39:45.524987Z"
    },
    "papermill": {
     "duration": 1.076327,
     "end_time": "2024-07-21T17:39:45.530128",
     "exception": false,
     "start_time": "2024-07-21T17:39:44.453801",
     "status": "completed"
    },
    "tags": []
   },
   "outputs": [
    {
     "name": "stdout",
     "output_type": "stream",
     "text": [
      "/kaggle/input/employees-satisfaction-analysis/Employee Attrition.csv\n",
      "/kaggle/input/employees-satisfaction-analysis/Questions.txt\n"
     ]
    }
   ],
   "source": [
    "# This Python 3 environment comes with many helpful analytics libraries installed\n",
    "# It is defined by the kaggle/python Docker image: https://github.com/kaggle/docker-python\n",
    "# For example, here's several helpful packages to load\n",
    "\n",
    "import numpy as np # linear algebra\n",
    "import pandas as pd # data processing, CSV file I/O (e.g. pd.read_csv)\n",
    "\n",
    "# Input data files are available in the read-only \"../input/\" directory\n",
    "# For example, running this (by clicking run or pressing Shift+Enter) will list all files under the input directory\n",
    "\n",
    "import os\n",
    "for dirname, _, filenames in os.walk('/kaggle/input'):\n",
    "    for filename in filenames:\n",
    "        print(os.path.join(dirname, filename))\n",
    "\n",
    "# You can write up to 20GB to the current directory (/kaggle/working/) that gets preserved as output when you create a version using \"Save & Run All\" \n",
    "# You can also write temporary files to /kaggle/temp/, but they won't be saved outside of the current session"
   ]
  },
  {
   "cell_type": "code",
   "execution_count": 3,
   "id": "0c1e083b",
   "metadata": {
    "execution": {
     "iopub.execute_input": "2024-07-21T17:39:45.563381Z",
     "iopub.status.busy": "2024-07-21T17:39:45.562653Z",
     "iopub.status.idle": "2024-07-21T17:39:45.629181Z",
     "shell.execute_reply": "2024-07-21T17:39:45.627695Z"
    },
    "papermill": {
     "duration": 0.087409,
     "end_time": "2024-07-21T17:39:45.632500",
     "exception": false,
     "start_time": "2024-07-21T17:39:45.545091",
     "status": "completed"
    },
    "tags": []
   },
   "outputs": [],
   "source": [
    "dataset=pd.read_csv('/kaggle/input/employees-satisfaction-analysis/Employee Attrition.csv')\n",
    "dataset=dataset.drop('Emp ID',axis=1)"
   ]
  },
  {
   "cell_type": "code",
   "execution_count": 4,
   "id": "d919c56e",
   "metadata": {
    "execution": {
     "iopub.execute_input": "2024-07-21T17:39:45.663252Z",
     "iopub.status.busy": "2024-07-21T17:39:45.662732Z",
     "iopub.status.idle": "2024-07-21T17:39:45.692528Z",
     "shell.execute_reply": "2024-07-21T17:39:45.691039Z"
    },
    "papermill": {
     "duration": 0.049846,
     "end_time": "2024-07-21T17:39:45.696763",
     "exception": false,
     "start_time": "2024-07-21T17:39:45.646917",
     "status": "completed"
    },
    "tags": []
   },
   "outputs": [
    {
     "data": {
      "text/html": [
       "<div>\n",
       "<style scoped>\n",
       "    .dataframe tbody tr th:only-of-type {\n",
       "        vertical-align: middle;\n",
       "    }\n",
       "\n",
       "    .dataframe tbody tr th {\n",
       "        vertical-align: top;\n",
       "    }\n",
       "\n",
       "    .dataframe thead th {\n",
       "        text-align: right;\n",
       "    }\n",
       "</style>\n",
       "<table border=\"1\" class=\"dataframe\">\n",
       "  <thead>\n",
       "    <tr style=\"text-align: right;\">\n",
       "      <th></th>\n",
       "      <th>satisfaction_level</th>\n",
       "      <th>last_evaluation</th>\n",
       "      <th>number_project</th>\n",
       "      <th>average_montly_hours</th>\n",
       "      <th>time_spend_company</th>\n",
       "      <th>Work_accident</th>\n",
       "      <th>promotion_last_5years</th>\n",
       "      <th>dept</th>\n",
       "      <th>salary</th>\n",
       "    </tr>\n",
       "  </thead>\n",
       "  <tbody>\n",
       "    <tr>\n",
       "      <th>0</th>\n",
       "      <td>0.38</td>\n",
       "      <td>0.53</td>\n",
       "      <td>2.0</td>\n",
       "      <td>157.0</td>\n",
       "      <td>3.0</td>\n",
       "      <td>0.0</td>\n",
       "      <td>0.0</td>\n",
       "      <td>sales</td>\n",
       "      <td>low</td>\n",
       "    </tr>\n",
       "    <tr>\n",
       "      <th>1</th>\n",
       "      <td>0.80</td>\n",
       "      <td>0.86</td>\n",
       "      <td>5.0</td>\n",
       "      <td>262.0</td>\n",
       "      <td>6.0</td>\n",
       "      <td>0.0</td>\n",
       "      <td>0.0</td>\n",
       "      <td>sales</td>\n",
       "      <td>medium</td>\n",
       "    </tr>\n",
       "    <tr>\n",
       "      <th>2</th>\n",
       "      <td>0.11</td>\n",
       "      <td>0.88</td>\n",
       "      <td>7.0</td>\n",
       "      <td>272.0</td>\n",
       "      <td>4.0</td>\n",
       "      <td>0.0</td>\n",
       "      <td>0.0</td>\n",
       "      <td>sales</td>\n",
       "      <td>medium</td>\n",
       "    </tr>\n",
       "    <tr>\n",
       "      <th>3</th>\n",
       "      <td>0.72</td>\n",
       "      <td>0.87</td>\n",
       "      <td>5.0</td>\n",
       "      <td>223.0</td>\n",
       "      <td>5.0</td>\n",
       "      <td>0.0</td>\n",
       "      <td>0.0</td>\n",
       "      <td>sales</td>\n",
       "      <td>low</td>\n",
       "    </tr>\n",
       "    <tr>\n",
       "      <th>4</th>\n",
       "      <td>0.37</td>\n",
       "      <td>0.52</td>\n",
       "      <td>2.0</td>\n",
       "      <td>159.0</td>\n",
       "      <td>3.0</td>\n",
       "      <td>0.0</td>\n",
       "      <td>0.0</td>\n",
       "      <td>sales</td>\n",
       "      <td>low</td>\n",
       "    </tr>\n",
       "  </tbody>\n",
       "</table>\n",
       "</div>"
      ],
      "text/plain": [
       "   satisfaction_level  last_evaluation  number_project  average_montly_hours  \\\n",
       "0                0.38             0.53             2.0                 157.0   \n",
       "1                0.80             0.86             5.0                 262.0   \n",
       "2                0.11             0.88             7.0                 272.0   \n",
       "3                0.72             0.87             5.0                 223.0   \n",
       "4                0.37             0.52             2.0                 159.0   \n",
       "\n",
       "   time_spend_company  Work_accident  promotion_last_5years   dept  salary  \n",
       "0                 3.0            0.0                    0.0  sales     low  \n",
       "1                 6.0            0.0                    0.0  sales  medium  \n",
       "2                 4.0            0.0                    0.0  sales  medium  \n",
       "3                 5.0            0.0                    0.0  sales     low  \n",
       "4                 3.0            0.0                    0.0  sales     low  "
      ]
     },
     "execution_count": 4,
     "metadata": {},
     "output_type": "execute_result"
    }
   ],
   "source": [
    "dataset.head()"
   ]
  },
  {
   "cell_type": "code",
   "execution_count": 5,
   "id": "3558ca12",
   "metadata": {
    "execution": {
     "iopub.execute_input": "2024-07-21T17:39:45.730059Z",
     "iopub.status.busy": "2024-07-21T17:39:45.729556Z",
     "iopub.status.idle": "2024-07-21T17:39:45.761862Z",
     "shell.execute_reply": "2024-07-21T17:39:45.759989Z"
    },
    "papermill": {
     "duration": 0.05129,
     "end_time": "2024-07-21T17:39:45.764732",
     "exception": false,
     "start_time": "2024-07-21T17:39:45.713442",
     "status": "completed"
    },
    "tags": []
   },
   "outputs": [
    {
     "name": "stdout",
     "output_type": "stream",
     "text": [
      "<class 'pandas.core.frame.DataFrame'>\n",
      "RangeIndex: 15787 entries, 0 to 15786\n",
      "Data columns (total 9 columns):\n",
      " #   Column                 Non-Null Count  Dtype  \n",
      "---  ------                 --------------  -----  \n",
      " 0   satisfaction_level     14999 non-null  float64\n",
      " 1   last_evaluation        14999 non-null  float64\n",
      " 2   number_project         14999 non-null  float64\n",
      " 3   average_montly_hours   14999 non-null  float64\n",
      " 4   time_spend_company     14999 non-null  float64\n",
      " 5   Work_accident          14999 non-null  float64\n",
      " 6   promotion_last_5years  14999 non-null  float64\n",
      " 7   dept                   14999 non-null  object \n",
      " 8   salary                 14999 non-null  object \n",
      "dtypes: float64(7), object(2)\n",
      "memory usage: 1.1+ MB\n"
     ]
    }
   ],
   "source": [
    "dataset.info()"
   ]
  },
  {
   "cell_type": "code",
   "execution_count": 6,
   "id": "17d9525c",
   "metadata": {
    "execution": {
     "iopub.execute_input": "2024-07-21T17:39:45.798745Z",
     "iopub.status.busy": "2024-07-21T17:39:45.798252Z",
     "iopub.status.idle": "2024-07-21T17:39:45.829253Z",
     "shell.execute_reply": "2024-07-21T17:39:45.827352Z"
    },
    "papermill": {
     "duration": 0.051818,
     "end_time": "2024-07-21T17:39:45.832697",
     "exception": false,
     "start_time": "2024-07-21T17:39:45.780879",
     "status": "completed"
    },
    "tags": []
   },
   "outputs": [
    {
     "data": {
      "text/html": [
       "<div>\n",
       "<style scoped>\n",
       "    .dataframe tbody tr th:only-of-type {\n",
       "        vertical-align: middle;\n",
       "    }\n",
       "\n",
       "    .dataframe tbody tr th {\n",
       "        vertical-align: top;\n",
       "    }\n",
       "\n",
       "    .dataframe thead th {\n",
       "        text-align: right;\n",
       "    }\n",
       "</style>\n",
       "<table border=\"1\" class=\"dataframe\">\n",
       "  <thead>\n",
       "    <tr style=\"text-align: right;\">\n",
       "      <th></th>\n",
       "      <th>satisfaction_level</th>\n",
       "      <th>last_evaluation</th>\n",
       "      <th>number_project</th>\n",
       "      <th>average_montly_hours</th>\n",
       "      <th>time_spend_company</th>\n",
       "      <th>Work_accident</th>\n",
       "      <th>promotion_last_5years</th>\n",
       "      <th>dept</th>\n",
       "      <th>salary</th>\n",
       "    </tr>\n",
       "  </thead>\n",
       "  <tbody>\n",
       "    <tr>\n",
       "      <th>12783</th>\n",
       "      <td>NaN</td>\n",
       "      <td>NaN</td>\n",
       "      <td>NaN</td>\n",
       "      <td>NaN</td>\n",
       "      <td>NaN</td>\n",
       "      <td>NaN</td>\n",
       "      <td>NaN</td>\n",
       "      <td>NaN</td>\n",
       "      <td>NaN</td>\n",
       "    </tr>\n",
       "    <tr>\n",
       "      <th>12784</th>\n",
       "      <td>NaN</td>\n",
       "      <td>NaN</td>\n",
       "      <td>NaN</td>\n",
       "      <td>NaN</td>\n",
       "      <td>NaN</td>\n",
       "      <td>NaN</td>\n",
       "      <td>NaN</td>\n",
       "      <td>NaN</td>\n",
       "      <td>NaN</td>\n",
       "    </tr>\n",
       "    <tr>\n",
       "      <th>12785</th>\n",
       "      <td>NaN</td>\n",
       "      <td>NaN</td>\n",
       "      <td>NaN</td>\n",
       "      <td>NaN</td>\n",
       "      <td>NaN</td>\n",
       "      <td>NaN</td>\n",
       "      <td>NaN</td>\n",
       "      <td>NaN</td>\n",
       "      <td>NaN</td>\n",
       "    </tr>\n",
       "    <tr>\n",
       "      <th>12786</th>\n",
       "      <td>NaN</td>\n",
       "      <td>NaN</td>\n",
       "      <td>NaN</td>\n",
       "      <td>NaN</td>\n",
       "      <td>NaN</td>\n",
       "      <td>NaN</td>\n",
       "      <td>NaN</td>\n",
       "      <td>NaN</td>\n",
       "      <td>NaN</td>\n",
       "    </tr>\n",
       "    <tr>\n",
       "      <th>12787</th>\n",
       "      <td>NaN</td>\n",
       "      <td>NaN</td>\n",
       "      <td>NaN</td>\n",
       "      <td>NaN</td>\n",
       "      <td>NaN</td>\n",
       "      <td>NaN</td>\n",
       "      <td>NaN</td>\n",
       "      <td>NaN</td>\n",
       "      <td>NaN</td>\n",
       "    </tr>\n",
       "    <tr>\n",
       "      <th>...</th>\n",
       "      <td>...</td>\n",
       "      <td>...</td>\n",
       "      <td>...</td>\n",
       "      <td>...</td>\n",
       "      <td>...</td>\n",
       "      <td>...</td>\n",
       "      <td>...</td>\n",
       "      <td>...</td>\n",
       "      <td>...</td>\n",
       "    </tr>\n",
       "    <tr>\n",
       "      <th>13566</th>\n",
       "      <td>NaN</td>\n",
       "      <td>NaN</td>\n",
       "      <td>NaN</td>\n",
       "      <td>NaN</td>\n",
       "      <td>NaN</td>\n",
       "      <td>NaN</td>\n",
       "      <td>NaN</td>\n",
       "      <td>NaN</td>\n",
       "      <td>NaN</td>\n",
       "    </tr>\n",
       "    <tr>\n",
       "      <th>13567</th>\n",
       "      <td>NaN</td>\n",
       "      <td>NaN</td>\n",
       "      <td>NaN</td>\n",
       "      <td>NaN</td>\n",
       "      <td>NaN</td>\n",
       "      <td>NaN</td>\n",
       "      <td>NaN</td>\n",
       "      <td>NaN</td>\n",
       "      <td>NaN</td>\n",
       "    </tr>\n",
       "    <tr>\n",
       "      <th>13568</th>\n",
       "      <td>NaN</td>\n",
       "      <td>NaN</td>\n",
       "      <td>NaN</td>\n",
       "      <td>NaN</td>\n",
       "      <td>NaN</td>\n",
       "      <td>NaN</td>\n",
       "      <td>NaN</td>\n",
       "      <td>NaN</td>\n",
       "      <td>NaN</td>\n",
       "    </tr>\n",
       "    <tr>\n",
       "      <th>13569</th>\n",
       "      <td>NaN</td>\n",
       "      <td>NaN</td>\n",
       "      <td>NaN</td>\n",
       "      <td>NaN</td>\n",
       "      <td>NaN</td>\n",
       "      <td>NaN</td>\n",
       "      <td>NaN</td>\n",
       "      <td>NaN</td>\n",
       "      <td>NaN</td>\n",
       "    </tr>\n",
       "    <tr>\n",
       "      <th>13570</th>\n",
       "      <td>NaN</td>\n",
       "      <td>NaN</td>\n",
       "      <td>NaN</td>\n",
       "      <td>NaN</td>\n",
       "      <td>NaN</td>\n",
       "      <td>NaN</td>\n",
       "      <td>NaN</td>\n",
       "      <td>NaN</td>\n",
       "      <td>NaN</td>\n",
       "    </tr>\n",
       "  </tbody>\n",
       "</table>\n",
       "<p>788 rows × 9 columns</p>\n",
       "</div>"
      ],
      "text/plain": [
       "       satisfaction_level  last_evaluation  number_project  \\\n",
       "12783                 NaN              NaN             NaN   \n",
       "12784                 NaN              NaN             NaN   \n",
       "12785                 NaN              NaN             NaN   \n",
       "12786                 NaN              NaN             NaN   \n",
       "12787                 NaN              NaN             NaN   \n",
       "...                   ...              ...             ...   \n",
       "13566                 NaN              NaN             NaN   \n",
       "13567                 NaN              NaN             NaN   \n",
       "13568                 NaN              NaN             NaN   \n",
       "13569                 NaN              NaN             NaN   \n",
       "13570                 NaN              NaN             NaN   \n",
       "\n",
       "       average_montly_hours  time_spend_company  Work_accident  \\\n",
       "12783                   NaN                 NaN            NaN   \n",
       "12784                   NaN                 NaN            NaN   \n",
       "12785                   NaN                 NaN            NaN   \n",
       "12786                   NaN                 NaN            NaN   \n",
       "12787                   NaN                 NaN            NaN   \n",
       "...                     ...                 ...            ...   \n",
       "13566                   NaN                 NaN            NaN   \n",
       "13567                   NaN                 NaN            NaN   \n",
       "13568                   NaN                 NaN            NaN   \n",
       "13569                   NaN                 NaN            NaN   \n",
       "13570                   NaN                 NaN            NaN   \n",
       "\n",
       "       promotion_last_5years dept salary  \n",
       "12783                    NaN  NaN    NaN  \n",
       "12784                    NaN  NaN    NaN  \n",
       "12785                    NaN  NaN    NaN  \n",
       "12786                    NaN  NaN    NaN  \n",
       "12787                    NaN  NaN    NaN  \n",
       "...                      ...  ...    ...  \n",
       "13566                    NaN  NaN    NaN  \n",
       "13567                    NaN  NaN    NaN  \n",
       "13568                    NaN  NaN    NaN  \n",
       "13569                    NaN  NaN    NaN  \n",
       "13570                    NaN  NaN    NaN  \n",
       "\n",
       "[788 rows x 9 columns]"
      ]
     },
     "execution_count": 6,
     "metadata": {},
     "output_type": "execute_result"
    }
   ],
   "source": [
    "dataset[dataset.isnull().any(axis=1)]"
   ]
  },
  {
   "cell_type": "code",
   "execution_count": 7,
   "id": "1365f31e",
   "metadata": {
    "execution": {
     "iopub.execute_input": "2024-07-21T17:39:45.869452Z",
     "iopub.status.busy": "2024-07-21T17:39:45.868850Z",
     "iopub.status.idle": "2024-07-21T17:39:45.884180Z",
     "shell.execute_reply": "2024-07-21T17:39:45.882260Z"
    },
    "papermill": {
     "duration": 0.03935,
     "end_time": "2024-07-21T17:39:45.888216",
     "exception": false,
     "start_time": "2024-07-21T17:39:45.848866",
     "status": "completed"
    },
    "tags": []
   },
   "outputs": [],
   "source": [
    "dataset = dataset.dropna()"
   ]
  },
  {
   "cell_type": "code",
   "execution_count": 8,
   "id": "9203eca2",
   "metadata": {
    "execution": {
     "iopub.execute_input": "2024-07-21T17:39:45.924422Z",
     "iopub.status.busy": "2024-07-21T17:39:45.923881Z",
     "iopub.status.idle": "2024-07-21T17:39:47.531215Z",
     "shell.execute_reply": "2024-07-21T17:39:47.529824Z"
    },
    "papermill": {
     "duration": 1.628372,
     "end_time": "2024-07-21T17:39:47.534307",
     "exception": false,
     "start_time": "2024-07-21T17:39:45.905935",
     "status": "completed"
    },
    "tags": []
   },
   "outputs": [],
   "source": [
    "from sklearn.model_selection import train_test_split\n",
    "from sklearn.model_selection import cross_val_score\n",
    "from sklearn.metrics import r2_score"
   ]
  },
  {
   "cell_type": "code",
   "execution_count": 9,
   "id": "e0b805bf",
   "metadata": {
    "execution": {
     "iopub.execute_input": "2024-07-21T17:39:47.567073Z",
     "iopub.status.busy": "2024-07-21T17:39:47.566050Z",
     "iopub.status.idle": "2024-07-21T17:39:47.580703Z",
     "shell.execute_reply": "2024-07-21T17:39:47.579539Z"
    },
    "papermill": {
     "duration": 0.033946,
     "end_time": "2024-07-21T17:39:47.583684",
     "exception": false,
     "start_time": "2024-07-21T17:39:47.549738",
     "status": "completed"
    },
    "tags": []
   },
   "outputs": [],
   "source": [
    "X_train, X_test, y_train, y_test = train_test_split(dataset.drop('satisfaction_level',axis=1),\n",
    "                                                   dataset['satisfaction_level'],\n",
    "                                                   test_size=0.25, random_state=42)"
   ]
  },
  {
   "cell_type": "code",
   "execution_count": 10,
   "id": "db4dfcc2",
   "metadata": {
    "execution": {
     "iopub.execute_input": "2024-07-21T17:39:47.615361Z",
     "iopub.status.busy": "2024-07-21T17:39:47.614906Z",
     "iopub.status.idle": "2024-07-21T17:39:47.629076Z",
     "shell.execute_reply": "2024-07-21T17:39:47.627825Z"
    },
    "papermill": {
     "duration": 0.03352,
     "end_time": "2024-07-21T17:39:47.632026",
     "exception": false,
     "start_time": "2024-07-21T17:39:47.598506",
     "status": "completed"
    },
    "tags": []
   },
   "outputs": [],
   "source": [
    "from sklearn.preprocessing import OneHotEncoder\n",
    "from sklearn.compose import ColumnTransformer\n",
    "from sklearn.pipeline import Pipeline"
   ]
  },
  {
   "cell_type": "code",
   "execution_count": 11,
   "id": "abceebe7",
   "metadata": {
    "execution": {
     "iopub.execute_input": "2024-07-21T17:39:47.663885Z",
     "iopub.status.busy": "2024-07-21T17:39:47.663427Z",
     "iopub.status.idle": "2024-07-21T17:39:47.692428Z",
     "shell.execute_reply": "2024-07-21T17:39:47.691095Z"
    },
    "papermill": {
     "duration": 0.04807,
     "end_time": "2024-07-21T17:39:47.695376",
     "exception": false,
     "start_time": "2024-07-21T17:39:47.647306",
     "status": "completed"
    },
    "tags": []
   },
   "outputs": [],
   "source": [
    "categorical_columns=['dept', 'salary']\n",
    "\n",
    "column_transformer_pipeline = ColumnTransformer([ \n",
    "                                        ('categorical', OneHotEncoder(), categorical_columns) \n",
    "                                                ], remainder='passthrough')\n",
    "pipeline = Pipeline(steps=[('column_transformer', column_transformer_pipeline)])\n",
    "\n",
    "preprocessor = pipeline.fit(X=X_train)"
   ]
  },
  {
   "cell_type": "code",
   "execution_count": 12,
   "id": "da7853cf",
   "metadata": {
    "execution": {
     "iopub.execute_input": "2024-07-21T17:39:47.728336Z",
     "iopub.status.busy": "2024-07-21T17:39:47.727900Z",
     "iopub.status.idle": "2024-07-21T17:39:47.748592Z",
     "shell.execute_reply": "2024-07-21T17:39:47.747073Z"
    },
    "papermill": {
     "duration": 0.039747,
     "end_time": "2024-07-21T17:39:47.751336",
     "exception": false,
     "start_time": "2024-07-21T17:39:47.711589",
     "status": "completed"
    },
    "tags": []
   },
   "outputs": [
    {
     "data": {
      "text/html": [
       "<div>\n",
       "<style scoped>\n",
       "    .dataframe tbody tr th:only-of-type {\n",
       "        vertical-align: middle;\n",
       "    }\n",
       "\n",
       "    .dataframe tbody tr th {\n",
       "        vertical-align: top;\n",
       "    }\n",
       "\n",
       "    .dataframe thead th {\n",
       "        text-align: right;\n",
       "    }\n",
       "</style>\n",
       "<table border=\"1\" class=\"dataframe\">\n",
       "  <thead>\n",
       "    <tr style=\"text-align: right;\">\n",
       "      <th></th>\n",
       "      <th>last_evaluation</th>\n",
       "      <th>number_project</th>\n",
       "      <th>average_montly_hours</th>\n",
       "      <th>time_spend_company</th>\n",
       "      <th>Work_accident</th>\n",
       "      <th>promotion_last_5years</th>\n",
       "      <th>dept</th>\n",
       "      <th>salary</th>\n",
       "    </tr>\n",
       "  </thead>\n",
       "  <tbody>\n",
       "    <tr>\n",
       "      <th>15268</th>\n",
       "      <td>0.86</td>\n",
       "      <td>6.0</td>\n",
       "      <td>139.0</td>\n",
       "      <td>6.0</td>\n",
       "      <td>0.0</td>\n",
       "      <td>0.0</td>\n",
       "      <td>technical</td>\n",
       "      <td>medium</td>\n",
       "    </tr>\n",
       "    <tr>\n",
       "      <th>1934</th>\n",
       "      <td>0.93</td>\n",
       "      <td>4.0</td>\n",
       "      <td>225.0</td>\n",
       "      <td>5.0</td>\n",
       "      <td>0.0</td>\n",
       "      <td>0.0</td>\n",
       "      <td>sales</td>\n",
       "      <td>medium</td>\n",
       "    </tr>\n",
       "    <tr>\n",
       "      <th>7900</th>\n",
       "      <td>0.71</td>\n",
       "      <td>5.0</td>\n",
       "      <td>243.0</td>\n",
       "      <td>3.0</td>\n",
       "      <td>0.0</td>\n",
       "      <td>0.0</td>\n",
       "      <td>technical</td>\n",
       "      <td>medium</td>\n",
       "    </tr>\n",
       "    <tr>\n",
       "      <th>2952</th>\n",
       "      <td>0.62</td>\n",
       "      <td>4.0</td>\n",
       "      <td>217.0</td>\n",
       "      <td>2.0</td>\n",
       "      <td>0.0</td>\n",
       "      <td>0.0</td>\n",
       "      <td>support</td>\n",
       "      <td>medium</td>\n",
       "    </tr>\n",
       "    <tr>\n",
       "      <th>4367</th>\n",
       "      <td>0.53</td>\n",
       "      <td>3.0</td>\n",
       "      <td>211.0</td>\n",
       "      <td>4.0</td>\n",
       "      <td>1.0</td>\n",
       "      <td>0.0</td>\n",
       "      <td>sales</td>\n",
       "      <td>low</td>\n",
       "    </tr>\n",
       "  </tbody>\n",
       "</table>\n",
       "</div>"
      ],
      "text/plain": [
       "       last_evaluation  number_project  average_montly_hours  \\\n",
       "15268             0.86             6.0                 139.0   \n",
       "1934              0.93             4.0                 225.0   \n",
       "7900              0.71             5.0                 243.0   \n",
       "2952              0.62             4.0                 217.0   \n",
       "4367              0.53             3.0                 211.0   \n",
       "\n",
       "       time_spend_company  Work_accident  promotion_last_5years       dept  \\\n",
       "15268                 6.0            0.0                    0.0  technical   \n",
       "1934                  5.0            0.0                    0.0      sales   \n",
       "7900                  3.0            0.0                    0.0  technical   \n",
       "2952                  2.0            0.0                    0.0    support   \n",
       "4367                  4.0            1.0                    0.0      sales   \n",
       "\n",
       "       salary  \n",
       "15268  medium  \n",
       "1934   medium  \n",
       "7900   medium  \n",
       "2952   medium  \n",
       "4367      low  "
      ]
     },
     "execution_count": 12,
     "metadata": {},
     "output_type": "execute_result"
    }
   ],
   "source": [
    "X_train.head()"
   ]
  },
  {
   "cell_type": "code",
   "execution_count": 13,
   "id": "d0e67868",
   "metadata": {
    "execution": {
     "iopub.execute_input": "2024-07-21T17:39:47.784116Z",
     "iopub.status.busy": "2024-07-21T17:39:47.783714Z",
     "iopub.status.idle": "2024-07-21T17:39:47.793438Z",
     "shell.execute_reply": "2024-07-21T17:39:47.791918Z"
    },
    "papermill": {
     "duration": 0.029254,
     "end_time": "2024-07-21T17:39:47.796079",
     "exception": false,
     "start_time": "2024-07-21T17:39:47.766825",
     "status": "completed"
    },
    "tags": []
   },
   "outputs": [
    {
     "data": {
      "text/plain": [
       "15268    0.38\n",
       "1934     0.78\n",
       "7900     0.56\n",
       "2952     0.96\n",
       "4367     0.83\n",
       "Name: satisfaction_level, dtype: float64"
      ]
     },
     "execution_count": 13,
     "metadata": {},
     "output_type": "execute_result"
    }
   ],
   "source": [
    "y_train.head()"
   ]
  },
  {
   "cell_type": "code",
   "execution_count": 14,
   "id": "b1e6f6c2",
   "metadata": {
    "execution": {
     "iopub.execute_input": "2024-07-21T17:39:47.828828Z",
     "iopub.status.busy": "2024-07-21T17:39:47.828398Z",
     "iopub.status.idle": "2024-07-21T17:39:47.854094Z",
     "shell.execute_reply": "2024-07-21T17:39:47.852774Z"
    },
    "papermill": {
     "duration": 0.045933,
     "end_time": "2024-07-21T17:39:47.857229",
     "exception": false,
     "start_time": "2024-07-21T17:39:47.811296",
     "status": "completed"
    },
    "tags": []
   },
   "outputs": [],
   "source": [
    "X_train = preprocessor.transform(X_train)\n",
    "X_test = preprocessor.transform(X_test)"
   ]
  },
  {
   "cell_type": "code",
   "execution_count": 15,
   "id": "f610fe3a",
   "metadata": {
    "execution": {
     "iopub.execute_input": "2024-07-21T17:39:47.892359Z",
     "iopub.status.busy": "2024-07-21T17:39:47.891241Z",
     "iopub.status.idle": "2024-07-21T17:39:47.900493Z",
     "shell.execute_reply": "2024-07-21T17:39:47.899040Z"
    },
    "papermill": {
     "duration": 0.030368,
     "end_time": "2024-07-21T17:39:47.903327",
     "exception": false,
     "start_time": "2024-07-21T17:39:47.872959",
     "status": "completed"
    },
    "tags": []
   },
   "outputs": [
    {
     "data": {
      "text/plain": [
       "array([[0., 0., 0., ..., 6., 0., 0.],\n",
       "       [0., 0., 0., ..., 5., 0., 0.],\n",
       "       [0., 0., 0., ..., 3., 0., 0.],\n",
       "       ...,\n",
       "       [0., 0., 0., ..., 2., 0., 0.],\n",
       "       [0., 0., 0., ..., 5., 0., 0.],\n",
       "       [0., 0., 0., ..., 4., 0., 0.]])"
      ]
     },
     "execution_count": 15,
     "metadata": {},
     "output_type": "execute_result"
    }
   ],
   "source": [
    "X_train"
   ]
  },
  {
   "cell_type": "markdown",
   "id": "072bc9ac",
   "metadata": {
    "papermill": {
     "duration": 0.01547,
     "end_time": "2024-07-21T17:39:47.934384",
     "exception": false,
     "start_time": "2024-07-21T17:39:47.918914",
     "status": "completed"
    },
    "tags": []
   },
   "source": [
    "# Decision Trees"
   ]
  },
  {
   "cell_type": "code",
   "execution_count": 16,
   "id": "e4e210aa",
   "metadata": {
    "execution": {
     "iopub.execute_input": "2024-07-21T17:39:47.967074Z",
     "iopub.status.busy": "2024-07-21T17:39:47.966680Z",
     "iopub.status.idle": "2024-07-21T17:39:48.298184Z",
     "shell.execute_reply": "2024-07-21T17:39:48.296746Z"
    },
    "papermill": {
     "duration": 0.351738,
     "end_time": "2024-07-21T17:39:48.301628",
     "exception": false,
     "start_time": "2024-07-21T17:39:47.949890",
     "status": "completed"
    },
    "tags": []
   },
   "outputs": [],
   "source": [
    "from sklearn.tree import DecisionTreeRegressor"
   ]
  },
  {
   "cell_type": "code",
   "execution_count": 17,
   "id": "d82dc691",
   "metadata": {
    "execution": {
     "iopub.execute_input": "2024-07-21T17:39:48.336512Z",
     "iopub.status.busy": "2024-07-21T17:39:48.335946Z",
     "iopub.status.idle": "2024-07-21T17:39:48.342489Z",
     "shell.execute_reply": "2024-07-21T17:39:48.341007Z"
    },
    "papermill": {
     "duration": 0.027748,
     "end_time": "2024-07-21T17:39:48.345532",
     "exception": false,
     "start_time": "2024-07-21T17:39:48.317784",
     "status": "completed"
    },
    "tags": []
   },
   "outputs": [],
   "source": [
    "dtr = DecisionTreeRegressor(criterion='squared_error',\n",
    "                           splitter='best',\n",
    "                           random_state=42)"
   ]
  },
  {
   "cell_type": "code",
   "execution_count": 18,
   "id": "344e1190",
   "metadata": {
    "execution": {
     "iopub.execute_input": "2024-07-21T17:39:48.380136Z",
     "iopub.status.busy": "2024-07-21T17:39:48.379599Z",
     "iopub.status.idle": "2024-07-21T17:39:49.694089Z",
     "shell.execute_reply": "2024-07-21T17:39:49.692408Z"
    },
    "papermill": {
     "duration": 1.335367,
     "end_time": "2024-07-21T17:39:49.696993",
     "exception": false,
     "start_time": "2024-07-21T17:39:48.361626",
     "status": "completed"
    },
    "tags": []
   },
   "outputs": [
    {
     "name": "stdout",
     "output_type": "stream",
     "text": [
      "R^2: 0.13 +/- 0.075\n",
      "-ve RMSE: -0.231 +/- 0.009\n"
     ]
    }
   ],
   "source": [
    "r2 = cross_val_score(dtr, X_train, y_train, scoring='r2', cv=10,error_score='raise')\n",
    "neg_rmse_error = cross_val_score(dtr, X_train, y_train, scoring='neg_root_mean_squared_error', cv=10)\n",
    "\n",
    "\n",
    "print(f\"R^2: {np.mean(r2).round(3)} +/- {np.std(r2).round(3)}\")\n",
    "print(f\"-ve RMSE: {np.mean(neg_rmse_error).round(3)} +/- {np.std(neg_rmse_error).round(3)}\")"
   ]
  },
  {
   "cell_type": "code",
   "execution_count": 19,
   "id": "0ec4938c",
   "metadata": {
    "execution": {
     "iopub.execute_input": "2024-07-21T17:39:49.732989Z",
     "iopub.status.busy": "2024-07-21T17:39:49.731978Z",
     "iopub.status.idle": "2024-07-21T17:39:49.809129Z",
     "shell.execute_reply": "2024-07-21T17:39:49.807675Z"
    },
    "papermill": {
     "duration": 0.097257,
     "end_time": "2024-07-21T17:39:49.811974",
     "exception": false,
     "start_time": "2024-07-21T17:39:49.714717",
     "status": "completed"
    },
    "tags": []
   },
   "outputs": [
    {
     "name": "stdout",
     "output_type": "stream",
     "text": [
      "R^2 score:0.119\n"
     ]
    }
   ],
   "source": [
    "y_pred = dtr.fit(X=X_train, y=y_train).predict(X_test)\n",
    "print(f\"R^2 score:{r2_score(y_test, y_pred).round(3)}\")"
   ]
  },
  {
   "cell_type": "markdown",
   "id": "f812eb32",
   "metadata": {
    "papermill": {
     "duration": 0.015945,
     "end_time": "2024-07-21T17:39:49.843577",
     "exception": false,
     "start_time": "2024-07-21T17:39:49.827632",
     "status": "completed"
    },
    "tags": []
   },
   "source": [
    "# Bagging"
   ]
  },
  {
   "cell_type": "code",
   "execution_count": 20,
   "id": "1d750012",
   "metadata": {
    "execution": {
     "iopub.execute_input": "2024-07-21T17:39:49.883958Z",
     "iopub.status.busy": "2024-07-21T17:39:49.883471Z",
     "iopub.status.idle": "2024-07-21T17:39:49.986396Z",
     "shell.execute_reply": "2024-07-21T17:39:49.985043Z"
    },
    "papermill": {
     "duration": 0.127892,
     "end_time": "2024-07-21T17:39:49.989743",
     "exception": false,
     "start_time": "2024-07-21T17:39:49.861851",
     "status": "completed"
    },
    "tags": []
   },
   "outputs": [],
   "source": [
    "from sklearn.ensemble import BaggingRegressor"
   ]
  },
  {
   "cell_type": "code",
   "execution_count": 21,
   "id": "33a8c421",
   "metadata": {
    "execution": {
     "iopub.execute_input": "2024-07-21T17:39:50.025357Z",
     "iopub.status.busy": "2024-07-21T17:39:50.024940Z",
     "iopub.status.idle": "2024-07-21T17:39:50.031961Z",
     "shell.execute_reply": "2024-07-21T17:39:50.030281Z"
    },
    "papermill": {
     "duration": 0.028275,
     "end_time": "2024-07-21T17:39:50.035080",
     "exception": false,
     "start_time": "2024-07-21T17:39:50.006805",
     "status": "completed"
    },
    "tags": []
   },
   "outputs": [],
   "source": [
    "bgr = BaggingRegressor(estimator = dtr, \n",
    "                      n_estimators=100,\n",
    "                      bootstrap=True,\n",
    "                      oob_score=False,\n",
    "                      n_jobs=-1,\n",
    "                      random_state=42)"
   ]
  },
  {
   "cell_type": "code",
   "execution_count": 22,
   "id": "e114f305",
   "metadata": {
    "execution": {
     "iopub.execute_input": "2024-07-21T17:39:50.070985Z",
     "iopub.status.busy": "2024-07-21T17:39:50.070566Z",
     "iopub.status.idle": "2024-07-21T17:40:26.670349Z",
     "shell.execute_reply": "2024-07-21T17:40:26.668560Z"
    },
    "papermill": {
     "duration": 36.636451,
     "end_time": "2024-07-21T17:40:26.688169",
     "exception": false,
     "start_time": "2024-07-21T17:39:50.051718",
     "status": "completed"
    },
    "tags": []
   },
   "outputs": [
    {
     "name": "stdout",
     "output_type": "stream",
     "text": [
      "R^2: 0.514 +/- 0.032\n",
      "-ve RMSE: -0.173 +/- 0.005\n"
     ]
    }
   ],
   "source": [
    "r2 = cross_val_score(bgr, X_train, y_train, scoring='r2', cv=10, n_jobs=-1)\n",
    "neg_rmse_error = cross_val_score(bgr, X_train, y_train, scoring='neg_root_mean_squared_error', cv=10, n_jobs=-1)\n",
    "\n",
    "\n",
    "print(f\"R^2: {np.mean(r2).round(3)} +/- {np.std(r2).round(3)}\")\n",
    "print(f\"-ve RMSE: {np.mean(neg_rmse_error).round(3)} +/- {np.std(neg_rmse_error).round(3)}\")"
   ]
  },
  {
   "cell_type": "code",
   "execution_count": 23,
   "id": "34f8c1a4",
   "metadata": {
    "execution": {
     "iopub.execute_input": "2024-07-21T17:40:26.722856Z",
     "iopub.status.busy": "2024-07-21T17:40:26.722376Z",
     "iopub.status.idle": "2024-07-21T17:40:29.391602Z",
     "shell.execute_reply": "2024-07-21T17:40:29.390070Z"
    },
    "papermill": {
     "duration": 2.689754,
     "end_time": "2024-07-21T17:40:29.394157",
     "exception": false,
     "start_time": "2024-07-21T17:40:26.704403",
     "status": "completed"
    },
    "tags": []
   },
   "outputs": [
    {
     "name": "stdout",
     "output_type": "stream",
     "text": [
      "R^2 score:0.496\n"
     ]
    }
   ],
   "source": [
    "bagging_regressor = bgr.fit(X=X_train, y=y_train)\n",
    "y_pred = bagging_regressor.predict(X_test)\n",
    "print(f\"R^2 score:{r2_score(y_test, y_pred).round(3)}\")"
   ]
  },
  {
   "cell_type": "markdown",
   "id": "bbea9083",
   "metadata": {
    "papermill": {
     "duration": 0.083563,
     "end_time": "2024-07-21T17:40:29.493873",
     "exception": false,
     "start_time": "2024-07-21T17:40:29.410310",
     "status": "completed"
    },
    "tags": []
   },
   "source": [
    "# Random Forests"
   ]
  },
  {
   "cell_type": "code",
   "execution_count": 24,
   "id": "0ac050f4",
   "metadata": {
    "execution": {
     "iopub.execute_input": "2024-07-21T17:40:29.528125Z",
     "iopub.status.busy": "2024-07-21T17:40:29.527695Z",
     "iopub.status.idle": "2024-07-21T17:40:29.533603Z",
     "shell.execute_reply": "2024-07-21T17:40:29.532382Z"
    },
    "papermill": {
     "duration": 0.026193,
     "end_time": "2024-07-21T17:40:29.536425",
     "exception": false,
     "start_time": "2024-07-21T17:40:29.510232",
     "status": "completed"
    },
    "tags": []
   },
   "outputs": [],
   "source": [
    "from sklearn.ensemble import RandomForestRegressor"
   ]
  },
  {
   "cell_type": "code",
   "execution_count": 25,
   "id": "aa4ca89e",
   "metadata": {
    "execution": {
     "iopub.execute_input": "2024-07-21T17:40:29.570701Z",
     "iopub.status.busy": "2024-07-21T17:40:29.570250Z",
     "iopub.status.idle": "2024-07-21T17:40:29.576756Z",
     "shell.execute_reply": "2024-07-21T17:40:29.575465Z"
    },
    "papermill": {
     "duration": 0.026493,
     "end_time": "2024-07-21T17:40:29.579446",
     "exception": false,
     "start_time": "2024-07-21T17:40:29.552953",
     "status": "completed"
    },
    "tags": []
   },
   "outputs": [],
   "source": [
    "rfr = RandomForestRegressor(n_estimators=100,\n",
    "                           criterion='squared_error',\n",
    "                           max_features = 'sqrt',\n",
    "                           bootstrap=True,\n",
    "                           oob_score=False,\n",
    "                           n_jobs=-1,\n",
    "                           random_state=42)"
   ]
  },
  {
   "cell_type": "code",
   "execution_count": 26,
   "id": "c64a66fe",
   "metadata": {
    "execution": {
     "iopub.execute_input": "2024-07-21T17:40:29.613514Z",
     "iopub.status.busy": "2024-07-21T17:40:29.613055Z",
     "iopub.status.idle": "2024-07-21T17:40:41.901067Z",
     "shell.execute_reply": "2024-07-21T17:40:41.899587Z"
    },
    "papermill": {
     "duration": 12.308449,
     "end_time": "2024-07-21T17:40:41.904122",
     "exception": false,
     "start_time": "2024-07-21T17:40:29.595673",
     "status": "completed"
    },
    "tags": []
   },
   "outputs": [
    {
     "name": "stdout",
     "output_type": "stream",
     "text": [
      "R^2: 0.513 +/- 0.027\n",
      "-ve RMSE: -0.173 +/- 0.004\n"
     ]
    }
   ],
   "source": [
    "r2 = cross_val_score(rfr, X_train, y_train, scoring='r2', cv=10, n_jobs=-1)\n",
    "neg_rmse_error = cross_val_score(rfr, X_train, y_train, scoring='neg_root_mean_squared_error', cv=10,n_jobs=-1)\n",
    "\n",
    "\n",
    "print(f\"R^2: {np.mean(r2).round(3)} +/- {np.std(r2).round(3)}\")\n",
    "print(f\"-ve RMSE: {np.mean(neg_rmse_error).round(3)} +/- {np.std(neg_rmse_error).round(3)}\")"
   ]
  },
  {
   "cell_type": "code",
   "execution_count": 27,
   "id": "67b4e078",
   "metadata": {
    "execution": {
     "iopub.execute_input": "2024-07-21T17:40:41.938578Z",
     "iopub.status.busy": "2024-07-21T17:40:41.938091Z",
     "iopub.status.idle": "2024-07-21T17:40:42.863993Z",
     "shell.execute_reply": "2024-07-21T17:40:42.862274Z"
    },
    "papermill": {
     "duration": 0.946529,
     "end_time": "2024-07-21T17:40:42.866948",
     "exception": false,
     "start_time": "2024-07-21T17:40:41.920419",
     "status": "completed"
    },
    "tags": []
   },
   "outputs": [
    {
     "name": "stdout",
     "output_type": "stream",
     "text": [
      "R^2 score:0.497\n"
     ]
    }
   ],
   "source": [
    "randomforest_regressor = rfr.fit(X=X_train, y=y_train)\n",
    "y_pred = randomforest_regressor.predict(X_test)\n",
    "print(f\"R^2 score:{r2_score(y_test, y_pred).round(3)}\")"
   ]
  },
  {
   "cell_type": "markdown",
   "id": "1cf66466",
   "metadata": {
    "papermill": {
     "duration": 0.017987,
     "end_time": "2024-07-21T17:40:42.908435",
     "exception": false,
     "start_time": "2024-07-21T17:40:42.890448",
     "status": "completed"
    },
    "tags": []
   },
   "source": [
    "# Gradient Boosting"
   ]
  },
  {
   "cell_type": "code",
   "execution_count": 28,
   "id": "a097d195",
   "metadata": {
    "execution": {
     "iopub.execute_input": "2024-07-21T17:40:42.944031Z",
     "iopub.status.busy": "2024-07-21T17:40:42.943507Z",
     "iopub.status.idle": "2024-07-21T17:40:42.949870Z",
     "shell.execute_reply": "2024-07-21T17:40:42.948649Z"
    },
    "papermill": {
     "duration": 0.02804,
     "end_time": "2024-07-21T17:40:42.953168",
     "exception": false,
     "start_time": "2024-07-21T17:40:42.925128",
     "status": "completed"
    },
    "tags": []
   },
   "outputs": [],
   "source": [
    "from sklearn.ensemble import GradientBoostingRegressor"
   ]
  },
  {
   "cell_type": "code",
   "execution_count": 29,
   "id": "7b3975d7",
   "metadata": {
    "execution": {
     "iopub.execute_input": "2024-07-21T17:40:42.998079Z",
     "iopub.status.busy": "2024-07-21T17:40:42.997000Z",
     "iopub.status.idle": "2024-07-21T17:40:43.004118Z",
     "shell.execute_reply": "2024-07-21T17:40:43.002702Z"
    },
    "papermill": {
     "duration": 0.031538,
     "end_time": "2024-07-21T17:40:43.007584",
     "exception": false,
     "start_time": "2024-07-21T17:40:42.976046",
     "status": "completed"
    },
    "tags": []
   },
   "outputs": [],
   "source": [
    "gbr = GradientBoostingRegressor(loss = 'squared_error',\n",
    "                               learning_rate=0.001,\n",
    "                               n_estimators=2000,\n",
    "                               random_state=42)"
   ]
  },
  {
   "cell_type": "code",
   "execution_count": 30,
   "id": "b185a552",
   "metadata": {
    "execution": {
     "iopub.execute_input": "2024-07-21T17:40:43.047345Z",
     "iopub.status.busy": "2024-07-21T17:40:43.046336Z",
     "iopub.status.idle": "2024-07-21T17:43:06.966770Z",
     "shell.execute_reply": "2024-07-21T17:43:06.965375Z"
    },
    "papermill": {
     "duration": 143.961349,
     "end_time": "2024-07-21T17:43:06.985710",
     "exception": false,
     "start_time": "2024-07-21T17:40:43.024361",
     "status": "completed"
    },
    "tags": []
   },
   "outputs": [
    {
     "name": "stdout",
     "output_type": "stream",
     "text": [
      "R^2: 0.407 +/- 0.024\n",
      "-ve RMSE: -0.191 +/- 0.004\n"
     ]
    }
   ],
   "source": [
    "r2 = cross_val_score(gbr, X_train, y_train, scoring='r2', cv=10, n_jobs=-1)\n",
    "neg_rmse_error = cross_val_score(gbr, X_train, y_train, scoring='neg_root_mean_squared_error', cv=10,n_jobs=-1)\n",
    "\n",
    "\n",
    "print(f\"R^2: {np.mean(r2).round(3)} +/- {np.std(r2).round(3)}\")\n",
    "print(f\"-ve RMSE: {np.mean(neg_rmse_error).round(3)} +/- {np.std(neg_rmse_error).round(3)}\")"
   ]
  },
  {
   "cell_type": "code",
   "execution_count": 31,
   "id": "6b29c062",
   "metadata": {
    "execution": {
     "iopub.execute_input": "2024-07-21T17:43:07.020705Z",
     "iopub.status.busy": "2024-07-21T17:43:07.020176Z",
     "iopub.status.idle": "2024-07-21T17:43:26.072085Z",
     "shell.execute_reply": "2024-07-21T17:43:26.070635Z"
    },
    "papermill": {
     "duration": 19.072122,
     "end_time": "2024-07-21T17:43:26.074750",
     "exception": false,
     "start_time": "2024-07-21T17:43:07.002628",
     "status": "completed"
    },
    "tags": []
   },
   "outputs": [
    {
     "name": "stdout",
     "output_type": "stream",
     "text": [
      "R^2 score:0.387\n"
     ]
    }
   ],
   "source": [
    "gradboost_regressor = gbr.fit(X=X_train, y=y_train)\n",
    "y_pred = gradboost_regressor.predict(X_test)\n",
    "print(f\"R^2 score:{r2_score(y_test, y_pred).round(3)}\")"
   ]
  },
  {
   "cell_type": "markdown",
   "id": "eda15d7a",
   "metadata": {
    "papermill": {
     "duration": 0.016072,
     "end_time": "2024-07-21T17:43:26.107482",
     "exception": false,
     "start_time": "2024-07-21T17:43:26.091410",
     "status": "completed"
    },
    "tags": []
   },
   "source": [
    "# Histogram-Based GBR"
   ]
  },
  {
   "cell_type": "code",
   "execution_count": 32,
   "id": "b506c888",
   "metadata": {
    "execution": {
     "iopub.execute_input": "2024-07-21T17:43:26.142718Z",
     "iopub.status.busy": "2024-07-21T17:43:26.142258Z",
     "iopub.status.idle": "2024-07-21T17:43:26.147560Z",
     "shell.execute_reply": "2024-07-21T17:43:26.146283Z"
    },
    "papermill": {
     "duration": 0.02596,
     "end_time": "2024-07-21T17:43:26.150342",
     "exception": false,
     "start_time": "2024-07-21T17:43:26.124382",
     "status": "completed"
    },
    "tags": []
   },
   "outputs": [],
   "source": [
    "from sklearn.ensemble import HistGradientBoostingRegressor"
   ]
  },
  {
   "cell_type": "code",
   "execution_count": 33,
   "id": "a35b2d93",
   "metadata": {
    "execution": {
     "iopub.execute_input": "2024-07-21T17:43:26.184897Z",
     "iopub.status.busy": "2024-07-21T17:43:26.184471Z",
     "iopub.status.idle": "2024-07-21T17:43:26.190537Z",
     "shell.execute_reply": "2024-07-21T17:43:26.189130Z"
    },
    "papermill": {
     "duration": 0.026635,
     "end_time": "2024-07-21T17:43:26.193188",
     "exception": false,
     "start_time": "2024-07-21T17:43:26.166553",
     "status": "completed"
    },
    "tags": []
   },
   "outputs": [],
   "source": [
    "hgbr = HistGradientBoostingRegressor(loss = 'squared_error',\n",
    "                                     learning_rate=2e-2,\n",
    "                                     max_iter = 1000,\n",
    "                                     random_state=42)"
   ]
  },
  {
   "cell_type": "code",
   "execution_count": 34,
   "id": "cb63317e",
   "metadata": {
    "execution": {
     "iopub.execute_input": "2024-07-21T17:43:26.228259Z",
     "iopub.status.busy": "2024-07-21T17:43:26.227805Z",
     "iopub.status.idle": "2024-07-21T17:43:37.309869Z",
     "shell.execute_reply": "2024-07-21T17:43:37.308613Z"
    },
    "papermill": {
     "duration": 11.102705,
     "end_time": "2024-07-21T17:43:37.312545",
     "exception": false,
     "start_time": "2024-07-21T17:43:26.209840",
     "status": "completed"
    },
    "tags": []
   },
   "outputs": [
    {
     "name": "stdout",
     "output_type": "stream",
     "text": [
      "R^2: 0.469 +/- 0.028\n",
      "-ve RMSE: -0.181 +/- 0.005\n"
     ]
    }
   ],
   "source": [
    "r2 = cross_val_score(hgbr, X_train, y_train, scoring='r2', cv=10, n_jobs=-1)\n",
    "neg_rmse_error = cross_val_score(hgbr, X_train, y_train, scoring='neg_root_mean_squared_error', cv=10,n_jobs=-1)\n",
    "\n",
    "\n",
    "print(f\"R^2: {np.mean(r2).round(3)} +/- {np.std(r2).round(3)}\")\n",
    "print(f\"-ve RMSE: {np.mean(neg_rmse_error).round(3)} +/- {np.std(neg_rmse_error).round(3)}\")"
   ]
  },
  {
   "cell_type": "code",
   "execution_count": 35,
   "id": "c4c01926",
   "metadata": {
    "execution": {
     "iopub.execute_input": "2024-07-21T17:43:37.348694Z",
     "iopub.status.busy": "2024-07-21T17:43:37.348293Z",
     "iopub.status.idle": "2024-07-21T17:43:38.656221Z",
     "shell.execute_reply": "2024-07-21T17:43:38.655183Z"
    },
    "papermill": {
     "duration": 1.329346,
     "end_time": "2024-07-21T17:43:38.658963",
     "exception": false,
     "start_time": "2024-07-21T17:43:37.329617",
     "status": "completed"
    },
    "tags": []
   },
   "outputs": [
    {
     "name": "stdout",
     "output_type": "stream",
     "text": [
      "R^2 score:0.452\n"
     ]
    }
   ],
   "source": [
    "hgradboost_regressor = hgbr.fit(X=X_train, y=y_train)\n",
    "y_pred = hgradboost_regressor.predict(X_test)\n",
    "print(f\"R^2 score:{r2_score(y_test, y_pred).round(3)}\")"
   ]
  },
  {
   "cell_type": "markdown",
   "id": "c56d0d16",
   "metadata": {
    "papermill": {
     "duration": 0.016022,
     "end_time": "2024-07-21T17:43:38.692790",
     "exception": false,
     "start_time": "2024-07-21T17:43:38.676768",
     "status": "completed"
    },
    "tags": []
   },
   "source": [
    "# XGBoost"
   ]
  },
  {
   "cell_type": "code",
   "execution_count": 36,
   "id": "0caa6c8c",
   "metadata": {
    "execution": {
     "iopub.execute_input": "2024-07-21T17:43:38.727618Z",
     "iopub.status.busy": "2024-07-21T17:43:38.726887Z",
     "iopub.status.idle": "2024-07-21T17:43:38.935454Z",
     "shell.execute_reply": "2024-07-21T17:43:38.934205Z"
    },
    "papermill": {
     "duration": 0.22927,
     "end_time": "2024-07-21T17:43:38.938422",
     "exception": false,
     "start_time": "2024-07-21T17:43:38.709152",
     "status": "completed"
    },
    "tags": []
   },
   "outputs": [],
   "source": [
    "from xgboost import XGBRegressor"
   ]
  },
  {
   "cell_type": "code",
   "execution_count": 37,
   "id": "18a7d77d",
   "metadata": {
    "execution": {
     "iopub.execute_input": "2024-07-21T17:43:38.972958Z",
     "iopub.status.busy": "2024-07-21T17:43:38.972556Z",
     "iopub.status.idle": "2024-07-21T17:43:38.978494Z",
     "shell.execute_reply": "2024-07-21T17:43:38.977299Z"
    },
    "papermill": {
     "duration": 0.026101,
     "end_time": "2024-07-21T17:43:38.980920",
     "exception": false,
     "start_time": "2024-07-21T17:43:38.954819",
     "status": "completed"
    },
    "tags": []
   },
   "outputs": [],
   "source": [
    "xgbr = XGBRegressor(n_estimators=1000, eta=0.003, random_state=42)"
   ]
  },
  {
   "cell_type": "code",
   "execution_count": 38,
   "id": "955254fd",
   "metadata": {
    "execution": {
     "iopub.execute_input": "2024-07-21T17:43:39.017676Z",
     "iopub.status.busy": "2024-07-21T17:43:39.016898Z",
     "iopub.status.idle": "2024-07-21T17:44:09.902478Z",
     "shell.execute_reply": "2024-07-21T17:44:09.901290Z"
    },
    "papermill": {
     "duration": 30.917889,
     "end_time": "2024-07-21T17:44:09.915996",
     "exception": false,
     "start_time": "2024-07-21T17:43:38.998107",
     "status": "completed"
    },
    "tags": []
   },
   "outputs": [
    {
     "name": "stdout",
     "output_type": "stream",
     "text": [
      "R^2: 0.46 +/- 0.028\n",
      "-ve RMSE: -0.182 +/- 0.005\n"
     ]
    }
   ],
   "source": [
    "r2 = cross_val_score(xgbr, X_train, y_train, scoring='r2', cv=10)\n",
    "neg_rmse_error = cross_val_score(xgbr, X_train, y_train, scoring='neg_root_mean_squared_error', cv=10)\n",
    "\n",
    "\n",
    "print(f\"R^2: {np.mean(r2).round(3)} +/- {np.std(r2).round(3)}\")\n",
    "print(f\"-ve RMSE: {np.mean(neg_rmse_error).round(3)} +/- {np.std(neg_rmse_error).round(3)}\")"
   ]
  },
  {
   "cell_type": "code",
   "execution_count": 39,
   "id": "32506b1a",
   "metadata": {
    "execution": {
     "iopub.execute_input": "2024-07-21T17:44:09.953009Z",
     "iopub.status.busy": "2024-07-21T17:44:09.952512Z",
     "iopub.status.idle": "2024-07-21T17:44:11.519793Z",
     "shell.execute_reply": "2024-07-21T17:44:11.518746Z"
    },
    "papermill": {
     "duration": 1.589411,
     "end_time": "2024-07-21T17:44:11.522662",
     "exception": false,
     "start_time": "2024-07-21T17:44:09.933251",
     "status": "completed"
    },
    "tags": []
   },
   "outputs": [
    {
     "name": "stdout",
     "output_type": "stream",
     "text": [
      "R^2 score:0.44\n"
     ]
    }
   ],
   "source": [
    "xgboost_regressor = xgbr.fit(X=X_train, y=y_train)\n",
    "y_pred = xgboost_regressor.predict(X_test)\n",
    "print(f\"R^2 score:{r2_score(y_test, y_pred).round(3)}\")"
   ]
  }
 ],
 "metadata": {
  "kaggle": {
   "accelerator": "none",
   "dataSources": [
    {
     "datasetId": 3948769,
     "sourceId": 7153423,
     "sourceType": "datasetVersion"
    }
   ],
   "dockerImageVersionId": 30746,
   "isGpuEnabled": false,
   "isInternetEnabled": false,
   "language": "python",
   "sourceType": "notebook"
  },
  "kernelspec": {
   "display_name": "Python 3",
   "language": "python",
   "name": "python3"
  },
  "language_info": {
   "codemirror_mode": {
    "name": "ipython",
    "version": 3
   },
   "file_extension": ".py",
   "mimetype": "text/x-python",
   "name": "python",
   "nbconvert_exporter": "python",
   "pygments_lexer": "ipython3",
   "version": "3.10.13"
  },
  "papermill": {
   "default_parameters": {},
   "duration": 273.691946,
   "end_time": "2024-07-21T17:44:14.163996",
   "environment_variables": {},
   "exception": null,
   "input_path": "__notebook__.ipynb",
   "output_path": "__notebook__.ipynb",
   "parameters": {},
   "start_time": "2024-07-21T17:39:40.472050",
   "version": "2.5.0"
  }
 },
 "nbformat": 4,
 "nbformat_minor": 5
}
