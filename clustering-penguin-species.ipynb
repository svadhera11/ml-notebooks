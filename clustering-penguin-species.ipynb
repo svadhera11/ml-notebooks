{
 "cells": [
  {
   "cell_type": "code",
   "execution_count": 1,
   "id": "c9f51be8",
   "metadata": {
    "_cell_guid": "b1076dfc-b9ad-4769-8c92-a6c4dae69d19",
    "_uuid": "8f2839f25d086af736a60e9eeb907d3b93b6e0e5",
    "execution": {
     "iopub.execute_input": "2024-07-22T12:10:13.468172Z",
     "iopub.status.busy": "2024-07-22T12:10:13.467789Z",
     "iopub.status.idle": "2024-07-22T12:10:14.382243Z",
     "shell.execute_reply": "2024-07-22T12:10:14.381058Z"
    },
    "papermill": {
     "duration": 0.926725,
     "end_time": "2024-07-22T12:10:14.385281",
     "exception": false,
     "start_time": "2024-07-22T12:10:13.458556",
     "status": "completed"
    },
    "tags": []
   },
   "outputs": [
    {
     "name": "stdout",
     "output_type": "stream",
     "text": [
      "/kaggle/input/clustering-penguins-species/penguins.csv\n"
     ]
    }
   ],
   "source": [
    "# This Python 3 environment comes with many helpful analytics libraries installed\n",
    "# It is defined by the kaggle/python Docker image: https://github.com/kaggle/docker-python\n",
    "# For example, here's several helpful packages to load\n",
    "\n",
    "import numpy as np # linear algebra\n",
    "import pandas as pd # data processing, CSV file I/O (e.g. pd.read_csv)\n",
    "\n",
    "# Input data files are available in the read-only \"../input/\" directory\n",
    "# For example, running this (by clicking run or pressing Shift+Enter) will list all files under the input directory\n",
    "\n",
    "import os\n",
    "for dirname, _, filenames in os.walk('/kaggle/input'):\n",
    "    for filename in filenames:\n",
    "        print(os.path.join(dirname, filename))\n",
    "\n",
    "# You can write up to 20GB to the current directory (/kaggle/working/) that gets preserved as output when you create a version using \"Save & Run All\" \n",
    "# You can also write temporary files to /kaggle/temp/, but they won't be saved outside of the current session"
   ]
  },
  {
   "cell_type": "code",
   "execution_count": 2,
   "id": "c132055a",
   "metadata": {
    "execution": {
     "iopub.execute_input": "2024-07-22T12:10:14.400361Z",
     "iopub.status.busy": "2024-07-22T12:10:14.399793Z",
     "iopub.status.idle": "2024-07-22T12:10:14.418150Z",
     "shell.execute_reply": "2024-07-22T12:10:14.417201Z"
    },
    "papermill": {
     "duration": 0.028779,
     "end_time": "2024-07-22T12:10:14.420853",
     "exception": false,
     "start_time": "2024-07-22T12:10:14.392074",
     "status": "completed"
    },
    "tags": []
   },
   "outputs": [],
   "source": [
    "dataset=pd.read_csv('/kaggle/input/clustering-penguins-species/penguins.csv')"
   ]
  },
  {
   "cell_type": "code",
   "execution_count": 3,
   "id": "be6f3fd8",
   "metadata": {
    "execution": {
     "iopub.execute_input": "2024-07-22T12:10:14.436483Z",
     "iopub.status.busy": "2024-07-22T12:10:14.435553Z",
     "iopub.status.idle": "2024-07-22T12:10:14.461554Z",
     "shell.execute_reply": "2024-07-22T12:10:14.460472Z"
    },
    "papermill": {
     "duration": 0.036398,
     "end_time": "2024-07-22T12:10:14.464016",
     "exception": false,
     "start_time": "2024-07-22T12:10:14.427618",
     "status": "completed"
    },
    "tags": []
   },
   "outputs": [
    {
     "data": {
      "text/html": [
       "<div>\n",
       "<style scoped>\n",
       "    .dataframe tbody tr th:only-of-type {\n",
       "        vertical-align: middle;\n",
       "    }\n",
       "\n",
       "    .dataframe tbody tr th {\n",
       "        vertical-align: top;\n",
       "    }\n",
       "\n",
       "    .dataframe thead th {\n",
       "        text-align: right;\n",
       "    }\n",
       "</style>\n",
       "<table border=\"1\" class=\"dataframe\">\n",
       "  <thead>\n",
       "    <tr style=\"text-align: right;\">\n",
       "      <th></th>\n",
       "      <th>culmen_length_mm</th>\n",
       "      <th>culmen_depth_mm</th>\n",
       "      <th>flipper_length_mm</th>\n",
       "      <th>body_mass_g</th>\n",
       "      <th>sex</th>\n",
       "    </tr>\n",
       "  </thead>\n",
       "  <tbody>\n",
       "    <tr>\n",
       "      <th>0</th>\n",
       "      <td>39.1</td>\n",
       "      <td>18.7</td>\n",
       "      <td>181.0</td>\n",
       "      <td>3750.0</td>\n",
       "      <td>MALE</td>\n",
       "    </tr>\n",
       "    <tr>\n",
       "      <th>1</th>\n",
       "      <td>39.5</td>\n",
       "      <td>17.4</td>\n",
       "      <td>186.0</td>\n",
       "      <td>3800.0</td>\n",
       "      <td>FEMALE</td>\n",
       "    </tr>\n",
       "    <tr>\n",
       "      <th>2</th>\n",
       "      <td>40.3</td>\n",
       "      <td>18.0</td>\n",
       "      <td>195.0</td>\n",
       "      <td>3250.0</td>\n",
       "      <td>FEMALE</td>\n",
       "    </tr>\n",
       "    <tr>\n",
       "      <th>3</th>\n",
       "      <td>NaN</td>\n",
       "      <td>NaN</td>\n",
       "      <td>NaN</td>\n",
       "      <td>NaN</td>\n",
       "      <td>NaN</td>\n",
       "    </tr>\n",
       "    <tr>\n",
       "      <th>4</th>\n",
       "      <td>36.7</td>\n",
       "      <td>19.3</td>\n",
       "      <td>193.0</td>\n",
       "      <td>3450.0</td>\n",
       "      <td>FEMALE</td>\n",
       "    </tr>\n",
       "  </tbody>\n",
       "</table>\n",
       "</div>"
      ],
      "text/plain": [
       "   culmen_length_mm  culmen_depth_mm  flipper_length_mm  body_mass_g     sex\n",
       "0              39.1             18.7              181.0       3750.0    MALE\n",
       "1              39.5             17.4              186.0       3800.0  FEMALE\n",
       "2              40.3             18.0              195.0       3250.0  FEMALE\n",
       "3               NaN              NaN                NaN          NaN     NaN\n",
       "4              36.7             19.3              193.0       3450.0  FEMALE"
      ]
     },
     "execution_count": 3,
     "metadata": {},
     "output_type": "execute_result"
    }
   ],
   "source": [
    "dataset.head()"
   ]
  },
  {
   "cell_type": "code",
   "execution_count": 4,
   "id": "206d8ed2",
   "metadata": {
    "execution": {
     "iopub.execute_input": "2024-07-22T12:10:14.479414Z",
     "iopub.status.busy": "2024-07-22T12:10:14.478972Z",
     "iopub.status.idle": "2024-07-22T12:10:14.492593Z",
     "shell.execute_reply": "2024-07-22T12:10:14.491322Z"
    },
    "papermill": {
     "duration": 0.024276,
     "end_time": "2024-07-22T12:10:14.495096",
     "exception": false,
     "start_time": "2024-07-22T12:10:14.470820",
     "status": "completed"
    },
    "tags": []
   },
   "outputs": [],
   "source": [
    "dataset=dataset.drop('sex',axis=1).dropna()"
   ]
  },
  {
   "cell_type": "code",
   "execution_count": 5,
   "id": "6a20b041",
   "metadata": {
    "execution": {
     "iopub.execute_input": "2024-07-22T12:10:14.510920Z",
     "iopub.status.busy": "2024-07-22T12:10:14.509925Z",
     "iopub.status.idle": "2024-07-22T12:10:14.524610Z",
     "shell.execute_reply": "2024-07-22T12:10:14.523574Z"
    },
    "papermill": {
     "duration": 0.0252,
     "end_time": "2024-07-22T12:10:14.527150",
     "exception": false,
     "start_time": "2024-07-22T12:10:14.501950",
     "status": "completed"
    },
    "tags": []
   },
   "outputs": [
    {
     "data": {
      "text/html": [
       "<div>\n",
       "<style scoped>\n",
       "    .dataframe tbody tr th:only-of-type {\n",
       "        vertical-align: middle;\n",
       "    }\n",
       "\n",
       "    .dataframe tbody tr th {\n",
       "        vertical-align: top;\n",
       "    }\n",
       "\n",
       "    .dataframe thead th {\n",
       "        text-align: right;\n",
       "    }\n",
       "</style>\n",
       "<table border=\"1\" class=\"dataframe\">\n",
       "  <thead>\n",
       "    <tr style=\"text-align: right;\">\n",
       "      <th></th>\n",
       "      <th>culmen_length_mm</th>\n",
       "      <th>culmen_depth_mm</th>\n",
       "      <th>flipper_length_mm</th>\n",
       "      <th>body_mass_g</th>\n",
       "    </tr>\n",
       "  </thead>\n",
       "  <tbody>\n",
       "    <tr>\n",
       "      <th>0</th>\n",
       "      <td>39.1</td>\n",
       "      <td>18.7</td>\n",
       "      <td>181.0</td>\n",
       "      <td>3750.0</td>\n",
       "    </tr>\n",
       "    <tr>\n",
       "      <th>1</th>\n",
       "      <td>39.5</td>\n",
       "      <td>17.4</td>\n",
       "      <td>186.0</td>\n",
       "      <td>3800.0</td>\n",
       "    </tr>\n",
       "    <tr>\n",
       "      <th>2</th>\n",
       "      <td>40.3</td>\n",
       "      <td>18.0</td>\n",
       "      <td>195.0</td>\n",
       "      <td>3250.0</td>\n",
       "    </tr>\n",
       "    <tr>\n",
       "      <th>4</th>\n",
       "      <td>36.7</td>\n",
       "      <td>19.3</td>\n",
       "      <td>193.0</td>\n",
       "      <td>3450.0</td>\n",
       "    </tr>\n",
       "    <tr>\n",
       "      <th>5</th>\n",
       "      <td>39.3</td>\n",
       "      <td>20.6</td>\n",
       "      <td>190.0</td>\n",
       "      <td>3650.0</td>\n",
       "    </tr>\n",
       "  </tbody>\n",
       "</table>\n",
       "</div>"
      ],
      "text/plain": [
       "   culmen_length_mm  culmen_depth_mm  flipper_length_mm  body_mass_g\n",
       "0              39.1             18.7              181.0       3750.0\n",
       "1              39.5             17.4              186.0       3800.0\n",
       "2              40.3             18.0              195.0       3250.0\n",
       "4              36.7             19.3              193.0       3450.0\n",
       "5              39.3             20.6              190.0       3650.0"
      ]
     },
     "execution_count": 5,
     "metadata": {},
     "output_type": "execute_result"
    }
   ],
   "source": [
    "dataset.head()"
   ]
  },
  {
   "cell_type": "code",
   "execution_count": 6,
   "id": "1a30e961",
   "metadata": {
    "execution": {
     "iopub.execute_input": "2024-07-22T12:10:14.542659Z",
     "iopub.status.busy": "2024-07-22T12:10:14.542292Z",
     "iopub.status.idle": "2024-07-22T12:10:14.561969Z",
     "shell.execute_reply": "2024-07-22T12:10:14.560914Z"
    },
    "papermill": {
     "duration": 0.030888,
     "end_time": "2024-07-22T12:10:14.565033",
     "exception": false,
     "start_time": "2024-07-22T12:10:14.534145",
     "status": "completed"
    },
    "tags": []
   },
   "outputs": [
    {
     "name": "stdout",
     "output_type": "stream",
     "text": [
      "<class 'pandas.core.frame.DataFrame'>\n",
      "Index: 342 entries, 0 to 343\n",
      "Data columns (total 4 columns):\n",
      " #   Column             Non-Null Count  Dtype  \n",
      "---  ------             --------------  -----  \n",
      " 0   culmen_length_mm   342 non-null    float64\n",
      " 1   culmen_depth_mm    342 non-null    float64\n",
      " 2   flipper_length_mm  342 non-null    float64\n",
      " 3   body_mass_g        342 non-null    float64\n",
      "dtypes: float64(4)\n",
      "memory usage: 13.4 KB\n"
     ]
    }
   ],
   "source": [
    "dataset.info()"
   ]
  },
  {
   "cell_type": "code",
   "execution_count": 7,
   "id": "8b03e7aa",
   "metadata": {
    "execution": {
     "iopub.execute_input": "2024-07-22T12:10:14.581085Z",
     "iopub.status.busy": "2024-07-22T12:10:14.580732Z",
     "iopub.status.idle": "2024-07-22T12:10:15.791585Z",
     "shell.execute_reply": "2024-07-22T12:10:15.790483Z"
    },
    "papermill": {
     "duration": 1.222218,
     "end_time": "2024-07-22T12:10:15.794410",
     "exception": false,
     "start_time": "2024-07-22T12:10:14.572192",
     "status": "completed"
    },
    "tags": []
   },
   "outputs": [],
   "source": [
    "from sklearn.preprocessing import StandardScaler\n",
    "scaler = StandardScaler()\n",
    "columns_to_scale = dataset.columns\n",
    "dataset[columns_to_scale] = scaler.fit_transform(dataset[columns_to_scale])"
   ]
  },
  {
   "cell_type": "code",
   "execution_count": 8,
   "id": "b9e522b2",
   "metadata": {
    "execution": {
     "iopub.execute_input": "2024-07-22T12:10:15.811451Z",
     "iopub.status.busy": "2024-07-22T12:10:15.810441Z",
     "iopub.status.idle": "2024-07-22T12:10:15.826317Z",
     "shell.execute_reply": "2024-07-22T12:10:15.825063Z"
    },
    "papermill": {
     "duration": 0.026938,
     "end_time": "2024-07-22T12:10:15.828668",
     "exception": false,
     "start_time": "2024-07-22T12:10:15.801730",
     "status": "completed"
    },
    "tags": []
   },
   "outputs": [
    {
     "data": {
      "text/html": [
       "<div>\n",
       "<style scoped>\n",
       "    .dataframe tbody tr th:only-of-type {\n",
       "        vertical-align: middle;\n",
       "    }\n",
       "\n",
       "    .dataframe tbody tr th {\n",
       "        vertical-align: top;\n",
       "    }\n",
       "\n",
       "    .dataframe thead th {\n",
       "        text-align: right;\n",
       "    }\n",
       "</style>\n",
       "<table border=\"1\" class=\"dataframe\">\n",
       "  <thead>\n",
       "    <tr style=\"text-align: right;\">\n",
       "      <th></th>\n",
       "      <th>culmen_length_mm</th>\n",
       "      <th>culmen_depth_mm</th>\n",
       "      <th>flipper_length_mm</th>\n",
       "      <th>body_mass_g</th>\n",
       "    </tr>\n",
       "  </thead>\n",
       "  <tbody>\n",
       "    <tr>\n",
       "      <th>0</th>\n",
       "      <td>-0.884499</td>\n",
       "      <td>0.785449</td>\n",
       "      <td>-0.126893</td>\n",
       "      <td>-0.564142</td>\n",
       "    </tr>\n",
       "    <tr>\n",
       "      <th>1</th>\n",
       "      <td>-0.811126</td>\n",
       "      <td>0.126188</td>\n",
       "      <td>-0.107675</td>\n",
       "      <td>-0.501703</td>\n",
       "    </tr>\n",
       "    <tr>\n",
       "      <th>2</th>\n",
       "      <td>-0.664380</td>\n",
       "      <td>0.430462</td>\n",
       "      <td>-0.073083</td>\n",
       "      <td>-1.188532</td>\n",
       "    </tr>\n",
       "    <tr>\n",
       "      <th>4</th>\n",
       "      <td>-1.324737</td>\n",
       "      <td>1.089724</td>\n",
       "      <td>-0.080771</td>\n",
       "      <td>-0.938776</td>\n",
       "    </tr>\n",
       "    <tr>\n",
       "      <th>5</th>\n",
       "      <td>-0.847812</td>\n",
       "      <td>1.748985</td>\n",
       "      <td>-0.092301</td>\n",
       "      <td>-0.689020</td>\n",
       "    </tr>\n",
       "  </tbody>\n",
       "</table>\n",
       "</div>"
      ],
      "text/plain": [
       "   culmen_length_mm  culmen_depth_mm  flipper_length_mm  body_mass_g\n",
       "0         -0.884499         0.785449          -0.126893    -0.564142\n",
       "1         -0.811126         0.126188          -0.107675    -0.501703\n",
       "2         -0.664380         0.430462          -0.073083    -1.188532\n",
       "4         -1.324737         1.089724          -0.080771    -0.938776\n",
       "5         -0.847812         1.748985          -0.092301    -0.689020"
      ]
     },
     "execution_count": 8,
     "metadata": {},
     "output_type": "execute_result"
    }
   ],
   "source": [
    "dataset.head()"
   ]
  },
  {
   "cell_type": "code",
   "execution_count": 9,
   "id": "181aef1f",
   "metadata": {
    "execution": {
     "iopub.execute_input": "2024-07-22T12:10:15.846564Z",
     "iopub.status.busy": "2024-07-22T12:10:15.845502Z",
     "iopub.status.idle": "2024-07-22T12:10:16.300432Z",
     "shell.execute_reply": "2024-07-22T12:10:16.299279Z"
    },
    "papermill": {
     "duration": 0.466949,
     "end_time": "2024-07-22T12:10:16.303207",
     "exception": false,
     "start_time": "2024-07-22T12:10:15.836258",
     "status": "completed"
    },
    "tags": []
   },
   "outputs": [],
   "source": [
    "from sklearn.cluster import KMeans"
   ]
  },
  {
   "cell_type": "code",
   "execution_count": 10,
   "id": "29e20a41",
   "metadata": {
    "execution": {
     "iopub.execute_input": "2024-07-22T12:10:16.319756Z",
     "iopub.status.busy": "2024-07-22T12:10:16.319327Z",
     "iopub.status.idle": "2024-07-22T12:10:16.324387Z",
     "shell.execute_reply": "2024-07-22T12:10:16.323176Z"
    },
    "papermill": {
     "duration": 0.015976,
     "end_time": "2024-07-22T12:10:16.326634",
     "exception": false,
     "start_time": "2024-07-22T12:10:16.310658",
     "status": "completed"
    },
    "tags": []
   },
   "outputs": [],
   "source": [
    "from matplotlib import pyplot as plt"
   ]
  },
  {
   "cell_type": "code",
   "execution_count": 11,
   "id": "9c8f7c58",
   "metadata": {
    "execution": {
     "iopub.execute_input": "2024-07-22T12:10:16.344387Z",
     "iopub.status.busy": "2024-07-22T12:10:16.343376Z",
     "iopub.status.idle": "2024-07-22T12:10:17.328813Z",
     "shell.execute_reply": "2024-07-22T12:10:17.327799Z"
    },
    "papermill": {
     "duration": 0.997281,
     "end_time": "2024-07-22T12:10:17.331433",
     "exception": false,
     "start_time": "2024-07-22T12:10:16.334152",
     "status": "completed"
    },
    "tags": []
   },
   "outputs": [
    {
     "data": {
      "image/png": "[encoded data removed]",
      "text/plain": [
       "<Figure size 640x480 with 1 Axes>"
      ]
     },
     "metadata": {},
     "output_type": "display_data"
    }
   ],
   "source": [
    "wcss = [] #within-cluster-sum-of-squares.\n",
    "for i in range(1,10):\n",
    "    km_cluster_test = KMeans(n_clusters=i,n_init=10,max_iter=1000,random_state=42,copy_x=True,\n",
    "                   algorithm='lloyd')\n",
    "    wcss.append([i, np.log(km_cluster_test.fit(dataset).inertia_)])\n",
    "wcss = np.array(wcss).reshape(-1,2)\n",
    "\n",
    "plt.plot(wcss[:,0], wcss[:,1], marker='o')\n",
    "plt.xlabel(\"K\")\n",
    "plt.ylabel(\"WCSS\")\n",
    "plt.title(\"The Elbow Method\")\n",
    "plt.show()"
   ]
  },
  {
   "cell_type": "code",
   "execution_count": 12,
   "id": "d4b51f13",
   "metadata": {
    "execution": {
     "iopub.execute_input": "2024-07-22T12:10:17.349397Z",
     "iopub.status.busy": "2024-07-22T12:10:17.348446Z",
     "iopub.status.idle": "2024-07-22T12:10:17.553103Z",
     "shell.execute_reply": "2024-07-22T12:10:17.551901Z"
    },
    "papermill": {
     "duration": 0.216362,
     "end_time": "2024-07-22T12:10:17.555518",
     "exception": false,
     "start_time": "2024-07-22T12:10:17.339156",
     "status": "completed"
    },
    "tags": []
   },
   "outputs": [
    {
     "data": {
      "image/png": "[encoded data removed]",
      "text/plain": [
       "<Figure size 640x480 with 1 Axes>"
      ]
     },
     "metadata": {},
     "output_type": "display_data"
    }
   ],
   "source": [
    "plt.plot(wcss[:,0],np.gradient(np.gradient(wcss[:,1], 1),1), marker=\"o\");\n",
    "plt.show()"
   ]
  },
  {
   "cell_type": "markdown",
   "id": "99fcc7d3",
   "metadata": {
    "papermill": {
     "duration": 0.008045,
     "end_time": "2024-07-22T12:10:17.571977",
     "exception": false,
     "start_time": "2024-07-22T12:10:17.563932",
     "status": "completed"
    },
    "tags": []
   },
   "source": [
    "The second derivative is greatest at $n = 4$, implying that the rate of change of slope is greatest there. In other words it is the \"elbow\"."
   ]
  },
  {
   "cell_type": "code",
   "execution_count": 13,
   "id": "bb4cf9cb",
   "metadata": {
    "execution": {
     "iopub.execute_input": "2024-07-22T12:10:17.591032Z",
     "iopub.status.busy": "2024-07-22T12:10:17.590096Z",
     "iopub.status.idle": "2024-07-22T12:10:17.595668Z",
     "shell.execute_reply": "2024-07-22T12:10:17.594500Z"
    },
    "papermill": {
     "duration": 0.017509,
     "end_time": "2024-07-22T12:10:17.597905",
     "exception": false,
     "start_time": "2024-07-22T12:10:17.580396",
     "status": "completed"
    },
    "tags": []
   },
   "outputs": [],
   "source": [
    "km_cluster = KMeans(n_clusters=4,n_init=10,max_iter=1000,random_state=42,copy_x=True,\n",
    "                   algorithm='lloyd')"
   ]
  },
  {
   "cell_type": "code",
   "execution_count": 14,
   "id": "4e67bf57",
   "metadata": {
    "execution": {
     "iopub.execute_input": "2024-07-22T12:10:17.616874Z",
     "iopub.status.busy": "2024-07-22T12:10:17.616119Z",
     "iopub.status.idle": "2024-07-22T12:10:17.644646Z",
     "shell.execute_reply": "2024-07-22T12:10:17.643565Z"
    },
    "papermill": {
     "duration": 0.04096,
     "end_time": "2024-07-22T12:10:17.647318",
     "exception": false,
     "start_time": "2024-07-22T12:10:17.606358",
     "status": "completed"
    },
    "tags": []
   },
   "outputs": [],
   "source": [
    "species = km_cluster.fit_predict(dataset)"
   ]
  },
  {
   "cell_type": "code",
   "execution_count": 15,
   "id": "0f87cc33",
   "metadata": {
    "execution": {
     "iopub.execute_input": "2024-07-22T12:10:17.667917Z",
     "iopub.status.busy": "2024-07-22T12:10:17.667177Z",
     "iopub.status.idle": "2024-07-22T12:10:17.672392Z",
     "shell.execute_reply": "2024-07-22T12:10:17.671279Z"
    },
    "papermill": {
     "duration": 0.017777,
     "end_time": "2024-07-22T12:10:17.674848",
     "exception": false,
     "start_time": "2024-07-22T12:10:17.657071",
     "status": "completed"
    },
    "tags": []
   },
   "outputs": [],
   "source": [
    "from sklearn.decomposition import PCA"
   ]
  },
  {
   "cell_type": "code",
   "execution_count": 16,
   "id": "e20f01ab",
   "metadata": {
    "execution": {
     "iopub.execute_input": "2024-07-22T12:10:17.693955Z",
     "iopub.status.busy": "2024-07-22T12:10:17.692945Z",
     "iopub.status.idle": "2024-07-22T12:10:17.709995Z",
     "shell.execute_reply": "2024-07-22T12:10:17.708899Z"
    },
    "papermill": {
     "duration": 0.029159,
     "end_time": "2024-07-22T12:10:17.712379",
     "exception": false,
     "start_time": "2024-07-22T12:10:17.683220",
     "status": "completed"
    },
    "tags": []
   },
   "outputs": [],
   "source": [
    "pca_components = PCA(n_components=2,copy=True).fit_transform(dataset)"
   ]
  },
  {
   "cell_type": "code",
   "execution_count": 17,
   "id": "ebb7ac43",
   "metadata": {
    "execution": {
     "iopub.execute_input": "2024-07-22T12:10:17.732151Z",
     "iopub.status.busy": "2024-07-22T12:10:17.731214Z",
     "iopub.status.idle": "2024-07-22T12:10:17.983727Z",
     "shell.execute_reply": "2024-07-22T12:10:17.982518Z"
    },
    "papermill": {
     "duration": 0.265536,
     "end_time": "2024-07-22T12:10:17.986363",
     "exception": false,
     "start_time": "2024-07-22T12:10:17.720827",
     "status": "completed"
    },
    "tags": []
   },
   "outputs": [
    {
     "data": {
      "image/png": "[encoded data removed]",
      "text/plain": [
       "<Figure size 640x480 with 1 Axes>"
      ]
     },
     "metadata": {},
     "output_type": "display_data"
    }
   ],
   "source": [
    "plt.scatter(pca_components[:,0], pca_components[:,1], c=species, cmap='Dark2');\n",
    "plt.xlabel('PCA Component 1')\n",
    "plt.ylabel('PCA Component 2')\n",
    "plt.title('Clustering of Species of Penguins')\n",
    "plt.show()"
   ]
  }
 ],
 "metadata": {
  "kaggle": {
   "accelerator": "none",
   "dataSources": [
    {
     "datasetId": 3937012,
     "sourceId": 6848552,
     "sourceType": "datasetVersion"
    }
   ],
   "dockerImageVersionId": 30746,
   "isGpuEnabled": false,
   "isInternetEnabled": false,
   "language": "python",
   "sourceType": "notebook"
  },
  "kernelspec": {
   "display_name": "Python 3",
   "language": "python",
   "name": "python3"
  },
  "language_info": {
   "codemirror_mode": {
    "name": "ipython",
    "version": 3
   },
   "file_extension": ".py",
   "mimetype": "text/x-python",
   "name": "python",
   "nbconvert_exporter": "python",
   "pygments_lexer": "ipython3",
   "version": "3.10.13"
  },
  "papermill": {
   "default_parameters": {},
   "duration": 8.11272,
   "end_time": "2024-07-22T12:10:18.618458",
   "environment_variables": {},
   "exception": null,
   "input_path": "__notebook__.ipynb",
   "output_path": "__notebook__.ipynb",
   "parameters": {},
   "start_time": "2024-07-22T12:10:10.505738",
   "version": "2.5.0"
  }
 },
 "nbformat": 4,
 "nbformat_minor": 5
}
